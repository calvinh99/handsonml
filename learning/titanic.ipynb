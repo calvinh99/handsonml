{
 "cells": [
  {
   "cell_type": "markdown",
   "id": "126550ec-da58-47e3-b24f-266d758089dc",
   "metadata": {},
   "source": [
    "# Titanic Dataset: Predicting Survival <br>"
   ]
  },
  {
   "cell_type": "markdown",
   "id": "3721e334-ee96-40ca-a204-0e84d8def26c",
   "metadata": {},
   "source": [
    "# 1. What is the big picture?\n",
    "<br>"
   ]
  },
  {
   "cell_type": "markdown",
   "id": "ae9cfe56-b8d6-483b-89ca-3637f83dac25",
   "metadata": {},
   "source": [
    "- I am given the data of passengers on the historical ship, the Titanic. My goal is to predict whether the passenger survived or not based on features like age, gender, class, etc.\n",
    "\n",
    "- This is a learning/for-fun project and I just want to have high accuracy when predicting on the test set.\n",
    "\n",
    "- This is a supervised-learning problem because I am given the target labels for the training set - whether they survived or not. \n",
    "\n",
    "- This is also a binary classification problem because the target feature can be one of two categories - negative (dead) and positive (survived). \n",
    "\n",
    "- I will be using batch or offline learning because the dataset cannot be updated (it's like 100 years old after all) and the dataset is not large. \n",
    "\n",
    "- I will also be using model-based learning because I have not learned instance-based learning yet.\n",
    "\n",
    "- The performance measure is accuracy. I don't have to consider precision-recall tradeoff because I just want to be as accurate as possible."
   ]
  },
  {
   "cell_type": "markdown",
   "id": "5cef4b09-48c7-435e-be30-bfd47d656c77",
   "metadata": {},
   "source": [
    "## Setup"
   ]
  },
  {
   "cell_type": "code",
   "execution_count": 1,
   "id": "db5052f2-420e-4078-8f10-ebc01e2201fa",
   "metadata": {},
   "outputs": [],
   "source": [
    "# Python ≥3.5 is required\n",
    "import sys\n",
    "assert sys.version_info >= (3, 5)\n",
    "\n",
    "# Scikit-Learn ≥0.20 is required\n",
    "import sklearn\n",
    "assert sklearn.__version__ >= \"0.20\"\n",
    "\n",
    "# Common imports\n",
    "import numpy as np\n",
    "import os\n",
    "\n",
    "# to make this notebook's output stable across runs\n",
    "np.random.seed(42)\n",
    "\n",
    "# To plot pretty figures\n",
    "%matplotlib inline\n",
    "import matplotlib as mpl\n",
    "import matplotlib.pyplot as plt\n",
    "mpl.rc('axes', labelsize=14)\n",
    "mpl.rc('xtick', labelsize=12)\n",
    "mpl.rc('ytick', labelsize=12)\n",
    "\n",
    "# Where to save the models and scores\n",
    "import joblib\n",
    "PROJECT_ROOT_DIR = \".\"\n",
    "PROJECT_ID = \"titanic\"\n",
    "MODELS_PATH = os.path.join(PROJECT_ROOT_DIR, \"_models\", PROJECT_ID)\n",
    "os.makedirs(MODELS_PATH, exist_ok=True)\n",
    "\n",
    "# Save models, cross-val accuracy scores, cross-val predictions, and pipelines\n",
    "def save_model(model, model_id):\n",
    "    path = os.path.join(MODELS_PATH, model_id + \".pkl\")\n",
    "    print(\"Saving model\", model_id)\n",
    "    joblib.dump(model, path)\n",
    "\n",
    "def load_model(model_id):\n",
    "    path = os.path.join(MODELS_PATH, model_id + \".pkl\")\n",
    "    return joblib.load(path)"
   ]
  },
  {
   "cell_type": "markdown",
   "id": "6c921010-56e6-42f9-bede-b74b42430c6b",
   "metadata": {},
   "source": [
    "# 2. Get the Data"
   ]
  },
  {
   "cell_type": "code",
   "execution_count": 3,
   "id": "719b77f8-9e70-4c05-9bbf-b253cee91402",
   "metadata": {},
   "outputs": [],
   "source": [
    "import pandas as pd\n",
    "\n",
    "TITANIC_PATH = os.path.join(PROJECT_ROOT_DIR, \"_datasets\", PROJECT_ID)\n",
    "\n",
    "def load_data(titanic_path=TITANIC_PATH):\n",
    "    train = pd.read_csv(os.path.join(titanic_path, \"train.csv\"))\n",
    "    test = pd.read_csv(os.path.join(titanic_path, \"test.csv\"))\n",
    "    return train, test"
   ]
  },
  {
   "cell_type": "code",
   "execution_count": 4,
   "id": "e3d1b97a-72d2-425a-9c25-ea73e3c056d4",
   "metadata": {},
   "outputs": [],
   "source": [
    "train, test = load_data()"
   ]
  },
  {
   "cell_type": "markdown",
   "id": "3a20a2ab-949f-4aa1-9f52-ac1cbaffe885",
   "metadata": {},
   "source": [
    "- Don't touch the test set till we've finalized our model"
   ]
  },
  {
   "cell_type": "code",
   "execution_count": 6,
   "id": "938f6fa3-82ee-429d-b135-32eb65c1600e",
   "metadata": {},
   "outputs": [
    {
     "name": "stdout",
     "output_type": "stream",
     "text": [
      "<class 'pandas.core.frame.DataFrame'>\n",
      "RangeIndex: 891 entries, 0 to 890\n",
      "Data columns (total 12 columns):\n",
      " #   Column       Non-Null Count  Dtype  \n",
      "---  ------       --------------  -----  \n",
      " 0   PassengerId  891 non-null    int64  \n",
      " 1   Survived     891 non-null    int64  \n",
      " 2   Pclass       891 non-null    int64  \n",
      " 3   Name         891 non-null    object \n",
      " 4   Sex          891 non-null    object \n",
      " 5   Age          714 non-null    float64\n",
      " 6   SibSp        891 non-null    int64  \n",
      " 7   Parch        891 non-null    int64  \n",
      " 8   Ticket       891 non-null    object \n",
      " 9   Fare         891 non-null    float64\n",
      " 10  Cabin        204 non-null    object \n",
      " 11  Embarked     889 non-null    object \n",
      "dtypes: float64(2), int64(5), object(5)\n",
      "memory usage: 83.7+ KB\n"
     ]
    }
   ],
   "source": [
    "train.info()"
   ]
  },
  {
   "cell_type": "code",
   "execution_count": 8,
   "id": "b87467e1-0805-4a2d-a4bc-cc2c409d3192",
   "metadata": {},
   "outputs": [
    {
     "data": {
      "text/plain": [
       "Index(['Age', 'Cabin', 'Embarked'], dtype='object')"
      ]
     },
     "execution_count": 8,
     "metadata": {},
     "output_type": "execute_result"
    }
   ],
   "source": [
    "train.columns[train.isnull().any()]"
   ]
  },
  {
   "cell_type": "code",
   "execution_count": 10,
   "id": "ec28b14a-ad98-483e-ba56-3588c8632271",
   "metadata": {},
   "outputs": [
    {
     "data": {
      "text/plain": [
       "Index(['Name', 'Sex', 'Ticket', 'Cabin', 'Embarked'], dtype='object')"
      ]
     },
     "execution_count": 10,
     "metadata": {},
     "output_type": "execute_result"
    }
   ],
   "source": [
    "train.select_dtypes(include=object).columns"
   ]
  },
  {
   "cell_type": "code",
   "execution_count": 12,
   "id": "e62edfe0-7789-4637-877c-f975b49a40f0",
   "metadata": {},
   "outputs": [
    {
     "data": {
      "text/plain": [
       "Index(['PassengerId', 'Survived', 'Pclass', 'Age', 'SibSp', 'Parch', 'Fare'], dtype='object')"
      ]
     },
     "execution_count": 12,
     "metadata": {},
     "output_type": "execute_result"
    }
   ],
   "source": [
    "train.select_dtypes(include=np.number).columns"
   ]
  },
  {
   "cell_type": "markdown",
   "id": "63ee8bf4-9e75-44f7-a6ae-d92df6896e6c",
   "metadata": {},
   "source": [
    "- Features with **missing** data\n",
    "    - `'Age', 'Cabin', 'Embarked'`\n",
    "- Features with **text** data\n",
    "    - `'Name', 'Sex', 'Ticket', 'Cabin', 'Embarked'`\n",
    "- Features with **numerical** data\n",
    "    - `'PassengerId', 'Survived', 'Pclass', 'Age', 'SibSp', 'Parch', 'Fare'`"
   ]
  },
  {
   "cell_type": "code",
   "execution_count": 19,
   "id": "a1709543-48ff-4837-9467-8652b6771cd4",
   "metadata": {},
   "outputs": [
    {
     "data": {
      "image/png": "[encoded data removed]",
      "text/plain": [
       "<Figure size 576x576 with 9 Axes>"
      ]
     },
     "metadata": {
      "needs_background": "light"
     },
     "output_type": "display_data"
    }
   ],
   "source": [
    "train.hist(bins=10, figsize=(8,8))\n",
    "plt.show()"
   ]
  },
  {
   "cell_type": "markdown",
   "id": "90091fed-4ca0-4809-8b5a-adc1e1c5e428",
   "metadata": {},
   "source": [
    "- PassengerId seems to have no pattern to its distribution.\n",
    "    - most likely a useless feature\n",
    "- Pclass is **categorical**\n",
    "- There is a lot of skew towards the right in Age, SibSp, Parch, and Fare"
   ]
  },
  {
   "cell_type": "code",
   "execution_count": 24,
   "id": "3985b7bf-5013-427d-a16e-5c7c021ded59",
   "metadata": {},
   "outputs": [
    {
     "data": {
      "text/plain": [
       "S    644\n",
       "C    168\n",
       "Q     77\n",
       "Name: Embarked, dtype: int64"
      ]
     },
     "execution_count": 24,
     "metadata": {},
     "output_type": "execute_result"
    }
   ],
   "source": [
    "train['Embarked'].value_counts()"
   ]
  },
  {
   "cell_type": "markdown",
   "id": "01a2f524-f27d-4fa9-bf38-51c42e3570db",
   "metadata": {},
   "source": [
    "- There is an uneven distribution, but inuitively this feature would not have any effect\n",
    "    - We may need to tune how many features used as a parameter later"
   ]
  },
  {
   "cell_type": "markdown",
   "id": "6cc85e84-9f56-432e-b19c-45db4808e9c0",
   "metadata": {},
   "source": [
    "# 3. Visualize and Explore the Data\n",
    "<br>"
   ]
  },
  {
   "cell_type": "code",
   "execution_count": 43,
   "id": "ad466fb1-3f2b-4793-a488-7bf170379059",
   "metadata": {},
   "outputs": [],
   "source": [
    "X_train = train.drop('Survived', axis=1)\n",
    "y_train = train['Survived'].copy()"
   ]
  },
  {
   "cell_type": "markdown",
   "id": "c95e77b4-84e7-4e1f-abc7-4dd0af26016a",
   "metadata": {},
   "source": [
    "## How to Deal With Missing Values"
   ]
  },
  {
   "cell_type": "code",
   "execution_count": 45,
   "id": "7a97d76f-075d-4a17-9a64-1585b7019f37",
   "metadata": {},
   "outputs": [
    {
     "data": {
      "image/png": "[encoded data removed]",
      "text/plain": [
       "<Figure size 432x288 with 1 Axes>"
      ]
     },
     "metadata": {
      "needs_background": "light"
     },
     "output_type": "display_data"
    }
   ],
   "source": [
    "missing_features = ['Age', 'Cabin', 'Embarked']\n",
    "\n",
    "X_train['Age'].hist()\n",
    "plt.show()"
   ]
  },
  {
   "cell_type": "markdown",
   "id": "0ca2e732-4433-4802-aa8e-d1a61eee83a9",
   "metadata": {},
   "source": [
    "- This has a right-skewed distribution\n",
    "    - we may want to use 'median' as the imputing strategy"
   ]
  },
  {
   "cell_type": "code",
   "execution_count": 46,
   "id": "dba8bc57-4f5b-4236-afe4-a235b6ffe04c",
   "metadata": {},
   "outputs": [
    {
     "data": {
      "text/plain": [
       "B96 B98        4\n",
       "G6             4\n",
       "C23 C25 C27    4\n",
       "C22 C26        3\n",
       "F33            3\n",
       "              ..\n",
       "E34            1\n",
       "C7             1\n",
       "C54            1\n",
       "E36            1\n",
       "C148           1\n",
       "Name: Cabin, Length: 147, dtype: int64"
      ]
     },
     "execution_count": 46,
     "metadata": {},
     "output_type": "execute_result"
    }
   ],
   "source": [
    "X_train['Cabin'].value_counts()"
   ]
  },
  {
   "cell_type": "markdown",
   "id": "d60856b3-41e2-43b2-a77a-d023dbefd91f",
   "metadata": {},
   "source": [
    "- The data may be useful, but median imputing strategy may not work, given that there are only 204 non-null values the best strategy may be to abandon this feature"
   ]
  },
  {
   "cell_type": "code",
   "execution_count": 47,
   "id": "bfbe76c5-0389-4f64-9734-9ab488d76df6",
   "metadata": {},
   "outputs": [
    {
     "data": {
      "text/plain": [
       "S    644\n",
       "C    168\n",
       "Q     77\n",
       "Name: Embarked, dtype: int64"
      ]
     },
     "execution_count": 47,
     "metadata": {},
     "output_type": "execute_result"
    }
   ],
   "source": [
    "X_train['Embarked'].value_counts()"
   ]
  },
  {
   "cell_type": "code",
   "execution_count": 48,
   "id": "5a22f1d3-21f7-45c2-a302-1cc082c78eee",
   "metadata": {},
   "outputs": [
    {
     "data": {
      "text/html": [
       "<div>\n",
       "<style scoped>\n",
       "    .dataframe tbody tr th:only-of-type {\n",
       "        vertical-align: middle;\n",
       "    }\n",
       "\n",
       "    .dataframe tbody tr th {\n",
       "        vertical-align: top;\n",
       "    }\n",
       "\n",
       "    .dataframe thead th {\n",
       "        text-align: right;\n",
       "    }\n",
       "</style>\n",
       "<table border=\"1\" class=\"dataframe\">\n",
       "  <thead>\n",
       "    <tr style=\"text-align: right;\">\n",
       "      <th></th>\n",
       "      <th>PassengerId</th>\n",
       "      <th>Pclass</th>\n",
       "      <th>Name</th>\n",
       "      <th>Sex</th>\n",
       "      <th>Age</th>\n",
       "      <th>SibSp</th>\n",
       "      <th>Parch</th>\n",
       "      <th>Ticket</th>\n",
       "      <th>Fare</th>\n",
       "      <th>Cabin</th>\n",
       "      <th>Embarked</th>\n",
       "    </tr>\n",
       "  </thead>\n",
       "  <tbody>\n",
       "    <tr>\n",
       "      <th>61</th>\n",
       "      <td>62</td>\n",
       "      <td>1</td>\n",
       "      <td>Icard, Miss. Amelie</td>\n",
       "      <td>female</td>\n",
       "      <td>38.0</td>\n",
       "      <td>0</td>\n",
       "      <td>0</td>\n",
       "      <td>113572</td>\n",
       "      <td>80.0</td>\n",
       "      <td>B28</td>\n",
       "      <td>NaN</td>\n",
       "    </tr>\n",
       "    <tr>\n",
       "      <th>829</th>\n",
       "      <td>830</td>\n",
       "      <td>1</td>\n",
       "      <td>Stone, Mrs. George Nelson (Martha Evelyn)</td>\n",
       "      <td>female</td>\n",
       "      <td>62.0</td>\n",
       "      <td>0</td>\n",
       "      <td>0</td>\n",
       "      <td>113572</td>\n",
       "      <td>80.0</td>\n",
       "      <td>B28</td>\n",
       "      <td>NaN</td>\n",
       "    </tr>\n",
       "  </tbody>\n",
       "</table>\n",
       "</div>"
      ],
      "text/plain": [
       "     PassengerId  Pclass                                       Name     Sex  \\\n",
       "61            62       1                        Icard, Miss. Amelie  female   \n",
       "829          830       1  Stone, Mrs. George Nelson (Martha Evelyn)  female   \n",
       "\n",
       "      Age  SibSp  Parch  Ticket  Fare Cabin Embarked  \n",
       "61   38.0      0      0  113572  80.0   B28      NaN  \n",
       "829  62.0      0      0  113572  80.0   B28      NaN  "
      ]
     },
     "execution_count": 48,
     "metadata": {},
     "output_type": "execute_result"
    }
   ],
   "source": [
    "X_train[X_train['Embarked'].isnull()]"
   ]
  },
  {
   "cell_type": "code",
   "execution_count": 53,
   "id": "7e1ea6ef-00ba-40f3-9fe4-0f60bac5ed9e",
   "metadata": {},
   "outputs": [
    {
     "data": {
      "text/plain": [
       "<AxesSubplot:xlabel='Embarked', ylabel='count'>"
      ]
     },
     "execution_count": 53,
     "metadata": {},
     "output_type": "execute_result"
    },
    {
     "data": {
      "image/png": "[encoded data removed]",
      "text/plain": [
       "<Figure size 432x288 with 1 Axes>"
      ]
     },
     "metadata": {
      "needs_background": "light"
     },
     "output_type": "display_data"
    }
   ],
   "source": [
    "import seaborn as sns\n",
    "\n",
    "# use train for plotting\n",
    "sns.countplot(x='Embarked', hue='Survived', data=train)"
   ]
  },
  {
   "cell_type": "code",
   "execution_count": null,
   "id": "8a3d3833-9dd2-4f50-9c8b-2e4ce83256ae",
   "metadata": {},
   "outputs": [],
   "source": []
  }
 ],
 "metadata": {
  "kernelspec": {
   "display_name": "Python 3 (ipykernel)",
   "language": "python",
   "name": "python3"
  },
  "language_info": {
   "codemirror_mode": {
    "name": "ipython",
    "version": 3
   },
   "file_extension": ".py",
   "mimetype": "text/x-python",
   "name": "python",
   "nbconvert_exporter": "python",
   "pygments_lexer": "ipython3",
   "version": "3.10.4"
  }
 },
 "nbformat": 4,
 "nbformat_minor": 5
}
