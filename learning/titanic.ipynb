{
 "cells": [
  {
   "cell_type": "markdown",
   "id": "126550ec-da58-47e3-b24f-266d758089dc",
   "metadata": {},
   "source": [
    "# Titanic Dataset: Predicting Survival <br>"
   ]
  },
  {
   "cell_type": "markdown",
   "id": "3721e334-ee96-40ca-a204-0e84d8def26c",
   "metadata": {},
   "source": [
    "# What is the big picture?\n",
    "<br>"
   ]
  },
  {
   "cell_type": "markdown",
   "id": "ae9cfe56-b8d6-483b-89ca-3637f83dac25",
   "metadata": {},
   "source": [
    "- I am given the data of passengers on the historical ship, the Titanic. My goal is to predict whether the passenger survived or not based on features like age, gender, class, etc.\n",
    "\n",
    "- This is a learning/for-fun project and I just want to have high accuracy when predicting on the test set.\n",
    "\n",
    "- This is a supervised-learning problem because I am given the target labels for the training set - whether they survived or not. \n",
    "\n",
    "- This is also a binary classification problem because the target feature can be one of two categories - negative (dead) and positive (survived). \n",
    "\n",
    "- I will be using batch or offline learning because the dataset cannot be updated (it's like 100 years old after all) and the dataset is not large. \n",
    "\n",
    "- I will also be using model-based learning because I have not learned instance-based learning yet.\n",
    "\n",
    "- The performance measure is accuracy. I don't have to consider precision-recall tradeoff because I just want to be as accurate as possible."
   ]
  },
  {
   "cell_type": "markdown",
   "id": "5cef4b09-48c7-435e-be30-bfd47d656c77",
   "metadata": {},
   "source": [
    "# Setup\n",
    "<br>"
   ]
  },
  {
   "cell_type": "code",
   "execution_count": 230,
   "id": "db5052f2-420e-4078-8f10-ebc01e2201fa",
   "metadata": {},
   "outputs": [],
   "source": [
    "# Python ≥3.5 is required\n",
    "import sys\n",
    "assert sys.version_info >= (3, 5)\n",
    "\n",
    "# Scikit-Learn ≥0.20 is required\n",
    "import sklearn\n",
    "assert sklearn.__version__ >= \"0.20\"\n",
    "\n",
    "# Common imports\n",
    "import numpy as np\n",
    "import os\n",
    "\n",
    "# to make this notebook's output stable across runs\n",
    "np.random.seed(42)\n",
    "\n",
    "# To plot pretty figures\n",
    "%matplotlib inline\n",
    "import matplotlib as mpl\n",
    "import matplotlib.pyplot as plt\n",
    "mpl.rc('axes', labelsize=14)\n",
    "mpl.rc('xtick', labelsize=12)\n",
    "mpl.rc('ytick', labelsize=12)\n",
    "\n",
    "# Where to save the models and scores\n",
    "import joblib\n",
    "PROJECT_ROOT_DIR = \".\"\n",
    "PROJECT_ID = \"titanic\"\n",
    "MODELS_PATH = os.path.join(PROJECT_ROOT_DIR, \"_models\", PROJECT_ID)\n",
    "os.makedirs(MODELS_PATH, exist_ok=True)\n",
    "\n",
    "# Save models, cross-val accuracy scores, cross-val predictions, and pipelines\n",
    "def save_model(model, model_id):\n",
    "    path = os.path.join(MODELS_PATH, model_id + \".pkl\")\n",
    "    print(\"Saving model\", model_id)\n",
    "    joblib.dump(model, path)\n",
    "\n",
    "def load_model(model_id):\n",
    "    path = os.path.join(MODELS_PATH, model_id + \".pkl\")\n",
    "    return joblib.load(path)"
   ]
  },
  {
   "cell_type": "markdown",
   "id": "6c921010-56e6-42f9-bede-b74b42430c6b",
   "metadata": {},
   "source": [
    "# Get Data\n",
    "<br>\n",
    "<br>"
   ]
  },
  {
   "cell_type": "code",
   "execution_count": 304,
   "id": "719b77f8-9e70-4c05-9bbf-b253cee91402",
   "metadata": {},
   "outputs": [],
   "source": [
    "import pandas as pd\n",
    "\n",
    "TITANIC_PATH = os.path.join(PROJECT_ROOT_DIR, \"_datasets\", PROJECT_ID)\n",
    "\n",
    "def load_data(titanic_path=TITANIC_PATH):\n",
    "    train = pd.read_csv(os.path.join(titanic_path, \"train.csv\"))\n",
    "    test = pd.read_csv(os.path.join(titanic_path, \"test.csv\"))\n",
    "    example = pd.read_csv(os.path.join(titanic_path, \"gender_submission.csv\"))\n",
    "    return train, test, example"
   ]
  },
  {
   "cell_type": "code",
   "execution_count": 305,
   "id": "e3d1b97a-72d2-425a-9c25-ea73e3c056d4",
   "metadata": {},
   "outputs": [],
   "source": [
    "train, test, example_submission = load_data()"
   ]
  },
  {
   "cell_type": "markdown",
   "id": "3a20a2ab-949f-4aa1-9f52-ac1cbaffe885",
   "metadata": {},
   "source": [
    "- Don't touch the test set till we've finalized our model"
   ]
  },
  {
   "cell_type": "code",
   "execution_count": 233,
   "id": "938f6fa3-82ee-429d-b135-32eb65c1600e",
   "metadata": {},
   "outputs": [
    {
     "name": "stdout",
     "output_type": "stream",
     "text": [
      "<class 'pandas.core.frame.DataFrame'>\n",
      "RangeIndex: 891 entries, 0 to 890\n",
      "Data columns (total 12 columns):\n",
      " #   Column       Non-Null Count  Dtype  \n",
      "---  ------       --------------  -----  \n",
      " 0   PassengerId  891 non-null    int64  \n",
      " 1   Survived     891 non-null    int64  \n",
      " 2   Pclass       891 non-null    int64  \n",
      " 3   Name         891 non-null    object \n",
      " 4   Sex          891 non-null    object \n",
      " 5   Age          714 non-null    float64\n",
      " 6   SibSp        891 non-null    int64  \n",
      " 7   Parch        891 non-null    int64  \n",
      " 8   Ticket       891 non-null    object \n",
      " 9   Fare         891 non-null    float64\n",
      " 10  Cabin        204 non-null    object \n",
      " 11  Embarked     889 non-null    object \n",
      "dtypes: float64(2), int64(5), object(5)\n",
      "memory usage: 83.7+ KB\n"
     ]
    }
   ],
   "source": [
    "train.info()"
   ]
  },
  {
   "cell_type": "markdown",
   "id": "c95e77b4-84e7-4e1f-abc7-4dd0af26016a",
   "metadata": {},
   "source": [
    "# Missing Values\n",
    "<br>"
   ]
  },
  {
   "cell_type": "code",
   "execution_count": 234,
   "id": "7a97d76f-075d-4a17-9a64-1585b7019f37",
   "metadata": {},
   "outputs": [
    {
     "data": {
      "image/png": "[encoded data removed]",
      "text/plain": [
       "<Figure size 432x288 with 1 Axes>"
      ]
     },
     "metadata": {
      "needs_background": "light"
     },
     "output_type": "display_data"
    }
   ],
   "source": [
    "missing_features = ['Age', 'Cabin', 'Embarked']\n",
    "\n",
    "train['Age'].hist()\n",
    "plt.show()"
   ]
  },
  {
   "cell_type": "markdown",
   "id": "0ca2e732-4433-4802-aa8e-d1a61eee83a9",
   "metadata": {},
   "source": [
    "- This has a right-skewed distribution\n",
    "    - we may want to use 'median' as the imputing strategy"
   ]
  },
  {
   "cell_type": "code",
   "execution_count": 235,
   "id": "dba8bc57-4f5b-4236-afe4-a235b6ffe04c",
   "metadata": {},
   "outputs": [
    {
     "data": {
      "text/plain": [
       "687"
      ]
     },
     "execution_count": 235,
     "metadata": {},
     "output_type": "execute_result"
    }
   ],
   "source": [
    "train['Cabin'].isna().sum()"
   ]
  },
  {
   "cell_type": "markdown",
   "id": "d60856b3-41e2-43b2-a77a-d023dbefd91f",
   "metadata": {},
   "source": [
    "- too many missing values"
   ]
  },
  {
   "cell_type": "code",
   "execution_count": 236,
   "id": "5a22f1d3-21f7-45c2-a302-1cc082c78eee",
   "metadata": {},
   "outputs": [
    {
     "data": {
      "text/plain": [
       "2"
      ]
     },
     "execution_count": 236,
     "metadata": {},
     "output_type": "execute_result"
    }
   ],
   "source": [
    "train['Embarked'].isna().sum()"
   ]
  },
  {
   "cell_type": "markdown",
   "id": "dc1d8704-53d2-4549-8c71-e757a439de8e",
   "metadata": {},
   "source": [
    "- we can impute with most_freq"
   ]
  },
  {
   "cell_type": "markdown",
   "id": "e2e13801-f2c0-485a-823e-948f35414c4b",
   "metadata": {},
   "source": [
    "# Categorical Attributes\n",
    "<br>"
   ]
  },
  {
   "cell_type": "markdown",
   "id": "c68eae51-3178-457e-acfd-43a3ebbfe92d",
   "metadata": {},
   "source": [
    "Get distribution for categorical data. *Just because a feature is non-numerical doesn't mean it's categorical.*"
   ]
  },
  {
   "cell_type": "code",
   "execution_count": 237,
   "id": "670642ff-9250-4e61-9b3f-7a16b532c4bd",
   "metadata": {},
   "outputs": [
    {
     "data": {
      "text/plain": [
       "3    491\n",
       "1    216\n",
       "2    184\n",
       "Name: Pclass, dtype: int64"
      ]
     },
     "execution_count": 237,
     "metadata": {},
     "output_type": "execute_result"
    }
   ],
   "source": [
    "train[\"Pclass\"].value_counts()"
   ]
  },
  {
   "cell_type": "code",
   "execution_count": 238,
   "id": "71ee85b6-63f2-45db-8175-4ee9e1ad433c",
   "metadata": {},
   "outputs": [
    {
     "data": {
      "text/plain": [
       "male      577\n",
       "female    314\n",
       "Name: Sex, dtype: int64"
      ]
     },
     "execution_count": 238,
     "metadata": {},
     "output_type": "execute_result"
    }
   ],
   "source": [
    "train[\"Sex\"].value_counts()"
   ]
  },
  {
   "cell_type": "code",
   "execution_count": 239,
   "id": "4188e53c-ede7-45db-83c9-8a08573c9420",
   "metadata": {},
   "outputs": [
    {
     "data": {
      "text/plain": [
       "S    644\n",
       "C    168\n",
       "Q     77\n",
       "Name: Embarked, dtype: int64"
      ]
     },
     "execution_count": 239,
     "metadata": {},
     "output_type": "execute_result"
    }
   ],
   "source": [
    "train[\"Embarked\"].value_counts()"
   ]
  },
  {
   "cell_type": "code",
   "execution_count": 240,
   "id": "8f149ac6-c175-487b-ab25-c9c4a8fb3d05",
   "metadata": {},
   "outputs": [],
   "source": [
    "def extract_title_name(s):\n",
    "    period = s.index('.')\n",
    "    \n",
    "    title = \"\"\n",
    "    c = \"\"\n",
    "    while(1):\n",
    "        period -= 1\n",
    "        c = s[period]\n",
    "        if c == \" \":\n",
    "            break\n",
    "        title = c + title\n",
    "    \n",
    "    return title\n",
    "\n",
    "train[\"Title\"] = train[\"Name\"].apply(extract_title_name)"
   ]
  },
  {
   "cell_type": "code",
   "execution_count": 241,
   "id": "98a197d4-0ae7-4141-98bc-7f5227432037",
   "metadata": {},
   "outputs": [
    {
     "data": {
      "text/plain": [
       "<AxesSubplot:xlabel='Title', ylabel='count'>"
      ]
     },
     "execution_count": 241,
     "metadata": {},
     "output_type": "execute_result"
    },
    {
     "data": {
      "image/png": "[encoded data removed]",
      "text/plain": [
       "<Figure size 936x288 with 1 Axes>"
      ]
     },
     "metadata": {
      "needs_background": "light"
     },
     "output_type": "display_data"
    }
   ],
   "source": [
    "import seaborn as sns\n",
    "\n",
    "plt.figure(figsize=(13,4))\n",
    "sns.countplot(x=\"Title\", hue=\"Survived\", data=train)"
   ]
  },
  {
   "cell_type": "markdown",
   "id": "07678c06-c987-4bed-a3a1-9638a7c40124",
   "metadata": {},
   "source": [
    "- Wow! There's definitely some correlation here - **Mr** has a very uneven distribution and a majority did not survive while **Mrs** and **Miss** has a majority surviving!\n",
    "    - But be careful, because this is closely related to the **Sex** feature"
   ]
  },
  {
   "cell_type": "code",
   "execution_count": 242,
   "id": "8c4d022d-6c43-4940-a99e-3d6c2a0de703",
   "metadata": {},
   "outputs": [
    {
     "data": {
      "text/plain": [
       "Mr          0.580247\n",
       "Miss        0.204265\n",
       "Mrs         0.140292\n",
       "Master      0.044893\n",
       "Dr          0.007856\n",
       "Rev         0.006734\n",
       "Mlle        0.002245\n",
       "Major       0.002245\n",
       "Col         0.002245\n",
       "Countess    0.001122\n",
       "Capt        0.001122\n",
       "Ms          0.001122\n",
       "Sir         0.001122\n",
       "Lady        0.001122\n",
       "Mme         0.001122\n",
       "Don         0.001122\n",
       "Jonkheer    0.001122\n",
       "Name: Title, dtype: float64"
      ]
     },
     "execution_count": 242,
     "metadata": {},
     "output_type": "execute_result"
    }
   ],
   "source": [
    "train[\"Title\"].value_counts(normalize=True)"
   ]
  },
  {
   "cell_type": "markdown",
   "id": "9c315f70-969a-47c5-8cbb-57bbda0f668a",
   "metadata": {},
   "source": [
    "- **Ms** can be merged with **Miss** and **Sir** can be merged with **Mr**\n",
    "- **Miss** and **Mrs** can be merged into **Mrs**\n",
    "- Everything else can be merged into **Noble**\n",
    "- So the final categories should be **Mr**, **Mrs**, **Noble**"
   ]
  },
  {
   "cell_type": "code",
   "execution_count": 243,
   "id": "3af29099-a317-4b17-a345-0cc2010665a6",
   "metadata": {},
   "outputs": [
    {
     "data": {
      "text/plain": [
       "Mr       0.581369\n",
       "Mrs      0.345679\n",
       "Noble    0.072952\n",
       "Name: Title, dtype: float64"
      ]
     },
     "execution_count": 243,
     "metadata": {},
     "output_type": "execute_result"
    }
   ],
   "source": [
    "def group_titles(t):\n",
    "    if (t == \"Ms\") or (t == \"Miss\") or (t == \"Mrs\"):\n",
    "        return \"Mrs\"\n",
    "    elif (t == \"Sir\") or (t == \"Mr\"):\n",
    "        return \"Mr\"\n",
    "    else:\n",
    "        return \"Noble\"\n",
    "\n",
    "train[\"Title\"] = train[\"Title\"].apply(group_titles)\n",
    "train[\"Title\"].value_counts(normalize=True)"
   ]
  },
  {
   "cell_type": "code",
   "execution_count": 244,
   "id": "9588412e-52da-4312-ba8b-66dc3993a9b3",
   "metadata": {},
   "outputs": [
    {
     "data": {
      "text/plain": [
       "<AxesSubplot:xlabel='Title', ylabel='count'>"
      ]
     },
     "execution_count": 244,
     "metadata": {},
     "output_type": "execute_result"
    },
    {
     "data": {
      "image/png": "[encoded data removed]",
      "text/plain": [
       "<Figure size 504x288 with 1 Axes>"
      ]
     },
     "metadata": {
      "needs_background": "light"
     },
     "output_type": "display_data"
    }
   ],
   "source": [
    "plt.figure(figsize=(7,4))\n",
    "sns.countplot(x=\"Title\", hue=\"Survived\", data=train)"
   ]
  },
  {
   "cell_type": "code",
   "execution_count": 245,
   "id": "184da2c5-98df-4338-8179-d57e2e6e3bf4",
   "metadata": {},
   "outputs": [],
   "source": [
    "train.drop(\"Title\", axis=1, inplace=True)"
   ]
  },
  {
   "cell_type": "markdown",
   "id": "04315e73-e8c6-45d0-a667-92af1a352a04",
   "metadata": {},
   "source": [
    "- Drop this for now, **Title** can be included as a test in our future pipelines"
   ]
  },
  {
   "cell_type": "code",
   "execution_count": 246,
   "id": "113abd31-b167-4ebf-8389-dc2ed336d3b9",
   "metadata": {},
   "outputs": [
    {
     "data": {
      "text/plain": [
       "347082      7\n",
       "CA. 2343    7\n",
       "1601        7\n",
       "3101295     6\n",
       "CA 2144     6\n",
       "           ..\n",
       "9234        1\n",
       "19988       1\n",
       "2693        1\n",
       "PC 17612    1\n",
       "370376      1\n",
       "Name: Ticket, Length: 681, dtype: int64"
      ]
     },
     "execution_count": 246,
     "metadata": {},
     "output_type": "execute_result"
    }
   ],
   "source": [
    "train[\"Ticket\"].value_counts()"
   ]
  },
  {
   "cell_type": "markdown",
   "id": "db8c1318-ae93-47f9-b5e0-d7fdb2ea86f7",
   "metadata": {},
   "source": [
    "- Noticed some tickets with a location in front, I wonder if this is a redundant feature since **Embarked** exists?"
   ]
  },
  {
   "cell_type": "code",
   "execution_count": 247,
   "id": "5b0ee576-4ac0-49d0-bc48-b78a227ae9c1",
   "metadata": {},
   "outputs": [
    {
     "data": {
      "text/plain": [
       "'CA.'"
      ]
     },
     "execution_count": 247,
     "metadata": {},
     "output_type": "execute_result"
    }
   ],
   "source": [
    "test_ticket = \"CA. 2343\"\n",
    "test_ticket.split(' ')[0]"
   ]
  },
  {
   "cell_type": "code",
   "execution_count": 248,
   "id": "4fde5425-5882-4ffb-8cda-d90707ea34a3",
   "metadata": {},
   "outputs": [],
   "source": [
    "def extract_acronym_ticket(s):\n",
    "    if s[0].isdigit():\n",
    "        return \"NaN\"\n",
    "    return s.split(' ')[0]\n",
    "\n",
    "train[\"Ticket_loc\"] = train[\"Ticket\"].apply(extract_acronym_ticket)"
   ]
  },
  {
   "cell_type": "code",
   "execution_count": 249,
   "id": "3f9521f5-c383-460b-bd49-36d6b379e334",
   "metadata": {},
   "outputs": [
    {
     "data": {
      "text/plain": [
       "NaN       661\n",
       "PC         60\n",
       "C.A.       27\n",
       "STON/O     12\n",
       "A/5        10\n",
       "Name: Ticket_loc, dtype: int64"
      ]
     },
     "execution_count": 249,
     "metadata": {},
     "output_type": "execute_result"
    }
   ],
   "source": [
    "train[\"Ticket_loc\"].value_counts()[:5]"
   ]
  },
  {
   "cell_type": "markdown",
   "id": "5d4a873a-1aaf-43ac-8a50-6f082c8671fc",
   "metadata": {},
   "source": [
    "- Most of the tickets do not have a location, so using this as a feature is unwise unless I can somehow impute or give meaning to tickets with no prefix"
   ]
  },
  {
   "cell_type": "code",
   "execution_count": 250,
   "id": "f2c3208c-c61c-4649-92db-0adb58fb8959",
   "metadata": {},
   "outputs": [],
   "source": [
    "train.drop(\"Ticket_loc\", axis=1, inplace=True)"
   ]
  },
  {
   "cell_type": "code",
   "execution_count": 251,
   "id": "b2b42080-fe86-4a50-88b4-16e0872d7290",
   "metadata": {},
   "outputs": [
    {
     "data": {
      "text/plain": [
       "B96 B98        4\n",
       "G6             4\n",
       "C23 C25 C27    4\n",
       "C22 C26        3\n",
       "F33            3\n",
       "              ..\n",
       "E34            1\n",
       "C7             1\n",
       "C54            1\n",
       "E36            1\n",
       "C148           1\n",
       "Name: Cabin, Length: 147, dtype: int64"
      ]
     },
     "execution_count": 251,
     "metadata": {},
     "output_type": "execute_result"
    }
   ],
   "source": [
    "train[\"Cabin\"].value_counts()"
   ]
  },
  {
   "cell_type": "markdown",
   "id": "a2621c8d-23cc-4555-bbf0-1679be2e6e08",
   "metadata": {},
   "source": [
    "- An interesting patten is the letter before the Cabin - this could mean deck and would probably have some correlation with our target"
   ]
  },
  {
   "cell_type": "code",
   "execution_count": 252,
   "id": "19913f12-ddaf-4839-a127-d80659a6f9c6",
   "metadata": {},
   "outputs": [
    {
     "data": {
      "text/plain": [
       "0       nan\n",
       "1       C85\n",
       "2       nan\n",
       "3      C123\n",
       "4       nan\n",
       "       ... \n",
       "886     nan\n",
       "887     B42\n",
       "888     nan\n",
       "889    C148\n",
       "890     nan\n",
       "Name: Cabin, Length: 891, dtype: object"
      ]
     },
     "execution_count": 252,
     "metadata": {},
     "output_type": "execute_result"
    }
   ],
   "source": [
    "train[\"Cabin\"].apply(lambda s: str(s))"
   ]
  },
  {
   "cell_type": "markdown",
   "id": "f0ba7b34-50c3-4b47-8d2e-17be5ccfbfe8",
   "metadata": {},
   "source": [
    "- If I do use this feature I would have to impute the missing values since dropping them would mean losing a huge portion of my training data which is unacceptable"
   ]
  },
  {
   "cell_type": "code",
   "execution_count": 253,
   "id": "8369ee28-0699-468a-a9ee-a594f013318d",
   "metadata": {},
   "outputs": [],
   "source": [
    "def extract_cabin_letter(s):\n",
    "    return str(s)[0]\n",
    "\n",
    "train[\"Letter\"] = train[\"Cabin\"].apply(extract_cabin_letter)"
   ]
  },
  {
   "cell_type": "code",
   "execution_count": 254,
   "id": "45356fce-0ea6-489b-9620-04fe04a0b61a",
   "metadata": {},
   "outputs": [
    {
     "data": {
      "text/plain": [
       "n    687\n",
       "C     59\n",
       "B     47\n",
       "D     33\n",
       "E     32\n",
       "A     15\n",
       "F     13\n",
       "G      4\n",
       "T      1\n",
       "Name: Letter, dtype: int64"
      ]
     },
     "execution_count": 254,
     "metadata": {},
     "output_type": "execute_result"
    }
   ],
   "source": [
    "train[\"Letter\"].value_counts()"
   ]
  },
  {
   "cell_type": "markdown",
   "id": "c20a3a65-6853-41d0-9096-3101ffb99706",
   "metadata": {},
   "source": [
    "- The nan occupies too large a portion, I will plot the correlation with Survived but even if there is correlation this feature will not be used since it's missing too much data"
   ]
  },
  {
   "cell_type": "code",
   "execution_count": 255,
   "id": "d0bce259-1ed0-41d5-b3a3-18eb8dc3e1bd",
   "metadata": {},
   "outputs": [
    {
     "data": {
      "text/plain": [
       "<AxesSubplot:xlabel='Letter', ylabel='count'>"
      ]
     },
     "execution_count": 255,
     "metadata": {},
     "output_type": "execute_result"
    },
    {
     "data": {
      "image/png": "[encoded data removed]",
      "text/plain": [
       "<Figure size 432x288 with 1 Axes>"
      ]
     },
     "metadata": {
      "needs_background": "light"
     },
     "output_type": "display_data"
    }
   ],
   "source": [
    "sns.countplot(x=\"Letter\", hue=\"Survived\", data=train)"
   ]
  },
  {
   "cell_type": "markdown",
   "id": "63f8475f-9c47-4b53-be24-d69ec6cb88b8",
   "metadata": {},
   "source": [
    "- I can see that for the few non-missing features, a majority of **B** cabin people survived. It's really a pity that the cabin data was not preserved, otherwise I believe this will be a very strong feature"
   ]
  },
  {
   "cell_type": "code",
   "execution_count": 256,
   "id": "5d3852e3-0724-4efe-9252-58570d38b0b7",
   "metadata": {},
   "outputs": [],
   "source": [
    "train.drop(\"Letter\", axis=1, inplace=True)"
   ]
  },
  {
   "cell_type": "markdown",
   "id": "7afac288-9554-44da-a0b6-ce631b229305",
   "metadata": {},
   "source": [
    "# Correlation of Numerical Features\n",
    "<br>"
   ]
  },
  {
   "cell_type": "code",
   "execution_count": 257,
   "id": "f43224eb-e562-4d2d-90d3-9c7fab8ed8f1",
   "metadata": {},
   "outputs": [
    {
     "data": {
      "text/plain": [
       "Survived       1.000000\n",
       "Fare           0.257307\n",
       "Parch          0.081629\n",
       "PassengerId   -0.005007\n",
       "SibSp         -0.035322\n",
       "Age           -0.077221\n",
       "Pclass        -0.338481\n",
       "Name: Survived, dtype: float64"
      ]
     },
     "execution_count": 257,
     "metadata": {},
     "output_type": "execute_result"
    }
   ],
   "source": [
    "# Use train because we want to see correlation with target feature - Survived\n",
    "corr_matrix = train.corr()\n",
    "\n",
    "corr_matrix[\"Survived\"].sort_values(ascending=False)"
   ]
  },
  {
   "cell_type": "markdown",
   "id": "11148df0-463c-434c-9803-a980ad3595d2",
   "metadata": {},
   "source": [
    "- **Fare** has a rather high positive correlation, which makes sense since people who payed more were probably richer and had more priority than poorer people\n",
    "- **Parch** also has some positive correlation, but I will need to graph the distribution on a scatterplot to further understand the data\n",
    "- **PassengerId** has no significant correlation and that is also pretty intuitive, so this feature can be dropped\n",
    "- **SibSp** has some negative correlation, but it might be redundant since Parch exists\n",
    "- **Age** has some negative correlation, but there were also far less older people - the distribution was skewed right - so this can be further validated if we applied a log to Age\n",
    "- **Pclass** has a direct negative correlation and is the most correlated with the target feature, (note that class is 1 for rich people and 3 for poor people in the order of 1, 2, 3)\n",
    "    - this makes sense since 3rd class would be farther from safety both in terms of location and priority"
   ]
  },
  {
   "cell_type": "markdown",
   "id": "46e40f7f-2b35-43a7-a068-1e30ef5724f8",
   "metadata": {},
   "source": [
    "Let's explicitly set `PassengerId` as the index"
   ]
  },
  {
   "cell_type": "code",
   "execution_count": 258,
   "id": "1fa200d2-86f1-4b16-850c-3e3b2a5ba319",
   "metadata": {},
   "outputs": [],
   "source": [
    "train = train.set_index(\"PassengerId\")\n",
    "test = test.set_index(\"PassengerId\")"
   ]
  },
  {
   "cell_type": "markdown",
   "id": "a9c42cdb-dd09-4316-9648-e64e78a1e2d2",
   "metadata": {},
   "source": [
    "# Pipeline\n",
    "- For numerical attributes: impute median, std scaler\n",
    "- For categorical attributes: imputer most freq, 1hot encoding\n",
    "- Unlisted attributes are automatically dropped"
   ]
  },
  {
   "cell_type": "code",
   "execution_count": 259,
   "id": "12637f0b-02b2-41be-a461-1cd6b9953c91",
   "metadata": {},
   "outputs": [],
   "source": [
    "from sklearn.impute import SimpleImputer\n",
    "from sklearn.preprocessing import StandardScaler\n",
    "from sklearn.preprocessing import OneHotEncoder\n",
    "\n",
    "from sklearn.pipeline import Pipeline\n",
    "from sklearn.compose import ColumnTransformer\n",
    "\n",
    "num_attr = [\"Age\", \"Fare\", \"Parch\", \"SibSp\"]\n",
    "\n",
    "cat_attr = [\"Sex\", \"Pclass\", \"Embarked\"]\n",
    "\n",
    "num_pipeline = Pipeline([\n",
    "    (\"imputer\", SimpleImputer(strategy=\"median\")),\n",
    "    (\"scaler\", StandardScaler()),\n",
    "])\n",
    "\n",
    "cat_pipeline = Pipeline([\n",
    "    (\"imputer\", SimpleImputer(strategy=\"most_frequent\")),\n",
    "    (\"encoder\", OneHotEncoder(sparse=False)),\n",
    "])\n",
    "\n",
    "preparation_pipeline = ColumnTransformer([\n",
    "    (\"num\", num_pipeline, num_attr),\n",
    "    (\"cat\", cat_pipeline, cat_attr),\n",
    "])"
   ]
  },
  {
   "cell_type": "code",
   "execution_count": 260,
   "id": "5637f154-c3ab-4f28-bd4a-ac503ebc3b45",
   "metadata": {},
   "outputs": [],
   "source": [
    "X_train = preparation_pipeline.fit_transform(train)"
   ]
  },
  {
   "cell_type": "markdown",
   "id": "47dd9aa6-3c23-4422-ba1d-c80dd996fa2b",
   "metadata": {},
   "source": [
    "- the columntransformer automatically drops the remaining attributes"
   ]
  },
  {
   "cell_type": "code",
   "execution_count": 261,
   "id": "c4dfef3f-b504-42a5-9066-2c2905b5f8f2",
   "metadata": {},
   "outputs": [
    {
     "data": {
      "text/plain": [
       "array([[-0.56573646, -0.50244517, -0.47367361, ...,  0.        ,\n",
       "         0.        ,  1.        ],\n",
       "       [ 0.66386103,  0.78684529, -0.47367361, ...,  1.        ,\n",
       "         0.        ,  0.        ],\n",
       "       [-0.25833709, -0.48885426, -0.47367361, ...,  0.        ,\n",
       "         0.        ,  1.        ],\n",
       "       ...,\n",
       "       [-0.1046374 , -0.17626324,  2.00893337, ...,  0.        ,\n",
       "         0.        ,  1.        ],\n",
       "       [-0.25833709, -0.04438104, -0.47367361, ...,  1.        ,\n",
       "         0.        ,  0.        ],\n",
       "       [ 0.20276197, -0.49237783, -0.47367361, ...,  0.        ,\n",
       "         1.        ,  0.        ]])"
      ]
     },
     "execution_count": 261,
     "metadata": {},
     "output_type": "execute_result"
    }
   ],
   "source": [
    "X_train"
   ]
  },
  {
   "cell_type": "code",
   "execution_count": 262,
   "id": "c8dab6bd-99f9-47a1-ae0c-01901d8b8865",
   "metadata": {},
   "outputs": [],
   "source": [
    "y_train = train[\"Survived\"]"
   ]
  },
  {
   "cell_type": "markdown",
   "id": "f258c1b4-bd59-4fc1-8c6c-89e2650f462e",
   "metadata": {},
   "source": [
    "***\n",
    "We want to move as fast as possible after getting a basic grasp of the data! This is because we want to first build a working pipeline and model that is <u><b>good enough</b></u>.\n",
    "<br>\n",
    "<br>\n",
    "Once we have a working model and pipeline then we can analyze the errors and gain insights from the model itself! This beats grinding for hours on training data and getting your head fuzzy with all the things you have to remember. \n",
    "<br>\n",
    "<br>\n",
    "And once you do gain any insights and decide to create new features, drop current ones, try different models, fine-tune, etc. you will find that it is extremely quick and easy to implement! You only have to add to the current framework instead of struggling with a massive and messy project!\n",
    "***"
   ]
  },
  {
   "cell_type": "markdown",
   "id": "6331fa91-7567-461a-9b7a-8ae14699b63a",
   "metadata": {},
   "source": [
    "# Models\n",
    "<br>"
   ]
  },
  {
   "cell_type": "code",
   "execution_count": 353,
   "id": "a936a00b-6b06-427c-9bb3-5a4f7c22ad63",
   "metadata": {},
   "outputs": [],
   "source": [
    "from sklearn.ensemble import RandomForestClassifier\n",
    "\n",
    "forest_clf = RandomForestClassifier(random_state=42)"
   ]
  },
  {
   "cell_type": "code",
   "execution_count": 354,
   "id": "2483faac-b6a9-4194-8b1d-2ef3522a8fc3",
   "metadata": {},
   "outputs": [],
   "source": [
    "from sklearn.model_selection import cross_val_score\n",
    "\n",
    "forest_scores = cross_val_score(forest_clf, X_train, y_train,\n",
    "                                scoring=\"accuracy\", cv=10)"
   ]
  },
  {
   "cell_type": "code",
   "execution_count": 355,
   "id": "e30b3b1c-734b-43dc-a8de-48a92d7388f1",
   "metadata": {},
   "outputs": [
    {
     "data": {
      "text/plain": [
       "0.8093008739076154"
      ]
     },
     "execution_count": 355,
     "metadata": {},
     "output_type": "execute_result"
    }
   ],
   "source": [
    "forest_scores.mean()"
   ]
  },
  {
   "cell_type": "code",
   "execution_count": 356,
   "id": "66a469a2-1bb2-46c1-a069-09f1a0c5c189",
   "metadata": {},
   "outputs": [],
   "source": [
    "from sklearn.svm import SVC\n",
    "\n",
    "svm_clf = SVC(gamma=\"auto\")"
   ]
  },
  {
   "cell_type": "code",
   "execution_count": 357,
   "id": "09d29176-49d2-4e77-8bad-f04a529eee01",
   "metadata": {},
   "outputs": [],
   "source": [
    "svc_scores = cross_val_score(svm_clf, X_train, y_train,\n",
    "                             scoring=\"accuracy\", cv=10)"
   ]
  },
  {
   "cell_type": "code",
   "execution_count": 358,
   "id": "e253ea2b-28a4-4b0c-a907-a0f24a95a038",
   "metadata": {},
   "outputs": [
    {
     "data": {
      "text/plain": [
       "0.8249313358302123"
      ]
     },
     "execution_count": 358,
     "metadata": {},
     "output_type": "execute_result"
    }
   ],
   "source": [
    "svc_scores.mean()"
   ]
  },
  {
   "cell_type": "markdown",
   "id": "c54e5261-d9d5-4f46-861d-10f022735de6",
   "metadata": {},
   "source": [
    "- more linear is better? let's try logreg"
   ]
  },
  {
   "cell_type": "code",
   "execution_count": 359,
   "id": "11831ad2-a6ac-4a22-b35b-3028e755c102",
   "metadata": {},
   "outputs": [],
   "source": [
    "from sklearn.linear_model import LogisticRegression\n",
    "\n",
    "log_reg = LogisticRegression()"
   ]
  },
  {
   "cell_type": "code",
   "execution_count": 360,
   "id": "4aec271b-bd88-40ff-a2c9-39176bae373a",
   "metadata": {},
   "outputs": [],
   "source": [
    "log_scores = cross_val_score(log_reg, X_train, y_train,\n",
    "                             scoring=\"accuracy\", cv=10)"
   ]
  },
  {
   "cell_type": "code",
   "execution_count": 361,
   "id": "5f502cc5-9208-40df-88e3-71a673fe436b",
   "metadata": {},
   "outputs": [
    {
     "data": {
      "text/plain": [
       "0.7991260923845193"
      ]
     },
     "execution_count": 361,
     "metadata": {},
     "output_type": "execute_result"
    }
   ],
   "source": [
    "log_scores.mean()"
   ]
  },
  {
   "cell_type": "markdown",
   "id": "06aa1ca5-1dd4-4856-a7fb-20c06a147e6a",
   "metadata": {},
   "source": [
    "- Our training data is quite small, so cross-validation won't be as effective\n",
    "<br>\n",
    "</br>\n",
    "Let's go with <b>svm_clf</b>"
   ]
  },
  {
   "cell_type": "code",
   "execution_count": 362,
   "id": "da5cd528-9636-42a1-a59c-9d3eef3c0092",
   "metadata": {},
   "outputs": [
    {
     "data": {
      "image/png": "[encoded data removed]",
      "text/plain": [
       "<Figure size 576x288 with 1 Axes>"
      ]
     },
     "metadata": {
      "needs_background": "light"
     },
     "output_type": "display_data"
    }
   ],
   "source": [
    "plt.figure(figsize=(8, 4))\n",
    "plt.plot([1]*10, svc_scores, \".\")\n",
    "plt.plot([2]*10, forest_scores, \".\")\n",
    "plt.boxplot([svc_scores, forest_scores], labels=(\"SVM\",\"Random Forest\"))\n",
    "plt.ylabel(\"Accuracy\", fontsize=14)\n",
    "plt.show()"
   ]
  },
  {
   "cell_type": "markdown",
   "id": "71e643ea-be61-4da4-8b4e-687782e8b924",
   "metadata": {},
   "source": [
    "- As we can see, Random Forest has higher max score and a wider spread - which means SVM will probably generalize better"
   ]
  },
  {
   "cell_type": "markdown",
   "id": "9c8aa9a0-d413-4142-b6cf-38ff64529c49",
   "metadata": {},
   "source": [
    "# Fine-Tuning\n",
    "<br>"
   ]
  },
  {
   "cell_type": "code",
   "execution_count": 272,
   "id": "1d9cefb4-4b5b-444b-94cd-6e2aaa08341c",
   "metadata": {},
   "outputs": [],
   "source": [
    "from sklearn.model_selection import RandomizedSearchCV\n",
    "from scipy.stats import uniform\n",
    "\n",
    "param_dist = {\n",
    "    \"C\": uniform(2, 10),\n",
    "    \"gamma\": uniform(0.1, 1)\n",
    "}\n",
    "\n",
    "rand_search = RandomizedSearchCV(svm_clf, param_distributions=param_dist, \n",
    "                                n_iter=100, cv=10, scoring=\"accuracy\",\n",
    "                                verbose=1, random_state=42)"
   ]
  },
  {
   "cell_type": "code",
   "execution_count": 273,
   "id": "f574343b-bbd2-4cf4-8728-55b6f083ce74",
   "metadata": {},
   "outputs": [],
   "source": [
    "# rand_search.fit(X_train, y_train)"
   ]
  },
  {
   "cell_type": "code",
   "execution_count": 274,
   "id": "fc182a30-87d8-41c7-8061-7feb4ca03b52",
   "metadata": {},
   "outputs": [],
   "source": [
    "# save_model(rand_search.best_estimator_, \"svm_clf_model\")"
   ]
  },
  {
   "cell_type": "code",
   "execution_count": 275,
   "id": "f2540ee5-b5da-4a5a-bb49-c4cb540eab88",
   "metadata": {},
   "outputs": [],
   "source": [
    "svm_clf = load_model(\"svm_clf_model\")"
   ]
  },
  {
   "cell_type": "markdown",
   "id": "31d82fec-3e15-477d-bb79-a18ce96ca5cf",
   "metadata": {},
   "source": [
    "# Feature Engineering\n",
    "<br>"
   ]
  },
  {
   "cell_type": "code",
   "execution_count": 276,
   "id": "99340827-2d0a-49b0-ad7d-38f6060c8ab0",
   "metadata": {},
   "outputs": [
    {
     "data": {
      "text/html": [
       "<div>\n",
       "<style scoped>\n",
       "    .dataframe tbody tr th:only-of-type {\n",
       "        vertical-align: middle;\n",
       "    }\n",
       "\n",
       "    .dataframe tbody tr th {\n",
       "        vertical-align: top;\n",
       "    }\n",
       "\n",
       "    .dataframe thead th {\n",
       "        text-align: right;\n",
       "    }\n",
       "</style>\n",
       "<table border=\"1\" class=\"dataframe\">\n",
       "  <thead>\n",
       "    <tr style=\"text-align: right;\">\n",
       "      <th></th>\n",
       "      <th>Survived</th>\n",
       "    </tr>\n",
       "    <tr>\n",
       "      <th>AgeBucket</th>\n",
       "      <th></th>\n",
       "    </tr>\n",
       "  </thead>\n",
       "  <tbody>\n",
       "    <tr>\n",
       "      <th>0.0</th>\n",
       "      <td>0.576923</td>\n",
       "    </tr>\n",
       "    <tr>\n",
       "      <th>15.0</th>\n",
       "      <td>0.362745</td>\n",
       "    </tr>\n",
       "    <tr>\n",
       "      <th>30.0</th>\n",
       "      <td>0.423256</td>\n",
       "    </tr>\n",
       "    <tr>\n",
       "      <th>45.0</th>\n",
       "      <td>0.404494</td>\n",
       "    </tr>\n",
       "    <tr>\n",
       "      <th>60.0</th>\n",
       "      <td>0.240000</td>\n",
       "    </tr>\n",
       "    <tr>\n",
       "      <th>75.0</th>\n",
       "      <td>1.000000</td>\n",
       "    </tr>\n",
       "  </tbody>\n",
       "</table>\n",
       "</div>"
      ],
      "text/plain": [
       "           Survived\n",
       "AgeBucket          \n",
       "0.0        0.576923\n",
       "15.0       0.362745\n",
       "30.0       0.423256\n",
       "45.0       0.404494\n",
       "60.0       0.240000\n",
       "75.0       1.000000"
      ]
     },
     "execution_count": 276,
     "metadata": {},
     "output_type": "execute_result"
    }
   ],
   "source": [
    "train[\"AgeBucket\"] = train[\"Age\"] // 15 * 15\n",
    "train[[\"AgeBucket\", \"Survived\"]].groupby(by=\"AgeBucket\").mean()"
   ]
  },
  {
   "cell_type": "code",
   "execution_count": 277,
   "id": "2670a62c-2a10-4df6-bf69-b946bf52f650",
   "metadata": {},
   "outputs": [
    {
     "data": {
      "text/html": [
       "<div>\n",
       "<style scoped>\n",
       "    .dataframe tbody tr th:only-of-type {\n",
       "        vertical-align: middle;\n",
       "    }\n",
       "\n",
       "    .dataframe tbody tr th {\n",
       "        vertical-align: top;\n",
       "    }\n",
       "\n",
       "    .dataframe thead th {\n",
       "        text-align: right;\n",
       "    }\n",
       "</style>\n",
       "<table border=\"1\" class=\"dataframe\">\n",
       "  <thead>\n",
       "    <tr style=\"text-align: right;\">\n",
       "      <th></th>\n",
       "      <th>Survived</th>\n",
       "    </tr>\n",
       "    <tr>\n",
       "      <th>Relatives</th>\n",
       "      <th></th>\n",
       "    </tr>\n",
       "  </thead>\n",
       "  <tbody>\n",
       "    <tr>\n",
       "      <th>0</th>\n",
       "      <td>0.303538</td>\n",
       "    </tr>\n",
       "    <tr>\n",
       "      <th>1</th>\n",
       "      <td>0.552795</td>\n",
       "    </tr>\n",
       "    <tr>\n",
       "      <th>2</th>\n",
       "      <td>0.578431</td>\n",
       "    </tr>\n",
       "    <tr>\n",
       "      <th>3</th>\n",
       "      <td>0.724138</td>\n",
       "    </tr>\n",
       "    <tr>\n",
       "      <th>4</th>\n",
       "      <td>0.200000</td>\n",
       "    </tr>\n",
       "    <tr>\n",
       "      <th>5</th>\n",
       "      <td>0.136364</td>\n",
       "    </tr>\n",
       "    <tr>\n",
       "      <th>6</th>\n",
       "      <td>0.333333</td>\n",
       "    </tr>\n",
       "    <tr>\n",
       "      <th>7</th>\n",
       "      <td>0.000000</td>\n",
       "    </tr>\n",
       "    <tr>\n",
       "      <th>10</th>\n",
       "      <td>0.000000</td>\n",
       "    </tr>\n",
       "  </tbody>\n",
       "</table>\n",
       "</div>"
      ],
      "text/plain": [
       "           Survived\n",
       "Relatives          \n",
       "0          0.303538\n",
       "1          0.552795\n",
       "2          0.578431\n",
       "3          0.724138\n",
       "4          0.200000\n",
       "5          0.136364\n",
       "6          0.333333\n",
       "7          0.000000\n",
       "10         0.000000"
      ]
     },
     "execution_count": 277,
     "metadata": {},
     "output_type": "execute_result"
    }
   ],
   "source": [
    "train[\"Relatives\"] = train[\"Parch\"] + train[\"SibSp\"]\n",
    "train[[\"Relatives\", \"Survived\"]].groupby(by=\"Relatives\").mean()"
   ]
  },
  {
   "cell_type": "markdown",
   "id": "54c8116c-af2d-47e3-874f-b5a575d01a36",
   "metadata": {},
   "source": [
    "- Not sure how this would affect the predictor, there may be a chance of overfitting the training set"
   ]
  },
  {
   "cell_type": "code",
   "execution_count": 278,
   "id": "e815c85a-3a1a-4228-8333-c39fb28da320",
   "metadata": {},
   "outputs": [
    {
     "data": {
      "text/plain": [
       "PassengerId\n",
       "1                           [Braund,, Mr., Owen, Harris]\n",
       "2      [Cumings,, Mrs., John, Bradley, (Florence, Bri...\n",
       "3                             [Heikkinen,, Miss., Laina]\n",
       "4      [Futrelle,, Mrs., Jacques, Heath, (Lily, May, ...\n",
       "5                          [Allen,, Mr., William, Henry]\n",
       "                             ...                        \n",
       "887                            [Montvila,, Rev., Juozas]\n",
       "888                    [Graham,, Miss., Margaret, Edith]\n",
       "889       [Johnston,, Miss., Catherine, Helen, \"Carrie\"]\n",
       "890                           [Behr,, Mr., Karl, Howell]\n",
       "891                              [Dooley,, Mr., Patrick]\n",
       "Name: Name, Length: 891, dtype: object"
      ]
     },
     "execution_count": 278,
     "metadata": {},
     "output_type": "execute_result"
    }
   ],
   "source": [
    "exp_data = train.copy()\n",
    "exp_data[\"Name\"] = train[\"Name\"].str.split()\n",
    "exp_data[\"Name\"]"
   ]
  },
  {
   "cell_type": "code",
   "execution_count": 279,
   "id": "04b3cc64-74ae-4aeb-9a76-01463e87e996",
   "metadata": {},
   "outputs": [
    {
     "data": {
      "text/plain": [
       "Mr       518\n",
       "Mrs      310\n",
       "Noble     63\n",
       "Name: Title, dtype: int64"
      ]
     },
     "execution_count": 279,
     "metadata": {},
     "output_type": "execute_result"
    }
   ],
   "source": [
    "mr_titles = [\"Mr.\", \"Sir.\"]\n",
    "mrs_titles = [\"Miss.\", \"Mrs.\", \"Ms.\", \"Lady.\", \"Mme.\"]\n",
    "\n",
    "def get_title(names):\n",
    "    titles = []\n",
    "    \n",
    "    for l in names:\n",
    "        for s in l:\n",
    "            if '.' in s:\n",
    "                if s in mr_titles:\n",
    "                    titles.append(\"Mr\")\n",
    "                    break\n",
    "                elif s in mrs_titles:\n",
    "                    titles.append(\"Mrs\")\n",
    "                    break\n",
    "                else:\n",
    "                    titles.append(\"Noble\")\n",
    "                    break\n",
    "    return titles\n",
    "\n",
    "exp_data[\"Title\"] = get_title(exp_data[\"Name\"])\n",
    "exp_data[\"Title\"].value_counts()"
   ]
  },
  {
   "cell_type": "code",
   "execution_count": 280,
   "id": "c4b660aa-1a62-444f-92ef-93675bcc6b32",
   "metadata": {},
   "outputs": [
    {
     "data": {
      "text/html": [
       "<div>\n",
       "<style scoped>\n",
       "    .dataframe tbody tr th:only-of-type {\n",
       "        vertical-align: middle;\n",
       "    }\n",
       "\n",
       "    .dataframe tbody tr th {\n",
       "        vertical-align: top;\n",
       "    }\n",
       "\n",
       "    .dataframe thead th {\n",
       "        text-align: right;\n",
       "    }\n",
       "</style>\n",
       "<table border=\"1\" class=\"dataframe\">\n",
       "  <thead>\n",
       "    <tr style=\"text-align: right;\">\n",
       "      <th></th>\n",
       "      <th>Survived</th>\n",
       "    </tr>\n",
       "    <tr>\n",
       "      <th>Title</th>\n",
       "      <th></th>\n",
       "    </tr>\n",
       "  </thead>\n",
       "  <tbody>\n",
       "    <tr>\n",
       "      <th>Mr</th>\n",
       "      <td>0.158301</td>\n",
       "    </tr>\n",
       "    <tr>\n",
       "      <th>Mrs</th>\n",
       "      <td>0.738710</td>\n",
       "    </tr>\n",
       "    <tr>\n",
       "      <th>Noble</th>\n",
       "      <td>0.492063</td>\n",
       "    </tr>\n",
       "  </tbody>\n",
       "</table>\n",
       "</div>"
      ],
      "text/plain": [
       "       Survived\n",
       "Title          \n",
       "Mr     0.158301\n",
       "Mrs    0.738710\n",
       "Noble  0.492063"
      ]
     },
     "execution_count": 280,
     "metadata": {},
     "output_type": "execute_result"
    }
   ],
   "source": [
    "exp_data[[\"Title\", \"Survived\"]].groupby(by=\"Title\").mean()"
   ]
  },
  {
   "cell_type": "markdown",
   "id": "ea0bc471-f150-49d4-aebe-00b53d2a8d06",
   "metadata": {},
   "source": [
    "- hehehe...we might've got ourselves a great feature...hehehe"
   ]
  },
  {
   "cell_type": "code",
   "execution_count": 281,
   "id": "f9b2bd40-f3f1-4c8d-9290-70d6ad034359",
   "metadata": {},
   "outputs": [],
   "source": [
    "from sklearn.base import BaseEstimator, TransformerMixin"
   ]
  },
  {
   "cell_type": "code",
   "execution_count": 282,
   "id": "2179d724-8c0f-4624-8705-148d091e3270",
   "metadata": {},
   "outputs": [],
   "source": [
    "num_attr = [\"Age\", \"Fare\", \"Parch\", \"SibSp\"]\n",
    "\n",
    "cat_attr = [\"Name\", \"Sex\", \"Pclass\", \"Embarked\"]"
   ]
  },
  {
   "cell_type": "code",
   "execution_count": 340,
   "id": "0810b2f2-a638-4bf0-912b-efe7e56338d5",
   "metadata": {},
   "outputs": [],
   "source": [
    "age_ix, parch_ix, sibsp_ix = num_attr.index(\"Age\"), num_attr.index(\"Parch\"), num_attr.index(\"SibSp\")\n",
    "\n",
    "class CustomAttributesAdder(BaseEstimator, TransformerMixin):\n",
    "    def fit(self, X, y=None):\n",
    "        return self\n",
    "    def transform(self, X):\n",
    "        # split into buckets of 15 starting from 0\n",
    "        age_bucket = X[:, age_ix] // 15 * 15\n",
    "        # sum the two attributes\n",
    "        relatives = X[:, parch_ix] + X[:, sibsp_ix]\n",
    "        \n",
    "        X = np.delete(X, [age_ix, parch_ix, sibsp_ix], axis=1) # delete useless cols\n",
    "        \n",
    "        return np.c_[X, age_bucket, relatives]"
   ]
  },
  {
   "cell_type": "markdown",
   "id": "3611ceca-2322-475f-9c7c-e6b65ce1f4d0",
   "metadata": {},
   "source": [
    "- new numerical attributes after this are `\"Age\", \"Fare\", \"Parch\", \"SibSp\", \"AgeBucket\", \"Relatives\"`"
   ]
  },
  {
   "cell_type": "code",
   "execution_count": 341,
   "id": "66136cbc-72c8-4dbf-9f3a-106e8c44feab",
   "metadata": {},
   "outputs": [],
   "source": [
    "name_ix = cat_attr.index(\"Name\")\n",
    "\n",
    "class CustomTitleExtractor(BaseEstimator, TransformerMixin):\n",
    "    def fit(self, X, y=None):\n",
    "        return self\n",
    "    def transform(self, X):\n",
    "        names = pd.Series(data=X[:, name_ix])\n",
    "        title = get_title(names.str.split())\n",
    "        \n",
    "        X = np.delete(X, name_ix, axis=1) # delete Name column since we have Title column\n",
    "                \n",
    "        return np.c_[X, np.array(title)]"
   ]
  },
  {
   "cell_type": "markdown",
   "id": "e3de385c-4112-4753-a6a5-e81088980df6",
   "metadata": {},
   "source": [
    "- new categorical attributes after this are `\"Sex\", \"Pclass\", \"Embarked\", \"Title\"`"
   ]
  },
  {
   "cell_type": "code",
   "execution_count": 342,
   "id": "ae7b44da-dc20-4f0d-98fb-87ea00d45484",
   "metadata": {},
   "outputs": [],
   "source": [
    "num_pipeline = Pipeline([\n",
    "    (\"imputer\", SimpleImputer(strategy=\"median\")),\n",
    "    (\"custom_adder\", CustomAttributesAdder()),\n",
    "    (\"scaler\", StandardScaler()),\n",
    "])\n",
    "\n",
    "cat_pipeline = Pipeline([\n",
    "    (\"imputer\", SimpleImputer(strategy=\"most_frequent\")),\n",
    "    (\"title_extractor\", CustomTitleExtractor()),\n",
    "    (\"encoder\", OneHotEncoder(sparse=False)),\n",
    "])\n",
    "\n",
    "preparation_pipeline_2 = ColumnTransformer([\n",
    "    (\"num\", num_pipeline, num_attr),\n",
    "    (\"cat\", cat_pipeline, cat_attr),\n",
    "])"
   ]
  },
  {
   "cell_type": "code",
   "execution_count": 343,
   "id": "4a886c66-b3d7-431b-b337-2196c71f644d",
   "metadata": {},
   "outputs": [],
   "source": [
    "X_train_new = preparation_pipeline_2.fit_transform(train)"
   ]
  },
  {
   "cell_type": "markdown",
   "id": "9e472759-9037-4f8e-99dd-74213594b805",
   "metadata": {},
   "source": [
    "- let's test the score of this new pipeline!"
   ]
  },
  {
   "cell_type": "code",
   "execution_count": 345,
   "id": "67f1eefd-7575-4f17-a65a-d985193d7e76",
   "metadata": {},
   "outputs": [],
   "source": [
    "new_svc_scores = cross_val_score(svm_clf, X_train_new, y_train,\n",
    "                                scoring=\"accuracy\", cv=10)"
   ]
  },
  {
   "cell_type": "code",
   "execution_count": 346,
   "id": "cb344c42-d058-4c22-91ba-aedccf5cf7e6",
   "metadata": {},
   "outputs": [
    {
     "data": {
      "text/plain": [
       "0.8271910112359551"
      ]
     },
     "execution_count": 346,
     "metadata": {},
     "output_type": "execute_result"
    }
   ],
   "source": [
    "new_svc_scores.mean()"
   ]
  },
  {
   "cell_type": "code",
   "execution_count": 347,
   "id": "34eeeebc-b057-4184-8d06-286e38c268ed",
   "metadata": {},
   "outputs": [
    {
     "data": {
      "text/plain": [
       "((891, 14), (891, 12))"
      ]
     },
     "execution_count": 347,
     "metadata": {},
     "output_type": "execute_result"
    }
   ],
   "source": [
    "X_train_new.shape, X_train.shape"
   ]
  },
  {
   "cell_type": "code",
   "execution_count": 348,
   "id": "613bd3a8-ce20-40c0-8ed8-1b2049b898e4",
   "metadata": {},
   "outputs": [],
   "source": [
    "prev_svc_scores = cross_val_score(svm_clf, X_train, y_train,\n",
    "                                scoring=\"accuracy\", cv=10)"
   ]
  },
  {
   "cell_type": "code",
   "execution_count": 349,
   "id": "33ef3210-91ff-43ab-b7ee-f698d25e83d8",
   "metadata": {},
   "outputs": [
    {
     "data": {
      "text/plain": [
       "0.828314606741573"
      ]
     },
     "execution_count": 349,
     "metadata": {},
     "output_type": "execute_result"
    }
   ],
   "source": [
    "prev_svc_scores.mean()"
   ]
  },
  {
   "cell_type": "markdown",
   "id": "e4b1823d-b1c4-4cdb-a5c8-3dcc4a92bf5f",
   "metadata": {},
   "source": [
    "- We can try uploading both predictions to Kaggle!"
   ]
  },
  {
   "cell_type": "markdown",
   "id": "a93c6dc4-43f6-47b9-ad3a-8f8bcd731290",
   "metadata": {},
   "source": [
    "# Predictions on Test Set\n",
    "<br>"
   ]
  },
  {
   "cell_type": "code",
   "execution_count": 350,
   "id": "ae515d7e-9c60-4af7-801d-f14b0f96d35e",
   "metadata": {},
   "outputs": [
    {
     "data": {
      "text/plain": [
       "(418, 2)"
      ]
     },
     "execution_count": 350,
     "metadata": {},
     "output_type": "execute_result"
    }
   ],
   "source": [
    "example_submission.shape"
   ]
  },
  {
   "cell_type": "markdown",
   "id": "d330f581-0ee9-4cb4-a980-d40b0a509a39",
   "metadata": {},
   "source": [
    "- make sure your submission looks like example submission in format"
   ]
  },
  {
   "cell_type": "markdown",
   "id": "61aa3011-1b9d-49ba-91c3-8d03bc7fcc47",
   "metadata": {},
   "source": [
    "## Model 1\n",
    "<br>"
   ]
  },
  {
   "cell_type": "code",
   "execution_count": 333,
   "id": "fad9be31-ef14-4956-b0be-c32ce6a81d83",
   "metadata": {},
   "outputs": [],
   "source": [
    "full_pipeline_1 = Pipeline([\n",
    "    (\"preparation\", preparation_pipeline),\n",
    "    (\"svm_clf\", svm_clf),\n",
    "])\n",
    "\n",
    "full_pipeline_1.fit(train, y_train)\n",
    "predictions = full_pipeline_1.predict(test)"
   ]
  },
  {
   "cell_type": "code",
   "execution_count": 334,
   "id": "3b0fc609-3264-4aac-a59a-984e0db1134a",
   "metadata": {},
   "outputs": [
    {
     "data": {
      "text/plain": [
       "(418,)"
      ]
     },
     "execution_count": 334,
     "metadata": {},
     "output_type": "execute_result"
    }
   ],
   "source": [
    "predictions.shape"
   ]
  },
  {
   "cell_type": "code",
   "execution_count": 335,
   "id": "8e94f853-06e2-4ef1-acd9-e237c6207a1b",
   "metadata": {},
   "outputs": [],
   "source": [
    "def save_predictions(predictions, pred_id):\n",
    "    df = pd.DataFrame(data=np.c_[test[\"PassengerId\"], predictions],\n",
    "                      columns=[\"PassengerId\", \"Survived\"])\n",
    "    \n",
    "    path = os.path.join(MODELS_PATH, pred_id + \".csv\")\n",
    "    \n",
    "    print(\"Saving prediction:\", pred_id, \"\\nShape:\", df.shape)\n",
    "    df.to_csv(path, index=False)"
   ]
  },
  {
   "cell_type": "code",
   "execution_count": 336,
   "id": "c175cf15-3871-47fe-bf1a-77c7027aca0b",
   "metadata": {},
   "outputs": [
    {
     "name": "stdout",
     "output_type": "stream",
     "text": [
      "Saving prediction: predictions_1 \n",
      "Shape: (418, 2)\n"
     ]
    }
   ],
   "source": [
    "save_predictions(predictions, \"predictions_1\")"
   ]
  },
  {
   "cell_type": "markdown",
   "id": "ca2460b8-35b2-4456-908c-02bd55e049a0",
   "metadata": {},
   "source": [
    "## Model 2\n",
    "<br>"
   ]
  },
  {
   "cell_type": "code",
   "execution_count": 351,
   "id": "ebd63cac-6ee6-4f1b-8b81-b80c7742e89e",
   "metadata": {},
   "outputs": [],
   "source": [
    "full_pipeline_2 = Pipeline([\n",
    "    (\"preparation\", preparation_pipeline_2),\n",
    "    (\"svm_clf\", svm_clf),\n",
    "])\n",
    "\n",
    "full_pipeline_2.fit(train, y_train)\n",
    "predictions = full_pipeline_2.predict(test)"
   ]
  },
  {
   "cell_type": "code",
   "execution_count": 352,
   "id": "5abed0bc-5c34-4a8c-8332-221e2fb83293",
   "metadata": {},
   "outputs": [
    {
     "name": "stdout",
     "output_type": "stream",
     "text": [
      "Saving prediction: predictions_2 \n",
      "Shape: (418, 2)\n"
     ]
    }
   ],
   "source": [
    "save_predictions(predictions, \"predictions_2\")"
   ]
  },
  {
   "cell_type": "code",
   "execution_count": null,
   "id": "51fb375c-9e30-42d8-9d7c-2e8b215fc0cf",
   "metadata": {},
   "outputs": [],
   "source": []
  }
 ],
 "metadata": {
  "kernelspec": {
   "display_name": "Python 3 (ipykernel)",
   "language": "python",
   "name": "python3"
  },
  "language_info": {
   "codemirror_mode": {
    "name": "ipython",
    "version": 3
   },
   "file_extension": ".py",
   "mimetype": "text/x-python",
   "name": "python",
   "nbconvert_exporter": "python",
   "pygments_lexer": "ipython3",
   "version": "3.10.4"
  }
 },
 "nbformat": 4,
 "nbformat_minor": 5
}
