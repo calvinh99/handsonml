{
 "cells": [
  {
   "cell_type": "markdown",
   "id": "64eca972-e955-4001-a606-c95259de4ae6",
   "metadata": {},
   "source": [
    "<div class=\"alert alert-block alert-warning\">\n",
    "Post Revision Notebook - Check out the handsonml git repo for detailed knowledge or just re-read the book!\n",
    "</div>"
   ]
  },
  {
   "cell_type": "markdown",
   "id": "e2cf7dee-ae92-455d-89f8-de8b09db224a",
   "metadata": {},
   "source": [
    "# Setup\n",
    "***"
   ]
  },
  {
   "cell_type": "code",
   "execution_count": 67,
   "id": "adb379e2-159f-4222-bb6c-a6fc1b3519a7",
   "metadata": {},
   "outputs": [],
   "source": [
    "# Python ≥3.5 is required\n",
    "import sys\n",
    "assert sys.version_info >= (3, 5)\n",
    "\n",
    "# Scikit-Learn ≥0.20 is required\n",
    "import sklearn\n",
    "assert sklearn.__version__ >= \"0.20\"\n",
    "\n",
    "# Common imports\n",
    "import numpy as np\n",
    "import os\n",
    "\n",
    "# to make this notebook's output stable across runs\n",
    "np.random.seed(42)\n",
    "\n",
    "# To plot pretty figures\n",
    "%matplotlib inline\n",
    "import matplotlib as mpl\n",
    "import matplotlib.pyplot as plt\n",
    "mpl.rc('axes', labelsize=14)\n",
    "mpl.rc('xtick', labelsize=12)\n",
    "mpl.rc('ytick', labelsize=12)\n",
    "\n",
    "# Where to save the models and scores\n",
    "import joblib\n",
    "PROJECT_ROOT_DIR = \".\"\n",
    "PROJECT_ID = \"mnist\"\n",
    "MODELS_PATH = os.path.join(PROJECT_ROOT_DIR, \"models\", PROJECT_ID)\n",
    "os.makedirs(MODELS_PATH, exist_ok=True)\n",
    "\n",
    "# Save models, cross-val accuracy scores, cross-val predictions, and pipelines\n",
    "def save_model(model, model_id):\n",
    "    path = os.path.join(MODELS_PATH, model_id + \"_model.pkl\")\n",
    "    print(\"Saving model\", model_id)\n",
    "    joblib.dump(model, path)\n",
    "\n",
    "def save_scores(scores, model_id):\n",
    "    path = os.path.join(MODELS_PATH, model_id + \"_scores.pkl\")\n",
    "    print(\"Saving cross-val accuracy scores\", model_id)\n",
    "    joblib.dump(scores, path)\n",
    "    \n",
    "def save_cvpreds(cvpreds, pred_id):\n",
    "    path = os.path.join(MODELS_PATH, pred_id + \"_cvpreds.pkl\")\n",
    "    print(\"Saving cross-val predictions\", pred_id)\n",
    "    joblib.dump(cvpreds, path)\n",
    "\n",
    "def save_pipe(pipe, pipe_id):\n",
    "    path = os.path.join(MODELS_PATH, pipe_id + \"_pipe.pkl\")\n",
    "    print(\"Saving pipeline\", pipe_id)\n",
    "    joblib.dump(pipe, path)\n",
    "\n",
    "# Load saved models, cross-val predictions, and pipelines\n",
    "def load_model(model_id):\n",
    "    path = os.path.join(MODELS_PATH, model_id + \"_model.pkl\")\n",
    "    return joblib.load(path)\n",
    "\n",
    "def load_scores(model_id):\n",
    "    path = os.path.join(MODELS_PATH, model_id + \"_scores.pkl\")\n",
    "    return joblib.load(path)\n",
    "\n",
    "def load_cvpreds(pred_id):\n",
    "    path = os.path.join(MODELS_PATH, pred_id + \"_cvpreds.pkl\")\n",
    "    return joblib.load(path)\n",
    "\n",
    "def load_pip(pipe_id):\n",
    "    path = os.path.join(MODELS_PATH, pipe_id + \"_pipe.pkl\")\n",
    "    return joblib.load(path)"
   ]
  },
  {
   "cell_type": "markdown",
   "id": "18d8a2cd-02fc-4b0a-9001-88b34a04b335",
   "metadata": {},
   "source": [
    "# Get the MNIST Dataset\n",
    "***"
   ]
  },
  {
   "cell_type": "code",
   "execution_count": 28,
   "id": "8afc7711-2522-49d2-970e-87f9311a9bb8",
   "metadata": {},
   "outputs": [],
   "source": [
    "from sklearn.datasets import fetch_openml\n",
    "import pandas as pd"
   ]
  },
  {
   "cell_type": "code",
   "execution_count": 29,
   "id": "eafca553-405b-4f17-ae6e-9cf86fd52966",
   "metadata": {},
   "outputs": [
    {
     "data": {
      "text/plain": [
       "dict_keys(['data', 'target', 'frame', 'categories', 'feature_names', 'target_names', 'DESCR', 'details', 'url'])"
      ]
     },
     "execution_count": 29,
     "metadata": {},
     "output_type": "execute_result"
    }
   ],
   "source": [
    "mnist = fetch_openml('mnist_784', version=1, as_frame=False)\n",
    "mnist.keys()"
   ]
  },
  {
   "cell_type": "code",
   "execution_count": 30,
   "id": "77e62897-2fb5-48f0-9e7e-0d883e72d607",
   "metadata": {},
   "outputs": [],
   "source": [
    "X, y = mnist[\"data\"], mnist[\"target\"]"
   ]
  },
  {
   "cell_type": "code",
   "execution_count": 31,
   "id": "14fc0e2d-6e68-450e-b4b6-992a4882292c",
   "metadata": {},
   "outputs": [
    {
     "data": {
      "text/plain": [
       "(70000, 784)"
      ]
     },
     "execution_count": 31,
     "metadata": {},
     "output_type": "execute_result"
    }
   ],
   "source": [
    "X.shape"
   ]
  },
  {
   "cell_type": "code",
   "execution_count": 32,
   "id": "b3aa305a-8f48-42b8-8de5-a72f2a620adc",
   "metadata": {},
   "outputs": [
    {
     "data": {
      "text/plain": [
       "1    7877\n",
       "7    7293\n",
       "3    7141\n",
       "2    6990\n",
       "9    6958\n",
       "0    6903\n",
       "6    6876\n",
       "8    6825\n",
       "4    6824\n",
       "5    6313\n",
       "dtype: int64"
      ]
     },
     "execution_count": 32,
     "metadata": {},
     "output_type": "execute_result"
    }
   ],
   "source": [
    "pd.Series(y).value_counts()"
   ]
  },
  {
   "cell_type": "markdown",
   "id": "09dd65c2-9d68-4a19-ad01-e5bdeea8e43d",
   "metadata": {},
   "source": [
    "- fairly evenly distributed"
   ]
  },
  {
   "cell_type": "markdown",
   "id": "48247b06-285b-4325-ba6f-c0e66ad148ac",
   "metadata": {},
   "source": [
    "## Quick Exploration of Data"
   ]
  },
  {
   "cell_type": "code",
   "execution_count": 33,
   "id": "4cd07d3c-9982-45e6-8df3-8cb514271c65",
   "metadata": {},
   "outputs": [],
   "source": [
    "some_digit = X[0]"
   ]
  },
  {
   "cell_type": "code",
   "execution_count": 34,
   "id": "0b324192-f4a3-4202-8908-1735523fa62e",
   "metadata": {},
   "outputs": [
    {
     "data": {
      "text/plain": [
       "(784,)"
      ]
     },
     "execution_count": 34,
     "metadata": {},
     "output_type": "execute_result"
    }
   ],
   "source": [
    "some_digit.shape"
   ]
  },
  {
   "cell_type": "code",
   "execution_count": 35,
   "id": "c613aed8-cce9-4cfe-a135-2366d430fb57",
   "metadata": {},
   "outputs": [
    {
     "data": {
      "image/png": "[encoded data removed]",
      "text/plain": [
       "<Figure size 432x288 with 1 Axes>"
      ]
     },
     "metadata": {
      "needs_background": "light"
     },
     "output_type": "display_data"
    }
   ],
   "source": [
    "def plot_digit(digit):\n",
    "    digit_image = digit.reshape(28, 28)\n",
    "    plt.imshow(digit_image, cmap=mpl.cm.binary)\n",
    "    plt.axis(\"off\")\n",
    "    plt.plot() # jupyter auto plots so this isn't necessary but it also doesn't hurt to add\n",
    "\n",
    "plot_digit(some_digit)\n",
    "plt.show()"
   ]
  },
  {
   "cell_type": "code",
   "execution_count": 36,
   "id": "53116c88-23af-4fc0-8767-9eef1cb5d376",
   "metadata": {},
   "outputs": [],
   "source": [
    "y = y.astype(np.uint8)"
   ]
  },
  {
   "cell_type": "markdown",
   "id": "b3a479b8-cbb6-490c-8c92-65c8cf6f8539",
   "metadata": {},
   "source": [
    "- saves memory rather than saving as int64"
   ]
  },
  {
   "cell_type": "code",
   "execution_count": 37,
   "id": "f4a5e9a8-70ec-47aa-9299-08c32e6a84a5",
   "metadata": {},
   "outputs": [],
   "source": [
    "X = X.astype(np.float64)"
   ]
  },
  {
   "cell_type": "code",
   "execution_count": 38,
   "id": "b6fcefec-e4ce-4053-8b8b-3c0a85023d27",
   "metadata": {},
   "outputs": [],
   "source": [
    "def plot_digits(instances, images_per_row=10, **options):\n",
    "    size = 28\n",
    "    images_per_row = min(len(instances), images_per_row)\n",
    "    # This is equivalent to n_rows = ceil(len(instances) / images_per_row):\n",
    "    n_rows = (len(instances) - 1) // images_per_row + 1\n",
    "\n",
    "    # Append empty images to fill the end of the grid, if needed:\n",
    "    n_empty = n_rows * images_per_row - len(instances)\n",
    "    padded_instances = np.concatenate([instances, np.zeros((n_empty, size * size))], axis=0)\n",
    "\n",
    "    # Reshape the array so it's organized as a grid containing 28×28 images:\n",
    "    image_grid = padded_instances.reshape((n_rows, images_per_row, size, size))\n",
    "\n",
    "    # Combine axes 0 and 2 (vertical image grid axis, and vertical image axis),\n",
    "    # and axes 1 and 3 (horizontal axes). We first need to move the axes that we\n",
    "    # want to combine next to each other, using transpose(), and only then we\n",
    "    # can reshape:\n",
    "    big_image = image_grid.transpose(0, 2, 1, 3).reshape(n_rows * size,\n",
    "                                                         images_per_row * size)\n",
    "    # Now that we have a big image, we just need to show it:\n",
    "    plt.imshow(big_image, cmap = mpl.cm.binary, **options)\n",
    "    plt.axis(\"off\")"
   ]
  },
  {
   "cell_type": "markdown",
   "id": "8e74ec21-6bcb-4b1e-b03f-4b912a873172",
   "metadata": {},
   "source": [
    "## Creating Train and Test Sets"
   ]
  },
  {
   "cell_type": "code",
   "execution_count": 39,
   "id": "4d1f6b30-0ac9-450e-b768-1ae0b374d79e",
   "metadata": {},
   "outputs": [],
   "source": [
    "X_train, X_test = X[:60000, :], X[60000:, :]\n",
    "y_train, y_test = y[:60000], y[60000:]"
   ]
  },
  {
   "cell_type": "markdown",
   "id": "27ecbd31-e21b-444a-9a4b-5d8dfee35d51",
   "metadata": {},
   "source": [
    "# Prepare the Data\n",
    "***"
   ]
  },
  {
   "cell_type": "code",
   "execution_count": 40,
   "id": "6aaca749-6150-4e5a-8f83-8670a31b5b9e",
   "metadata": {},
   "outputs": [],
   "source": [
    "from sklearn.preprocessing import StandardScaler\n",
    "from sklearn.pipeline import Pipeline\n",
    "from sklearn.base import BaseEstimator\n",
    "from sklearn.base import TransformerMixin"
   ]
  },
  {
   "cell_type": "code",
   "execution_count": 41,
   "id": "a847e4df-a9c5-432a-9d57-f0f76150f3be",
   "metadata": {},
   "outputs": [],
   "source": [
    "preparation_pipeline = Pipeline([\n",
    "    ('scaler', StandardScaler()),\n",
    "])"
   ]
  },
  {
   "cell_type": "code",
   "execution_count": 42,
   "id": "5ec2dd36-53b1-43ab-af08-197c7d7bdc3d",
   "metadata": {},
   "outputs": [],
   "source": [
    "X_train_prepared = preparation_pipeline.fit_transform(X_train)"
   ]
  },
  {
   "cell_type": "markdown",
   "id": "cdd65c05-b103-4618-a208-fe0ae2eaa34f",
   "metadata": {},
   "source": [
    "# Model Selection\n",
    "***"
   ]
  },
  {
   "cell_type": "code",
   "execution_count": 66,
   "id": "72b0256b-79de-4f4a-978e-5ee076eef49e",
   "metadata": {},
   "outputs": [],
   "source": [
    "# models to test\n",
    "from sklearn.linear_model import SGDClassifier\n",
    "from sklearn.svm import SVC\n",
    "from sklearn.ensemble import RandomForestClassifier\n",
    "from sklearn.neighbors import KNeighborsClassifier\n",
    "\n",
    "# evaluation\n",
    "from sklearn.model_selection import cross_val_predict\n",
    "from sklearn.model_selection import cross_val_score"
   ]
  },
  {
   "cell_type": "markdown",
   "id": "c79fa80f-7794-4ab1-b048-8a56fa79d6bd",
   "metadata": {},
   "source": [
    "Let's make a function that automates fitting all the models, saving them, calculating their cross-val predictions, saving those, and then returning the model with the highest accuracy."
   ]
  },
  {
   "cell_type": "code",
   "execution_count": 83,
   "id": "7f30e598-df42-40cf-9677-79f914718782",
   "metadata": {},
   "outputs": [],
   "source": [
    "def model_selection(estimators, model_ids, X=X_train_prepared, y=y_train):\n",
    "    model_data = []\n",
    "    for estimator, model_id in zip(estimators, model_ids):\n",
    "        model = estimator.fit(X, y)\n",
    "        save_model(model, model_id)\n",
    "        \n",
    "        scores = cross_val_score(model, X, y, cv=3, scoring=\"accuracy\")\n",
    "        save_scores(scores, model_id)\n",
    "        \n",
    "        model_data.append((model_id, scores.mean()))\n",
    "    return model_data"
   ]
  },
  {
   "cell_type": "code",
   "execution_count": 86,
   "id": "1f462897-8cea-4b9c-9681-c1abdd544c9e",
   "metadata": {},
   "outputs": [],
   "source": [
    "model_ids = [\n",
    "    \"sgd_clf\",\n",
    "    \"svm_clf\",\n",
    "    \"forest_clf\",\n",
    "    \"knn_clf\",\n",
    "]"
   ]
  },
  {
   "cell_type": "code",
   "execution_count": 87,
   "id": "7b68e20a-ff42-4e17-8f6f-3b532e212ca0",
   "metadata": {},
   "outputs": [],
   "source": [
    "def load_model_data(model_ids):\n",
    "    model_data = []\n",
    "    for model_id in model_ids:\n",
    "        scores = load_scores(model_id)\n",
    "        model_data.append((model_id, scores.mean()))\n",
    "    return model_data"
   ]
  },
  {
   "cell_type": "code",
   "execution_count": 88,
   "id": "614c93f5-ff6b-493a-a006-7ef98cab8197",
   "metadata": {},
   "outputs": [],
   "source": [
    "model_data = load_model_data(model_ids)"
   ]
  },
  {
   "cell_type": "code",
   "execution_count": 89,
   "id": "11fb3c95-d58e-43e0-9c3e-14898959ec15",
   "metadata": {},
   "outputs": [
    {
     "data": {
      "text/plain": [
       "[('sgd_clf', 0.8970333333333333),\n",
       " ('svm_clf', 0.9601666666666667),\n",
       " ('forest_clf', 0.9644833333333334),\n",
       " ('knn_clf', 0.9403666666666667)]"
      ]
     },
     "execution_count": 89,
     "metadata": {},
     "output_type": "execute_result"
    }
   ],
   "source": [
    "model_data"
   ]
  },
  {
   "cell_type": "markdown",
   "id": "c1fc42be-336e-48ab-a7e3-180471696a41",
   "metadata": {},
   "source": [
    "- it seems that the random forest classifier is the most accurate\n",
    "    - but svm, forest, and knn are all pretty close which means we can try fine-tuning all of them\n",
    "        - it could also mean that it doesn't matter what the model is among the three"
   ]
  },
  {
   "cell_type": "markdown",
   "id": "f01be758-c361-498c-bbad-4db61eaa0bfb",
   "metadata": {},
   "source": [
    "# Fine-Tuning\n",
    "***"
   ]
  },
  {
   "cell_type": "code",
   "execution_count": null,
   "id": "d0022690-6751-4185-af62-5212f488b965",
   "metadata": {},
   "outputs": [],
   "source": []
  }
 ],
 "metadata": {
  "kernelspec": {
   "display_name": "Python 3 (ipykernel)",
   "language": "python",
   "name": "python3"
  },
  "language_info": {
   "codemirror_mode": {
    "name": "ipython",
    "version": 3
   },
   "file_extension": ".py",
   "mimetype": "text/x-python",
   "name": "python",
   "nbconvert_exporter": "python",
   "pygments_lexer": "ipython3",
   "version": "3.10.4"
  }
 },
 "nbformat": 4,
 "nbformat_minor": 5
}
