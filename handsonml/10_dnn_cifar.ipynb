{
 "cells": [
  {
   "cell_type": "markdown",
   "id": "80bb3752-f0f7-41a5-8653-aa15dc0a8960",
   "metadata": {},
   "source": [
    "# Setup"
   ]
  },
  {
   "cell_type": "code",
   "execution_count": 2,
   "id": "84504701-ce8a-4366-9df0-e43673620a18",
   "metadata": {},
   "outputs": [],
   "source": [
    "# handle math and data\n",
    "import numpy as np\n",
    "import pandas as pd\n",
    "import time\n",
    "import math\n",
    "\n",
    "# to plot nice figures\n",
    "%matplotlib inline\n",
    "import matplotlib as mpl\n",
    "import matplotlib.pyplot as plt\n",
    "mpl.rc('axes', labelsize=14)\n",
    "mpl.rc('xtick', labelsize=12)\n",
    "mpl.rc('ytick', labelsize=12)\n",
    "\n",
    "# handle files\n",
    "import os\n",
    "import sys\n",
    "import joblib\n",
    "\n",
    "# random states\n",
    "SEED = 69\n",
    "\n",
    "# deep learning\n",
    "import tensorflow as tf\n",
    "from tensorflow import keras\n",
    "\n",
    "K = keras.backend\n",
    "\n",
    "def reset_backend():\n",
    "    K.clear_session()\n",
    "    np.random.seed(SEED)\n",
    "    tf.random.set_seed(SEED)\n",
    "\n",
    "# model directory\n",
    "MODEL_DIR = os.path.join(\".\", \"_tf_models\", \"my_cifar10\")\n",
    "os.makedirs(MODEL_DIR, exist_ok=True)\n",
    "\n",
    "# tensorboard directory\n",
    "LOG_DIR = os.path.join(\".\", \"_tf_logs\", \"my_cifar10\")\n",
    "os.makedirs(LOG_DIR, exist_ok=True)"
   ]
  },
  {
   "cell_type": "markdown",
   "id": "d4459649-8a92-42b0-ba37-2ae2c06dc0f0",
   "metadata": {},
   "source": [
    "# Get Data"
   ]
  },
  {
   "cell_type": "markdown",
   "id": "1c5a9bd5-5bad-4b78-8514-6bb8ef80f85f",
   "metadata": {},
   "source": [
    "We need to get the CIFAR10 dataset and understand the data shapes, types, features, labels, etc.\n",
    "- load data with **[cifar10.load_data()](https://www.tensorflow.org/api_docs/python/tf/keras/datasets/cifar10/load_data)**\n",
    "- explore data"
   ]
  },
  {
   "cell_type": "code",
   "execution_count": 3,
   "id": "e1d44379-7623-48f2-a11b-581dd08445b7",
   "metadata": {},
   "outputs": [
    {
     "data": {
      "text/plain": [
       "((50000, 32, 32, 3), dtype('uint8'))"
      ]
     },
     "execution_count": 3,
     "metadata": {},
     "output_type": "execute_result"
    }
   ],
   "source": [
    "from tensorflow.keras.datasets import cifar10\n",
    "\n",
    "(X_train_full, y_train_full), (X_test, y_test) = cifar10.load_data()\n",
    "\n",
    "X_train_full.shape, X_train_full.dtype"
   ]
  },
  {
   "cell_type": "code",
   "execution_count": 4,
   "id": "9c7a7708-7ef7-4626-a9fb-5f52048431ce",
   "metadata": {},
   "outputs": [
    {
     "data": {
      "text/plain": [
       "(array([0, 1, 2, 3, 4, 5, 6, 7, 8, 9], dtype=uint8),\n",
       " array([5000, 5000, 5000, 5000, 5000, 5000, 5000, 5000, 5000, 5000]))"
      ]
     },
     "execution_count": 4,
     "metadata": {},
     "output_type": "execute_result"
    }
   ],
   "source": [
    "np.unique(y_train_full, return_counts=True)"
   ]
  },
  {
   "cell_type": "markdown",
   "id": "6636b8e3-ea46-4390-a7f7-ee318da6f25a",
   "metadata": {},
   "source": [
    "Let's split train into train and validation sets."
   ]
  },
  {
   "cell_type": "code",
   "execution_count": 5,
   "id": "1b2d094a-7150-4e41-9eed-32663c8787d7",
   "metadata": {},
   "outputs": [
    {
     "data": {
      "text/plain": [
       "(45000, 32, 32, 3)"
      ]
     },
     "execution_count": 5,
     "metadata": {},
     "output_type": "execute_result"
    }
   ],
   "source": [
    "val_size = 5000\n",
    "\n",
    "X_train, X_val = X_train_full[val_size:], X_train_full[:val_size]\n",
    "y_train, y_val = y_train_full[val_size:], y_train_full[:val_size]\n",
    "\n",
    "X_train.shape"
   ]
  },
  {
   "cell_type": "markdown",
   "id": "f254030c-dd39-49ae-a06d-f42d27aa95a9",
   "metadata": {},
   "source": [
    "Let's see if the validation set is stratified."
   ]
  },
  {
   "cell_type": "code",
   "execution_count": 6,
   "id": "2ae01fb7-8de4-49fa-aeb4-a188cf3d875a",
   "metadata": {},
   "outputs": [
    {
     "data": {
      "text/plain": [
       "(array([0, 1, 2, 3, 4, 5, 6, 7, 8, 9], dtype=uint8),\n",
       " array([505, 460, 519, 486, 519, 488, 519, 486, 520, 498]))"
      ]
     },
     "execution_count": 6,
     "metadata": {},
     "output_type": "execute_result"
    }
   ],
   "source": [
    "np.unique(y_val, return_counts=True)"
   ]
  },
  {
   "cell_type": "markdown",
   "id": "2ad42ee6-bdc0-4c3d-be4a-f57245d18dee",
   "metadata": {},
   "source": [
    "Good, about 500 of each class."
   ]
  },
  {
   "cell_type": "markdown",
   "id": "11ccdcae-9798-42b8-97dc-01036cbee7d6",
   "metadata": {},
   "source": [
    "## Visualize Samples"
   ]
  },
  {
   "cell_type": "markdown",
   "id": "34e6bda1-f33d-4a24-913d-07967ef42d3a",
   "metadata": {},
   "source": [
    "Now let's create a function for plotting these instances."
   ]
  },
  {
   "cell_type": "code",
   "execution_count": 7,
   "id": "a0ab3be9-351a-41a3-86f6-e7ea4a737dfa",
   "metadata": {},
   "outputs": [
    {
     "data": {
      "text/plain": [
       "(32, 32, 3)"
      ]
     },
     "execution_count": 7,
     "metadata": {},
     "output_type": "execute_result"
    }
   ],
   "source": [
    "X_train[0].shape"
   ]
  },
  {
   "cell_type": "code",
   "execution_count": 8,
   "id": "ab4d25b6-6410-4292-9b42-a116003575b4",
   "metadata": {},
   "outputs": [],
   "source": [
    "def plot_image(image):    \n",
    "    plt.figure(figsize=(4,4))\n",
    "    plt.imshow(image)\n",
    "    plt.axis(\"off\")\n",
    "    plt.show()"
   ]
  },
  {
   "cell_type": "code",
   "execution_count": 9,
   "id": "f4a1759d-3bb4-458b-aae1-3bb4820b7f87",
   "metadata": {},
   "outputs": [
    {
     "data": {
      "image/png": "[encoded data removed]",
      "text/plain": [
       "<Figure size 288x288 with 1 Axes>"
      ]
     },
     "metadata": {
      "needs_background": "light"
     },
     "output_type": "display_data"
    }
   ],
   "source": [
    "plot_image(X_train[0])"
   ]
  },
  {
   "cell_type": "markdown",
   "id": "245a1cea-b23c-4df9-bdbd-dadc946aa6e1",
   "metadata": {},
   "source": [
    "Let's have label names available."
   ]
  },
  {
   "cell_type": "code",
   "execution_count": 10,
   "id": "fc96ad25-adea-48a7-bde3-0e1a7be3073f",
   "metadata": {},
   "outputs": [
    {
     "data": {
      "text/plain": [
       "(45000, 1)"
      ]
     },
     "execution_count": 10,
     "metadata": {},
     "output_type": "execute_result"
    }
   ],
   "source": [
    "y_train.shape"
   ]
  },
  {
   "cell_type": "code",
   "execution_count": 12,
   "id": "1724753c-cb05-4677-839a-fa723795a4e7",
   "metadata": {},
   "outputs": [
    {
     "data": {
      "text/plain": [
       "(45000,)"
      ]
     },
     "execution_count": 12,
     "metadata": {},
     "output_type": "execute_result"
    }
   ],
   "source": [
    "y_train = y_train.ravel()\n",
    "y_val = y_val.ravel()\n",
    "y_test = y_test.ravel()\n",
    "\n",
    "y_train.shape"
   ]
  },
  {
   "cell_type": "code",
   "execution_count": 13,
   "id": "33339aa0-83d0-43e3-b2dd-a47fb9b1069a",
   "metadata": {},
   "outputs": [
    {
     "data": {
      "text/plain": [
       "'frog'"
      ]
     },
     "execution_count": 13,
     "metadata": {},
     "output_type": "execute_result"
    }
   ],
   "source": [
    "attribute_names = [\"airplane\", \"automobile\", \"bird\", \"cat\", \n",
    "                   \"deer\", \"dog\", \"frog\", \"horse\", \"ship\", \"truck\",]\n",
    "\n",
    "attribute_names[y_train[0]]"
   ]
  },
  {
   "cell_type": "markdown",
   "id": "a0673028-3a96-4f7a-b2e4-124d1bd56d33",
   "metadata": {},
   "source": [
    "Let's make a function for visualizing arrays of samples."
   ]
  },
  {
   "cell_type": "code",
   "execution_count": 14,
   "id": "eb49decd-2891-4400-b031-4c50c526b4a3",
   "metadata": {},
   "outputs": [],
   "source": [
    "def plot_images(X, y, n_rows=4, n_cols=10):\n",
    "    plt.figure(figsize=(n_cols * 1.2, n_rows * 1.2))\n",
    "    for row in range(n_rows):\n",
    "        for col in range(n_cols):\n",
    "            index = n_cols * row + col\n",
    "            plt.subplot(n_rows, n_cols, index + 1)\n",
    "            plt.imshow(X[index], interpolation=\"nearest\")\n",
    "            plt.axis('off')\n",
    "            plt.title(attribute_names[y[index]], fontsize=12)\n",
    "    plt.subplots_adjust(wspace=0.2, hspace=0.5)\n",
    "    plt.show()"
   ]
  },
  {
   "cell_type": "code",
   "execution_count": 15,
   "id": "a4c0e8cc-787a-48e7-b8c9-047543b08503",
   "metadata": {},
   "outputs": [
    {
     "data": {
      "image/png": "[encoded data removed]",
      "text/plain": [
       "<Figure size 864x345.6 with 40 Axes>"
      ]
     },
     "metadata": {
      "needs_background": "light"
     },
     "output_type": "display_data"
    }
   ],
   "source": [
    "plot_images(X_train, y_train)"
   ]
  },
  {
   "cell_type": "markdown",
   "id": "b9d11879-098e-4941-8575-58df6e651bae",
   "metadata": {},
   "source": [
    "Looks good."
   ]
  },
  {
   "cell_type": "markdown",
   "id": "5c1cb05e-39c7-4353-95db-ce9d3eb77449",
   "metadata": {},
   "source": [
    "# First Model"
   ]
  },
  {
   "cell_type": "markdown",
   "id": "01792744-a22e-4083-921b-4e377b3c957f",
   "metadata": {},
   "source": [
    "For our first model, we need to do the following:\n",
    "- First build an exploratory deep NN with 20 layers and 100 neurons per layer. We will use He initialization and the ELU activation function.\n",
    "    - Input layer should flatten the (32, 32, 3) shape\n",
    "    - Build a sequential model with 20 hidden layers using He init and ELU activation\n",
    "    - Output layer is 10 neurons with He init softmax activation\n",
    "- Then find optimal learning rate (smaller is better than bigger, we don't want divergence, especially in a DNN)\n",
    "    - Custom callback class that increases learning rate by some factor after each iteration\n",
    "    - Function that saves initial weight and lr, then trains model with exponential lr callback, then restore initial weight and lr of model afterwards\n",
    "    - Function that plots the rates and losses\n",
    "- Finally, we can train our first model using the optimal lr and callbacks\n",
    "    - Callbacks: early stopping, model checkpoint, tensorboard\n",
    "    - The learning rate is truly the most important thing, if the model's loss suddenly spikes after a period of decreasing loss then the lr is most likely too big"
   ]
  },
  {
   "cell_type": "code",
   "execution_count": 30,
   "id": "e8571621-ecae-4138-8809-db582c716a6d",
   "metadata": {},
   "outputs": [],
   "source": [
    "from tensorflow.keras import Sequential\n",
    "from tensorflow.keras.layers import Flatten\n",
    "from tensorflow.keras.layers import Dense\n",
    "\n",
    "# create model\n",
    "model = Sequential()\n",
    "model.add(Flatten(input_shape=[32, 32, 3]))\n",
    "for _ in range(20):\n",
    "    model.add(Dense(100, activation=\"elu\", \n",
    "                    kernel_initializer=\"he_normal\"))\n",
    "model.add(Dense(10, activation=\"softmax\"))"
   ]
  },
  {
   "cell_type": "markdown",
   "id": "3975d145-caad-4233-a95f-f74f8b9db1a4",
   "metadata": {},
   "source": [
    "## Optimal LR"
   ]
  },
  {
   "cell_type": "markdown",
   "id": "dad28d10-923e-422b-8158-5495c18784af",
   "metadata": {},
   "source": [
    "Referenced from handsonml **[here](https://github.com/ageron/handson-ml2/blob/master/11_training_deep_neural_networks.ipynb)**.\n",
    "<br>\n",
    "For the code below:\n",
    "- We first create a `Callback` class that stores rates and losses after each iteration and multiplies the learning rate by some factor\n",
    "- Then we create a function that takes in the model (that is already created and compiled), training data, epochs to train, starting learning rate, and final learning rate\n",
    "    - The function saves initial weights and learning rate of the model\n",
    "    - Then calculates the factor to multiply by at every iteration so that after some epochs, we reach the final learning rate\n",
    "        - The math behind this is simply a log rule and some algebra\n",
    "    - Then it trains aka fits the model to the provided data with the expon lr callback using the calculated factor\n",
    "    - It sets the model's weights and learning rate back to the original values (so we don't have to reset model)\n",
    "    - Finally the rates and losses arrays are returned as tuple\n",
    "- Finally we create a function that plots losses vs rates and automatically zooms in on the important section"
   ]
  },
  {
   "cell_type": "code",
   "execution_count": 93,
   "id": "78162333-b625-4222-99e8-17a56111a98a",
   "metadata": {},
   "outputs": [
    {
     "data": {
      "text/plain": [
       "1e-06"
      ]
     },
     "execution_count": 93,
     "metadata": {},
     "output_type": "execute_result"
    }
   ],
   "source": [
    "def round_up_to_tenth(n):\n",
    "    a = np.log(n) / np.log(10)\n",
    "    a_ = np.rint(a)\n",
    "    return 10**a_\n",
    "\n",
    "round_up_to_tenth(8e-7)"
   ]
  },
  {
   "cell_type": "code",
   "execution_count": 246,
   "id": "dd3ca49a-b445-485a-8df6-a9fc3f1fd02e",
   "metadata": {},
   "outputs": [],
   "source": [
    "class ExponentialLearningRate(keras.callbacks.Callback):\n",
    "    def __init__(self, factor):\n",
    "        self.factor = factor\n",
    "        self.rates = []\n",
    "        self.losses = []\n",
    "    def on_batch_end(self, batch, logs):\n",
    "        self.rates.append(K.get_value(self.model.optimizer.learning_rate))\n",
    "        self.losses.append(logs[\"loss\"])\n",
    "        K.set_value(self.model.optimizer.learning_rate, self.model.optimizer.learning_rate * self.factor)\n",
    "\n",
    "def find_learning_rate(model, X, y, epochs=1, batch_size=32, min_rate=10**-10, max_rate=10):\n",
    "    init_weights = model.get_weights()\n",
    "    iterations = math.ceil(len(X) / batch_size) * epochs\n",
    "    factor = np.exp(np.log(max_rate / min_rate) / iterations)\n",
    "    init_lr = K.get_value(model.optimizer.learning_rate)\n",
    "    K.set_value(model.optimizer.learning_rate, min_rate)\n",
    "    exp_lr = ExponentialLearningRate(factor)\n",
    "    history = model.fit(X, y, epochs=epochs, batch_size=batch_size,\n",
    "                        callbacks=[exp_lr])\n",
    "    K.set_value(model.optimizer.learning_rate, init_lr)\n",
    "    model.set_weights(init_weights)\n",
    "    return exp_lr.rates, exp_lr.losses\n",
    "\n",
    "def plot_lr_vs_loss(rates, losses, max_loss=None):\n",
    "    plt.plot(rates, losses)\n",
    "    plt.gca().set_xscale('log')\n",
    "    \n",
    "    tick = round_up_to_tenth(min(rates))\n",
    "    x_ticks = []\n",
    "    while tick < max(rates)*10:\n",
    "        x_ticks.append(tick)\n",
    "        tick = tick * 10\n",
    "    plt.gca().set_xticks(x_ticks)\n",
    "    \n",
    "    plt.hlines(min(losses), min(rates), max(rates))\n",
    "    if max_loss is None:\n",
    "        plt.axis([min(rates), max(rates), min(losses), (losses[0] + min(losses)) / 2])\n",
    "    else:\n",
    "        plt.axis([min(rates), max(rates), min(losses), max_loss])\n",
    "    plt.xlabel(\"Learning rate\")\n",
    "    plt.ylabel(\"Loss\")"
   ]
  },
  {
   "cell_type": "code",
   "execution_count": 33,
   "id": "b641c6d3-e70d-4b45-bfe8-b013efbdd1b1",
   "metadata": {},
   "outputs": [],
   "source": [
    "from tensorflow.keras.optimizers import Nadam\n",
    "\n",
    "# compile\n",
    "model.compile(loss=\"sparse_categorical_crossentropy\",\n",
    "              optimizer=Nadam(learning_rate=1e-5),\n",
    "              metrics=[\"accuracy\"])"
   ]
  },
  {
   "cell_type": "code",
   "execution_count": 35,
   "id": "c08e1ab4-97fd-46a0-a25d-9c4e7d6e01a2",
   "metadata": {},
   "outputs": [
    {
     "name": "stdout",
     "output_type": "stream",
     "text": [
      "Epoch 1/5\n",
      "1407/1407 [==============================] - 10s 6ms/step - loss: 257.6057 - accuracy: 0.1187\n",
      "Epoch 2/5\n",
      "1407/1407 [==============================] - 8s 6ms/step - loss: 217.0621 - accuracy: 0.1191\n",
      "Epoch 3/5\n",
      "1407/1407 [==============================] - 8s 6ms/step - loss: 46.8183 - accuracy: 0.1136\n",
      "Epoch 4/5\n",
      "1407/1407 [==============================] - 8s 6ms/step - loss: 3.0016 - accuracy: 0.1590\n",
      "Epoch 5/5\n",
      "1407/1407 [==============================] - 8s 6ms/step - loss: 24541432.0000 - accuracy: 0.1288\n"
     ]
    }
   ],
   "source": [
    "rates, losses = find_learning_rate(model, X_train, y_train,\n",
    "                                   epochs=5, min_rate=1e-10, max_rate=1e-1)"
   ]
  },
  {
   "cell_type": "markdown",
   "id": "78381aa6-d273-4347-ba50-9f4f38b7f223",
   "metadata": {},
   "source": [
    "Great, now let's plot."
   ]
  },
  {
   "cell_type": "code",
   "execution_count": 38,
   "id": "baf1a3e2-ec39-4296-852b-414b306a24f3",
   "metadata": {},
   "outputs": [
    {
     "data": {
      "image/png": "[encoded data removed]",
      "text/plain": [
       "<Figure size 432x288 with 1 Axes>"
      ]
     },
     "metadata": {
      "needs_background": "light"
     },
     "output_type": "display_data"
    }
   ],
   "source": [
    "plot_lr_vs_loss(rates, losses, max_loss=280)"
   ]
  },
  {
   "cell_type": "markdown",
   "id": "5b949cd2-54bb-447e-ab24-22e0c493b40b",
   "metadata": {},
   "source": [
    "So we could set optimal learning rate to any of these values:\n",
    "- 4e-2 (this has a high risk of diverging soon after training for 1 or 2 epochs)\n",
    "- 3e-4 (this has a low risk of diverging late into training, can use a simple decay to fix)\n",
    "- 1e-5 (This would take longer in the beginning, but have little risk of diverging late into training)"
   ]
  },
  {
   "cell_type": "markdown",
   "id": "748ef36f-d539-47ed-b020-06008eb4376a",
   "metadata": {},
   "source": [
    "Let's use a simple exponential decay schedule for the learning rate. Documenation **[here](https://keras.io/api/callbacks/learning_rate_scheduler/)**."
   ]
  },
  {
   "cell_type": "code",
   "execution_count": 53,
   "id": "784716d3-2353-4db4-bdd3-37b763395cdf",
   "metadata": {},
   "outputs": [],
   "source": [
    "decay = 0.1\n",
    "\n",
    "def exponential_decay(lr0=1e-3, s=10):\n",
    "    def exponential_decay_fn(epoch):\n",
    "        return lr0 * decay**(epoch / s)\n",
    "    return exponential_decay_fn\n",
    "\n",
    "lr_scheduler_cb = keras.callbacks.LearningRateScheduler(exponential_decay(lr0=5e-4, s=30))"
   ]
  },
  {
   "cell_type": "markdown",
   "id": "9651718f-d2a7-4286-bb1b-2c89d7c8faf7",
   "metadata": {},
   "source": [
    "## Train Model"
   ]
  },
  {
   "cell_type": "markdown",
   "id": "b35c1cfd-0863-4fb5-9c4c-d87396786ff9",
   "metadata": {},
   "source": [
    "**Callbacks**"
   ]
  },
  {
   "cell_type": "code",
   "execution_count": 54,
   "id": "72ebaf9c-bfc5-47f3-aa48-85bbca42e8e4",
   "metadata": {},
   "outputs": [
    {
     "name": "stdout",
     "output_type": "stream",
     "text": [
      "TensorBoard directory: ./_tf_logs/my_cifar10/first_model_run_02\n"
     ]
    }
   ],
   "source": [
    "early_stopping_cb = keras.callbacks.EarlyStopping(patience=10)\n",
    "\n",
    "cp_model_name = os.path.join(MODEL_DIR, \"first_model_checkpoint.h5\")\n",
    "checkpoint_cb = keras.callbacks.ModelCheckpoint(cp_model_name, save_best_only=True)\n",
    "\n",
    "run_index = 2\n",
    "run_logdir = os.path.join(LOG_DIR, \"first_model_run_{:02d}\".format(run_index))\n",
    "print(\"TensorBoard directory:\", run_logdir)\n",
    "tensorboard_cb = keras.callbacks.TensorBoard(log_dir=run_logdir)"
   ]
  },
  {
   "cell_type": "code",
   "execution_count": 55,
   "id": "102057b5-61a5-4ed3-8d3a-1b3ed5a906d8",
   "metadata": {},
   "outputs": [],
   "source": [
    "callbacks = [lr_scheduler_cb, early_stopping_cb, checkpoint_cb, tensorboard_cb]"
   ]
  },
  {
   "cell_type": "markdown",
   "id": "ed64ebff-4e58-4a49-805e-acce773e7f1d",
   "metadata": {},
   "source": [
    "**Train**"
   ]
  },
  {
   "cell_type": "code",
   "execution_count": 56,
   "id": "7d7e5fbf-f345-42d1-b442-0fc1afaff060",
   "metadata": {},
   "outputs": [
    {
     "name": "stdout",
     "output_type": "stream",
     "text": [
      "Epoch 1/100\n",
      "1407/1407 [==============================] - 12s 6ms/step - loss: 3.0854 - accuracy: 0.2054 - val_loss: 1.9807 - val_accuracy: 0.2744 - lr: 5.0000e-04\n",
      "Epoch 2/100\n",
      "1407/1407 [==============================] - 9s 6ms/step - loss: 1.9217 - accuracy: 0.2959 - val_loss: 1.9099 - val_accuracy: 0.3044 - lr: 4.6306e-04\n",
      "Epoch 3/100\n",
      "1407/1407 [==============================] - 9s 6ms/step - loss: 1.8412 - accuracy: 0.3289 - val_loss: 1.8231 - val_accuracy: 0.3424 - lr: 4.2885e-04\n",
      "Epoch 4/100\n",
      "1407/1407 [==============================] - 9s 6ms/step - loss: 1.7991 - accuracy: 0.3466 - val_loss: 1.9387 - val_accuracy: 0.3130 - lr: 3.9716e-04\n",
      "Epoch 5/100\n",
      "1407/1407 [==============================] - 9s 6ms/step - loss: 1.7496 - accuracy: 0.3632 - val_loss: 1.7770 - val_accuracy: 0.3666 - lr: 3.6782e-04\n",
      "Epoch 6/100\n",
      "1407/1407 [==============================] - 9s 6ms/step - loss: 1.7081 - accuracy: 0.3782 - val_loss: 1.7331 - val_accuracy: 0.3678 - lr: 3.4065e-04\n",
      "Epoch 7/100\n",
      "1407/1407 [==============================] - 9s 6ms/step - loss: 1.6788 - accuracy: 0.3964 - val_loss: 1.6911 - val_accuracy: 0.3830 - lr: 3.1548e-04\n",
      "Epoch 8/100\n",
      "1407/1407 [==============================] - 9s 6ms/step - loss: 1.6531 - accuracy: 0.4054 - val_loss: 1.7037 - val_accuracy: 0.3824 - lr: 2.9217e-04\n",
      "Epoch 9/100\n",
      "1407/1407 [==============================] - 9s 6ms/step - loss: 1.6268 - accuracy: 0.4108 - val_loss: 1.6588 - val_accuracy: 0.3994 - lr: 2.7058e-04\n",
      "Epoch 10/100\n",
      "1407/1407 [==============================] - 9s 6ms/step - loss: 1.6020 - accuracy: 0.4198 - val_loss: 1.6296 - val_accuracy: 0.4118 - lr: 2.5059e-04\n",
      "Epoch 11/100\n",
      "1407/1407 [==============================] - 9s 6ms/step - loss: 1.5816 - accuracy: 0.4301 - val_loss: 1.6017 - val_accuracy: 0.4220 - lr: 2.3208e-04\n",
      "Epoch 12/100\n",
      "1407/1407 [==============================] - 9s 6ms/step - loss: 1.5657 - accuracy: 0.4355 - val_loss: 1.6006 - val_accuracy: 0.4206 - lr: 2.1493e-04\n",
      "Epoch 13/100\n",
      "1407/1407 [==============================] - 9s 7ms/step - loss: 1.5406 - accuracy: 0.4456 - val_loss: 1.5935 - val_accuracy: 0.4252 - lr: 1.9905e-04\n",
      "Epoch 14/100\n",
      "1407/1407 [==============================] - 9s 6ms/step - loss: 1.5226 - accuracy: 0.4498 - val_loss: 1.6089 - val_accuracy: 0.4218 - lr: 1.8435e-04\n",
      "Epoch 15/100\n",
      "1407/1407 [==============================] - 9s 6ms/step - loss: 1.5088 - accuracy: 0.4569 - val_loss: 1.5670 - val_accuracy: 0.4378 - lr: 1.7073e-04\n",
      "Epoch 16/100\n",
      "1407/1407 [==============================] - 9s 6ms/step - loss: 1.4881 - accuracy: 0.4641 - val_loss: 1.5902 - val_accuracy: 0.4272 - lr: 1.5811e-04\n",
      "Epoch 17/100\n",
      "1407/1407 [==============================] - 9s 6ms/step - loss: 1.4731 - accuracy: 0.4697 - val_loss: 1.5726 - val_accuracy: 0.4412 - lr: 1.4643e-04\n",
      "Epoch 18/100\n",
      "1407/1407 [==============================] - 9s 6ms/step - loss: 1.5022 - accuracy: 0.4614 - val_loss: 1.5783 - val_accuracy: 0.4410 - lr: 1.3561e-04\n",
      "Epoch 19/100\n",
      "1407/1407 [==============================] - 9s 6ms/step - loss: 1.4555 - accuracy: 0.4763 - val_loss: 1.5559 - val_accuracy: 0.4372 - lr: 1.2559e-04\n",
      "Epoch 20/100\n",
      "1407/1407 [==============================] - 9s 6ms/step - loss: 1.4356 - accuracy: 0.4832 - val_loss: 1.5943 - val_accuracy: 0.4334 - lr: 1.1632e-04\n",
      "Epoch 21/100\n",
      "1407/1407 [==============================] - 9s 6ms/step - loss: 1.4219 - accuracy: 0.4860 - val_loss: 1.5766 - val_accuracy: 0.4418 - lr: 1.0772e-04\n",
      "Epoch 22/100\n",
      "1407/1407 [==============================] - 9s 6ms/step - loss: 1.4068 - accuracy: 0.4920 - val_loss: 1.5545 - val_accuracy: 0.4514 - lr: 9.9763e-05\n",
      "Epoch 23/100\n",
      "1407/1407 [==============================] - 9s 6ms/step - loss: 1.3948 - accuracy: 0.4965 - val_loss: 1.5533 - val_accuracy: 0.4462 - lr: 9.2392e-05\n",
      "Epoch 24/100\n",
      "1407/1407 [==============================] - 9s 6ms/step - loss: 1.3817 - accuracy: 0.5011 - val_loss: 1.5483 - val_accuracy: 0.4508 - lr: 8.5566e-05\n",
      "Epoch 25/100\n",
      "1407/1407 [==============================] - 9s 6ms/step - loss: 1.3681 - accuracy: 0.5070 - val_loss: 1.5654 - val_accuracy: 0.4432 - lr: 7.9245e-05\n",
      "Epoch 26/100\n",
      "1407/1407 [==============================] - 9s 6ms/step - loss: 1.3563 - accuracy: 0.5102 - val_loss: 1.5641 - val_accuracy: 0.4474 - lr: 7.3390e-05\n",
      "Epoch 27/100\n",
      "1407/1407 [==============================] - 9s 6ms/step - loss: 1.3431 - accuracy: 0.5154 - val_loss: 1.5708 - val_accuracy: 0.4510 - lr: 6.7968e-05\n",
      "Epoch 28/100\n",
      "1407/1407 [==============================] - 9s 6ms/step - loss: 1.3333 - accuracy: 0.5189 - val_loss: 1.5666 - val_accuracy: 0.4508 - lr: 6.2946e-05\n",
      "Epoch 29/100\n",
      "1407/1407 [==============================] - 9s 6ms/step - loss: 1.3201 - accuracy: 0.5250 - val_loss: 1.5720 - val_accuracy: 0.4518 - lr: 5.8296e-05\n",
      "Epoch 30/100\n",
      "1407/1407 [==============================] - 9s 6ms/step - loss: 1.3110 - accuracy: 0.5259 - val_loss: 1.5680 - val_accuracy: 0.4564 - lr: 5.3989e-05\n",
      "Epoch 31/100\n",
      "1407/1407 [==============================] - 9s 6ms/step - loss: 1.2992 - accuracy: 0.5312 - val_loss: 1.5842 - val_accuracy: 0.4500 - lr: 5.0000e-05\n",
      "Epoch 32/100\n",
      "1407/1407 [==============================] - 9s 7ms/step - loss: 1.2873 - accuracy: 0.5344 - val_loss: 1.5812 - val_accuracy: 0.4494 - lr: 4.6306e-05\n",
      "Epoch 33/100\n",
      "1407/1407 [==============================] - 9s 6ms/step - loss: 1.2782 - accuracy: 0.5392 - val_loss: 1.5901 - val_accuracy: 0.4470 - lr: 4.2885e-05\n",
      "Epoch 34/100\n",
      "1407/1407 [==============================] - 9s 6ms/step - loss: 1.2682 - accuracy: 0.5419 - val_loss: 1.5958 - val_accuracy: 0.4510 - lr: 3.9716e-05\n"
     ]
    }
   ],
   "source": [
    "reset_backend()\n",
    "\n",
    "# re-init after prev run\n",
    "model = Sequential()\n",
    "model.add(Flatten(input_shape=[32, 32, 3]))\n",
    "for _ in range(20):\n",
    "    model.add(Dense(100, activation=\"elu\", \n",
    "                    kernel_initializer=\"he_normal\"))\n",
    "model.add(Dense(10, activation=\"softmax\"))\n",
    "\n",
    "# compile\n",
    "model.compile(loss=\"sparse_categorical_crossentropy\",\n",
    "              optimizer=Nadam(learning_rate=1e-5),\n",
    "              metrics=[\"accuracy\"])\n",
    "\n",
    "# train\n",
    "history = model.fit(X_train, y_train, epochs=100,\n",
    "                    validation_data=(X_val, y_val),\n",
    "                    callbacks=callbacks)"
   ]
  },
  {
   "cell_type": "markdown",
   "id": "ffcde27e-1d67-400b-a491-654b176cd2c6",
   "metadata": {},
   "source": [
    "## Evaluate"
   ]
  },
  {
   "cell_type": "code",
   "execution_count": 57,
   "id": "5e75aeca-edc0-43a4-8a7f-cdecaca4271b",
   "metadata": {},
   "outputs": [
    {
     "name": "stdout",
     "output_type": "stream",
     "text": [
      "313/313 [==============================] - 1s 2ms/step - loss: 1.5688 - accuracy: 0.4604\n"
     ]
    },
    {
     "data": {
      "text/plain": [
       "[1.5687525272369385, 0.4603999853134155]"
      ]
     },
     "execution_count": 57,
     "metadata": {},
     "output_type": "execute_result"
    }
   ],
   "source": [
    "model.evaluate(X_test, y_test)"
   ]
  },
  {
   "cell_type": "markdown",
   "id": "e3a73f19-51b8-427d-ad6d-91c6e0b4776c",
   "metadata": {},
   "source": [
    "About `46.0%` accuracy."
   ]
  },
  {
   "cell_type": "markdown",
   "id": "fbb740e9-4839-460d-b103-4d4734844376",
   "metadata": {},
   "source": [
    "# Batch Normalization"
   ]
  },
  {
   "cell_type": "markdown",
   "id": "0239c169-77e6-4750-a74b-182958b3bada",
   "metadata": {},
   "source": [
    "Let's try training the model, but with BN layers now.\n",
    "- Create model with batch normalization. Documentation **[here](https://keras.io/api/layers/normalization_layers/batch_normalization/)**.\n",
    "    - Just add a batch normalization layer after the first layer and each hidden layer\n",
    "- Find optimal learning rate\n",
    "    - Try using a piecewise learning rate schedule\n",
    "- Train with callbacks"
   ]
  },
  {
   "cell_type": "markdown",
   "id": "8a5d4930-cfbe-408e-86b9-00f98c53823a",
   "metadata": {},
   "source": [
    "## Model"
   ]
  },
  {
   "cell_type": "code",
   "execution_count": 59,
   "id": "4a2d5059-b6d0-4fe6-95c5-662ea77e07f1",
   "metadata": {},
   "outputs": [],
   "source": [
    "from tensorflow.keras.layers import BatchNormalization\n",
    "\n",
    "reset_backend()\n",
    "\n",
    "# create model\n",
    "model = Sequential()\n",
    "model.add(Flatten(input_shape=[32, 32, 3]))\n",
    "model.add(BatchNormalization())\n",
    "for _ in range(20):\n",
    "    model.add(Dense(100, activation=\"elu\", \n",
    "                    kernel_initializer=\"he_normal\"))\n",
    "    model.add(BatchNormalization())\n",
    "model.add(Dense(10, activation=\"softmax\"))\n",
    "\n",
    "# compile\n",
    "model.compile(loss=\"sparse_categorical_crossentropy\",\n",
    "              optimizer=Nadam(learning_rate=1e-5),\n",
    "              metrics=[\"accuracy\"])"
   ]
  },
  {
   "cell_type": "markdown",
   "id": "de03d45a-4859-422e-8f6c-36f9543eaf92",
   "metadata": {},
   "source": [
    "## Optimal LR"
   ]
  },
  {
   "cell_type": "code",
   "execution_count": 65,
   "id": "2f3cb61d-202f-4d46-88d2-0834b76d84bb",
   "metadata": {
    "tags": []
   },
   "outputs": [
    {
     "name": "stdout",
     "output_type": "stream",
     "text": [
      "Epoch 1/5\n",
      "1407/1407 [==============================] - 14s 10ms/step - loss: 3.0899 - accuracy: 0.0997\n",
      "Epoch 2/5\n",
      "1407/1407 [==============================] - 13s 10ms/step - loss: 3.0858 - accuracy: 0.0975\n",
      "Epoch 3/5\n",
      "1407/1407 [==============================] - 14s 10ms/step - loss: 2.6293 - accuracy: 0.1471\n",
      "Epoch 4/5\n",
      "1407/1407 [==============================] - 13s 9ms/step - loss: 1.9816 - accuracy: 0.2874\n",
      "Epoch 5/5\n",
      "1407/1407 [==============================] - 13s 10ms/step - loss: 418.9547 - accuracy: 0.1704\n"
     ]
    }
   ],
   "source": [
    "rates, losses = find_learning_rate(model, X_train, y_train,\n",
    "                                   epochs=5, min_rate=1e-10, max_rate=5)"
   ]
  },
  {
   "cell_type": "code",
   "execution_count": 95,
   "id": "d0379873-80d2-435b-ad5b-79a68b941782",
   "metadata": {},
   "outputs": [
    {
     "data": {
      "image/png": "[encoded data removed]",
      "text/plain": [
       "<Figure size 1440x360 with 1 Axes>"
      ]
     },
     "metadata": {
      "needs_background": "light"
     },
     "output_type": "display_data"
    }
   ],
   "source": [
    "plt.figure(figsize=(20,5))\n",
    "plot_lr_vs_loss(rates, losses, max_loss=4)"
   ]
  },
  {
   "cell_type": "markdown",
   "id": "6d079325-0a2a-4fa9-b664-1182173ab526",
   "metadata": {},
   "source": [
    "- Risky lr: `0.01` (10e-3)\n",
    "- Safe lr: `0.001` (10e-4)\n",
    "- Slow lr: `0.0006` (6e-5)"
   ]
  },
  {
   "cell_type": "code",
   "execution_count": 103,
   "id": "70494cf1-fe6f-465c-bfc1-a5748afd69ea",
   "metadata": {},
   "outputs": [],
   "source": [
    "def piecewise_constant_fn(epoch):\n",
    "    if epoch < 5:\n",
    "        return 0.01\n",
    "    elif epoch < 30:\n",
    "        return 0.001\n",
    "    else:\n",
    "        return 0.0006\n",
    "\n",
    "lr_scheduler_cb = keras.callbacks.LearningRateScheduler(piecewise_constant_fn)"
   ]
  },
  {
   "cell_type": "markdown",
   "id": "606cd4ad-99f6-431b-94a1-ae3ea6d91cec",
   "metadata": {},
   "source": [
    "## Train Model"
   ]
  },
  {
   "cell_type": "markdown",
   "id": "08aa3b92-0c2a-4c0d-9eef-93baba38c42c",
   "metadata": {},
   "source": [
    "**Callbacks**"
   ]
  },
  {
   "cell_type": "code",
   "execution_count": 104,
   "id": "cfa54b77-80d6-41a4-a2c7-a1b80b1de56e",
   "metadata": {},
   "outputs": [
    {
     "name": "stdout",
     "output_type": "stream",
     "text": [
      "TensorBoard directory: ./_tf_logs/my_cifar10/bn_model_run_02\n"
     ]
    }
   ],
   "source": [
    "early_stopping_cb = keras.callbacks.EarlyStopping(patience=10)\n",
    "\n",
    "model_id = \"bn_model\"\n",
    "\n",
    "cp_model_name = os.path.join(MODEL_DIR, model_id + \"_checkpoint.h5\")\n",
    "checkpoint_cb = keras.callbacks.ModelCheckpoint(cp_model_name, save_best_only=True)\n",
    "\n",
    "run_index = 2\n",
    "run_logdir = os.path.join(LOG_DIR, model_id + \"_run_{:02d}\".format(run_index))\n",
    "print(\"TensorBoard directory:\", run_logdir)\n",
    "tensorboard_cb = keras.callbacks.TensorBoard(log_dir=run_logdir)\n",
    "\n",
    "callbacks = [lr_scheduler_cb, early_stopping_cb, checkpoint_cb, tensorboard_cb]"
   ]
  },
  {
   "cell_type": "markdown",
   "id": "5510b55b-0b6d-41ba-a8f6-a58558e5155c",
   "metadata": {},
   "source": [
    "**Train**"
   ]
  },
  {
   "cell_type": "code",
   "execution_count": 105,
   "id": "60fb0d7e-eba2-430f-92f6-b1002beada79",
   "metadata": {},
   "outputs": [
    {
     "name": "stdout",
     "output_type": "stream",
     "text": [
      "Epoch 1/100\n",
      "1407/1407 [==============================] - 20s 10ms/step - loss: 2.0331 - accuracy: 0.2334 - val_loss: 2.2735 - val_accuracy: 0.2654 - lr: 0.0100\n",
      "Epoch 2/100\n",
      "1407/1407 [==============================] - 14s 10ms/step - loss: 1.8722 - accuracy: 0.3099 - val_loss: 2.2627 - val_accuracy: 0.2550 - lr: 0.0100\n",
      "Epoch 3/100\n",
      "1407/1407 [==============================] - 13s 9ms/step - loss: 1.8114 - accuracy: 0.3398 - val_loss: 1.9670 - val_accuracy: 0.3236 - lr: 0.0100\n",
      "Epoch 4/100\n",
      "1407/1407 [==============================] - 13s 9ms/step - loss: 1.7594 - accuracy: 0.3617 - val_loss: 1.9960 - val_accuracy: 0.3102 - lr: 0.0100\n",
      "Epoch 5/100\n",
      "1407/1407 [==============================] - 13s 9ms/step - loss: 1.7166 - accuracy: 0.3747 - val_loss: 1.7976 - val_accuracy: 0.3914 - lr: 0.0100\n",
      "Epoch 6/100\n",
      "1407/1407 [==============================] - 13s 9ms/step - loss: 1.5914 - accuracy: 0.4221 - val_loss: 1.5297 - val_accuracy: 0.4378 - lr: 0.0010\n",
      "Epoch 7/100\n",
      "1407/1407 [==============================] - 13s 9ms/step - loss: 1.5589 - accuracy: 0.4319 - val_loss: 1.5054 - val_accuracy: 0.4444 - lr: 0.0010\n",
      "Epoch 8/100\n",
      "1407/1407 [==============================] - 13s 10ms/step - loss: 1.5407 - accuracy: 0.4370 - val_loss: 1.4954 - val_accuracy: 0.4506 - lr: 0.0010\n",
      "Epoch 9/100\n",
      "1407/1407 [==============================] - 13s 9ms/step - loss: 1.5267 - accuracy: 0.4470 - val_loss: 1.5120 - val_accuracy: 0.4542 - lr: 0.0010\n",
      "Epoch 10/100\n",
      "1407/1407 [==============================] - 13s 10ms/step - loss: 1.5042 - accuracy: 0.4545 - val_loss: 1.4769 - val_accuracy: 0.4590 - lr: 0.0010\n",
      "Epoch 11/100\n",
      "1407/1407 [==============================] - 13s 9ms/step - loss: 1.4898 - accuracy: 0.4604 - val_loss: 1.4788 - val_accuracy: 0.4604 - lr: 0.0010\n",
      "Epoch 12/100\n",
      "1407/1407 [==============================] - 13s 9ms/step - loss: 1.4750 - accuracy: 0.4659 - val_loss: 1.4663 - val_accuracy: 0.4718 - lr: 0.0010\n",
      "Epoch 13/100\n",
      "1407/1407 [==============================] - 13s 10ms/step - loss: 1.4651 - accuracy: 0.4722 - val_loss: 1.4456 - val_accuracy: 0.4836 - lr: 0.0010\n",
      "Epoch 14/100\n",
      "1407/1407 [==============================] - 13s 9ms/step - loss: 1.4510 - accuracy: 0.4779 - val_loss: 1.4619 - val_accuracy: 0.4804 - lr: 0.0010\n",
      "Epoch 15/100\n",
      "1407/1407 [==============================] - 13s 9ms/step - loss: 1.4333 - accuracy: 0.4857 - val_loss: 1.4545 - val_accuracy: 0.4874 - lr: 0.0010\n",
      "Epoch 16/100\n",
      "1407/1407 [==============================] - 13s 9ms/step - loss: 1.4282 - accuracy: 0.4901 - val_loss: 1.4547 - val_accuracy: 0.4804 - lr: 0.0010\n",
      "Epoch 17/100\n",
      "1407/1407 [==============================] - 14s 10ms/step - loss: 1.4147 - accuracy: 0.4933 - val_loss: 1.4379 - val_accuracy: 0.4850 - lr: 0.0010\n",
      "Epoch 18/100\n",
      "1407/1407 [==============================] - 13s 9ms/step - loss: 1.3990 - accuracy: 0.5022 - val_loss: 1.4212 - val_accuracy: 0.4902 - lr: 0.0010\n",
      "Epoch 19/100\n",
      "1407/1407 [==============================] - 13s 9ms/step - loss: 1.3925 - accuracy: 0.5065 - val_loss: 1.4525 - val_accuracy: 0.4884 - lr: 0.0010\n",
      "Epoch 20/100\n",
      "1407/1407 [==============================] - 14s 10ms/step - loss: 1.3812 - accuracy: 0.5092 - val_loss: 1.4205 - val_accuracy: 0.4950 - lr: 0.0010\n",
      "Epoch 21/100\n",
      "1407/1407 [==============================] - 14s 10ms/step - loss: 1.3648 - accuracy: 0.5123 - val_loss: 1.4161 - val_accuracy: 0.4942 - lr: 0.0010\n",
      "Epoch 22/100\n",
      "1407/1407 [==============================] - 14s 10ms/step - loss: 1.3577 - accuracy: 0.5157 - val_loss: 1.3980 - val_accuracy: 0.5044 - lr: 0.0010\n",
      "Epoch 23/100\n",
      "1407/1407 [==============================] - 13s 10ms/step - loss: 1.3461 - accuracy: 0.5220 - val_loss: 1.4156 - val_accuracy: 0.4924 - lr: 0.0010\n",
      "Epoch 24/100\n",
      "1407/1407 [==============================] - 14s 10ms/step - loss: 1.3342 - accuracy: 0.5253 - val_loss: 1.3958 - val_accuracy: 0.5086 - lr: 0.0010\n",
      "Epoch 25/100\n",
      "1407/1407 [==============================] - 13s 9ms/step - loss: 1.3272 - accuracy: 0.5304 - val_loss: 1.4396 - val_accuracy: 0.4932 - lr: 0.0010\n",
      "Epoch 26/100\n",
      "1407/1407 [==============================] - 14s 10ms/step - loss: 1.3215 - accuracy: 0.5300 - val_loss: 1.4043 - val_accuracy: 0.5022 - lr: 0.0010\n",
      "Epoch 27/100\n",
      "1407/1407 [==============================] - 14s 10ms/step - loss: 1.3130 - accuracy: 0.5363 - val_loss: 1.4159 - val_accuracy: 0.4962 - lr: 0.0010\n",
      "Epoch 28/100\n",
      "1407/1407 [==============================] - 14s 10ms/step - loss: 1.3004 - accuracy: 0.5394 - val_loss: 1.3849 - val_accuracy: 0.5080 - lr: 0.0010\n",
      "Epoch 29/100\n",
      "1407/1407 [==============================] - 14s 10ms/step - loss: 1.2935 - accuracy: 0.5424 - val_loss: 1.3963 - val_accuracy: 0.5074 - lr: 0.0010\n",
      "Epoch 30/100\n",
      "1407/1407 [==============================] - 14s 10ms/step - loss: 1.2886 - accuracy: 0.5439 - val_loss: 1.3822 - val_accuracy: 0.5062 - lr: 0.0010\n",
      "Epoch 31/100\n",
      "1407/1407 [==============================] - 14s 10ms/step - loss: 1.2625 - accuracy: 0.5518 - val_loss: 1.3796 - val_accuracy: 0.5128 - lr: 6.0000e-04\n",
      "Epoch 32/100\n",
      "1407/1407 [==============================] - 14s 10ms/step - loss: 1.2573 - accuracy: 0.5517 - val_loss: 1.3721 - val_accuracy: 0.5118 - lr: 6.0000e-04\n",
      "Epoch 33/100\n",
      "1407/1407 [==============================] - 14s 10ms/step - loss: 1.2476 - accuracy: 0.5593 - val_loss: 1.3711 - val_accuracy: 0.5088 - lr: 6.0000e-04\n",
      "Epoch 34/100\n",
      "1407/1407 [==============================] - 14s 10ms/step - loss: 1.2363 - accuracy: 0.5619 - val_loss: 1.3916 - val_accuracy: 0.5108 - lr: 6.0000e-04\n",
      "Epoch 35/100\n",
      "1407/1407 [==============================] - 14s 10ms/step - loss: 1.2348 - accuracy: 0.5643 - val_loss: 1.3710 - val_accuracy: 0.5148 - lr: 6.0000e-04\n",
      "Epoch 36/100\n",
      "1407/1407 [==============================] - 14s 10ms/step - loss: 1.2302 - accuracy: 0.5649 - val_loss: 1.4075 - val_accuracy: 0.5062 - lr: 6.0000e-04\n",
      "Epoch 37/100\n",
      "1407/1407 [==============================] - 13s 10ms/step - loss: 1.2300 - accuracy: 0.5647 - val_loss: 1.3972 - val_accuracy: 0.5042 - lr: 6.0000e-04\n",
      "Epoch 38/100\n",
      "1407/1407 [==============================] - 13s 10ms/step - loss: 1.2240 - accuracy: 0.5683 - val_loss: 1.3847 - val_accuracy: 0.5096 - lr: 6.0000e-04\n",
      "Epoch 39/100\n",
      "1407/1407 [==============================] - 13s 10ms/step - loss: 1.2181 - accuracy: 0.5666 - val_loss: 1.3745 - val_accuracy: 0.5174 - lr: 6.0000e-04\n",
      "Epoch 40/100\n",
      "1407/1407 [==============================] - 13s 10ms/step - loss: 1.2094 - accuracy: 0.5676 - val_loss: 1.3861 - val_accuracy: 0.5162 - lr: 6.0000e-04\n",
      "Epoch 41/100\n",
      "1407/1407 [==============================] - 14s 10ms/step - loss: 1.2067 - accuracy: 0.5714 - val_loss: 1.3714 - val_accuracy: 0.5174 - lr: 6.0000e-04\n",
      "Epoch 42/100\n",
      "1407/1407 [==============================] - 13s 10ms/step - loss: 1.2027 - accuracy: 0.5750 - val_loss: 1.3743 - val_accuracy: 0.5136 - lr: 6.0000e-04\n",
      "Epoch 43/100\n",
      "1407/1407 [==============================] - 14s 10ms/step - loss: 1.1990 - accuracy: 0.5733 - val_loss: 1.3682 - val_accuracy: 0.5206 - lr: 6.0000e-04\n",
      "Epoch 44/100\n",
      "1407/1407 [==============================] - 14s 10ms/step - loss: 1.1878 - accuracy: 0.5776 - val_loss: 1.3692 - val_accuracy: 0.5154 - lr: 6.0000e-04\n",
      "Epoch 45/100\n",
      "1407/1407 [==============================] - 14s 10ms/step - loss: 1.1895 - accuracy: 0.5807 - val_loss: 1.3647 - val_accuracy: 0.5198 - lr: 6.0000e-04\n",
      "Epoch 46/100\n",
      "1407/1407 [==============================] - 14s 10ms/step - loss: 1.1865 - accuracy: 0.5782 - val_loss: 1.3722 - val_accuracy: 0.5204 - lr: 6.0000e-04\n",
      "Epoch 47/100\n",
      "1407/1407 [==============================] - 14s 10ms/step - loss: 1.1835 - accuracy: 0.5833 - val_loss: 1.3630 - val_accuracy: 0.5154 - lr: 6.0000e-04\n",
      "Epoch 48/100\n",
      "1407/1407 [==============================] - 14s 10ms/step - loss: 1.1706 - accuracy: 0.5865 - val_loss: 1.4196 - val_accuracy: 0.5122 - lr: 6.0000e-04\n",
      "Epoch 49/100\n",
      "1407/1407 [==============================] - 13s 10ms/step - loss: 1.1728 - accuracy: 0.5839 - val_loss: 1.4245 - val_accuracy: 0.5122 - lr: 6.0000e-04\n",
      "Epoch 50/100\n",
      "1407/1407 [==============================] - 13s 10ms/step - loss: 1.1675 - accuracy: 0.5860 - val_loss: 2.0156 - val_accuracy: 0.5160 - lr: 6.0000e-04\n",
      "Epoch 51/100\n",
      "1407/1407 [==============================] - 13s 10ms/step - loss: 1.1677 - accuracy: 0.5863 - val_loss: 2.2748 - val_accuracy: 0.5160 - lr: 6.0000e-04\n",
      "Epoch 52/100\n",
      "1407/1407 [==============================] - 13s 10ms/step - loss: 1.1559 - accuracy: 0.5896 - val_loss: 1.3756 - val_accuracy: 0.5172 - lr: 6.0000e-04\n",
      "Epoch 53/100\n",
      "1407/1407 [==============================] - 13s 9ms/step - loss: 1.1548 - accuracy: 0.5886 - val_loss: 1.3938 - val_accuracy: 0.5188 - lr: 6.0000e-04\n",
      "Epoch 54/100\n",
      "1407/1407 [==============================] - 13s 10ms/step - loss: 1.1569 - accuracy: 0.5909 - val_loss: 1.4746 - val_accuracy: 0.5154 - lr: 6.0000e-04\n",
      "Epoch 55/100\n",
      "1407/1407 [==============================] - 13s 10ms/step - loss: 1.1427 - accuracy: 0.5975 - val_loss: 1.6122 - val_accuracy: 0.5124 - lr: 6.0000e-04\n",
      "Epoch 56/100\n",
      "1407/1407 [==============================] - 13s 9ms/step - loss: 1.1347 - accuracy: 0.5978 - val_loss: 1.3761 - val_accuracy: 0.5242 - lr: 6.0000e-04\n",
      "Epoch 57/100\n",
      "1407/1407 [==============================] - 13s 10ms/step - loss: 1.1446 - accuracy: 0.5967 - val_loss: 1.3845 - val_accuracy: 0.5132 - lr: 6.0000e-04\n"
     ]
    }
   ],
   "source": [
    "reset_backend()\n",
    "\n",
    "# create model\n",
    "model = Sequential()\n",
    "model.add(Flatten(input_shape=[32, 32, 3]))\n",
    "model.add(BatchNormalization())\n",
    "for _ in range(20):\n",
    "    model.add(Dense(100, activation=\"elu\", \n",
    "                    kernel_initializer=\"he_normal\"))\n",
    "    model.add(BatchNormalization())\n",
    "model.add(Dense(10, activation=\"softmax\"))\n",
    "\n",
    "# compile\n",
    "model.compile(loss=\"sparse_categorical_crossentropy\",\n",
    "              optimizer=Nadam(learning_rate=1e-5),\n",
    "              metrics=[\"accuracy\"])\n",
    "\n",
    "# train\n",
    "history = model.fit(X_train, y_train, epochs=100,\n",
    "                    validation_data=(X_val, y_val),\n",
    "                    callbacks=callbacks)"
   ]
  },
  {
   "cell_type": "markdown",
   "id": "de58d2f1-685c-4460-b564-ee3ec7549fc8",
   "metadata": {},
   "source": [
    "## Evaluate"
   ]
  },
  {
   "cell_type": "code",
   "execution_count": 106,
   "id": "3b0739db-c214-4d07-b05a-120c778282bb",
   "metadata": {},
   "outputs": [
    {
     "name": "stdout",
     "output_type": "stream",
     "text": [
      "313/313 [==============================] - 1s 3ms/step - loss: 1.3842 - accuracy: 0.5139\n"
     ]
    },
    {
     "data": {
      "text/plain": [
       "[1.3842437267303467, 0.5138999819755554]"
      ]
     },
     "execution_count": 106,
     "metadata": {},
     "output_type": "execute_result"
    }
   ],
   "source": [
    "model.evaluate(X_test, y_test)"
   ]
  },
  {
   "cell_type": "markdown",
   "id": "8c1d1bfa-8829-419d-82ca-dc3ca7c264da",
   "metadata": {},
   "source": [
    "The training was slower than the first model, but the accuracy is better at at around `51.4%`."
   ]
  },
  {
   "cell_type": "markdown",
   "id": "4d70cec9-5faf-44fe-8b2e-0681b940cfed",
   "metadata": {},
   "source": [
    "# SELU"
   ]
  },
  {
   "cell_type": "markdown",
   "id": "0f45f7eb-f2bf-4b01-91ee-d9c52484b0d6",
   "metadata": {},
   "source": [
    "To use selu and successfully self-normalize we need to:\n",
    "- Standardize inputs\n",
    "- All hidden layer weights must be initialized with LeCun normal init\n",
    "    - `\"lecun_normal\""
   ]
  },
  {
   "cell_type": "markdown",
   "id": "5bebf9f3-4fa2-4ac6-9808-3509fe1df9a8",
   "metadata": {},
   "source": [
    "## Standardize Inputs"
   ]
  },
  {
   "cell_type": "code",
   "execution_count": 108,
   "id": "12e79847-db5d-43f2-8c1a-25c87b19f13b",
   "metadata": {},
   "outputs": [
    {
     "data": {
      "text/plain": [
       "(45000, 32, 32, 3)"
      ]
     },
     "execution_count": 108,
     "metadata": {},
     "output_type": "execute_result"
    }
   ],
   "source": [
    "X_means = X_train.mean(axis=0)\n",
    "X_stds = X_train.std(axis=0)\n",
    "X_train_scaled = (X_train - X_means) / X_stds\n",
    "X_val_scaled = (X_val - X_means) / X_stds\n",
    "X_test_scaled = (X_test - X_means) / X_stds\n",
    "\n",
    "X_train_scaled.shape"
   ]
  },
  {
   "cell_type": "markdown",
   "id": "38de021f-ac47-4229-b322-1d8719412226",
   "metadata": {},
   "source": [
    "## Model"
   ]
  },
  {
   "cell_type": "code",
   "execution_count": 109,
   "id": "d955d88f-8438-4796-9995-c3bda1e9bacb",
   "metadata": {},
   "outputs": [],
   "source": [
    "reset_backend()\n",
    "\n",
    "# create model\n",
    "model = Sequential()\n",
    "model.add(Flatten(input_shape=[32, 32, 3]))\n",
    "for _ in range(20):\n",
    "    model.add(Dense(100, activation=\"selu\", \n",
    "                    kernel_initializer=\"lecun_normal\"))\n",
    "model.add(Dense(10, activation=\"softmax\"))\n",
    "\n",
    "# compile\n",
    "model.compile(loss=\"sparse_categorical_crossentropy\",\n",
    "              optimizer=Nadam(learning_rate=1e-5),\n",
    "              metrics=[\"accuracy\"])"
   ]
  },
  {
   "cell_type": "markdown",
   "id": "bfa2ac05-fe63-4278-9459-be173b8354d9",
   "metadata": {},
   "source": [
    "## Optimal LR"
   ]
  },
  {
   "cell_type": "code",
   "execution_count": 110,
   "id": "31e1a019-0eb4-4a90-9408-f1e3d0ba7539",
   "metadata": {},
   "outputs": [
    {
     "name": "stdout",
     "output_type": "stream",
     "text": [
      "Epoch 1/5\n",
      "1407/1407 [==============================] - 11s 6ms/step - loss: 3.1626 - accuracy: 0.0956\n",
      "Epoch 2/5\n",
      "1407/1407 [==============================] - 9s 6ms/step - loss: 3.0042 - accuracy: 0.1109\n",
      "Epoch 3/5\n",
      "1407/1407 [==============================] - 9s 6ms/step - loss: 2.0732 - accuracy: 0.2724\n",
      "Epoch 4/5\n",
      "1407/1407 [==============================] - 9s 6ms/step - loss: 1703304960.0000 - accuracy: 0.1998\n",
      "Epoch 5/5\n",
      "1407/1407 [==============================] - 9s 6ms/step - loss: 14.6970 - accuracy: 0.0974\n"
     ]
    }
   ],
   "source": [
    "rates, losses = find_learning_rate(model, X_train_scaled, y_train,\n",
    "                                   epochs=5, min_rate=1e-10, max_rate=10)"
   ]
  },
  {
   "cell_type": "code",
   "execution_count": 111,
   "id": "a0638be0-4230-44e9-a0a6-c407c3afb130",
   "metadata": {},
   "outputs": [
    {
     "data": {
      "image/png": "[encoded data removed]",
      "text/plain": [
       "<Figure size 1440x360 with 1 Axes>"
      ]
     },
     "metadata": {
      "needs_background": "light"
     },
     "output_type": "display_data"
    }
   ],
   "source": [
    "plt.figure(figsize=(20,5))\n",
    "plot_lr_vs_loss(rates, losses, max_loss=4)"
   ]
  },
  {
   "cell_type": "markdown",
   "id": "36f9d439-334c-43d1-a8c1-917642e6a4a8",
   "metadata": {},
   "source": [
    "A safe lr should be approximately `3e-5`, and I also want to try using performance scheduling and reduce the learning rate by half for every 5 epochs that it doesn't improve validation error."
   ]
  },
  {
   "cell_type": "code",
   "execution_count": 112,
   "id": "6de70a5b-4308-474e-84f6-10bda635c83e",
   "metadata": {},
   "outputs": [],
   "source": [
    "lr_scheduler_cb = keras.callbacks.ReduceLROnPlateau(factor=0.5, patience=5)"
   ]
  },
  {
   "cell_type": "markdown",
   "id": "be179918-2f24-429d-a403-449fdb40b2bc",
   "metadata": {},
   "source": [
    "## Train Model"
   ]
  },
  {
   "cell_type": "markdown",
   "id": "b8b62661-e298-42fb-87d4-00981af9d247",
   "metadata": {},
   "source": [
    "**Callbacks**"
   ]
  },
  {
   "cell_type": "code",
   "execution_count": 113,
   "id": "b61a91a1-7e9c-4660-a2a5-3e76b30e93c5",
   "metadata": {},
   "outputs": [
    {
     "name": "stdout",
     "output_type": "stream",
     "text": [
      "TensorBoard directory: ./_tf_logs/my_cifar10/selu_model_run_01\n"
     ]
    }
   ],
   "source": [
    "early_stopping_cb = keras.callbacks.EarlyStopping(patience=20)\n",
    "\n",
    "model_id = \"selu_model\"\n",
    "\n",
    "cp_model_name = os.path.join(MODEL_DIR, model_id + \"_checkpoint.h5\")\n",
    "checkpoint_cb = keras.callbacks.ModelCheckpoint(cp_model_name, save_best_only=True)\n",
    "\n",
    "run_index = 1\n",
    "run_logdir = os.path.join(LOG_DIR, model_id + \"_run_{:02d}\".format(run_index))\n",
    "print(\"TensorBoard directory:\", run_logdir)\n",
    "tensorboard_cb = keras.callbacks.TensorBoard(log_dir=run_logdir)\n",
    "\n",
    "callbacks = [lr_scheduler_cb, early_stopping_cb, checkpoint_cb, tensorboard_cb]"
   ]
  },
  {
   "cell_type": "markdown",
   "id": "8931e7ba-e877-4db2-9c45-fb4da4711ed7",
   "metadata": {},
   "source": [
    "**Train**"
   ]
  },
  {
   "cell_type": "code",
   "execution_count": 114,
   "id": "cfac4b93-3316-44b7-8f9d-b1596289d4e8",
   "metadata": {},
   "outputs": [
    {
     "name": "stdout",
     "output_type": "stream",
     "text": [
      "Epoch 1/100\n",
      "1407/1407 [==============================] - 11s 6ms/step - loss: 1.9370 - accuracy: 0.3139 - val_loss: 1.7480 - val_accuracy: 0.3772 - lr: 3.0000e-05\n",
      "Epoch 2/100\n",
      "1407/1407 [==============================] - 9s 6ms/step - loss: 1.6860 - accuracy: 0.4050 - val_loss: 1.6567 - val_accuracy: 0.4126 - lr: 3.0000e-05\n",
      "Epoch 3/100\n",
      "1407/1407 [==============================] - 9s 6ms/step - loss: 1.5845 - accuracy: 0.4387 - val_loss: 1.6076 - val_accuracy: 0.4332 - lr: 3.0000e-05\n",
      "Epoch 4/100\n",
      "1407/1407 [==============================] - 9s 6ms/step - loss: 1.5134 - accuracy: 0.4642 - val_loss: 1.5643 - val_accuracy: 0.4524 - lr: 3.0000e-05\n",
      "Epoch 5/100\n",
      "1407/1407 [==============================] - 9s 6ms/step - loss: 1.4555 - accuracy: 0.4846 - val_loss: 1.5466 - val_accuracy: 0.4546 - lr: 3.0000e-05\n",
      "Epoch 6/100\n",
      "1407/1407 [==============================] - 9s 6ms/step - loss: 1.4093 - accuracy: 0.5026 - val_loss: 1.5128 - val_accuracy: 0.4668 - lr: 3.0000e-05\n",
      "Epoch 7/100\n",
      "1407/1407 [==============================] - 9s 6ms/step - loss: 1.3671 - accuracy: 0.5180 - val_loss: 1.5029 - val_accuracy: 0.4694 - lr: 3.0000e-05\n",
      "Epoch 8/100\n",
      "1407/1407 [==============================] - 9s 6ms/step - loss: 1.3284 - accuracy: 0.5312 - val_loss: 1.5052 - val_accuracy: 0.4734 - lr: 3.0000e-05\n",
      "Epoch 9/100\n",
      "1407/1407 [==============================] - 9s 7ms/step - loss: 1.2946 - accuracy: 0.5442 - val_loss: 1.4998 - val_accuracy: 0.4764 - lr: 3.0000e-05\n",
      "Epoch 10/100\n",
      "1407/1407 [==============================] - 9s 7ms/step - loss: 1.2606 - accuracy: 0.5562 - val_loss: 1.5024 - val_accuracy: 0.4846 - lr: 3.0000e-05\n",
      "Epoch 11/100\n",
      "1407/1407 [==============================] - 9s 6ms/step - loss: 1.2293 - accuracy: 0.5669 - val_loss: 1.5023 - val_accuracy: 0.4798 - lr: 3.0000e-05\n",
      "Epoch 12/100\n",
      "1407/1407 [==============================] - 9s 6ms/step - loss: 1.1995 - accuracy: 0.5781 - val_loss: 1.5016 - val_accuracy: 0.4864 - lr: 3.0000e-05\n",
      "Epoch 13/100\n",
      "1407/1407 [==============================] - 9s 6ms/step - loss: 1.1722 - accuracy: 0.5870 - val_loss: 1.4950 - val_accuracy: 0.4820 - lr: 3.0000e-05\n",
      "Epoch 14/100\n",
      "1407/1407 [==============================] - 9s 6ms/step - loss: 1.1429 - accuracy: 0.5980 - val_loss: 1.5155 - val_accuracy: 0.4888 - lr: 3.0000e-05\n",
      "Epoch 15/100\n",
      "1407/1407 [==============================] - 9s 6ms/step - loss: 1.1169 - accuracy: 0.6084 - val_loss: 1.5359 - val_accuracy: 0.4860 - lr: 3.0000e-05\n",
      "Epoch 16/100\n",
      "1407/1407 [==============================] - 9s 6ms/step - loss: 1.0907 - accuracy: 0.6169 - val_loss: 1.5284 - val_accuracy: 0.4790 - lr: 3.0000e-05\n",
      "Epoch 17/100\n",
      "1407/1407 [==============================] - 9s 6ms/step - loss: 1.0675 - accuracy: 0.6272 - val_loss: 1.5302 - val_accuracy: 0.4842 - lr: 3.0000e-05\n",
      "Epoch 18/100\n",
      "1407/1407 [==============================] - 9s 7ms/step - loss: 1.0411 - accuracy: 0.6355 - val_loss: 1.5454 - val_accuracy: 0.4884 - lr: 3.0000e-05\n",
      "Epoch 19/100\n",
      "1407/1407 [==============================] - 9s 6ms/step - loss: 0.9681 - accuracy: 0.6654 - val_loss: 1.5368 - val_accuracy: 0.4910 - lr: 1.5000e-05\n",
      "Epoch 20/100\n",
      "1407/1407 [==============================] - 9s 6ms/step - loss: 0.9464 - accuracy: 0.6726 - val_loss: 1.5517 - val_accuracy: 0.4908 - lr: 1.5000e-05\n",
      "Epoch 21/100\n",
      "1407/1407 [==============================] - 9s 6ms/step - loss: 0.9300 - accuracy: 0.6802 - val_loss: 1.5880 - val_accuracy: 0.4874 - lr: 1.5000e-05\n",
      "Epoch 22/100\n",
      "1407/1407 [==============================] - 9s 6ms/step - loss: 0.9147 - accuracy: 0.6845 - val_loss: 1.5941 - val_accuracy: 0.4858 - lr: 1.5000e-05\n",
      "Epoch 23/100\n",
      "1407/1407 [==============================] - 9s 6ms/step - loss: 0.8976 - accuracy: 0.6905 - val_loss: 1.5901 - val_accuracy: 0.4888 - lr: 1.5000e-05\n",
      "Epoch 24/100\n",
      "1407/1407 [==============================] - 9s 6ms/step - loss: 0.8560 - accuracy: 0.7114 - val_loss: 1.6005 - val_accuracy: 0.4888 - lr: 7.5000e-06\n",
      "Epoch 25/100\n",
      "1407/1407 [==============================] - 9s 6ms/step - loss: 0.8451 - accuracy: 0.7149 - val_loss: 1.6120 - val_accuracy: 0.4890 - lr: 7.5000e-06\n",
      "Epoch 26/100\n",
      "1407/1407 [==============================] - 9s 6ms/step - loss: 0.8356 - accuracy: 0.7169 - val_loss: 1.6183 - val_accuracy: 0.4886 - lr: 7.5000e-06\n",
      "Epoch 27/100\n",
      "1407/1407 [==============================] - 9s 7ms/step - loss: 0.8264 - accuracy: 0.7221 - val_loss: 1.6347 - val_accuracy: 0.4926 - lr: 7.5000e-06\n",
      "Epoch 28/100\n",
      "1407/1407 [==============================] - 9s 6ms/step - loss: 0.8181 - accuracy: 0.7243 - val_loss: 1.6419 - val_accuracy: 0.4848 - lr: 7.5000e-06\n",
      "Epoch 29/100\n",
      "1407/1407 [==============================] - 9s 7ms/step - loss: 0.7945 - accuracy: 0.7363 - val_loss: 1.6444 - val_accuracy: 0.4860 - lr: 3.7500e-06\n",
      "Epoch 30/100\n",
      "1407/1407 [==============================] - 10s 7ms/step - loss: 0.7888 - accuracy: 0.7367 - val_loss: 1.6494 - val_accuracy: 0.4914 - lr: 3.7500e-06\n",
      "Epoch 31/100\n",
      "1407/1407 [==============================] - 9s 6ms/step - loss: 0.7842 - accuracy: 0.7391 - val_loss: 1.6575 - val_accuracy: 0.4902 - lr: 3.7500e-06\n",
      "Epoch 32/100\n",
      "1407/1407 [==============================] - 9s 6ms/step - loss: 0.7794 - accuracy: 0.7403 - val_loss: 1.6616 - val_accuracy: 0.4894 - lr: 3.7500e-06\n",
      "Epoch 33/100\n",
      "1407/1407 [==============================] - 9s 6ms/step - loss: 0.7746 - accuracy: 0.7433 - val_loss: 1.6727 - val_accuracy: 0.4902 - lr: 3.7500e-06\n"
     ]
    }
   ],
   "source": [
    "reset_backend()\n",
    "\n",
    "# create model\n",
    "model = Sequential()\n",
    "model.add(Flatten(input_shape=[32, 32, 3]))\n",
    "for _ in range(20):\n",
    "    model.add(Dense(100, activation=\"selu\", \n",
    "                    kernel_initializer=\"lecun_normal\"))\n",
    "model.add(Dense(10, activation=\"softmax\"))\n",
    "\n",
    "# compile\n",
    "model.compile(loss=\"sparse_categorical_crossentropy\",\n",
    "              optimizer=Nadam(learning_rate=3e-5),\n",
    "              metrics=[\"accuracy\"])\n",
    "\n",
    "# train\n",
    "history = model.fit(X_train_scaled, y_train, epochs=100,\n",
    "                    validation_data=(X_val_scaled, y_val),\n",
    "                    callbacks=callbacks)"
   ]
  },
  {
   "cell_type": "markdown",
   "id": "ac1c7551-052f-4141-b172-50a36fde1a26",
   "metadata": {},
   "source": [
    "Clearly overfitted the training set, but good thing we have early stopping and model checkpoints."
   ]
  },
  {
   "cell_type": "markdown",
   "id": "8e873a08-eb4b-4f85-b584-b4c7edbffb93",
   "metadata": {},
   "source": [
    "## Evaluate"
   ]
  },
  {
   "cell_type": "code",
   "execution_count": 115,
   "id": "136fb145-4464-4a01-9030-26768d2aa28d",
   "metadata": {},
   "outputs": [
    {
     "name": "stdout",
     "output_type": "stream",
     "text": [
      "313/313 [==============================] - 1s 2ms/step - loss: 1.5128 - accuracy: 0.4749\n"
     ]
    },
    {
     "data": {
      "text/plain": [
       "[1.5128167867660522, 0.4749000072479248]"
      ]
     },
     "execution_count": 115,
     "metadata": {},
     "output_type": "execute_result"
    }
   ],
   "source": [
    "model = keras.models.load_model(cp_model_name)\n",
    "model.evaluate(X_test_scaled, y_test)"
   ]
  },
  {
   "cell_type": "markdown",
   "id": "06fcf630-0356-40a0-8501-da8c6770021d",
   "metadata": {},
   "source": [
    "Faster than batch normalization, but less accurate - at about `47.5%` accuracy."
   ]
  },
  {
   "cell_type": "markdown",
   "id": "a6b7ae30-2308-42fa-b72a-cf711c4cd42c",
   "metadata": {},
   "source": [
    "# Alpha Dropout"
   ]
  },
  {
   "cell_type": "markdown",
   "id": "4c796815-569b-46b5-a206-17df4bdd5020",
   "metadata": {},
   "source": [
    "Let's add alpha dropout to help prevent overfitting:\n",
    "- Add an alpha dropout layer after input and each hidden layer. Docs **[here](https://www.tensorflow.org/api_docs/python/tf/keras/layers/AlphaDropout)**\n",
    "- Find Optimal LR\n",
    "- Train"
   ]
  },
  {
   "cell_type": "markdown",
   "id": "08d5d76e-1766-4870-9011-14e9de4871dc",
   "metadata": {},
   "source": [
    "## Model"
   ]
  },
  {
   "cell_type": "markdown",
   "id": "c9f1b969-04a2-4cd0-8816-5ed09fc63e48",
   "metadata": {},
   "source": [
    "I've tried adding dropout after every hidden layer, but it was too strong and the model was severely underfitting the training set (val and train loss converged to a similar value but a poor value).\n",
    "- Thus, only add dropout after all the hidden layers (increase rate if overfitting, and decrease if underfitting)"
   ]
  },
  {
   "cell_type": "code",
   "execution_count": 182,
   "id": "d5a2572c-e8ea-462f-8bb6-29985d1e9c7d",
   "metadata": {},
   "outputs": [],
   "source": [
    "from tensorflow.keras.layers import AlphaDropout\n",
    "\n",
    "reset_backend()\n",
    "\n",
    "rate = 0.2\n",
    "\n",
    "# create model\n",
    "model = Sequential()\n",
    "model.add(Flatten(input_shape=[32, 32, 3]))\n",
    "for _ in range(20):\n",
    "    model.add(Dense(100, activation=\"selu\", \n",
    "                    kernel_initializer=\"lecun_normal\"))\n",
    "model.add(AlphaDropout(rate=rate, seed=SEED))\n",
    "model.add(Dense(10, activation=\"softmax\"))\n",
    "\n",
    "# compile\n",
    "model.compile(loss=\"sparse_categorical_crossentropy\",\n",
    "              optimizer=Nadam(learning_rate=1e-5),\n",
    "              metrics=[\"accuracy\"])"
   ]
  },
  {
   "cell_type": "markdown",
   "id": "0b38dc9e-7888-42d1-965f-dbc0e2e0ed43",
   "metadata": {},
   "source": [
    "## Optimal LR"
   ]
  },
  {
   "cell_type": "code",
   "execution_count": 183,
   "id": "9ba3ac6f-3d71-41b9-86fc-d3cd0e1417c4",
   "metadata": {},
   "outputs": [
    {
     "name": "stdout",
     "output_type": "stream",
     "text": [
      "Epoch 1/5\n",
      "1407/1407 [==============================] - 12s 7ms/step - loss: 3.1016 - accuracy: 0.0981\n",
      "Epoch 2/5\n",
      "1407/1407 [==============================] - 10s 7ms/step - loss: 3.0176 - accuracy: 0.1042\n",
      "Epoch 3/5\n",
      "1407/1407 [==============================] - 10s 7ms/step - loss: 2.3049 - accuracy: 0.2229\n",
      "Epoch 4/5\n",
      "1407/1407 [==============================] - 10s 7ms/step - loss: 12269331.0000 - accuracy: 0.2052\n",
      "Epoch 5/5\n",
      "1407/1407 [==============================] - 9s 7ms/step - loss: 64.7869 - accuracy: 0.0986\n"
     ]
    }
   ],
   "source": [
    "rates, losses = find_learning_rate(model, X_train_scaled, y_train,\n",
    "                                   epochs=5, min_rate=1e-10, max_rate=10)"
   ]
  },
  {
   "cell_type": "code",
   "execution_count": 185,
   "id": "f9f10a6f-51b3-4259-a5fb-0d77fce2de76",
   "metadata": {},
   "outputs": [
    {
     "data": {
      "image/png": "[encoded data removed]",
      "text/plain": [
       "<Figure size 1440x360 with 1 Axes>"
      ]
     },
     "metadata": {
      "needs_background": "light"
     },
     "output_type": "display_data"
    }
   ],
   "source": [
    "plt.figure(figsize=(20,5))\n",
    "plot_lr_vs_loss(rates, losses, max_loss=3.3)"
   ]
  },
  {
   "cell_type": "markdown",
   "id": "45896543-1fe4-4de4-a2a3-6ca1b23e1aed",
   "metadata": {},
   "source": [
    "Similar to without dropout, a decent lr value should be `5e-5`"
   ]
  },
  {
   "cell_type": "code",
   "execution_count": 186,
   "id": "35d94772-825e-47d8-8ea9-a12669ef0ae3",
   "metadata": {},
   "outputs": [],
   "source": [
    "lr_scheduler_cb = keras.callbacks.ReduceLROnPlateau(factor=0.3, patience=5)"
   ]
  },
  {
   "cell_type": "markdown",
   "id": "9ab99cc9-ba74-41b7-806f-bb165c631821",
   "metadata": {},
   "source": [
    "## Train Model"
   ]
  },
  {
   "cell_type": "markdown",
   "id": "0e5bb433-6cfa-4092-a042-0db7e30ae20d",
   "metadata": {},
   "source": [
    "**Callbacks**"
   ]
  },
  {
   "cell_type": "code",
   "execution_count": 187,
   "id": "330979f2-c6c3-4b0a-a200-6b2b2e95ec45",
   "metadata": {},
   "outputs": [
    {
     "name": "stdout",
     "output_type": "stream",
     "text": [
      "TensorBoard directory: ./_tf_logs/my_cifar10/alpha_dropout_model_run_09\n"
     ]
    }
   ],
   "source": [
    "early_stopping_cb = keras.callbacks.EarlyStopping(patience=20)\n",
    "\n",
    "model_id = \"alpha_dropout_model\"\n",
    "\n",
    "cp_model_name = os.path.join(MODEL_DIR, model_id + \"_checkpoint.h5\")\n",
    "checkpoint_cb = keras.callbacks.ModelCheckpoint(cp_model_name, save_best_only=True)\n",
    "\n",
    "run_index = 9\n",
    "run_logdir = os.path.join(LOG_DIR, model_id + \"_run_{:02d}\".format(run_index))\n",
    "print(\"TensorBoard directory:\", run_logdir)\n",
    "tensorboard_cb = keras.callbacks.TensorBoard(log_dir=run_logdir)\n",
    "\n",
    "callbacks = [lr_scheduler_cb, early_stopping_cb, checkpoint_cb, tensorboard_cb]"
   ]
  },
  {
   "cell_type": "markdown",
   "id": "2598a5a1-1449-4653-a060-0e1a6c174e1e",
   "metadata": {},
   "source": [
    "**Train**"
   ]
  },
  {
   "cell_type": "code",
   "execution_count": 188,
   "id": "2ba249e4-de88-4e0e-990a-0d010912a10a",
   "metadata": {},
   "outputs": [
    {
     "name": "stdout",
     "output_type": "stream",
     "text": [
      "Epoch 1/100\n",
      "1407/1407 [==============================] - 12s 6ms/step - loss: 2.0836 - accuracy: 0.2785 - val_loss: 1.7456 - val_accuracy: 0.3846 - lr: 5.0000e-05\n",
      "Epoch 2/100\n",
      "1407/1407 [==============================] - 9s 6ms/step - loss: 1.7508 - accuracy: 0.3780 - val_loss: 1.6637 - val_accuracy: 0.4240 - lr: 5.0000e-05\n",
      "Epoch 3/100\n",
      "1407/1407 [==============================] - 9s 6ms/step - loss: 1.6149 - accuracy: 0.4269 - val_loss: 1.6180 - val_accuracy: 0.4434 - lr: 5.0000e-05\n",
      "Epoch 4/100\n",
      "1407/1407 [==============================] - 9s 6ms/step - loss: 1.5261 - accuracy: 0.4582 - val_loss: 1.6345 - val_accuracy: 0.4468 - lr: 5.0000e-05\n",
      "Epoch 5/100\n",
      "1407/1407 [==============================] - 9s 7ms/step - loss: 1.4618 - accuracy: 0.4817 - val_loss: 1.5989 - val_accuracy: 0.4668 - lr: 5.0000e-05\n",
      "Epoch 6/100\n",
      "1407/1407 [==============================] - 9s 7ms/step - loss: 1.4053 - accuracy: 0.5005 - val_loss: 1.5782 - val_accuracy: 0.4762 - lr: 5.0000e-05\n",
      "Epoch 7/100\n",
      "1407/1407 [==============================] - 9s 7ms/step - loss: 1.3593 - accuracy: 0.5180 - val_loss: 1.5810 - val_accuracy: 0.4802 - lr: 5.0000e-05\n",
      "Epoch 8/100\n",
      "1407/1407 [==============================] - 9s 6ms/step - loss: 1.3126 - accuracy: 0.5349 - val_loss: 1.5692 - val_accuracy: 0.4812 - lr: 5.0000e-05\n",
      "Epoch 9/100\n",
      "1407/1407 [==============================] - 9s 6ms/step - loss: 1.2771 - accuracy: 0.5454 - val_loss: 1.5876 - val_accuracy: 0.4844 - lr: 5.0000e-05\n",
      "Epoch 10/100\n",
      "1407/1407 [==============================] - 9s 6ms/step - loss: 1.2376 - accuracy: 0.5594 - val_loss: 1.6152 - val_accuracy: 0.4878 - lr: 5.0000e-05\n",
      "Epoch 11/100\n",
      "1407/1407 [==============================] - 9s 6ms/step - loss: 1.2029 - accuracy: 0.5726 - val_loss: 1.6352 - val_accuracy: 0.4904 - lr: 5.0000e-05\n",
      "Epoch 12/100\n",
      "1407/1407 [==============================] - 9s 6ms/step - loss: 1.1722 - accuracy: 0.5827 - val_loss: 1.6333 - val_accuracy: 0.4860 - lr: 5.0000e-05\n",
      "Epoch 13/100\n",
      "1407/1407 [==============================] - 9s 6ms/step - loss: 1.1436 - accuracy: 0.5916 - val_loss: 1.6430 - val_accuracy: 0.4930 - lr: 5.0000e-05\n",
      "Epoch 14/100\n",
      "1407/1407 [==============================] - 9s 6ms/step - loss: 1.0409 - accuracy: 0.6310 - val_loss: 1.7199 - val_accuracy: 0.4992 - lr: 1.5000e-05\n",
      "Epoch 15/100\n",
      "1407/1407 [==============================] - 9s 6ms/step - loss: 1.0151 - accuracy: 0.6395 - val_loss: 1.7501 - val_accuracy: 0.5008 - lr: 1.5000e-05\n",
      "Epoch 16/100\n",
      "1407/1407 [==============================] - 9s 6ms/step - loss: 0.9974 - accuracy: 0.6454 - val_loss: 1.7602 - val_accuracy: 0.4924 - lr: 1.5000e-05\n",
      "Epoch 17/100\n",
      "1407/1407 [==============================] - 9s 6ms/step - loss: 0.9795 - accuracy: 0.6528 - val_loss: 1.8050 - val_accuracy: 0.4936 - lr: 1.5000e-05\n",
      "Epoch 18/100\n",
      "1407/1407 [==============================] - 9s 6ms/step - loss: 0.9637 - accuracy: 0.6561 - val_loss: 1.8147 - val_accuracy: 0.4894 - lr: 1.5000e-05\n",
      "Epoch 19/100\n",
      "1407/1407 [==============================] - 9s 6ms/step - loss: 0.9269 - accuracy: 0.6729 - val_loss: 1.8406 - val_accuracy: 0.4938 - lr: 4.5000e-06\n",
      "Epoch 20/100\n",
      "1407/1407 [==============================] - 9s 6ms/step - loss: 0.9156 - accuracy: 0.6740 - val_loss: 1.8664 - val_accuracy: 0.4954 - lr: 4.5000e-06\n",
      "Epoch 21/100\n",
      "1407/1407 [==============================] - 9s 6ms/step - loss: 0.9090 - accuracy: 0.6787 - val_loss: 1.8657 - val_accuracy: 0.4936 - lr: 4.5000e-06\n",
      "Epoch 22/100\n",
      "1407/1407 [==============================] - 9s 6ms/step - loss: 0.9054 - accuracy: 0.6790 - val_loss: 1.8713 - val_accuracy: 0.4930 - lr: 4.5000e-06\n",
      "Epoch 23/100\n",
      "1407/1407 [==============================] - 9s 6ms/step - loss: 0.8979 - accuracy: 0.6830 - val_loss: 1.8687 - val_accuracy: 0.4944 - lr: 4.5000e-06\n",
      "Epoch 24/100\n",
      "1407/1407 [==============================] - 9s 6ms/step - loss: 0.8862 - accuracy: 0.6864 - val_loss: 1.9005 - val_accuracy: 0.4952 - lr: 1.3500e-06\n",
      "Epoch 25/100\n",
      "1407/1407 [==============================] - 9s 6ms/step - loss: 0.8824 - accuracy: 0.6871 - val_loss: 1.9097 - val_accuracy: 0.4950 - lr: 1.3500e-06\n",
      "Epoch 26/100\n",
      "1407/1407 [==============================] - 9s 6ms/step - loss: 0.8828 - accuracy: 0.6865 - val_loss: 1.9103 - val_accuracy: 0.4938 - lr: 1.3500e-06\n",
      "Epoch 27/100\n",
      "1407/1407 [==============================] - 9s 6ms/step - loss: 0.8780 - accuracy: 0.6880 - val_loss: 1.9210 - val_accuracy: 0.4928 - lr: 1.3500e-06\n",
      "Epoch 28/100\n",
      "1407/1407 [==============================] - 9s 6ms/step - loss: 0.8781 - accuracy: 0.6891 - val_loss: 1.9196 - val_accuracy: 0.4942 - lr: 1.3500e-06\n"
     ]
    }
   ],
   "source": [
    "reset_backend()\n",
    "\n",
    "rate = 0.2\n",
    "\n",
    "# create model\n",
    "model = Sequential()\n",
    "model.add(Flatten(input_shape=[32, 32, 3]))\n",
    "for _ in range(20):\n",
    "    model.add(Dense(100, activation=\"selu\", \n",
    "                    kernel_initializer=\"lecun_normal\"))\n",
    "model.add(AlphaDropout(rate=rate, seed=SEED))\n",
    "model.add(Dense(10, activation=\"softmax\"))\n",
    "\n",
    "# compile\n",
    "model.compile(loss=\"sparse_categorical_crossentropy\",\n",
    "              optimizer=Nadam(learning_rate=5e-5),\n",
    "              metrics=[\"accuracy\"])\n",
    "\n",
    "# train\n",
    "history = model.fit(X_train_scaled, y_train, epochs=100,\n",
    "                    validation_data=(X_val_scaled, y_val),\n",
    "                    callbacks=callbacks)"
   ]
  },
  {
   "cell_type": "markdown",
   "id": "5bb6b38f-6180-4f13-b377-3470923e8aea",
   "metadata": {},
   "source": [
    "## Evaluate"
   ]
  },
  {
   "cell_type": "code",
   "execution_count": 189,
   "id": "f33f5cb2-fa3a-4fcf-9559-ce5522537b04",
   "metadata": {},
   "outputs": [
    {
     "name": "stdout",
     "output_type": "stream",
     "text": [
      "313/313 [==============================] - 1s 2ms/step - loss: 1.9547 - accuracy: 0.4953\n"
     ]
    },
    {
     "data": {
      "text/plain": [
       "[1.9546632766723633, 0.4952999949455261]"
      ]
     },
     "execution_count": 189,
     "metadata": {},
     "output_type": "execute_result"
    }
   ],
   "source": [
    "model.evaluate(X_test_scaled, y_test)"
   ]
  },
  {
   "cell_type": "markdown",
   "id": "0269a874-3092-44d1-ba37-0d81da9e1beb",
   "metadata": {},
   "source": [
    "`49.5%` accuracy! Quite good, although still slightly worse than batch normalization"
   ]
  },
  {
   "cell_type": "markdown",
   "id": "fb1617cf-f940-4549-b01c-df19d26dc240",
   "metadata": {},
   "source": [
    "# MC Dropout"
   ]
  },
  {
   "cell_type": "markdown",
   "id": "8dd074bc-be90-41d0-b62a-e0b3a91ebb5d",
   "metadata": {},
   "source": [
    "Without re-training, let's add MC dropout to the previous model."
   ]
  },
  {
   "cell_type": "code",
   "execution_count": 190,
   "id": "806041ac-4055-4be0-b5ce-29af77c2f6c9",
   "metadata": {},
   "outputs": [],
   "source": [
    "# create a (100, 10000, 10) (num probas, num instances per prediction, num outputs per instance)\n",
    "y_probas = np.stack([model(X_test_scaled, training=True)\n",
    "                     for _ in range(100)])\n",
    "\n",
    "y_proba = y_probas.mean(axis=0)"
   ]
  },
  {
   "cell_type": "code",
   "execution_count": 191,
   "id": "b07cc053-ccd3-4cb6-977e-dcc24edaab0e",
   "metadata": {},
   "outputs": [
    {
     "data": {
      "text/plain": [
       "(10000, 10)"
      ]
     },
     "execution_count": 191,
     "metadata": {},
     "output_type": "execute_result"
    }
   ],
   "source": [
    "y_proba.shape"
   ]
  },
  {
   "cell_type": "code",
   "execution_count": 192,
   "id": "d6fed72d-3d17-43fe-a814-8fa9fbcc0b9a",
   "metadata": {},
   "outputs": [
    {
     "data": {
      "text/plain": [
       "array([0.1157431 , 0.02191082, 0.08615692, 0.2787228 , 0.17391424,\n",
       "       0.06940422, 0.08511927, 0.00545316, 0.15711254, 0.00646289],\n",
       "      dtype=float32)"
      ]
     },
     "execution_count": 192,
     "metadata": {},
     "output_type": "execute_result"
    }
   ],
   "source": [
    "y_proba[0]"
   ]
  },
  {
   "cell_type": "code",
   "execution_count": 193,
   "id": "f6dbdae5-693b-479e-b0ad-ca654e9e7476",
   "metadata": {},
   "outputs": [],
   "source": [
    "y_pred = np.argmax(y_proba, axis=1)"
   ]
  },
  {
   "cell_type": "code",
   "execution_count": 194,
   "id": "5e40e3fe-5d24-417f-be44-89861dd96dc6",
   "metadata": {},
   "outputs": [
    {
     "data": {
      "text/plain": [
       "array([0, 1, 2, 3, 4, 5, 6, 7, 8, 9])"
      ]
     },
     "execution_count": 194,
     "metadata": {},
     "output_type": "execute_result"
    }
   ],
   "source": [
    "np.unique(y_pred)"
   ]
  },
  {
   "cell_type": "code",
   "execution_count": 195,
   "id": "4ee43235-1bbb-4816-87a3-eb4ed9616ac2",
   "metadata": {},
   "outputs": [
    {
     "data": {
      "text/plain": [
       "0.4947"
      ]
     },
     "execution_count": 195,
     "metadata": {},
     "output_type": "execute_result"
    }
   ],
   "source": [
    "np.sum(y_pred == y_test) / len(y_test)"
   ]
  },
  {
   "cell_type": "markdown",
   "id": "bdd7efbd-db38-44bc-9ad4-60b664e19dd0",
   "metadata": {},
   "source": [
    "Basically not much improvement."
   ]
  },
  {
   "cell_type": "markdown",
   "id": "41ab8e51-2e0d-4c3b-a860-d4d145dc5249",
   "metadata": {},
   "source": [
    "# 1 Cycle Scheduling"
   ]
  },
  {
   "cell_type": "markdown",
   "id": "31abcabe-d35d-4e16-9c5e-2b1fd150f601",
   "metadata": {},
   "source": [
    "Now let's try re-training the above model, but with 1cycle scheduling for the learning rate."
   ]
  },
  {
   "cell_type": "code",
   "execution_count": 241,
   "id": "5b791319-1e47-4077-8edb-7a33a931ba3f",
   "metadata": {},
   "outputs": [],
   "source": [
    "class OneCycleScheduler(keras.callbacks.Callback):\n",
    "    def __init__(self, iterations, max_rate, start_rate=None,\n",
    "                 last_iterations=None, last_rate=None):\n",
    "        self.iterations = iterations\n",
    "        self.max_rate = max_rate\n",
    "        self.start_rate = start_rate or max_rate / 10\n",
    "        self.last_iterations = last_iterations or iterations // 10 + 1\n",
    "        self.half_iteration = (iterations - self.last_iterations) // 2\n",
    "        self.last_rate = last_rate or self.start_rate / 1000\n",
    "        self.iteration = 0\n",
    "    def _interpolate(self, iter1, iter2, rate1, rate2):\n",
    "        return ((rate2 - rate1) * (self.iteration - iter1)\n",
    "                / (iter2 - iter1) + rate1)\n",
    "    def on_batch_begin(self, batch, logs):\n",
    "        if self.iteration < self.half_iteration:\n",
    "            rate = self._interpolate(0, self.half_iteration, self.start_rate, self.max_rate)\n",
    "        elif self.iteration < 2 * self.half_iteration:\n",
    "            rate = self._interpolate(self.half_iteration, 2 * self.half_iteration,\n",
    "                                     self.max_rate, self.start_rate)\n",
    "        else:\n",
    "            rate = self._interpolate(2 * self.half_iteration, self.iterations,\n",
    "                                     self.start_rate, self.last_rate)\n",
    "        self.iteration += 1\n",
    "        K.set_value(self.model.optimizer.learning_rate, rate)"
   ]
  },
  {
   "cell_type": "markdown",
   "id": "28009e67-20ae-4aac-bd5f-758e4a54f71e",
   "metadata": {},
   "source": [
    "## Optimal LR"
   ]
  },
  {
   "cell_type": "code",
   "execution_count": 232,
   "id": "379e1f77-7699-4f8a-8a11-bc2acd6f38f0",
   "metadata": {},
   "outputs": [],
   "source": [
    "reset_backend()\n",
    "\n",
    "rate = 0.2\n",
    "\n",
    "# create model\n",
    "model = Sequential()\n",
    "model.add(Flatten(input_shape=[32, 32, 3]))\n",
    "for _ in range(20):\n",
    "    model.add(Dense(100, activation=\"selu\", \n",
    "                    kernel_initializer=\"lecun_normal\"))\n",
    "model.add(AlphaDropout(rate=rate, seed=SEED))\n",
    "model.add(Dense(10, activation=\"softmax\"))\n",
    "\n",
    "# compile\n",
    "model.compile(loss=\"sparse_categorical_crossentropy\",\n",
    "              optimizer=Nadam(learning_rate=5e-5),\n",
    "              metrics=[\"accuracy\"])"
   ]
  },
  {
   "cell_type": "code",
   "execution_count": 233,
   "id": "058de601-daad-4f1f-bcf9-fe6529a9079d",
   "metadata": {},
   "outputs": [
    {
     "name": "stdout",
     "output_type": "stream",
     "text": [
      "352/352 [==============================] - 9s 10ms/step - loss: 16278.9688 - accuracy: 0.1415\n"
     ]
    }
   ],
   "source": [
    "batch_size = 128\n",
    "rates, losses = find_learning_rate(model, X_train_scaled, y_train, epochs=1, batch_size=batch_size)"
   ]
  },
  {
   "cell_type": "code",
   "execution_count": 234,
   "id": "3a33c8fd-faf4-4a21-a336-073c6695b66c",
   "metadata": {},
   "outputs": [
    {
     "data": {
      "image/png": "[encoded data removed]",
      "text/plain": [
       "<Figure size 1440x360 with 1 Axes>"
      ]
     },
     "metadata": {
      "needs_background": "light"
     },
     "output_type": "display_data"
    }
   ],
   "source": [
    "plt.figure(figsize=(20,5))\n",
    "plot_lr_vs_loss(rates, losses, max_loss=3.2)"
   ]
  },
  {
   "cell_type": "code",
   "execution_count": 242,
   "id": "44ccfb35-6f4f-4820-8467-59699ee9ced8",
   "metadata": {},
   "outputs": [],
   "source": [
    "lr1 = 2e-2"
   ]
  },
  {
   "cell_type": "markdown",
   "id": "fc022a3a-3a0d-4f7c-b575-22dd72bf0ce4",
   "metadata": {},
   "source": [
    "## Train Model"
   ]
  },
  {
   "cell_type": "markdown",
   "id": "e6a14629-9c3d-43d6-bed8-aa92ae2319eb",
   "metadata": {},
   "source": [
    "**Callbacks**"
   ]
  },
  {
   "cell_type": "code",
   "execution_count": 243,
   "id": "7f7d5c65-d9e3-4c9d-a258-e1c0485fc355",
   "metadata": {},
   "outputs": [
    {
     "name": "stdout",
     "output_type": "stream",
     "text": [
      "TensorBoard directory: ./_tf_logs/my_cifar10/a_drop_1cycle_model_run_03\n"
     ]
    }
   ],
   "source": [
    "# One Cycle\n",
    "n_epochs = 15\n",
    "batch_size = 128\n",
    "onecycle_cb = OneCycleScheduler(math.ceil(len(X_train_scaled) / batch_size) * n_epochs, max_rate=lr1)\n",
    "\n",
    "model_id = \"a_drop_1cycle_model\"\n",
    "\n",
    "# Checkpoint\n",
    "cp_model_name = os.path.join(MODEL_DIR, model_id + \"_checkpoint.h5\")\n",
    "checkpoint_cb = keras.callbacks.ModelCheckpoint(cp_model_name, save_best_only=True)\n",
    "\n",
    "# Tensorboard\n",
    "run_index = 3\n",
    "run_logdir = os.path.join(LOG_DIR, model_id + \"_run_{:02d}\".format(run_index))\n",
    "print(\"TensorBoard directory:\", run_logdir)\n",
    "tensorboard_cb = keras.callbacks.TensorBoard(log_dir=run_logdir)\n",
    "\n",
    "callbacks = [onecycle_cb, checkpoint_cb, tensorboard_cb]"
   ]
  },
  {
   "cell_type": "markdown",
   "id": "c730e655-8734-4c06-8496-b54edfda8309",
   "metadata": {},
   "source": [
    "**Train**"
   ]
  },
  {
   "cell_type": "code",
   "execution_count": 244,
   "id": "3d85460b-d0d9-4050-b57f-e104e81c6885",
   "metadata": {},
   "outputs": [
    {
     "name": "stdout",
     "output_type": "stream",
     "text": [
      "Epoch 1/15\n",
      "352/352 [==============================] - 4s 9ms/step - loss: 2.2479 - accuracy: 0.2337 - lr: 0.0033 - val_loss: 1.8344 - val_accuracy: 0.3614 - val_lr: 0.0047\n",
      "Epoch 2/15\n",
      "352/352 [==============================] - 3s 8ms/step - loss: 1.9098 - accuracy: 0.3281 - lr: 0.0060 - val_loss: 1.7390 - val_accuracy: 0.4018 - val_lr: 0.0073\n",
      "Epoch 3/15\n",
      "352/352 [==============================] - 3s 7ms/step - loss: 1.7358 - accuracy: 0.3843 - lr: 0.0087 - val_loss: 1.7348 - val_accuracy: 0.4146 - val_lr: 0.0100\n",
      "Epoch 4/15\n",
      "352/352 [==============================] - 3s 8ms/step - loss: 1.6250 - accuracy: 0.4231 - lr: 0.0113 - val_loss: 1.6418 - val_accuracy: 0.4400 - val_lr: 0.0127\n",
      "Epoch 5/15\n",
      "352/352 [==============================] - 3s 8ms/step - loss: 1.5451 - accuracy: 0.4508 - lr: 0.0140 - val_loss: 1.7703 - val_accuracy: 0.4154 - val_lr: 0.0153\n",
      "Epoch 6/15\n",
      "352/352 [==============================] - 3s 8ms/step - loss: 1.4905 - accuracy: 0.4718 - lr: 0.0167 - val_loss: 1.7154 - val_accuracy: 0.4394 - val_lr: 0.0180\n",
      "Epoch 7/15\n",
      "352/352 [==============================] - 3s 7ms/step - loss: 1.4412 - accuracy: 0.4914 - lr: 0.0192 - val_loss: 1.6054 - val_accuracy: 0.4676 - val_lr: 0.0193\n",
      "Epoch 8/15\n",
      "352/352 [==============================] - 3s 8ms/step - loss: 1.3819 - accuracy: 0.5087 - lr: 0.0180 - val_loss: 1.5860 - val_accuracy: 0.4772 - val_lr: 0.0167\n",
      "Epoch 9/15\n",
      "352/352 [==============================] - 3s 7ms/step - loss: 1.3193 - accuracy: 0.5332 - lr: 0.0153 - val_loss: 1.5629 - val_accuracy: 0.4926 - val_lr: 0.0140\n",
      "Epoch 10/15\n",
      "352/352 [==============================] - 3s 8ms/step - loss: 1.2623 - accuracy: 0.5521 - lr: 0.0127 - val_loss: 1.5710 - val_accuracy: 0.5096 - val_lr: 0.0113\n",
      "Epoch 11/15\n",
      "352/352 [==============================] - 3s 8ms/step - loss: 1.2088 - accuracy: 0.5719 - lr: 0.0100 - val_loss: 1.5761 - val_accuracy: 0.5046 - val_lr: 0.0087\n",
      "Epoch 12/15\n",
      "352/352 [==============================] - 3s 8ms/step - loss: 1.1564 - accuracy: 0.5890 - lr: 0.0073 - val_loss: 1.6150 - val_accuracy: 0.5032 - val_lr: 0.0060\n",
      "Epoch 13/15\n",
      "352/352 [==============================] - 3s 8ms/step - loss: 1.1045 - accuracy: 0.6075 - lr: 0.0047 - val_loss: 1.6323 - val_accuracy: 0.5058 - val_lr: 0.0033\n",
      "Epoch 14/15\n",
      "352/352 [==============================] - 3s 8ms/step - loss: 1.0599 - accuracy: 0.6236 - lr: 0.0022 - val_loss: 1.6574 - val_accuracy: 0.5074 - val_lr: 0.0013\n",
      "Epoch 15/15\n",
      "352/352 [==============================] - 3s 8ms/step - loss: 1.0328 - accuracy: 0.6321 - lr: 6.6737e-04 - val_loss: 1.6640 - val_accuracy: 0.5126 - val_lr: 5.7698e-06\n"
     ]
    }
   ],
   "source": [
    "reset_backend()\n",
    "\n",
    "rate = 0.2\n",
    "\n",
    "# create model\n",
    "model = Sequential()\n",
    "model.add(Flatten(input_shape=[32, 32, 3]))\n",
    "for _ in range(20):\n",
    "    model.add(Dense(100, activation=\"selu\", \n",
    "                    kernel_initializer=\"lecun_normal\"))\n",
    "model.add(AlphaDropout(rate=rate, seed=SEED))\n",
    "model.add(Dense(10, activation=\"softmax\"))\n",
    "\n",
    "# compile\n",
    "def get_lr_metric(optimizer):\n",
    "    def lr(y_true, y_pred):\n",
    "        return optimizer.learning_rate\n",
    "    return lr\n",
    "\n",
    "optimizer = keras.optimizers.SGD(learning_rate=1e-2)\n",
    "lr_metric = get_lr_metric(optimizer)\n",
    "\n",
    "model.compile(loss=\"sparse_categorical_crossentropy\",\n",
    "              optimizer=optimizer,\n",
    "              metrics=[\"accuracy\", lr_metric])\n",
    "\n",
    "# train\n",
    "history = model.fit(X_train_scaled, y_train, \n",
    "                    epochs=n_epochs, batch_size=batch_size,\n",
    "                    validation_data=(X_val_scaled, y_val),\n",
    "                    callbacks=callbacks)"
   ]
  },
  {
   "cell_type": "markdown",
   "id": "cc69e698-59de-4dc0-8ed3-278e2a1ddb9d",
   "metadata": {},
   "source": [
    "## Evaluate"
   ]
  },
  {
   "cell_type": "markdown",
   "id": "d0294bc2-e05e-4355-ac64-06409e8a6873",
   "metadata": {},
   "source": [
    "Clearly overfit the training data, so let's get best model."
   ]
  },
  {
   "cell_type": "code",
   "execution_count": 245,
   "id": "7b0daded-38cb-4480-82d9-7471d2c55064",
   "metadata": {},
   "outputs": [
    {
     "name": "stdout",
     "output_type": "stream",
     "text": [
      "313/313 [==============================] - 1s 2ms/step - loss: 1.6749 - accuracy: 0.5091 - lr: 5.7698e-06\n"
     ]
    },
    {
     "data": {
      "text/plain": [
       "[1.674898624420166, 0.5091000199317932, 5.76980028199614e-06]"
      ]
     },
     "execution_count": 245,
     "metadata": {},
     "output_type": "execute_result"
    }
   ],
   "source": [
    "model.evaluate(X_test_scaled, y_test)"
   ]
  },
  {
   "cell_type": "markdown",
   "id": "16b7157d-5adf-4fc6-9371-b98ed8e7086c",
   "metadata": {},
   "source": [
    "# WHAT I DID WRONG!"
   ]
  },
  {
   "cell_type": "markdown",
   "id": "b3e44cce-a29c-4548-a615-a40e5b2f5ec5",
   "metadata": {},
   "source": [
    "- Bad learning rates (try using bigger batch sizes and 1 epoch)\n",
    "- Too many dropout layers\n",
    "<br>\n",
    "\n",
    "**Basically, I did not apply the right methods to debug when the model underfitted or overfitted.**"
   ]
  },
  {
   "cell_type": "code",
   "execution_count": null,
   "id": "3b606991-2945-4e61-b600-6d3230264192",
   "metadata": {},
   "outputs": [],
   "source": []
  }
 ],
 "metadata": {
  "kernelspec": {
   "display_name": "Python 3 (ipykernel)",
   "language": "python",
   "name": "python3"
  },
  "language_info": {
   "codemirror_mode": {
    "name": "ipython",
    "version": 3
   },
   "file_extension": ".py",
   "mimetype": "text/x-python",
   "name": "python",
   "nbconvert_exporter": "python",
   "pygments_lexer": "ipython3",
   "version": "3.10.4"
  }
 },
 "nbformat": 4,
 "nbformat_minor": 5
}
