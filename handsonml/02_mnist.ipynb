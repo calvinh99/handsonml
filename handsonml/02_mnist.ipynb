{
 "cells": [
  {
   "cell_type": "markdown",
   "id": "64eca972-e955-4001-a606-c95259de4ae6",
   "metadata": {},
   "source": [
    "<div class=\"alert alert-block alert-warning\">\n",
    "Post Revision Notebook - Check out the handsonml git repo for detailed knowledge or just re-read the book!\n",
    "</div>"
   ]
  },
  {
   "cell_type": "markdown",
   "id": "e2cf7dee-ae92-455d-89f8-de8b09db224a",
   "metadata": {},
   "source": [
    "# Setup\n",
    "***"
   ]
  },
  {
   "cell_type": "code",
   "execution_count": 37,
   "id": "adb379e2-159f-4222-bb6c-a6fc1b3519a7",
   "metadata": {},
   "outputs": [],
   "source": [
    "# Python ≥3.5 is required\n",
    "import sys\n",
    "assert sys.version_info >= (3, 5)\n",
    "\n",
    "# Scikit-Learn ≥0.20 is required\n",
    "import sklearn\n",
    "assert sklearn.__version__ >= \"0.20\"\n",
    "\n",
    "# Common imports\n",
    "import numpy as np\n",
    "import os\n",
    "\n",
    "# to make this notebook's output stable across runs\n",
    "np.random.seed(42)\n",
    "\n",
    "# To plot pretty figures\n",
    "%matplotlib inline\n",
    "import matplotlib as mpl\n",
    "import matplotlib.pyplot as plt\n",
    "mpl.rc('axes', labelsize=14)\n",
    "mpl.rc('xtick', labelsize=12)\n",
    "mpl.rc('ytick', labelsize=12)\n",
    "\n",
    "# Where to save the models and scores\n",
    "import joblib\n",
    "PROJECT_ROOT_DIR = \".\"\n",
    "PROJECT_ID = \"mnist\"\n",
    "MODELS_PATH = os.path.join(PROJECT_ROOT_DIR, \"models\", PROJECT_ID)\n",
    "os.makedirs(MODELS_PATH, exist_ok=True)\n",
    "\n",
    "# Save models, cross-val accuracy scores, cross-val predictions, and pipelines\n",
    "def save_model(model, model_id):\n",
    "    path = os.path.join(MODELS_PATH, model_id + \".pkl\")\n",
    "    print(\"Saving model\", model_id)\n",
    "    joblib.dump(model, path)\n",
    "\n",
    "def load_model(model_id):\n",
    "    path = os.path.join(MODELS_PATH, model_id + \".pkl\")\n",
    "    return joblib.load(path)"
   ]
  },
  {
   "cell_type": "markdown",
   "id": "18d8a2cd-02fc-4b0a-9001-88b34a04b335",
   "metadata": {},
   "source": [
    "# Get the MNIST Dataset\n",
    "***"
   ]
  },
  {
   "cell_type": "code",
   "execution_count": 2,
   "id": "8afc7711-2522-49d2-970e-87f9311a9bb8",
   "metadata": {},
   "outputs": [],
   "source": [
    "from sklearn.datasets import fetch_openml\n",
    "import pandas as pd"
   ]
  },
  {
   "cell_type": "code",
   "execution_count": 3,
   "id": "eafca553-405b-4f17-ae6e-9cf86fd52966",
   "metadata": {},
   "outputs": [
    {
     "data": {
      "text/plain": [
       "dict_keys(['data', 'target', 'frame', 'categories', 'feature_names', 'target_names', 'DESCR', 'details', 'url'])"
      ]
     },
     "execution_count": 3,
     "metadata": {},
     "output_type": "execute_result"
    }
   ],
   "source": [
    "mnist = fetch_openml('mnist_784', version=1, as_frame=False)\n",
    "mnist.keys()"
   ]
  },
  {
   "cell_type": "code",
   "execution_count": 359,
   "id": "77e62897-2fb5-48f0-9e7e-0d883e72d607",
   "metadata": {},
   "outputs": [],
   "source": [
    "X, y = mnist[\"data\"], mnist[\"target\"]"
   ]
  },
  {
   "cell_type": "code",
   "execution_count": 360,
   "id": "14fc0e2d-6e68-450e-b4b6-992a4882292c",
   "metadata": {},
   "outputs": [
    {
     "data": {
      "text/plain": [
       "(70000, 784)"
      ]
     },
     "execution_count": 360,
     "metadata": {},
     "output_type": "execute_result"
    }
   ],
   "source": [
    "X.shape"
   ]
  },
  {
   "cell_type": "code",
   "execution_count": 361,
   "id": "b3aa305a-8f48-42b8-8de5-a72f2a620adc",
   "metadata": {},
   "outputs": [
    {
     "data": {
      "text/plain": [
       "1    7877\n",
       "7    7293\n",
       "3    7141\n",
       "2    6990\n",
       "9    6958\n",
       "0    6903\n",
       "6    6876\n",
       "8    6825\n",
       "4    6824\n",
       "5    6313\n",
       "dtype: int64"
      ]
     },
     "execution_count": 361,
     "metadata": {},
     "output_type": "execute_result"
    }
   ],
   "source": [
    "pd.Series(y).value_counts()"
   ]
  },
  {
   "cell_type": "markdown",
   "id": "09dd65c2-9d68-4a19-ad01-e5bdeea8e43d",
   "metadata": {},
   "source": [
    "- fairly evenly distributed"
   ]
  },
  {
   "cell_type": "markdown",
   "id": "48247b06-285b-4325-ba6f-c0e66ad148ac",
   "metadata": {},
   "source": [
    "## Quick Exploration of Data"
   ]
  },
  {
   "cell_type": "code",
   "execution_count": 362,
   "id": "4cd07d3c-9982-45e6-8df3-8cb514271c65",
   "metadata": {},
   "outputs": [],
   "source": [
    "some_digit = X[0]"
   ]
  },
  {
   "cell_type": "code",
   "execution_count": 363,
   "id": "0b324192-f4a3-4202-8908-1735523fa62e",
   "metadata": {},
   "outputs": [
    {
     "data": {
      "text/plain": [
       "(784,)"
      ]
     },
     "execution_count": 363,
     "metadata": {},
     "output_type": "execute_result"
    }
   ],
   "source": [
    "some_digit.shape"
   ]
  },
  {
   "cell_type": "code",
   "execution_count": 364,
   "id": "c613aed8-cce9-4cfe-a135-2366d430fb57",
   "metadata": {},
   "outputs": [
    {
     "data": {
      "image/png": "[encoded data removed]",
      "text/plain": [
       "<Figure size 432x432 with 1 Axes>"
      ]
     },
     "metadata": {
      "needs_background": "light"
     },
     "output_type": "display_data"
    }
   ],
   "source": [
    "def plot_digit(digit, no_grid=False):\n",
    "    digit_image = digit.reshape(28, 28)\n",
    "    \n",
    "    plt.imshow(digit_image, cmap=mpl.cm.binary)\n",
    "    \n",
    "    if no_grid:\n",
    "        ticks = range(0,28)\n",
    "        plt.xticks(ticks); plt.yticks(ticks)\n",
    "\n",
    "        plt.grid(True)\n",
    "    \n",
    "    plt.plot() # jupyter auto plots so this isn't necessary but it also doesn't hurt to add\n",
    "\n",
    "plt.figure(figsize=(6,6))\n",
    "plot_digit(some_digit)\n",
    "plt.show()"
   ]
  },
  {
   "cell_type": "code",
   "execution_count": 366,
   "id": "53116c88-23af-4fc0-8767-9eef1cb5d376",
   "metadata": {},
   "outputs": [],
   "source": [
    "y = y.astype(np.uint8)"
   ]
  },
  {
   "cell_type": "markdown",
   "id": "b3a479b8-cbb6-490c-8c92-65c8cf6f8539",
   "metadata": {},
   "source": [
    "- saves memory rather than saving as int64"
   ]
  },
  {
   "cell_type": "code",
   "execution_count": 367,
   "id": "f4a5e9a8-70ec-47aa-9299-08c32e6a84a5",
   "metadata": {},
   "outputs": [],
   "source": [
    "X = X.astype(np.float64)"
   ]
  },
  {
   "cell_type": "code",
   "execution_count": 368,
   "id": "b6fcefec-e4ce-4053-8b8b-3c0a85023d27",
   "metadata": {},
   "outputs": [],
   "source": [
    "def plot_digits(instances, images_per_row=10, **options):\n",
    "    size = 28\n",
    "    images_per_row = min(len(instances), images_per_row)\n",
    "    # This is equivalent to n_rows = ceil(len(instances) / images_per_row):\n",
    "    n_rows = (len(instances) - 1) // images_per_row + 1\n",
    "\n",
    "    # Append empty images to fill the end of the grid, if needed:\n",
    "    n_empty = n_rows * images_per_row - len(instances)\n",
    "    padded_instances = np.concatenate([instances, np.zeros((n_empty, size * size))], axis=0)\n",
    "\n",
    "    # Reshape the array so it's organized as a grid containing 28×28 images:\n",
    "    image_grid = padded_instances.reshape((n_rows, images_per_row, size, size))\n",
    "\n",
    "    # Combine axes 0 and 2 (vertical image grid axis, and vertical image axis),\n",
    "    # and axes 1 and 3 (horizontal axes). We first need to move the axes that we\n",
    "    # want to combine next to each other, using transpose(), and only then we\n",
    "    # can reshape:\n",
    "    big_image = image_grid.transpose(0, 2, 1, 3).reshape(n_rows * size,\n",
    "                                                         images_per_row * size)\n",
    "    # Now that we have a big image, we just need to show it:\n",
    "    plt.imshow(big_image, cmap = mpl.cm.binary, **options)\n",
    "    plt.axis(\"off\")"
   ]
  },
  {
   "cell_type": "markdown",
   "id": "8e74ec21-6bcb-4b1e-b03f-4b912a873172",
   "metadata": {},
   "source": [
    "## Creating Train and Test Sets"
   ]
  },
  {
   "cell_type": "code",
   "execution_count": 369,
   "id": "4d1f6b30-0ac9-450e-b768-1ae0b374d79e",
   "metadata": {},
   "outputs": [],
   "source": [
    "X_train, X_test = X[:60000, :], X[60000:, :]\n",
    "y_train, y_test = y[:60000], y[60000:]"
   ]
  },
  {
   "cell_type": "markdown",
   "id": "27ecbd31-e21b-444a-9a4b-5d8dfee35d51",
   "metadata": {},
   "source": [
    "# Prepare the Data\n",
    "***"
   ]
  },
  {
   "cell_type": "code",
   "execution_count": 14,
   "id": "6aaca749-6150-4e5a-8f83-8670a31b5b9e",
   "metadata": {},
   "outputs": [],
   "source": [
    "from sklearn.preprocessing import StandardScaler\n",
    "from sklearn.pipeline import Pipeline\n",
    "from sklearn.base import BaseEstimator\n",
    "from sklearn.base import TransformerMixin"
   ]
  },
  {
   "cell_type": "code",
   "execution_count": 15,
   "id": "a847e4df-a9c5-432a-9d57-f0f76150f3be",
   "metadata": {},
   "outputs": [],
   "source": [
    "preparation_pipeline = Pipeline([\n",
    "    ('scaler', StandardScaler()),\n",
    "])"
   ]
  },
  {
   "cell_type": "code",
   "execution_count": 16,
   "id": "5ec2dd36-53b1-43ab-af08-197c7d7bdc3d",
   "metadata": {},
   "outputs": [],
   "source": [
    "X_train_prepared = preparation_pipeline.fit_transform(X_train)"
   ]
  },
  {
   "cell_type": "markdown",
   "id": "cdd65c05-b103-4618-a208-fe0ae2eaa34f",
   "metadata": {},
   "source": [
    "# Model Selection\n",
    "***"
   ]
  },
  {
   "cell_type": "code",
   "execution_count": 17,
   "id": "72b0256b-79de-4f4a-978e-5ee076eef49e",
   "metadata": {},
   "outputs": [],
   "source": [
    "# models to test\n",
    "from sklearn.linear_model import SGDClassifier\n",
    "from sklearn.svm import SVC\n",
    "from sklearn.ensemble import RandomForestClassifier\n",
    "from sklearn.neighbors import KNeighborsClassifier\n",
    "\n",
    "# evaluation\n",
    "from sklearn.model_selection import cross_val_predict\n",
    "from sklearn.model_selection import cross_val_score"
   ]
  },
  {
   "cell_type": "markdown",
   "id": "c79fa80f-7794-4ab1-b048-8a56fa79d6bd",
   "metadata": {},
   "source": [
    "Let's make a function that automates fitting all the models, saving them, calculating their cross-val predictions, saving those, and then returning the model with the highest accuracy."
   ]
  },
  {
   "cell_type": "markdown",
   "id": "a993b0bd-ef21-489e-ac88-ed85959a812e",
   "metadata": {},
   "source": [
    "<div class=\"alert alert-block alert-warning\">\n",
    "Models already saved.\n",
    "</div>"
   ]
  },
  {
   "cell_type": "code",
   "execution_count": 19,
   "id": "1f462897-8cea-4b9c-9681-c1abdd544c9e",
   "metadata": {},
   "outputs": [],
   "source": [
    "model_ids = [\n",
    "    \"sgd_clf\",\n",
    "    \"svm_clf\",\n",
    "    \"forest_clf\",\n",
    "    \"knn_clf\",\n",
    "]"
   ]
  },
  {
   "cell_type": "code",
   "execution_count": 38,
   "id": "7b68e20a-ff42-4e17-8f6f-3b532e212ca0",
   "metadata": {},
   "outputs": [],
   "source": [
    "def load_model_data(model_ids):\n",
    "    model_data = []\n",
    "    for model_id in model_ids:\n",
    "        scores = load_model(model_id + \"_scores\")\n",
    "        model_data.append((model_id, scores.mean()))\n",
    "    return model_data"
   ]
  },
  {
   "cell_type": "code",
   "execution_count": 21,
   "id": "614c93f5-ff6b-493a-a006-7ef98cab8197",
   "metadata": {},
   "outputs": [],
   "source": [
    "model_data = load_model_data(model_ids)"
   ]
  },
  {
   "cell_type": "code",
   "execution_count": 22,
   "id": "11fb3c95-d58e-43e0-9c3e-14898959ec15",
   "metadata": {},
   "outputs": [
    {
     "data": {
      "text/plain": [
       "[('sgd_clf', 0.8970333333333333),\n",
       " ('svm_clf', 0.9601666666666667),\n",
       " ('forest_clf', 0.9644833333333334),\n",
       " ('knn_clf', 0.9403666666666667)]"
      ]
     },
     "execution_count": 22,
     "metadata": {},
     "output_type": "execute_result"
    }
   ],
   "source": [
    "model_data"
   ]
  },
  {
   "cell_type": "markdown",
   "id": "c1fc42be-336e-48ab-a7e3-180471696a41",
   "metadata": {},
   "source": [
    "- it seems that the random forest classifier is the most accurate\n",
    "    - but svm, forest, and knn are all pretty close which means we can try fine-tuning all of them\n",
    "        - it could also mean that it doesn't matter what the model is among the three"
   ]
  },
  {
   "cell_type": "markdown",
   "id": "10d76063-f4ff-469c-95b9-fc5617a240df",
   "metadata": {},
   "source": [
    "However, based on understanding of the algorithms (and hints from handsonml), knn_clf should be the best model suited for this task.\n",
    "- knn_clf classifies instances based on their proximity to other labeled data. This is great because the data for a '5' should be close to other '5's\n",
    "    - we just need to tune some hyperparameters like the weight function and number of neighbors to use (more the better?)"
   ]
  },
  {
   "cell_type": "markdown",
   "id": "f01be758-c361-498c-bbad-4db61eaa0bfb",
   "metadata": {},
   "source": [
    "# Fine-Tuning\n",
    "***"
   ]
  },
  {
   "cell_type": "code",
   "execution_count": 23,
   "id": "d0022690-6751-4185-af62-5212f488b965",
   "metadata": {},
   "outputs": [],
   "source": [
    "from sklearn.model_selection import GridSearchCV"
   ]
  },
  {
   "cell_type": "code",
   "execution_count": 29,
   "id": "4d2e9f05-74f6-40ed-b3ea-555e13ca5bb2",
   "metadata": {},
   "outputs": [],
   "source": [
    "knn_clf = KNeighborsClassifier()"
   ]
  },
  {
   "cell_type": "code",
   "execution_count": 62,
   "id": "2f0ab358-26fd-4696-9ca0-6c6e8770e7a4",
   "metadata": {},
   "outputs": [],
   "source": [
    "param_grid = [{\n",
    "    'n_neighbors': [1, 3, 5, 10, 30],\n",
    "    'weights': ['uniform', 'distance']\n",
    "}]\n",
    "\n",
    "grid_search = GridSearchCV(knn_clf, param_grid, scoring=\"accuracy\",\n",
    "                          cv=5, verbose=2)"
   ]
  },
  {
   "cell_type": "code",
   "execution_count": 32,
   "id": "60a757da-7415-4474-a9e5-d8a8c155cead",
   "metadata": {},
   "outputs": [
    {
     "name": "stdout",
     "output_type": "stream",
     "text": [
      "Fitting 3 folds for each of 10 candidates, totalling 30 fits\n",
      "[CV] END .....................n_neighbors=1, weights=uniform; total time=  13.5s\n",
      "[CV] END .....................n_neighbors=1, weights=uniform; total time=  13.4s\n",
      "[CV] END .....................n_neighbors=1, weights=uniform; total time=  13.4s\n",
      "[CV] END ....................n_neighbors=1, weights=distance; total time=  13.9s\n",
      "[CV] END ....................n_neighbors=1, weights=distance; total time=  14.0s\n",
      "[CV] END ....................n_neighbors=1, weights=distance; total time=  13.9s\n",
      "[CV] END .....................n_neighbors=3, weights=uniform; total time=  16.2s\n",
      "[CV] END .....................n_neighbors=3, weights=uniform; total time=  15.9s\n",
      "[CV] END .....................n_neighbors=3, weights=uniform; total time=  14.7s\n",
      "[CV] END ....................n_neighbors=3, weights=distance; total time=  15.4s\n",
      "[CV] END ....................n_neighbors=3, weights=distance; total time=  15.1s\n",
      "[CV] END ....................n_neighbors=3, weights=distance; total time=  14.7s\n",
      "[CV] END .....................n_neighbors=5, weights=uniform; total time=  20.8s\n",
      "[CV] END .....................n_neighbors=5, weights=uniform; total time=  21.0s\n",
      "[CV] END .....................n_neighbors=5, weights=uniform; total time=  20.3s\n",
      "[CV] END ....................n_neighbors=5, weights=distance; total time=  20.8s\n",
      "[CV] END ....................n_neighbors=5, weights=distance; total time=  21.2s\n",
      "[CV] END ....................n_neighbors=5, weights=distance; total time=  20.2s\n",
      "[CV] END ....................n_neighbors=10, weights=uniform; total time=  21.0s\n",
      "[CV] END ....................n_neighbors=10, weights=uniform; total time=  21.7s\n",
      "[CV] END ....................n_neighbors=10, weights=uniform; total time=  21.1s\n",
      "[CV] END ...................n_neighbors=10, weights=distance; total time=  21.3s\n",
      "[CV] END ...................n_neighbors=10, weights=distance; total time=  20.9s\n",
      "[CV] END ...................n_neighbors=10, weights=distance; total time=  20.7s\n",
      "[CV] END ....................n_neighbors=30, weights=uniform; total time=  21.1s\n",
      "[CV] END ....................n_neighbors=30, weights=uniform; total time=  21.5s\n",
      "[CV] END ....................n_neighbors=30, weights=uniform; total time=  21.3s\n",
      "[CV] END ...................n_neighbors=30, weights=distance; total time=  21.7s\n",
      "[CV] END ...................n_neighbors=30, weights=distance; total time=  22.0s\n",
      "[CV] END ...................n_neighbors=30, weights=distance; total time=  19.8s\n"
     ]
    },
    {
     "data": {
      "text/plain": [
       "GridSearchCV(cv=3, estimator=KNeighborsClassifier(),\n",
       "             param_grid=[{'n_neighbors': [1, 3, 5, 10, 30],\n",
       "                          'weights': ['uniform', 'distance']}],\n",
       "             scoring='accuracy', verbose=2)"
      ]
     },
     "execution_count": 32,
     "metadata": {},
     "output_type": "execute_result"
    }
   ],
   "source": [
    "grid_search.fit(X_train_prepared, y_train)"
   ]
  },
  {
   "cell_type": "markdown",
   "id": "8443068a-2cd5-42bf-a50c-687923e8a425",
   "metadata": {},
   "source": [
    "- Since the dataset is rather evenly distributed and also preprocessed, we don't need too many folds for cross-validation"
   ]
  },
  {
   "cell_type": "code",
   "execution_count": 36,
   "id": "eb081208-f4c1-4a95-84ee-dae51238d814",
   "metadata": {},
   "outputs": [
    {
     "data": {
      "text/plain": [
       "{'algorithm': 'auto',\n",
       " 'leaf_size': 30,\n",
       " 'metric': 'minkowski',\n",
       " 'metric_params': None,\n",
       " 'n_jobs': None,\n",
       " 'n_neighbors': 5,\n",
       " 'p': 2,\n",
       " 'weights': 'distance'}"
      ]
     },
     "execution_count": 36,
     "metadata": {},
     "output_type": "execute_result"
    }
   ],
   "source": [
    "grid_search.best_estimator_"
   ]
  },
  {
   "cell_type": "markdown",
   "id": "924169eb-2067-4e68-8495-636121a54847",
   "metadata": {},
   "source": [
    "- Let's save this model first, then fine_tune around 5 neighbors."
   ]
  },
  {
   "cell_type": "code",
   "execution_count": 39,
   "id": "20444afd-5d81-4c4d-808e-334ade70c5c5",
   "metadata": {},
   "outputs": [
    {
     "name": "stdout",
     "output_type": "stream",
     "text": [
      "Saving model knn_clf_model.pkl\n"
     ]
    }
   ],
   "source": [
    "save_model(grid_search.best_estimator_, \"knn_clf_model.pkl\")"
   ]
  },
  {
   "cell_type": "code",
   "execution_count": 73,
   "id": "9ab503fb-28d4-4fcb-a6fb-3003f0709a4c",
   "metadata": {},
   "outputs": [],
   "source": [
    "def print_scores_params(cvres):\n",
    "    scores, params = cvres[\"mean_test_score\"], cvres[\"params\"]\n",
    "    s_p = np.c_[scores, params]\n",
    "\n",
    "    s_p_sorted = s_p[s_p[:, 0].argsort()][::-1]\n",
    "\n",
    "    for s, p in s_p_sorted:\n",
    "        print(\"Score: {:.7f}     Params: {}\".format(s, p))"
   ]
  },
  {
   "cell_type": "code",
   "execution_count": 42,
   "id": "676d11b4-2c6b-4143-ad4f-056c98e26c9b",
   "metadata": {},
   "outputs": [
    {
     "data": {
      "text/plain": [
       "0.9420999999999999"
      ]
     },
     "execution_count": 42,
     "metadata": {},
     "output_type": "execute_result"
    }
   ],
   "source": [
    "grid_search.best_score_"
   ]
  },
  {
   "cell_type": "code",
   "execution_count": 61,
   "id": "26649adc-f443-42ec-8212-c6d2b295ba2d",
   "metadata": {},
   "outputs": [
    {
     "name": "stdout",
     "output_type": "stream",
     "text": [
      "Saving model knn_clf_cvres.pkl\n"
     ]
    }
   ],
   "source": [
    "save_model(cvres, \"knn_clf_cvres.pkl\")"
   ]
  },
  {
   "cell_type": "markdown",
   "id": "60a57dc9-e829-4d1d-af8e-6a67643408ae",
   "metadata": {},
   "source": [
    "- this is not much better than our model above... Let's try to fine-tune our n_neighbors more\n",
    "    - but this time we don't have to adjust the weights, let's set it to `distance`"
   ]
  },
  {
   "cell_type": "code",
   "execution_count": 64,
   "id": "f1edd0c9-69a9-48bd-8921-c1f8b0450a56",
   "metadata": {},
   "outputs": [],
   "source": [
    "knn_clf = KNeighborsClassifier(weights=\"distance\")\n",
    "\n",
    "param_grid = [{\n",
    "    'n_neighbors': list(range(4, 8)),\n",
    "}]\n",
    "\n",
    "grid_search = GridSearchCV(knn_clf, param_grid, scoring=\"accuracy\",\n",
    "                          cv=5, verbose=1)"
   ]
  },
  {
   "cell_type": "code",
   "execution_count": 70,
   "id": "89102446-a240-4ce6-bae9-41a4a62ccaea",
   "metadata": {},
   "outputs": [
    {
     "name": "stdout",
     "output_type": "stream",
     "text": [
      "Fitting 5 folds for each of 4 candidates, totalling 20 fits\n"
     ]
    },
    {
     "data": {
      "text/plain": [
       "GridSearchCV(cv=5, estimator=KNeighborsClassifier(weights='distance'),\n",
       "             param_grid=[{'n_neighbors': [4, 5, 6, 7]}], scoring='accuracy',\n",
       "             verbose=1)"
      ]
     },
     "execution_count": 70,
     "metadata": {},
     "output_type": "execute_result"
    }
   ],
   "source": [
    "grid_search.fit(X_train_prepared, y_train)"
   ]
  },
  {
   "cell_type": "code",
   "execution_count": 74,
   "id": "c22180a2-4180-43e9-99d3-688e688b3933",
   "metadata": {},
   "outputs": [
    {
     "name": "stdout",
     "output_type": "stream",
     "text": [
      "Score: 0.9465167     Params: {'n_neighbors': 4}\n",
      "Score: 0.9447167     Params: {'n_neighbors': 6}\n",
      "Score: 0.9443500     Params: {'n_neighbors': 5}\n",
      "Score: 0.9423500     Params: {'n_neighbors': 7}\n"
     ]
    }
   ],
   "source": [
    "print_scores_params(grid_search.cv_results_)"
   ]
  },
  {
   "cell_type": "code",
   "execution_count": 77,
   "id": "649ddf8e-b9e7-4464-8e7f-28862f0dc65a",
   "metadata": {},
   "outputs": [
    {
     "name": "stdout",
     "output_type": "stream",
     "text": [
      "Saving model knn_clf_model\n"
     ]
    }
   ],
   "source": [
    "save_model(grid_search.best_estimator_, \"knn_clf_model\")"
   ]
  },
  {
   "cell_type": "code",
   "execution_count": 78,
   "id": "617dd282-5b10-4b75-800c-6f7587d9fe51",
   "metadata": {},
   "outputs": [
    {
     "name": "stdout",
     "output_type": "stream",
     "text": [
      "Saving model knn_clf_cvres\n"
     ]
    }
   ],
   "source": [
    "save_model(grid_search.cv_results_, \"knn_clf_cvres\")"
   ]
  },
  {
   "cell_type": "markdown",
   "id": "c09894c1-13e3-4db0-8d59-fb6174d8d650",
   "metadata": {},
   "source": [
    "- Looks like we should try something else to increase the accuracy!"
   ]
  },
  {
   "cell_type": "markdown",
   "id": "d0c2cf16-da8f-4c63-a741-e17e7ae798f5",
   "metadata": {},
   "source": [
    "# Data Augmentation\n",
    "***"
   ]
  },
  {
   "cell_type": "code",
   "execution_count": 79,
   "id": "f5ee6d33-bb96-4206-9945-0c041429619f",
   "metadata": {},
   "outputs": [
    {
     "data": {
      "image/png": "[encoded data removed]",
      "text/plain": [
       "<Figure size 432x288 with 1 Axes>"
      ]
     },
     "metadata": {
      "needs_background": "light"
     },
     "output_type": "display_data"
    }
   ],
   "source": [
    "plot_digit(X_train[0])"
   ]
  },
  {
   "cell_type": "code",
   "execution_count": 80,
   "id": "b860af15-5a11-4ef8-a86d-65e9934bf755",
   "metadata": {},
   "outputs": [
    {
     "data": {
      "text/plain": [
       "5"
      ]
     },
     "execution_count": 80,
     "metadata": {},
     "output_type": "execute_result"
    }
   ],
   "source": [
    "y_train[0]"
   ]
  },
  {
   "cell_type": "markdown",
   "id": "83d59deb-123d-4855-8409-57d6cc229911",
   "metadata": {},
   "source": [
    "Let's write a custom data augmentation class that generates four new instances for each digit by shifting the image a pixel left, right, up, and down!"
   ]
  },
  {
   "cell_type": "code",
   "execution_count": 265,
   "id": "eab23c10-361d-4d75-a2f2-18fa856ac87c",
   "metadata": {},
   "outputs": [],
   "source": [
    "# test shifting\n",
    "def shift_direction(digit_784, direction, shift_amount):\n",
    "    digit_square = digit_784.reshape(28, 28)\n",
    "    \n",
    "    if direction == \"left\":\n",
    "        digit_shifted = digit_square[:, shift_amount:] # get rid of leftmost columns\n",
    "        digit_square = np.c_[digit_shifted, np.zeros((28, shift_amount))] # add rightmost columns of zeros\n",
    "    elif direction == \"right\":\n",
    "        digit_shifted = digit_square[:, :-shift_amount] # get rid of rightmost columns\n",
    "        digit_square = np.c_[np.zeros((28, shift_amount)), digit_shifted] # add leftmost columns of zeros\n",
    "    elif direction == \"up\":\n",
    "        digit_shifted = digit_square[shift_amount:, :] # get rid of top columns\n",
    "        digit_square = np.r_[digit_shifted, np.zeros((shift_amount, 28))] # add bottom columns of zeros\n",
    "    elif direction == \"down\":\n",
    "        digit_shifted = digit_square[:-shift_amount, :] # get rid of bottom columns\n",
    "        digit_square = np.r_[np.zeros((shift_amount, 28)), digit_shifted] # add top columns of zeros\n",
    "    else:\n",
    "        raise ValueError(\"direction should be one of 'left', 'right', 'up', or 'down'\")\n",
    "    \n",
    "    return digit_square.reshape(784)"
   ]
  },
  {
   "cell_type": "code",
   "execution_count": 266,
   "id": "55ab69e6-6975-4c6d-843b-25957dd541e9",
   "metadata": {},
   "outputs": [],
   "source": [
    "a = np.array(\n",
    "    [\n",
    "        [1, 2, 3],\n",
    "        [4, 5, 6],\n",
    "        [7, 8, 9],\n",
    "    ]\n",
    ")"
   ]
  },
  {
   "cell_type": "code",
   "execution_count": 267,
   "id": "57405b2e-ecf9-405c-a8b1-888c6b1990d0",
   "metadata": {},
   "outputs": [
    {
     "data": {
      "text/plain": [
       "array([[1, 2],\n",
       "       [4, 5],\n",
       "       [7, 8]])"
      ]
     },
     "execution_count": 267,
     "metadata": {},
     "output_type": "execute_result"
    }
   ],
   "source": [
    "a[:, :-1]"
   ]
  },
  {
   "cell_type": "code",
   "execution_count": 268,
   "id": "6849a67f-461b-4a88-a696-1b37baf7d6e3",
   "metadata": {},
   "outputs": [
    {
     "data": {
      "text/plain": [
       "array([[1., 2., 3.],\n",
       "       [4., 5., 6.],\n",
       "       [7., 8., 9.],\n",
       "       [0., 0., 0.]])"
      ]
     },
     "execution_count": 268,
     "metadata": {},
     "output_type": "execute_result"
    }
   ],
   "source": [
    "np.r_[a, np.zeros((1, 3))]"
   ]
  },
  {
   "cell_type": "markdown",
   "id": "d0df4330-554c-4afa-8ecc-b7f635c911a1",
   "metadata": {},
   "source": [
    "- can shift left by amount"
   ]
  },
  {
   "cell_type": "code",
   "execution_count": 269,
   "id": "d898ba16-f8bd-49a2-b8aa-40e61eeb7799",
   "metadata": {},
   "outputs": [],
   "source": [
    "def compare_shifted(digit, shift_func, direction, shift_amount=1):\n",
    "    shifted = shift_func(digit, direction, \n",
    "                         shift_amount)\n",
    "    plt.figure(figsize=(8,16))\n",
    "    plt.subplot(211); plot_digit(digit)\n",
    "    plt.subplot(212); plot_digit(shifted)"
   ]
  },
  {
   "cell_type": "code",
   "execution_count": 270,
   "id": "376979a2-1c86-4930-ad4a-859ada438bc4",
   "metadata": {},
   "outputs": [
    {
     "data": {
      "image/png": "[encoded data removed]",
      "text/plain": [
       "<Figure size 576x1152 with 2 Axes>"
      ]
     },
     "metadata": {
      "needs_background": "light"
     },
     "output_type": "display_data"
    }
   ],
   "source": [
    "compare_shifted(X_train[0], shift_direction, \"down\", shift_amount=4)"
   ]
  },
  {
   "cell_type": "code",
   "execution_count": 278,
   "id": "861ddc7c-588e-401b-a2bb-9637f381914a",
   "metadata": {},
   "outputs": [],
   "source": [
    "from sklearn.base import BaseEstimator, TransformerMixin\n",
    "\n",
    "class CustomDigitShifter(BaseEstimator, TransformerMixin):\n",
    "    def __init__(self, shift_amount=1):\n",
    "        self.shift_amount = shift_amount\n",
    "    def fit(self, X, y=None):\n",
    "        pass\n",
    "    def transform(self, X, y):\n",
    "        num_rows = X.shape[0]\n",
    "        \n",
    "        for row in range(0, num_rows):\n",
    "            digit = X[row, :]\n",
    "            np.vstack((X, shift_direction(digit, \"left\", self.shift_amount)))\n",
    "            np.vstack((X, shift_direction(digit, \"right\", self.shift_amount)))\n",
    "            np.vstack((X, shift_direction(digit, \"up\", self.shift_amount)))\n",
    "            np.vstack((X, shift_direction(digit, \"down\", self.shift_amount)))\n",
    "            np.append(y, np.full(4, y[row]))\n",
    "        \n",
    "        return (X, y)"
   ]
  },
  {
   "cell_type": "code",
   "execution_count": null,
   "id": "7460b130-0fe0-43f1-b52a-3e8a55d0f199",
   "metadata": {},
   "outputs": [],
   "source": [
    "# digit_shifter = CustomDigitShifter()\n",
    "# X_train_aug, y_train_aug = digit_shifter.transform(X_train, y_train)"
   ]
  },
  {
   "cell_type": "markdown",
   "id": "6b3767c7-4221-463a-aacd-96078c23a961",
   "metadata": {},
   "source": [
    "- my own method is too slow and unoptimized, let's use prebuilt libraries for this"
   ]
  },
  {
   "cell_type": "code",
   "execution_count": 280,
   "id": "0653f65f-87ca-4999-9aa7-5da9126a130c",
   "metadata": {},
   "outputs": [],
   "source": [
    "from scipy.ndimage.interpolation import shift"
   ]
  },
  {
   "cell_type": "code",
   "execution_count": 281,
   "id": "a44154dc-fd65-4892-bf7a-bcb308098cbb",
   "metadata": {},
   "outputs": [],
   "source": [
    "some_digit = X_train[0]"
   ]
  },
  {
   "cell_type": "code",
   "execution_count": 282,
   "id": "ca240828-d94b-4609-b94e-305986e239c3",
   "metadata": {},
   "outputs": [
    {
     "data": {
      "image/png": "[encoded data removed]",
      "text/plain": [
       "<Figure size 432x288 with 1 Axes>"
      ]
     },
     "metadata": {
      "needs_background": "light"
     },
     "output_type": "display_data"
    }
   ],
   "source": [
    "plot_digit(some_digit)"
   ]
  },
  {
   "cell_type": "code",
   "execution_count": 286,
   "id": "96ea924a-1783-44c6-93be-393dcb98bfb4",
   "metadata": {},
   "outputs": [],
   "source": [
    "shifted_digit = shift(some_digit.reshape((28,28)), [-5, 5]).reshape([-1])"
   ]
  },
  {
   "cell_type": "code",
   "execution_count": 287,
   "id": "4ded2652-089f-420c-baad-0f1a1a74cc40",
   "metadata": {},
   "outputs": [
    {
     "data": {
      "image/png": "[encoded data removed]",
      "text/plain": [
       "<Figure size 432x288 with 1 Axes>"
      ]
     },
     "metadata": {
      "needs_background": "light"
     },
     "output_type": "display_data"
    }
   ],
   "source": [
    "plot_digit(shifted_digit)"
   ]
  },
  {
   "cell_type": "code",
   "execution_count": 300,
   "id": "c7d01d8e-fb85-40a0-9ac1-689723a155b4",
   "metadata": {},
   "outputs": [
    {
     "data": {
      "image/png": "[encoded data removed]",
      "text/plain": [
       "<Figure size 432x288 with 1 Axes>"
      ]
     },
     "metadata": {
      "needs_background": "light"
     },
     "output_type": "display_data"
    }
   ],
   "source": [
    "from scipy.ndimage.interpolation import shift\n",
    "def shift_digit(digit_array, dx, dy, new=0):\n",
    "    return shift(digit_array.reshape(28, 28), [dy, dx], cval=new).reshape(784)\n",
    "\n",
    "plot_digit(shift_digit(some_digit, 5, 1, new=100))"
   ]
  },
  {
   "cell_type": "code",
   "execution_count": 301,
   "id": "c2d3a5e4-25ae-404c-bd57-07b982542429",
   "metadata": {},
   "outputs": [
    {
     "data": {
      "text/plain": [
       "((60000, 784), (60000,))"
      ]
     },
     "execution_count": 301,
     "metadata": {},
     "output_type": "execute_result"
    }
   ],
   "source": [
    "X_train.shape, y_train.shape"
   ]
  },
  {
   "cell_type": "code",
   "execution_count": 302,
   "id": "adf04cde-383d-4669-adf6-d8ace46ab560",
   "metadata": {},
   "outputs": [
    {
     "data": {
      "text/plain": [
       "((300000, 784), (300000,))"
      ]
     },
     "execution_count": 302,
     "metadata": {},
     "output_type": "execute_result"
    }
   ],
   "source": [
    "X_train_expanded = [X_train]\n",
    "y_train_expanded = [y_train]\n",
    "for dx, dy in ((1, 0), (-1, 0), (0, 1), (0, -1)):\n",
    "    shifted_images = np.apply_along_axis(shift_digit, axis=1, arr=X_train, dx=dx, dy=dy)\n",
    "    X_train_expanded.append(shifted_images)\n",
    "    y_train_expanded.append(y_train)\n",
    "\n",
    "X_train_expanded = np.concatenate(X_train_expanded)\n",
    "y_train_expanded = np.concatenate(y_train_expanded)\n",
    "X_train_expanded.shape, y_train_expanded.shape"
   ]
  },
  {
   "cell_type": "code",
   "execution_count": 303,
   "id": "de6b233c-abe1-413a-9603-ed81f6cb490c",
   "metadata": {},
   "outputs": [
    {
     "data": {
      "text/plain": [
       "KNeighborsClassifier(n_neighbors=4, weights='distance')"
      ]
     },
     "execution_count": 303,
     "metadata": {},
     "output_type": "execute_result"
    }
   ],
   "source": [
    "knn_clf = KNeighborsClassifier(weights='distance', n_neighbors=4)\n",
    "\n",
    "knn_clf.fit(X_train_expanded, y_train_expanded)"
   ]
  },
  {
   "cell_type": "code",
   "execution_count": 304,
   "id": "46fb32d6-0b31-4066-a951-c90f5cbf71ba",
   "metadata": {},
   "outputs": [],
   "source": [
    "y_knn_expanded_pred = knn_clf.predict(X_test)"
   ]
  },
  {
   "cell_type": "code",
   "execution_count": 306,
   "id": "7885cc01-44bc-406c-a263-6aa096cafb12",
   "metadata": {},
   "outputs": [
    {
     "data": {
      "text/plain": [
       "0.9763"
      ]
     },
     "execution_count": 306,
     "metadata": {},
     "output_type": "execute_result"
    }
   ],
   "source": [
    "from sklearn.metrics import accuracy_score\n",
    "\n",
    "accuracy_score(y_test, y_knn_expanded_pred)"
   ]
  }
 ],
 "metadata": {
  "kernelspec": {
   "display_name": "Python 3 (ipykernel)",
   "language": "python",
   "name": "python3"
  },
  "language_info": {
   "codemirror_mode": {
    "name": "ipython",
    "version": 3
   },
   "file_extension": ".py",
   "mimetype": "text/x-python",
   "name": "python",
   "nbconvert_exporter": "python",
   "pygments_lexer": "ipython3",
   "version": "3.10.4"
  }
 },
 "nbformat": 4,
 "nbformat_minor": 5
}
