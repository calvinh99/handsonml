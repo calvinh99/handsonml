{
 "cells": [
  {
   "cell_type": "markdown",
   "id": "3c6a6503-a9b4-4770-9ab8-6a57eccffc7e",
   "metadata": {},
   "source": [
    "# Setup"
   ]
  },
  {
   "cell_type": "code",
   "execution_count": 4,
   "id": "6254cfc7-c521-4c4e-a4bd-56cb474f4fea",
   "metadata": {},
   "outputs": [],
   "source": [
    "# handle math and data\n",
    "import numpy as np\n",
    "import pandas as pd\n",
    "\n",
    "# to plot nice figures\n",
    "%matplotlib inline\n",
    "import matplotlib as mpl\n",
    "import matplotlib.pyplot as plt\n",
    "mpl.rc('axes', labelsize=14)\n",
    "mpl.rc('xtick', labelsize=12)\n",
    "mpl.rc('ytick', labelsize=12)\n",
    "\n",
    "# handle files\n",
    "import os\n",
    "import joblib\n",
    "\n",
    "SEED = 69420"
   ]
  },
  {
   "cell_type": "markdown",
   "id": "710b3b5c-5f29-4127-82a1-92adce9e2d79",
   "metadata": {},
   "source": [
    "# Get MNIST Dataset"
   ]
  },
  {
   "cell_type": "code",
   "execution_count": 5,
   "id": "86bfe9b8-de61-4be7-bd2b-9975bb1b990d",
   "metadata": {},
   "outputs": [
    {
     "data": {
      "text/plain": [
       "((70000, 784), (70000,))"
      ]
     },
     "execution_count": 5,
     "metadata": {},
     "output_type": "execute_result"
    }
   ],
   "source": [
    "from sklearn.datasets import fetch_openml\n",
    "\n",
    "mnist = fetch_openml('mnist_784', version=1, as_frame=False)\n",
    "\n",
    "X, y = mnist.data, mnist.target\n",
    "X.shape, y.shape"
   ]
  },
  {
   "cell_type": "code",
   "execution_count": 49,
   "id": "e2c95d7c-e0fd-4300-94ec-864b5b17a339",
   "metadata": {},
   "outputs": [
    {
     "data": {
      "text/plain": [
       "str"
      ]
     },
     "execution_count": 49,
     "metadata": {},
     "output_type": "execute_result"
    }
   ],
   "source": [
    "type(y[0])"
   ]
  },
  {
   "cell_type": "code",
   "execution_count": 50,
   "id": "5bb09d80-1c44-401f-90b9-5094891abc0d",
   "metadata": {},
   "outputs": [],
   "source": [
    "y = y.astype(np.int8)"
   ]
  },
  {
   "cell_type": "code",
   "execution_count": 51,
   "id": "8a8d89f0-e9ee-4ad1-8e14-cad7750e5c5c",
   "metadata": {},
   "outputs": [
    {
     "data": {
      "text/plain": [
       "numpy.int8"
      ]
     },
     "execution_count": 51,
     "metadata": {},
     "output_type": "execute_result"
    }
   ],
   "source": [
    "type(y[0])"
   ]
  },
  {
   "cell_type": "code",
   "execution_count": 52,
   "id": "84c9a988-0a97-42c1-9b85-e56510c53174",
   "metadata": {},
   "outputs": [
    {
     "data": {
      "text/plain": [
       "array([5, 0, 4, ..., 4, 5, 6], dtype=int8)"
      ]
     },
     "execution_count": 52,
     "metadata": {},
     "output_type": "execute_result"
    }
   ],
   "source": [
    "y"
   ]
  },
  {
   "cell_type": "code",
   "execution_count": 54,
   "id": "c50f2b6b-a357-42ad-b374-9fc28eac2a71",
   "metadata": {},
   "outputs": [
    {
     "data": {
      "text/plain": [
       "numpy.float64"
      ]
     },
     "execution_count": 54,
     "metadata": {},
     "output_type": "execute_result"
    }
   ],
   "source": [
    "type(X[0, 0])"
   ]
  },
  {
   "cell_type": "markdown",
   "id": "fd376c93-ba03-499e-b058-2ac3bf2b8a48",
   "metadata": {},
   "source": [
    "Ok types are set"
   ]
  },
  {
   "cell_type": "markdown",
   "id": "70618a90-a7d6-4db2-bd06-481a4a5beff8",
   "metadata": {},
   "source": [
    "## Split Train, Val, and Test Sets"
   ]
  },
  {
   "cell_type": "code",
   "execution_count": 55,
   "id": "dcdf418b-a398-4398-ae79-329c18545c3c",
   "metadata": {},
   "outputs": [
    {
     "data": {
      "text/plain": [
       "((50000, 784), (50000,), (10000, 784), (10000,), (10000, 784), (10000,))"
      ]
     },
     "execution_count": 55,
     "metadata": {},
     "output_type": "execute_result"
    }
   ],
   "source": [
    "train_size = 50000\n",
    "val_size = 10000\n",
    "test_size = 10000\n",
    "\n",
    "X_train, y_train = X[:train_size], y[:train_size]\n",
    "X_val, y_val = X[train_size:(train_size + val_size)], y[train_size:(train_size + val_size)]\n",
    "X_test, y_test = X[-test_size:], y[-test_size:]\n",
    "\n",
    "X_train.shape, y_train.shape, X_val.shape, y_val.shape, X_test.shape, y_test.shape"
   ]
  },
  {
   "cell_type": "markdown",
   "id": "b9d2aeeb-63d2-4d74-9134-81393e8e5dd5",
   "metadata": {},
   "source": [
    "We got our training set for training individual classifiers, validation set for training ensemble classifiers, and test set for final evaluation."
   ]
  },
  {
   "cell_type": "markdown",
   "id": "9101ae09-c772-434f-9f21-eebdc2261274",
   "metadata": {},
   "source": [
    "# Train Models"
   ]
  },
  {
   "cell_type": "code",
   "execution_count": 56,
   "id": "4504952f-7e9e-4737-ac1b-39bfadba70c0",
   "metadata": {},
   "outputs": [],
   "source": [
    "from sklearn.svm import LinearSVC\n",
    "from sklearn.neighbors import KNeighborsClassifier\n",
    "from sklearn.ensemble import RandomForestClassifier\n",
    "from sklearn.ensemble import ExtraTreesClassifier\n",
    "\n",
    "lin_svm_clf = LinearSVC(max_iter=100, tol=20, random_state=SEED)\n",
    "knn_clf = KNeighborsClassifier()\n",
    "random_forest_clf = RandomForestClassifier(n_estimators=100, random_state=SEED)\n",
    "extra_trees_clf = ExtraTreesClassifier(n_estimators=100, random_state=SEED)"
   ]
  },
  {
   "cell_type": "markdown",
   "id": "c589af34-c7af-4c2e-9566-31d12a673eb1",
   "metadata": {},
   "source": [
    "Now let's fit all our models."
   ]
  },
  {
   "cell_type": "code",
   "execution_count": 57,
   "id": "fe53a5d8-2fb0-414c-8bea-ad91f51df521",
   "metadata": {},
   "outputs": [
    {
     "name": "stdout",
     "output_type": "stream",
     "text": [
      "Training  LinearSVC(max_iter=100, random_state=69420, tol=20)\n",
      "Training  KNeighborsClassifier()\n",
      "Training  RandomForestClassifier(random_state=69420)\n",
      "Training  ExtraTreesClassifier(random_state=69420)\n"
     ]
    }
   ],
   "source": [
    "estimators = [lin_svm_clf, knn_clf, random_forest_clf, extra_trees_clf]\n",
    "\n",
    "for estimator in estimators:\n",
    "    print(\"Training \", estimator)\n",
    "    estimator.fit(X_train, y_train)"
   ]
  },
  {
   "cell_type": "markdown",
   "id": "458daedd-8a61-4c11-9d88-c2e577487704",
   "metadata": {},
   "source": [
    "## Single Model Evaluations"
   ]
  },
  {
   "cell_type": "code",
   "execution_count": 58,
   "id": "06a28686-59f3-4347-996e-03dc8e3c5dca",
   "metadata": {},
   "outputs": [
    {
     "data": {
      "text/plain": [
       "[0.866, 0.9718, 0.9712, 0.9739]"
      ]
     },
     "execution_count": 58,
     "metadata": {},
     "output_type": "execute_result"
    }
   ],
   "source": [
    "[estimator.score(X_val, y_val) for estimator in estimators]"
   ]
  },
  {
   "cell_type": "markdown",
   "id": "c88e2852-4738-4f27-9703-17f43d3895c6",
   "metadata": {},
   "source": [
    "So linearSVC is quite poor, while knn, random forest, and extra trees all did rather excellent. Let's try to train our voting classifier now."
   ]
  },
  {
   "cell_type": "markdown",
   "id": "5edc8b39-90bd-4219-9fb4-ec0e7d101994",
   "metadata": {},
   "source": [
    "## Voting Classifier"
   ]
  },
  {
   "cell_type": "markdown",
   "id": "de5fbfa6-ef81-473a-b89c-29c8153a461a",
   "metadata": {},
   "source": [
    "Now we need to do the following:\n",
    "- train a hard voting classifier using our 4 individual models\n",
    "    - evaluate it on the validation set\n",
    "- fine tune our voting classifier\n",
    "    - try without linearSVC\n",
    "    - try soft voting (without linearSVC)\n",
    "- evaluate all models on test set"
   ]
  },
  {
   "cell_type": "code",
   "execution_count": 59,
   "id": "99edede5-6d8b-4d7f-9f67-2e8f4d360369",
   "metadata": {},
   "outputs": [],
   "source": [
    "from sklearn.ensemble import VotingClassifier\n",
    "\n",
    "named_estimators = [\n",
    "    (\"lin_svm_clf\", lin_svm_clf),\n",
    "    (\"knn_clf\", knn_clf),\n",
    "    (\"random_forest_clf\", random_forest_clf),\n",
    "    (\"extra_trees_clf\", extra_trees_clf),\n",
    "]\n",
    "\n",
    "voting_clf = VotingClassifier(named_estimators, voting=\"hard\")"
   ]
  },
  {
   "cell_type": "code",
   "execution_count": 60,
   "id": "8e048788-b5ef-4532-a0f0-b4e51e5e079e",
   "metadata": {},
   "outputs": [
    {
     "data": {
      "text/plain": [
       "VotingClassifier(estimators=[('lin_svm_clf',\n",
       "                              LinearSVC(max_iter=100, random_state=69420,\n",
       "                                        tol=20)),\n",
       "                             ('knn_clf', KNeighborsClassifier()),\n",
       "                             ('random_forest_clf',\n",
       "                              RandomForestClassifier(random_state=69420)),\n",
       "                             ('extra_trees_clf',\n",
       "                              ExtraTreesClassifier(random_state=69420))])"
      ]
     },
     "execution_count": 60,
     "metadata": {},
     "output_type": "execute_result"
    }
   ],
   "source": [
    "voting_clf.fit(X_train, y_train)"
   ]
  },
  {
   "cell_type": "code",
   "execution_count": 61,
   "id": "229866df-4771-4243-b8ef-13e8644d91f6",
   "metadata": {},
   "outputs": [
    {
     "data": {
      "text/plain": [
       "0.9733"
      ]
     },
     "execution_count": 61,
     "metadata": {},
     "output_type": "execute_result"
    }
   ],
   "source": [
    "voting_clf.score(X_val, y_val)"
   ]
  },
  {
   "cell_type": "markdown",
   "id": "70c3a547-91b2-4687-a7d2-d8989ecd5476",
   "metadata": {},
   "source": [
    "### Remove LinearSVC from Estimators"
   ]
  },
  {
   "cell_type": "markdown",
   "id": "94e10389-2563-4469-8cf6-671699be630b",
   "metadata": {},
   "source": [
    "This isn't a notable increase, let's test removing linearSVC.\n",
    "- We need to first remove it from `voting_clf`'s list of estimators used when `fit()` is called\n",
    "- Then we need to remove our already trained linearSVC from `voting_clf`'s `estimators_` used for prediction"
   ]
  },
  {
   "cell_type": "code",
   "execution_count": 62,
   "id": "a6130b7e-49b9-4803-82b9-b97fd55dd9a7",
   "metadata": {},
   "outputs": [
    {
     "data": {
      "text/plain": [
       "VotingClassifier(estimators=[('lin_svm_clf', None),\n",
       "                             ('knn_clf', KNeighborsClassifier()),\n",
       "                             ('random_forest_clf',\n",
       "                              RandomForestClassifier(random_state=69420)),\n",
       "                             ('extra_trees_clf',\n",
       "                              ExtraTreesClassifier(random_state=69420))])"
      ]
     },
     "execution_count": 62,
     "metadata": {},
     "output_type": "execute_result"
    }
   ],
   "source": [
    "voting_clf.set_params(lin_svm_clf=None)"
   ]
  },
  {
   "cell_type": "code",
   "execution_count": 63,
   "id": "3c0514fe-ae19-4eb2-b362-a5192d9278e8",
   "metadata": {},
   "outputs": [
    {
     "data": {
      "text/plain": [
       "[('lin_svm_clf', None),\n",
       " ('knn_clf', KNeighborsClassifier()),\n",
       " ('random_forest_clf', RandomForestClassifier(random_state=69420)),\n",
       " ('extra_trees_clf', ExtraTreesClassifier(random_state=69420))]"
      ]
     },
     "execution_count": 63,
     "metadata": {},
     "output_type": "execute_result"
    }
   ],
   "source": [
    "voting_clf.estimators"
   ]
  },
  {
   "cell_type": "code",
   "execution_count": 64,
   "id": "d8f553ba-d319-4961-a2ce-252a69c38d35",
   "metadata": {},
   "outputs": [],
   "source": [
    "del voting_clf.estimators_[0]"
   ]
  },
  {
   "cell_type": "markdown",
   "id": "fd250633-8528-4fbc-97fc-0985f03c955c",
   "metadata": {},
   "source": [
    "You can also re-train `voting_clf` using `fit()`"
   ]
  },
  {
   "cell_type": "code",
   "execution_count": 65,
   "id": "717b06c2-0da0-4cee-83d0-71c0ab0adad0",
   "metadata": {},
   "outputs": [
    {
     "data": {
      "text/plain": [
       "[KNeighborsClassifier(),\n",
       " RandomForestClassifier(random_state=69420),\n",
       " ExtraTreesClassifier(random_state=69420)]"
      ]
     },
     "execution_count": 65,
     "metadata": {},
     "output_type": "execute_result"
    }
   ],
   "source": [
    "voting_clf.estimators_"
   ]
  },
  {
   "cell_type": "code",
   "execution_count": 66,
   "id": "66bc8ca9-206f-4812-b4ef-a3cc58cf454d",
   "metadata": {},
   "outputs": [
    {
     "data": {
      "text/plain": [
       "0.9751"
      ]
     },
     "execution_count": 66,
     "metadata": {},
     "output_type": "execute_result"
    }
   ],
   "source": [
    "voting_clf.score(X_val, y_val)"
   ]
  },
  {
   "cell_type": "markdown",
   "id": "cd2f8062-eec6-4132-ba4a-02b77e7af4bd",
   "metadata": {},
   "source": [
    "There was indeed an increase, so linearSVC was dragging down the ensemble."
   ]
  },
  {
   "cell_type": "markdown",
   "id": "bd7b8e15-d0e6-45b9-a3ee-57f51843f1e6",
   "metadata": {},
   "source": [
    "### Try Soft Voting"
   ]
  },
  {
   "cell_type": "code",
   "execution_count": 67,
   "id": "1185426c-bdfa-406c-960b-d71a0ce9514e",
   "metadata": {},
   "outputs": [],
   "source": [
    "voting_clf.voting = \"soft\""
   ]
  },
  {
   "cell_type": "code",
   "execution_count": 68,
   "id": "2dd1c247-b659-4063-bc78-44d8e8a08fa9",
   "metadata": {},
   "outputs": [
    {
     "data": {
      "text/plain": [
       "0.9768"
      ]
     },
     "execution_count": 68,
     "metadata": {},
     "output_type": "execute_result"
    }
   ],
   "source": [
    "voting_clf.score(X_val, y_val)"
   ]
  },
  {
   "cell_type": "markdown",
   "id": "e203e66b-debb-43d7-afc3-ff62b33f5f1b",
   "metadata": {},
   "source": [
    "This seems even better! So our final voting classifier is composed of 3 estimators and is a soft voting classifier."
   ]
  },
  {
   "cell_type": "markdown",
   "id": "b849f7c3-853f-4a5a-84e3-4df54542a819",
   "metadata": {},
   "source": [
    "## Evaluation on Test Set"
   ]
  },
  {
   "cell_type": "code",
   "execution_count": 69,
   "id": "8c993671-8f63-4ca9-abdc-e9eb6867e93a",
   "metadata": {},
   "outputs": [
    {
     "data": {
      "text/plain": [
       "[0.8665, 0.9664, 0.9694, 0.9704]"
      ]
     },
     "execution_count": 69,
     "metadata": {},
     "output_type": "execute_result"
    }
   ],
   "source": [
    "[estimator.score(X_test, y_test) for estimator in estimators]"
   ]
  },
  {
   "cell_type": "code",
   "execution_count": 70,
   "id": "e43516aa-a0db-4341-aa59-89f14cb71605",
   "metadata": {},
   "outputs": [
    {
     "data": {
      "text/plain": [
       "0.9741"
      ]
     },
     "execution_count": 70,
     "metadata": {},
     "output_type": "execute_result"
    }
   ],
   "source": [
    "voting_clf.score(X_test, y_test)"
   ]
  },
  {
   "cell_type": "markdown",
   "id": "f7fb1e6f-acbb-472e-a079-0b3ca5b0c3fb",
   "metadata": {},
   "source": [
    "Looks like the ensemble classifier is indeed better!"
   ]
  },
  {
   "cell_type": "markdown",
   "id": "bc535835-cfa6-4a09-a810-950dd3bf4652",
   "metadata": {},
   "source": [
    "# Stacking Ensemble"
   ]
  },
  {
   "cell_type": "markdown",
   "id": "e4fae608-9ba2-4382-93c6-3231893c5c2f",
   "metadata": {},
   "source": [
    "Now let's create a stacking ensemble (training a model on the predictions of models):\n",
    "- Create a 10,000 by 4 predictions dataset for the 4 models using our validation set\n",
    "    - This matrix of predictions will be our training set for our blender model\n",
    "- Create a random forest model that uses the predictions matrix as X and our y_val as the labels\n",
    "- Create a function that will automate prediction\n",
    "    - Takes an instance and feeds it to all 4 layer 0 models\n",
    "    - Creates a layer 1 predictions array\n",
    "    - Feeds layer 1 predictions array to our trained blender\n",
    "    - Returns blender's prediction"
   ]
  },
  {
   "cell_type": "markdown",
   "id": "a287a038-c032-4e03-a347-98a644143344",
   "metadata": {},
   "source": [
    "## Layer 1 Predictions"
   ]
  },
  {
   "cell_type": "code",
   "execution_count": 71,
   "id": "2e7276f7-ebfa-4f47-be94-3fec58533641",
   "metadata": {},
   "outputs": [
    {
     "data": {
      "text/plain": [
       "array([[3, 3, 3, 3],\n",
       "       [8, 8, 8, 8],\n",
       "       [6, 6, 6, 6],\n",
       "       ...,\n",
       "       [5, 5, 5, 5],\n",
       "       [6, 6, 6, 6],\n",
       "       [8, 8, 8, 8]], dtype=int8)"
      ]
     },
     "execution_count": 71,
     "metadata": {},
     "output_type": "execute_result"
    }
   ],
   "source": [
    "layer_1_predictions = np.array([estimator.predict(X_val) for estimator in estimators]).T\n",
    "layer_1_predictions"
   ]
  },
  {
   "cell_type": "code",
   "execution_count": 72,
   "id": "49a50601-7828-4299-8d62-586021d03b4e",
   "metadata": {},
   "outputs": [
    {
     "data": {
      "text/plain": [
       "(10000, 4)"
      ]
     },
     "execution_count": 72,
     "metadata": {},
     "output_type": "execute_result"
    }
   ],
   "source": [
    "layer_1_predictions.shape"
   ]
  },
  {
   "cell_type": "markdown",
   "id": "ff5b4e9a-89aa-49c3-a14d-9d8053dbe713",
   "metadata": {},
   "source": [
    "Perfect! This is now our layer_1_predictions which we will use to train our blender."
   ]
  },
  {
   "cell_type": "markdown",
   "id": "e788abf8-9455-4ba6-9621-cff05a104a9d",
   "metadata": {},
   "source": [
    "## Train Blender"
   ]
  },
  {
   "cell_type": "code",
   "execution_count": 102,
   "id": "0936538b-7bfd-4444-b6c9-1c5f94f831f0",
   "metadata": {},
   "outputs": [
    {
     "data": {
      "text/plain": [
       "RandomForestClassifier(oob_score=True, random_state=69420)"
      ]
     },
     "execution_count": 102,
     "metadata": {},
     "output_type": "execute_result"
    }
   ],
   "source": [
    "blender_1 = RandomForestClassifier(n_estimators=100, oob_score=True, random_state=SEED)\n",
    "\n",
    "blender_1.fit(layer_1_predictions, y_val)"
   ]
  },
  {
   "cell_type": "code",
   "execution_count": 103,
   "id": "7e75ea3c-c574-4083-8137-77a3e9fb6d3a",
   "metadata": {},
   "outputs": [
    {
     "data": {
      "text/plain": [
       "0.9739"
      ]
     },
     "execution_count": 103,
     "metadata": {},
     "output_type": "execute_result"
    }
   ],
   "source": [
    "blender_1.oob_score_"
   ]
  },
  {
   "cell_type": "markdown",
   "id": "08b99f11-f0f1-4688-85ad-8b702588e95b",
   "metadata": {},
   "source": [
    "We can evaluate blender performance without a separate validation set."
   ]
  },
  {
   "cell_type": "code",
   "execution_count": 100,
   "id": "0db753ea-80d0-4991-988c-c6ba839a38ad",
   "metadata": {},
   "outputs": [
    {
     "data": {
      "text/plain": [
       "array([3, 8, 6, ..., 5, 6, 8], dtype=int8)"
      ]
     },
     "execution_count": 100,
     "metadata": {},
     "output_type": "execute_result"
    }
   ],
   "source": [
    "y_stack_pred = blender_1.predict(layer_1_predictions)\n",
    "y_stack_pred"
   ]
  },
  {
   "cell_type": "code",
   "execution_count": 101,
   "id": "80b59edb-e079-4c31-b1ef-0408d050ff4b",
   "metadata": {},
   "outputs": [
    {
     "data": {
      "text/plain": [
       "0.9858"
      ]
     },
     "execution_count": 101,
     "metadata": {},
     "output_type": "execute_result"
    }
   ],
   "source": [
    "from sklearn.metrics import accuracy_score\n",
    "\n",
    "accuracy_score(y_stack_pred, y_val)"
   ]
  },
  {
   "cell_type": "markdown",
   "id": "abba16b4-e789-4cb6-a9a6-026601a88ab2",
   "metadata": {},
   "source": [
    "This is just a test for the next section of automating prediction, obviously this is a biased score since `blender_1` was trained on `layer_1_predictions`"
   ]
  },
  {
   "cell_type": "markdown",
   "id": "863f4f36-b863-4668-98e9-16c4ab7b24e1",
   "metadata": {},
   "source": [
    "## Automate Prediction"
   ]
  },
  {
   "cell_type": "markdown",
   "id": "71983c0f-13e4-4582-8ed2-7290449ce929",
   "metadata": {},
   "source": [
    "For each instance in input X\n",
    "- predict its y using all 4 estimators\n",
    "- feed the predictions into the blender to predict a layer_2 y\n",
    "- return layer_2 y as final prediction"
   ]
  },
  {
   "cell_type": "code",
   "execution_count": 79,
   "id": "0d1f5d05-0712-4fb2-b2dc-a25f01240d1e",
   "metadata": {},
   "outputs": [],
   "source": [
    "# a one layer stacking ensemble model\n",
    "def stacking_predict(X, estimators, blender):\n",
    "    y_1_pred = np.array([estimator.predict(X) for estimator in estimators]).T\n",
    "    \n",
    "    return blender.predict(y_1_pred)"
   ]
  },
  {
   "cell_type": "code",
   "execution_count": 85,
   "id": "2251aab4-1538-4ef2-8c9a-8ef4caf91bb9",
   "metadata": {},
   "outputs": [
    {
     "data": {
      "text/plain": [
       "array([3, 8, 6, ..., 5, 6, 8], dtype=int8)"
      ]
     },
     "execution_count": 85,
     "metadata": {},
     "output_type": "execute_result"
    }
   ],
   "source": [
    "y_stack_pred = stacking_predict(X_val, estimators, blender_1)\n",
    "y_stack_pred"
   ]
  },
  {
   "cell_type": "code",
   "execution_count": 86,
   "id": "6171d9d1-a901-4a59-8798-472fc44b9400",
   "metadata": {},
   "outputs": [
    {
     "data": {
      "text/plain": [
       "(10000,)"
      ]
     },
     "execution_count": 86,
     "metadata": {},
     "output_type": "execute_result"
    }
   ],
   "source": [
    "y_stack_pred.shape"
   ]
  },
  {
   "cell_type": "code",
   "execution_count": 87,
   "id": "efb133f2-a147-4479-99ef-27760edd5dcb",
   "metadata": {},
   "outputs": [
    {
     "data": {
      "text/plain": [
       "0.9858"
      ]
     },
     "execution_count": 87,
     "metadata": {},
     "output_type": "execute_result"
    }
   ],
   "source": [
    "accuracy_score(y_stack_pred, y_val)"
   ]
  },
  {
   "cell_type": "markdown",
   "id": "0eddf218-52f4-4e7e-b381-f545428dc43d",
   "metadata": {},
   "source": [
    "Ok the prediction function works. Now let's evaluate all models on the test set!"
   ]
  },
  {
   "cell_type": "markdown",
   "id": "15679774-fc59-463c-8cd6-a09a85384fc6",
   "metadata": {},
   "source": [
    "## Evaluate on Test Set"
   ]
  },
  {
   "cell_type": "code",
   "execution_count": 98,
   "id": "2d39aa2d-28fa-49ba-857c-aef959f37c00",
   "metadata": {},
   "outputs": [
    {
     "name": "stdout",
     "output_type": "stream",
     "text": [
      "LinearSVC(max_iter=100, random_state=69420, tol=20)\n",
      "                                         Accuracy Score:   0.8665\n",
      "KNeighborsClassifier()\n",
      "                                         Accuracy Score:   0.9664\n",
      "RandomForestClassifier(random_state=69420)\n",
      "                                         Accuracy Score:   0.9694\n",
      "ExtraTreesClassifier(random_state=69420)\n",
      "                                         Accuracy Score:   0.9704\n",
      "Stacking Ensemble\n",
      "                                         Accuracy Score:    0.971\n"
     ]
    }
   ],
   "source": [
    "for estimator in estimators:\n",
    "    print(estimator)\n",
    "    print('{:>40} {:>6}  {:>6}'.format(' ', \"Accuracy Score: \", estimator.score(X_test, y_test)))\n",
    "    \n",
    "y_stack_pred = stacking_predict(X_test, estimators, blender_1)\n",
    "stack_acc_score = accuracy_score(y_stack_pred, y_test)\n",
    "\n",
    "print(\"Stacking Ensemble\")\n",
    "print('{:>40} {:>6}  {:>6}'.format(' ', \"Accuracy Score: \", stack_acc_score))"
   ]
  },
  {
   "cell_type": "markdown",
   "id": "de15d8f2-312e-46cd-8ed0-d866cccfb030",
   "metadata": {},
   "source": [
    "The final result wasn't much better than extra trees, but it wasn't worse!"
   ]
  },
  {
   "cell_type": "markdown",
   "id": "41e35d60-2fe7-43cf-bf56-a9c3d329adb1",
   "metadata": {},
   "source": [
    "# Comparison to Handsonml"
   ]
  },
  {
   "cell_type": "markdown",
   "id": "9d882dd5-e9c7-47c8-9e3d-5fdd5821dc7a",
   "metadata": {},
   "source": [
    "- Gerion used np.empty and then assigned each column in the (10000, 4) 2D array to the predictions\n",
    "    - Although my method of converting list to array then taking the transpose also works well, even better perhaps\n",
    "- Gerion used `oob_score=True` to evaluate the blender's performance without a separate validation set \n",
    "    - This is something I definitely should use\n",
    "- Gerion used `del` to delete elements in arrays and lists which is something I should use (also to delete unnecessary variables from memory?)\n",
    "<br>\n",
    "</br>\n",
    "\n",
    "<u>Changes I Should Make:</u>\n",
    "- read more about the parameters and attributes of the libraries or packages you're using\n",
    "    - This is so you don't miss out on useful functionality like `estimators_` in `VotingClassifier` and `oob_score_` in `RandomForestClassifier`"
   ]
  }
 ],
 "metadata": {
  "kernelspec": {
   "display_name": "Python 3 (ipykernel)",
   "language": "python",
   "name": "python3"
  },
  "language_info": {
   "codemirror_mode": {
    "name": "ipython",
    "version": 3
   },
   "file_extension": ".py",
   "mimetype": "text/x-python",
   "name": "python",
   "nbconvert_exporter": "python",
   "pygments_lexer": "ipython3",
   "version": "3.10.4"
  }
 },
 "nbformat": 4,
 "nbformat_minor": 5
}
