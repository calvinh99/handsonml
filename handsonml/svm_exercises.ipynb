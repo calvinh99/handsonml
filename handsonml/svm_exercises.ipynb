{
 "cells": [
  {
   "cell_type": "markdown",
   "id": "c0e6c06b-46d6-4db7-be9e-00c7ff9d850a",
   "metadata": {},
   "source": [
    "# Setup"
   ]
  },
  {
   "cell_type": "code",
   "execution_count": 19,
   "id": "66ebcc3b-5bf0-48ed-987d-534f0c52bba7",
   "metadata": {},
   "outputs": [],
   "source": [
    "import numpy as np\n",
    "import pandas as pd\n",
    "\n",
    "import os\n",
    "import sys\n",
    "\n",
    "import joblib\n",
    "\n",
    "# make dir\n",
    "MODEL_PATH = os.path.join(\".\", \"_models\", \"svm_exercises\")\n",
    "os.makedirs(MODEL_PATH, exist_ok=True)\n",
    "\n",
    "# plot pretty figures\n",
    "%matplotlib inline\n",
    "import matplotlib as mpl\n",
    "import matplotlib.pyplot as plt\n",
    "mpl.rc('axes', labelsize=14)\n",
    "mpl.rc('xtick', labelsize=12)\n",
    "mpl.rc('ytick', labelsize=12)"
   ]
  },
  {
   "cell_type": "markdown",
   "id": "9aed5a6a-4d02-4254-b3a6-9095a86b088a",
   "metadata": {},
   "source": [
    "# LinearSVC, SVC, and SGDClassifier"
   ]
  },
  {
   "cell_type": "markdown",
   "id": "dd8f7ed2-9932-4c42-97ae-37071536c45a",
   "metadata": {},
   "source": [
    "Using iris dataset, try to train the three types of models above to produce roughly the same model.\n",
    "- Load iris dataset into X (input instances), and y (output labels)\n",
    "    - X should have only two features: petal length and petal width\n",
    "    - y should have only two labels (for linear separability): virginica or not\n",
    "- Train LinearSVC on it\n",
    "- Train SVC using linear kernel on it\n",
    "- Train SGDClassifier using hinge loss function on it\n",
    "- Check if the three models are roughly the same\n",
    "    - Plot our iris dataset on 2D graph\n",
    "    - Plot the decision boundaries and margins of each model on the same graph"
   ]
  },
  {
   "cell_type": "markdown",
   "id": "575da253-2eaf-46f1-ad84-159f0b1b3883",
   "metadata": {},
   "source": [
    "## Load Iris Dataset"
   ]
  },
  {
   "cell_type": "code",
   "execution_count": 2,
   "id": "151f00e0-6641-44aa-a01b-f19360df5458",
   "metadata": {},
   "outputs": [],
   "source": [
    "from sklearn import datasets\n",
    "\n",
    "iris = datasets.load_iris()"
   ]
  },
  {
   "cell_type": "code",
   "execution_count": 3,
   "id": "bdf634c4-eb46-463b-8718-1cc43146fd62",
   "metadata": {},
   "outputs": [
    {
     "data": {
      "text/plain": [
       "dict_keys(['data', 'target', 'frame', 'target_names', 'DESCR', 'feature_names', 'filename', 'data_module'])"
      ]
     },
     "execution_count": 3,
     "metadata": {},
     "output_type": "execute_result"
    }
   ],
   "source": [
    "iris.keys()"
   ]
  },
  {
   "cell_type": "code",
   "execution_count": 4,
   "id": "08d79c0f-89f8-4e63-8c83-1d25009118e1",
   "metadata": {},
   "outputs": [
    {
     "data": {
      "text/plain": [
       "['sepal length (cm)',\n",
       " 'sepal width (cm)',\n",
       " 'petal length (cm)',\n",
       " 'petal width (cm)']"
      ]
     },
     "execution_count": 4,
     "metadata": {},
     "output_type": "execute_result"
    }
   ],
   "source": [
    "iris.feature_names"
   ]
  },
  {
   "cell_type": "markdown",
   "id": "683a202d-f46e-496c-aca7-2a3b5e64f038",
   "metadata": {},
   "source": [
    "We want our X to be petal length and petal width."
   ]
  },
  {
   "cell_type": "code",
   "execution_count": 5,
   "id": "d39dba2a-04f8-474a-bf30-a66225112037",
   "metadata": {},
   "outputs": [
    {
     "data": {
      "text/plain": [
       "(array([[1.4, 0.2],\n",
       "        [1.4, 0.2],\n",
       "        [1.3, 0.2]]),\n",
       " array([[5.1, 3.5, 1.4, 0.2],\n",
       "        [4.9, 3. , 1.4, 0.2],\n",
       "        [4.7, 3.2, 1.3, 0.2]]))"
      ]
     },
     "execution_count": 5,
     "metadata": {},
     "output_type": "execute_result"
    }
   ],
   "source": [
    "X = iris.data[:, 2:]\n",
    "X[:3], iris.data[:3]"
   ]
  },
  {
   "cell_type": "code",
   "execution_count": 6,
   "id": "17c2ef70-3236-410b-a8b6-7ad620d30df0",
   "metadata": {},
   "outputs": [
    {
     "data": {
      "text/plain": [
       "array(['setosa', 'versicolor', 'virginica'], dtype='<U10')"
      ]
     },
     "execution_count": 6,
     "metadata": {},
     "output_type": "execute_result"
    }
   ],
   "source": [
    "iris.target_names"
   ]
  },
  {
   "cell_type": "markdown",
   "id": "3984e387-7885-4672-9cc2-a4cadf2bd6da",
   "metadata": {},
   "source": [
    "We want our y to be virginica or not"
   ]
  },
  {
   "cell_type": "code",
   "execution_count": 7,
   "id": "9e391fbb-d6a0-4bae-9774-008dd4b7f222",
   "metadata": {},
   "outputs": [
    {
     "data": {
      "text/plain": [
       "(array([False, False, False]), array([0, 0, 0]))"
      ]
     },
     "execution_count": 7,
     "metadata": {},
     "output_type": "execute_result"
    }
   ],
   "source": [
    "y = (iris.target == 2)\n",
    "y[:3], iris.target[:3]"
   ]
  },
  {
   "cell_type": "code",
   "execution_count": 8,
   "id": "5d333eeb-cf42-4c76-9eeb-6feb385649db",
   "metadata": {},
   "outputs": [
    {
     "data": {
      "text/plain": [
       "((150, 2), (150,))"
      ]
     },
     "execution_count": 8,
     "metadata": {},
     "output_type": "execute_result"
    }
   ],
   "source": [
    "X.shape, y.shape"
   ]
  },
  {
   "cell_type": "markdown",
   "id": "4ab8ac28-9ad3-460f-aeb7-6e45581d7e5e",
   "metadata": {},
   "source": [
    "Nice!"
   ]
  },
  {
   "cell_type": "markdown",
   "id": "612632c6-d33a-4245-a3cf-266b2b827226",
   "metadata": {},
   "source": [
    "## Split Train Test Sets"
   ]
  },
  {
   "cell_type": "code",
   "execution_count": 9,
   "id": "1b90bbb5-8d05-45da-9372-a2727f3e458a",
   "metadata": {},
   "outputs": [],
   "source": [
    "from sklearn.model_selection import train_test_split\n",
    "\n",
    "X_train, X_test, y_train, y_test = train_test_split(X, y, test_size=0.2, shuffle=True)"
   ]
  },
  {
   "cell_type": "markdown",
   "id": "b70d97d4-957b-4f7a-b68a-82a925907636",
   "metadata": {},
   "source": [
    "Let's not touch test set till the models are trained.\n",
    "- We don't need a validation set because the goal isn't to get great models but to get similar models using different classes."
   ]
  },
  {
   "cell_type": "markdown",
   "id": "1cfc30d9-a21f-4e76-bc9b-cae2aeab172b",
   "metadata": {},
   "source": [
    "## Train Models"
   ]
  },
  {
   "cell_type": "code",
   "execution_count": 10,
   "id": "70697063-800a-4d66-a576-2e3d8281500b",
   "metadata": {},
   "outputs": [
    {
     "name": "stdout",
     "output_type": "stream",
     "text": [
      "LinearSVC:                    [-3.1802242] [[2.19696307 3.16752928]]\n",
      "SVC:                          [-3.71602789] [[2.84187135 3.29080461]]\n",
      "SGDClassifier(alpha=0.00133): [-1.394] [[0.97438163 1.33109798]]\n"
     ]
    }
   ],
   "source": [
    "from sklearn.svm import SVC, LinearSVC\n",
    "from sklearn.linear_model import SGDClassifier\n",
    "from sklearn.preprocessing import StandardScaler\n",
    "\n",
    "C = 5\n",
    "alpha = 1 / (C * len(X))\n",
    "\n",
    "lin_clf = LinearSVC(loss=\"hinge\", C=C, random_state=42)\n",
    "svm_clf = SVC(kernel=\"linear\", C=C)\n",
    "sgd_clf = SGDClassifier(loss=\"hinge\", learning_rate=\"constant\", eta0=0.001, alpha=alpha,\n",
    "                        max_iter=1000, tol=1e-3, random_state=42)\n",
    "\n",
    "scaler = StandardScaler()\n",
    "X_scaled = scaler.fit_transform(X)\n",
    "\n",
    "lin_clf.fit(X_scaled, y)\n",
    "svm_clf.fit(X_scaled, y)\n",
    "sgd_clf.fit(X_scaled, y)\n",
    "\n",
    "print(\"LinearSVC:                   \", lin_clf.intercept_, lin_clf.coef_)\n",
    "print(\"SVC:                         \", svm_clf.intercept_, svm_clf.coef_)\n",
    "print(\"SGDClassifier(alpha={:.5f}):\".format(sgd_clf.alpha), sgd_clf.intercept_, sgd_clf.coef_)"
   ]
  },
  {
   "cell_type": "markdown",
   "id": "3f1cae9b-fcd7-4d6c-9844-50a45f5294c3",
   "metadata": {},
   "source": [
    "## Plotting :C"
   ]
  },
  {
   "cell_type": "code",
   "execution_count": 11,
   "id": "fd516d70-a1cb-4d76-a323-b3398c2e9062",
   "metadata": {},
   "outputs": [],
   "source": [
    "# Compute the slope and bias of each decision boundary\n",
    "w1 = -lin_clf.coef_[0, 0]/lin_clf.coef_[0, 1]\n",
    "b1 = -lin_clf.intercept_[0]/lin_clf.coef_[0, 1]\n",
    "w2 = -svm_clf.coef_[0, 0]/svm_clf.coef_[0, 1]\n",
    "b2 = -svm_clf.intercept_[0]/svm_clf.coef_[0, 1]\n",
    "w3 = -sgd_clf.coef_[0, 0]/sgd_clf.coef_[0, 1]\n",
    "b3 = -sgd_clf.intercept_[0]/sgd_clf.coef_[0, 1]\n",
    "\n",
    "# Transform the decision boundary lines back to the original scale (the 10 isn't necessary, just needs to be big enough\n",
    "# to fill the figure of the plot)\n",
    "line1 = scaler.inverse_transform([[-10, w1 * -10 + b1], [10, w1 * 10 + b1]])\n",
    "line2 = scaler.inverse_transform([[-10, w2 * -10 + b2], [10, w2 * 10 + b2]])\n",
    "line3 = scaler.inverse_transform([[-10, w3 * -10 + b3], [10, w3 * 10 + b3]])"
   ]
  },
  {
   "cell_type": "markdown",
   "id": "8a35eb68-90a6-4b2f-8985-ed82afc0f821",
   "metadata": {},
   "source": [
    "Each line has format:\n",
    "```\n",
    "[[x0, y0],\n",
    " [x1, y1]]\n",
    "```\n",
    "And we plot our x-values from x0 to x1 and y-values from y0 to y1"
   ]
  },
  {
   "cell_type": "code",
   "execution_count": 12,
   "id": "6218ee98-772d-4dfd-a34b-356447ae2cec",
   "metadata": {},
   "outputs": [
    {
     "data": {
      "image/png": "[encoded data removed]",
      "text/plain": [
       "<Figure size 720x288 with 1 Axes>"
      ]
     },
     "metadata": {
      "needs_background": "light"
     },
     "output_type": "display_data"
    }
   ],
   "source": [
    "# set figsize\n",
    "plt.figure(figsize=(10,4))\n",
    "\n",
    "# X axis is petal length and Y axis is petal width\n",
    "# plot virginica\n",
    "plt.plot(X[y, 0], X[y, 1], \"g^\") # label=\"Iris virginica\"\n",
    "# plot not-virginica\n",
    "plt.plot(X[~y, 0], X[~y, 1], \"ys\") # label=\"Other\"\n",
    "\n",
    "# plot decision boundaries of models\n",
    "plt.plot(line1[:, 0], line1[:, 1], \"k:\", label=\"LinearSVC\")\n",
    "plt.plot(line2[:, 0], line2[:, 1], \"b--\", linewidth=2, label=\"SVC\")\n",
    "plt.plot(line3[:, 0], line3[:, 1], \"r-\", label=\"SGDClassifier\")\n",
    "\n",
    "# Visualization\n",
    "plt.xlabel(\"Petal length\", fontsize=14)\n",
    "plt.ylabel(\"Petal width\", fontsize=14)\n",
    "plt.legend(loc=\"center left\", fontsize=14)\n",
    "plt.axis([0, 7, 0, 3])\n",
    "plt.show()"
   ]
  },
  {
   "cell_type": "markdown",
   "id": "e14a3867-63c3-4f29-a8ca-1fcfe4decc21",
   "metadata": {},
   "source": [
    "These models are indeed roughly the same!"
   ]
  },
  {
   "cell_type": "markdown",
   "id": "269b4d3d-3be8-49b4-b355-3fbe9ee23f72",
   "metadata": {},
   "source": [
    "# Train a SVM Classifier for MNIST Dataset"
   ]
  },
  {
   "cell_type": "markdown",
   "id": "7caf9b59-49d0-47f9-9b9a-aa5712adc9c3",
   "metadata": {},
   "source": [
    "We want to create a high accuracy model for MNIST dataset using SVM classifier.\n",
    "- Get MNIST dataset from openml\n",
    "- Split train test set\n",
    "- Train SVC with rbf kernel and default gamma/C values\n",
    "- Fine-tune gamma/C values with Grid Search\n",
    "- Save model"
   ]
  },
  {
   "cell_type": "markdown",
   "id": "df3a2d4a-46d0-4e10-8822-1b35b40aec51",
   "metadata": {},
   "source": [
    "## Get MNIST Dataset"
   ]
  },
  {
   "cell_type": "code",
   "execution_count": 13,
   "id": "4db18669-2a67-4fbd-b1ea-199c04566070",
   "metadata": {},
   "outputs": [],
   "source": [
    "from sklearn.datasets import fetch_openml\n",
    "\n",
    "mnist = fetch_openml('mnist_784', version=1, as_frame=False)\n",
    "\n",
    "X, y = mnist[\"data\"], mnist[\"target\"]"
   ]
  },
  {
   "cell_type": "code",
   "execution_count": 14,
   "id": "6d2fd0f9-63fd-4e28-b327-7632d5f477d9",
   "metadata": {},
   "outputs": [
    {
     "data": {
      "text/plain": [
       "((70000, 784), (70000,))"
      ]
     },
     "execution_count": 14,
     "metadata": {},
     "output_type": "execute_result"
    }
   ],
   "source": [
    "X.shape, y.shape"
   ]
  },
  {
   "cell_type": "markdown",
   "id": "4a62e359-8fe4-4a73-bfba-57dbfebe3152",
   "metadata": {},
   "source": [
    "## Split Train Test Sets"
   ]
  },
  {
   "cell_type": "code",
   "execution_count": 15,
   "id": "39063214-a30c-49c9-a528-fdda4f78a069",
   "metadata": {},
   "outputs": [],
   "source": [
    "X_train, X_test = X[:60000, :], X[60000:, :]\n",
    "y_train, y_test = y[:60000], y[60000:]"
   ]
  },
  {
   "cell_type": "markdown",
   "id": "4c947083-6523-4950-953a-41a10fc651fd",
   "metadata": {},
   "source": [
    "## Train SVC Model"
   ]
  },
  {
   "cell_type": "code",
   "execution_count": 17,
   "id": "f60c856e-ed21-438b-bd87-bd4c4d3ea9dc",
   "metadata": {},
   "outputs": [
    {
     "data": {
      "text/plain": [
       "(array(['0', '1', '2', '3', '4', '5', '6', '7', '8', '9'], dtype=object),\n",
       " array([592, 671, 581, 608, 623, 514, 608, 651, 551, 601]))"
      ]
     },
     "execution_count": 17,
     "metadata": {},
     "output_type": "execute_result"
    }
   ],
   "source": [
    "np.unique(y_train[:6000], return_counts=True)"
   ]
  },
  {
   "cell_type": "markdown",
   "id": "b2decc25-88c5-4f78-9440-f11054b4e713",
   "metadata": {},
   "source": [
    "Looks like we don't need to use stratified shuffle split."
   ]
  },
  {
   "cell_type": "code",
   "execution_count": 19,
   "id": "2f319383-963f-420c-a942-9f5198fc5d41",
   "metadata": {},
   "outputs": [
    {
     "data": {
      "text/plain": [
       "Pipeline(steps=[('scaler', StandardScaler()), ('svc', SVC())])"
      ]
     },
     "execution_count": 19,
     "metadata": {},
     "output_type": "execute_result"
    }
   ],
   "source": [
    "from sklearn.pipeline import Pipeline\n",
    "\n",
    "svc_pipe = Pipeline([\n",
    "    (\"scaler\", StandardScaler()),\n",
    "    (\"svc\", SVC(kernel=\"rbf\", gamma=\"scale\")),\n",
    "])\n",
    "\n",
    "svc_pipe.fit(X_train[:6000], y_train[:6000])"
   ]
  },
  {
   "cell_type": "code",
   "execution_count": 21,
   "id": "3a13d634-886e-40b9-8dea-09fd0fa3e3ca",
   "metadata": {},
   "outputs": [
    {
     "data": {
      "text/plain": [
       "0.9261"
      ]
     },
     "execution_count": 21,
     "metadata": {},
     "output_type": "execute_result"
    }
   ],
   "source": [
    "from sklearn.metrics import accuracy_score\n",
    "\n",
    "accuracy_score(svc_pipe.predict(X_test), y_test)"
   ]
  },
  {
   "cell_type": "markdown",
   "id": "68cce819-0a7a-4698-8d40-4e769b6add16",
   "metadata": {},
   "source": [
    "We can do better with some fine-tuning"
   ]
  },
  {
   "cell_type": "markdown",
   "id": "260bb8a7-5adb-4dcc-baed-3d76a5e5e8cf",
   "metadata": {},
   "source": [
    "## Fine-Tune Model"
   ]
  },
  {
   "cell_type": "markdown",
   "id": "92616e23-94b2-4792-8ffa-8529b99c382b",
   "metadata": {},
   "source": [
    "Let's use a smaller set for fine-tuning otherwise it will take forever.\n",
    "- Use smaller subset to fine-tune gamma and C"
   ]
  },
  {
   "cell_type": "code",
   "execution_count": 50,
   "id": "849c1985-5b96-4d6f-b613-064f1d445a29",
   "metadata": {},
   "outputs": [
    {
     "name": "stdout",
     "output_type": "stream",
     "text": [
      "Fitting 3 folds for each of 100 candidates, totalling 300 fits\n"
     ]
    },
    {
     "data": {
      "text/plain": [
       "RandomizedSearchCV(cv=3,\n",
       "                   estimator=Pipeline(steps=[('scaler', StandardScaler()),\n",
       "                                             ('svc', SVC())]),\n",
       "                   n_iter=100,\n",
       "                   param_distributions={'svc__C': <scipy.stats._distn_infrastructure.rv_frozen object at 0x7ffb727ffc40>,\n",
       "                                        'svc__gamma': <scipy.stats._distn_infrastructure.rv_frozen object at 0x7ffb617063b0>},\n",
       "                   verbose=1)"
      ]
     },
     "execution_count": 50,
     "metadata": {},
     "output_type": "execute_result"
    }
   ],
   "source": [
    "from sklearn.model_selection import RandomizedSearchCV\n",
    "from scipy.stats import reciprocal, uniform\n",
    "\n",
    "tuning_index = 1000\n",
    "\n",
    "param_dist = {\n",
    "    \"svc__gamma\": reciprocal(0.001, 0.01),\n",
    "    \"svc__C\": uniform(1, 10),\n",
    "}\n",
    "\n",
    "rnd_search_cv = RandomizedSearchCV(svc_pipe, param_dist, n_iter=100, verbose=1, cv=3)\n",
    "rnd_search_cv.fit(X_train[:tuning_index], y_train[:tuning_index])"
   ]
  },
  {
   "cell_type": "code",
   "execution_count": 51,
   "id": "e93d3441-eaa8-493d-a14e-5e80b21200f3",
   "metadata": {},
   "outputs": [
    {
     "data": {
      "text/plain": [
       "Pipeline(steps=[('scaler', StandardScaler()),\n",
       "                ('svc', SVC(C=4.613746209128753, gamma=0.0010704845854429843))])"
      ]
     },
     "execution_count": 51,
     "metadata": {},
     "output_type": "execute_result"
    }
   ],
   "source": [
    "rnd_search_cv.best_estimator_"
   ]
  },
  {
   "cell_type": "markdown",
   "id": "7a5acbe5-98c9-441f-8b2a-e0a7e7b5f219",
   "metadata": {},
   "source": [
    "### Save Final Model"
   ]
  },
  {
   "cell_type": "code",
   "execution_count": 56,
   "id": "cd369924-c256-4206-9614-debb48e97ca7",
   "metadata": {},
   "outputs": [
    {
     "data": {
      "text/plain": [
       "['./_models/svm_exercises/svc_pipeline.pkl']"
      ]
     },
     "execution_count": 56,
     "metadata": {},
     "output_type": "execute_result"
    }
   ],
   "source": [
    "# save pipeline\n",
    "joblib.dump(rnd_search_cv.best_estimator_, os.path.join(MODEL_PATH, \"svc_pipeline.pkl\"))"
   ]
  },
  {
   "cell_type": "markdown",
   "id": "591f8e7c-7250-40e9-92bc-7417aea095ae",
   "metadata": {},
   "source": [
    "## Evaluate on Test Set"
   ]
  },
  {
   "cell_type": "code",
   "execution_count": 20,
   "id": "0f8be8e9-ad28-43c8-96ee-3558d5f5d7dc",
   "metadata": {},
   "outputs": [
    {
     "data": {
      "text/plain": [
       "Pipeline(steps=[('scaler', StandardScaler()),\n",
       "                ('svc', SVC(C=4.613746209128753, gamma=0.0010704845854429843))])"
      ]
     },
     "execution_count": 20,
     "metadata": {},
     "output_type": "execute_result"
    }
   ],
   "source": [
    "final_pipeline = joblib.load(os.path.join(MODEL_PATH, \"svc_pipeline.pkl\"))\n",
    "final_pipeline"
   ]
  },
  {
   "cell_type": "markdown",
   "id": "a2b28515-e224-4076-b3f5-ce18768aa041",
   "metadata": {},
   "source": [
    "Below code takes too long"
   ]
  },
  {
   "cell_type": "code",
   "execution_count": null,
   "id": "79b66113-59d1-4940-aa7b-e0c04dcdf786",
   "metadata": {},
   "outputs": [],
   "source": [
    "# final_pipeline.fit(X_train, y_train)"
   ]
  },
  {
   "cell_type": "markdown",
   "id": "d0b31dba-38b5-441a-b026-bd4dc98a0412",
   "metadata": {},
   "source": [
    "Accuracy should be pretty high"
   ]
  },
  {
   "cell_type": "markdown",
   "id": "8b8b952f-23ca-4d5e-a7f3-bb81c97e7c2d",
   "metadata": {},
   "source": [
    "# Train a SVM Regressor for Housing Dataset"
   ]
  },
  {
   "cell_type": "markdown",
   "id": "255915d8-d991-4450-8530-881ba9928239",
   "metadata": {},
   "source": [
    "Maybe I will do this, when I need to revisit some fundamentals. But the process of this is the same as training a classifier, just with different data, models, evaluation metrics, and fine-tuning parameters.\n",
    "- Get dataset (already preprocessed)\n",
    "- Split into train test\n",
    "- Train SVR model\n",
    "    - Scale with StandardScaler\n",
    "    - Evaluate using MSE\n",
    "- Fine-tune hyperparameters\n",
    "- Evaluate on test set"
   ]
  }
 ],
 "metadata": {
  "kernelspec": {
   "display_name": "Python 3 (ipykernel)",
   "language": "python",
   "name": "python3"
  },
  "language_info": {
   "codemirror_mode": {
    "name": "ipython",
    "version": 3
   },
   "file_extension": ".py",
   "mimetype": "text/x-python",
   "name": "python",
   "nbconvert_exporter": "python",
   "pygments_lexer": "ipython3",
   "version": "3.10.4"
  }
 },
 "nbformat": 4,
 "nbformat_minor": 5
}
