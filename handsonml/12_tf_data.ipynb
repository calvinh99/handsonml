{
 "cells": [
  {
   "cell_type": "markdown",
   "id": "890d6e02-9127-4aaa-905c-cf122376b10f",
   "metadata": {
    "tags": []
   },
   "source": [
    "# Imports"
   ]
  },
  {
   "cell_type": "code",
   "execution_count": 29,
   "id": "926ba2df-f0d5-44d3-82ab-d5da07ab5323",
   "metadata": {},
   "outputs": [],
   "source": [
    "# handle math and data\n",
    "import numpy as np\n",
    "import pandas as pd\n",
    "import time\n",
    "import math\n",
    "\n",
    "# to plot nice figures\n",
    "%matplotlib inline\n",
    "import matplotlib as mpl\n",
    "import matplotlib.pyplot as plt\n",
    "mpl.rc('axes', labelsize=14)\n",
    "mpl.rc('xtick', labelsize=12)\n",
    "mpl.rc('ytick', labelsize=12)\n",
    "\n",
    "# handle files\n",
    "import os\n",
    "import sys\n",
    "import joblib\n",
    "\n",
    "# deep learning\n",
    "import tensorflow as tf\n",
    "from tensorflow import keras\n",
    "\n",
    "# Example protobuf\n",
    "from tensorflow.train import BytesList, FloatList, Int64List\n",
    "from tensorflow.train import Feature, Features, Example"
   ]
  },
  {
   "cell_type": "markdown",
   "id": "49704995-2a95-403d-839e-0199f36c80b3",
   "metadata": {
    "jp-MarkdownHeadingCollapsed": true,
    "tags": []
   },
   "source": [
    "# Setup"
   ]
  },
  {
   "cell_type": "code",
   "execution_count": 2,
   "id": "0aedc449-a19e-44ee-906c-2da6c95545d1",
   "metadata": {},
   "outputs": [],
   "source": [
    "# random states\n",
    "SEED = 69\n",
    "\n",
    "K = keras.backend\n",
    "\n",
    "def reset_backend():\n",
    "    K.clear_session()\n",
    "    np.random.seed(SEED)\n",
    "    tf.random.set_seed(SEED)\n",
    "\n",
    "# tf datasets directory\n",
    "DATA_DIR = os.path.join(\".\", \"_datasets\", \"12_tf_data\")\n",
    "os.makedirs(DATA_DIR, exist_ok=True)\n",
    "\n",
    "# DEBUG mode (aka testing and experimenting)\n",
    "DEBUG = True\n",
    "AUTOTUNE = tf.data.AUTOTUNE"
   ]
  },
  {
   "cell_type": "markdown",
   "id": "aef5e0e9-85d7-4d56-9948-656b0b7fb280",
   "metadata": {
    "jp-MarkdownHeadingCollapsed": true,
    "tags": []
   },
   "source": [
    "# Experiments"
   ]
  },
  {
   "cell_type": "markdown",
   "id": "4eace0fb-ac27-4dad-ba4d-4fb79306e86b",
   "metadata": {},
   "source": [
    "## Datasets and Shuffling"
   ]
  },
  {
   "cell_type": "code",
   "execution_count": 21,
   "id": "14a18597-7290-43ac-98d4-2ff5ab38e5b9",
   "metadata": {},
   "outputs": [
    {
     "data": {
      "text/plain": [
       "<RangeDataset element_spec=TensorSpec(shape=(), dtype=tf.int64, name=None)>"
      ]
     },
     "execution_count": 21,
     "metadata": {},
     "output_type": "execute_result"
    }
   ],
   "source": [
    "dataset_1 = tf.data.Dataset.range(100)\n",
    "dataset_1"
   ]
  },
  {
   "cell_type": "code",
   "execution_count": 36,
   "id": "39cc6c63-19a6-455e-80dd-8914efe00b7b",
   "metadata": {},
   "outputs": [],
   "source": [
    "def print_items_in_dataset(dataset):\n",
    "    for item in dataset:\n",
    "        print(item.numpy(), end=\"\\n\")"
   ]
  },
  {
   "cell_type": "code",
   "execution_count": 38,
   "id": "bdaa4d08-170a-4f2d-ab3c-ad94d5936aba",
   "metadata": {},
   "outputs": [
    {
     "name": "stdout",
     "output_type": "stream",
     "text": [
      "[0 1 2 3 4 5 6 7 8 9]\n",
      "[10 11 12 13 14 15 16 17 18 19]\n",
      "[20 21 22 23 24 25 26 27 28 29]\n",
      "[30 31 32 33 34 35 36 37 38 39]\n",
      "[40 41 42 43 44 45 46 47 48 49]\n",
      "[50 51 52 53 54 55 56 57 58 59]\n",
      "[60 61 62 63 64 65 66 67 68 69]\n",
      "[70 71 72 73 74 75 76 77 78 79]\n",
      "[80 81 82 83 84 85 86 87 88 89]\n",
      "[90 91 92 93 94 95 96 97 98 99]\n"
     ]
    }
   ],
   "source": [
    "print_items_in_dataset(dataset_1.batch(10))"
   ]
  },
  {
   "cell_type": "code",
   "execution_count": 42,
   "id": "fd514641-ff09-42b6-963d-bb5a55a3c9a4",
   "metadata": {},
   "outputs": [
    {
     "name": "stdout",
     "output_type": "stream",
     "text": [
      "[ 4  9  7  8  3  6 14 10  1 18]\n",
      "[ 5 17 19  2 11 15  0 21 26 12]\n",
      "[22 16 23 13 28 33 25 35 36 31]\n",
      "[37 32 39 29 41 27 24 46 43 34]\n",
      "[49 40 51 20 52 44 53 54 48 57]\n",
      "[50 42 30 38 60 45 56 64 47 68]\n",
      "[55 65 61 70 58 71 75 63 67 73]\n",
      "[78 66 79 59 76 82 77 84 74 85]\n",
      "[69 88 62 81 86 90 93 83 92 89]\n",
      "[72 95 87 99 80 91 98 94 97 96]\n"
     ]
    }
   ],
   "source": [
    "dataset_1_shuff = dataset_1.shuffle(buffer_size=10, seed=SEED).batch(10)\n",
    "print_items_in_dataset(dataset_1_shuff)"
   ]
  },
  {
   "cell_type": "code",
   "execution_count": 43,
   "id": "918242e2-0d11-4089-aa7d-945348923b4d",
   "metadata": {},
   "outputs": [
    {
     "name": "stdout",
     "output_type": "stream",
     "text": [
      "[74 67 73 50 88 61 44 25 11 31]\n",
      "[ 0 10 35 99 27 70 22 56 64  1]\n",
      "[42 87 43 28 23 24 49 13 72 30]\n",
      "[37 39  2 53 51 55 40 84 83 15]\n",
      "[14 62 32  9 48 82 21 45 18 97]\n",
      "[80 94 46 47 96 57 92 63  8 36]\n",
      "[34 75 26 12 68 76 69 59 29 54]\n",
      "[98  3 79 60 90 33 41 95 86 58]\n",
      "[ 6 81  5 71 66 77 19 38 20 17]\n",
      "[ 7 85 89 78 93 91 16  4 65 52]\n"
     ]
    }
   ],
   "source": [
    "dataset_1_shuff = dataset_1.shuffle(buffer_size=100, seed=SEED).batch(10)\n",
    "print_items_in_dataset(dataset_1_shuff)"
   ]
  },
  {
   "cell_type": "markdown",
   "id": "fdb6ecb7-6143-484e-9878-63ba999eb6d9",
   "metadata": {},
   "source": [
    "So the batch is what gets random sampled into the returned dataset (the new shuffled dataset), and every time it gets random sampled, the next item in the original dataset will replace what was sampled.\n",
    "\n",
    ">Ex. If batch size is 2 then 0 and 1 will be in batch. Then let's say 1 gets randomly sampled, then new batch will be 0 and 2 since 1 gets replaced by next item. Then this is repeated. \n",
    "\n",
    ">So a small batch size will return a new dataset that is only shuffled a little, since it's hard for 0 or 1 to just happen to not get sampled 90 times in a row, and it is impossible to sample let's say 99 in the beginning, since it is literally the last element.\n",
    "\n",
    ">A batch size equal to size of dataset will basically just be normal shuffling since it will randomly sample from the batch, but the batch is literally the entire dataset."
   ]
  },
  {
   "cell_type": "markdown",
   "id": "72700560-01ba-4bed-968e-aac743750350",
   "metadata": {},
   "source": [
    "## Interleaving Data"
   ]
  },
  {
   "cell_type": "markdown",
   "id": "21b18ec9-b79f-4877-8a7f-847922ee003b",
   "metadata": {},
   "source": [
    "You shuffle and split the data file into many different files, and then you interleave and read from the files in a random order."
   ]
  },
  {
   "cell_type": "code",
   "execution_count": 44,
   "id": "af1ba540-8050-49c2-bea9-1c1820a6df2c",
   "metadata": {},
   "outputs": [],
   "source": [
    "train_filepaths = os.path.join(\".\", \"_datasets\", \"housing\", \"my_housing_*\")"
   ]
  },
  {
   "cell_type": "code",
   "execution_count": 45,
   "id": "4d2452a5-62d1-4fb6-b7b3-f6090c0ae2b8",
   "metadata": {},
   "outputs": [],
   "source": [
    "filepath_dataset = tf.data.Dataset.list_files(train_filepaths, seed=SEED)"
   ]
  },
  {
   "cell_type": "code",
   "execution_count": 54,
   "id": "2048a5ad-7b10-472e-9409-8b4e2b8d506a",
   "metadata": {},
   "outputs": [
    {
     "name": "stdout",
     "output_type": "stream",
     "text": [
      "tf.Tensor(b'./_datasets/housing/my_housing_ag', shape=(), dtype=string)\n",
      "tf.Tensor(b'./_datasets/housing/my_housing_aj', shape=(), dtype=string)\n",
      "tf.Tensor(b'./_datasets/housing/my_housing_af', shape=(), dtype=string)\n"
     ]
    }
   ],
   "source": [
    "for filepath in filepath_dataset.take(3):\n",
    "    print(filepath)"
   ]
  },
  {
   "cell_type": "code",
   "execution_count": 83,
   "id": "9ab0a374-2471-4d2c-9188-64d7089bdfa4",
   "metadata": {},
   "outputs": [],
   "source": [
    "n_readers = 5\n",
    "bytestring_dataset = filepath_dataset.interleave(\n",
    "    lambda filepath: tf.data.TextLineDataset(filepath).skip(1),\n",
    "    cycle_length=n_readers,\n",
    "    num_parallel_calls=tf.data.AUTOTUNE,\n",
    ")"
   ]
  },
  {
   "cell_type": "code",
   "execution_count": 84,
   "id": "b1fee396-3e43-4759-99cd-0536cee14d58",
   "metadata": {},
   "outputs": [
    {
     "name": "stdout",
     "output_type": "stream",
     "text": [
      "b'-118.2,34.13,52.0,2035.0,459.0,2589.0,438.0,3.5349,193600.0,<1H OCEAN'\n",
      "b'-121.79,36.95,34.0,2152.0,430.0,1516.0,386.0,3.7863,192200.0,<1H OCEAN'\n",
      "b'-121.21,37.8,33.0,1862.0,429.0,971.0,389.0,2.6053,99200.0,INLAND'\n"
     ]
    }
   ],
   "source": [
    "for line in bytestring_dataset.take(3):\n",
    "    print(line.numpy())"
   ]
  },
  {
   "cell_type": "markdown",
   "id": "943c55ed-9d7f-4c5b-9c84-29493bc24ac1",
   "metadata": {},
   "source": [
    "## Parse and Prefetch"
   ]
  },
  {
   "cell_type": "code",
   "execution_count": 85,
   "id": "42ac1d4b-5967-445e-8334-0ec9d24d8ae7",
   "metadata": {},
   "outputs": [],
   "source": [
    "n_inputs = 8\n",
    "\n",
    "def parse(line):\n",
    "    defs = [0.] * n_inputs + [tf.constant([], dtype=tf.float32)] + ['']\n",
    "    fields = tf.io.decode_csv(line, record_defaults=defs)\n",
    "    # drop categorical\n",
    "    fields = fields[:-1]\n",
    "    x = tf.stack(fields[:-1])\n",
    "    y = tf.stack(fields[-1:])\n",
    "    return x, y"
   ]
  },
  {
   "cell_type": "code",
   "execution_count": 86,
   "id": "6af912b7-e048-4064-a3ee-c0f0f629dba9",
   "metadata": {},
   "outputs": [],
   "source": [
    "dataset = bytestring_dataset.map(parse, num_parallel_calls=tf.data.AUTOTUNE)"
   ]
  },
  {
   "cell_type": "code",
   "execution_count": 92,
   "id": "cf569c2c-43fa-4228-80b3-b73127f7fb1c",
   "metadata": {},
   "outputs": [
    {
     "name": "stdout",
     "output_type": "stream",
     "text": [
      "[-117.89     34.09     35.     1205.      330.      583.      319.\n",
      "    2.3971] [188900.]\n"
     ]
    }
   ],
   "source": [
    "for tensor in dataset.take(1):\n",
    "    print(tensor[0].numpy(), tensor[1].numpy())"
   ]
  },
  {
   "cell_type": "code",
   "execution_count": 100,
   "id": "cf92ffc1-53fa-4033-9c5b-9aa7a3bafb1c",
   "metadata": {},
   "outputs": [
    {
     "data": {
      "text/plain": [
       "<PrefetchDataset element_spec=(TensorSpec(shape=(None, 8), dtype=tf.float32, name=None), TensorSpec(shape=(None, 1), dtype=tf.float32, name=None))>"
      ]
     },
     "execution_count": 100,
     "metadata": {},
     "output_type": "execute_result"
    }
   ],
   "source": [
    "dataset.batch(10).prefetch(1)"
   ]
  },
  {
   "cell_type": "code",
   "execution_count": 99,
   "id": "dab18b97-2a2f-40fb-892c-c7c71f5411d2",
   "metadata": {},
   "outputs": [
    {
     "data": {
      "text/plain": [
       "<BatchDataset element_spec=(TensorSpec(shape=(None, 8), dtype=tf.float32, name=None), TensorSpec(shape=(None, 1), dtype=tf.float32, name=None))>"
      ]
     },
     "execution_count": 99,
     "metadata": {},
     "output_type": "execute_result"
    }
   ],
   "source": [
    "dataset.batch(10)"
   ]
  },
  {
   "cell_type": "code",
   "execution_count": 96,
   "id": "3fa0ca1f-2a55-4fd1-8e67-b891e45a61c6",
   "metadata": {},
   "outputs": [
    {
     "data": {
      "text/plain": [
       "<ParallelMapDataset element_spec=(TensorSpec(shape=(8,), dtype=tf.float32, name=None), TensorSpec(shape=(1,), dtype=tf.float32, name=None))>"
      ]
     },
     "execution_count": 96,
     "metadata": {},
     "output_type": "execute_result"
    }
   ],
   "source": [
    "dataset"
   ]
  },
  {
   "cell_type": "code",
   "execution_count": 97,
   "id": "d80c39af-cb3e-49b4-8715-66bd57684180",
   "metadata": {},
   "outputs": [
    {
     "data": {
      "text/plain": [
       "<ParallelInterleaveDataset element_spec=TensorSpec(shape=(), dtype=tf.string, name=None)>"
      ]
     },
     "execution_count": 97,
     "metadata": {},
     "output_type": "execute_result"
    }
   ],
   "source": [
    "bytestring_dataset"
   ]
  },
  {
   "cell_type": "code",
   "execution_count": 98,
   "id": "e6bdcf74-b326-4cf2-b315-ecb1b9e477c7",
   "metadata": {},
   "outputs": [
    {
     "data": {
      "text/plain": [
       "<ShuffleDataset element_spec=TensorSpec(shape=(), dtype=tf.string, name=None)>"
      ]
     },
     "execution_count": 98,
     "metadata": {},
     "output_type": "execute_result"
    }
   ],
   "source": [
    "filepath_dataset"
   ]
  },
  {
   "cell_type": "markdown",
   "id": "8161a37d-5310-4f5e-967c-6c8743fd3975",
   "metadata": {},
   "source": [
    "So calling prefetch makes sense, because each dataset just wraps another one - so while you are training on one batch, another thread would read data from shuffled filepaths from disk, interleave the bytestrings, then map the parse function, then create another batch.\n",
    "- Or maybe it's in reverse order: a batch would be determined, then that many lines are shuffled and interleaved and parsed"
   ]
  },
  {
   "cell_type": "markdown",
   "id": "0c10cfc0-cd81-420b-ae9f-391f01489f87",
   "metadata": {},
   "source": [
    "## Tensorflow Protobufs"
   ]
  },
  {
   "cell_type": "markdown",
   "id": "82e7917f-e708-4ed9-a589-793b13dcbd3c",
   "metadata": {},
   "source": [
    "Protobufs are ways to easily store structured data and serialize and parse the data. This way it allows data to be useful across all languages that can implement tensorflow.\n",
    ">The `Example` protobuf is a chain of protobuf objects that ultimately allow you to store an instance with its feature names and feature values as a dictionary."
   ]
  },
  {
   "cell_type": "code",
   "execution_count": 105,
   "id": "eb9734cb-2c81-4b2b-890c-675121e6d7a0",
   "metadata": {},
   "outputs": [],
   "source": [
    "from tensorflow.train import BytesList, FloatList, Int64List\n",
    "from tensorflow.train import Feature, Features, Example\n",
    "\n",
    "person_example = Example(\n",
    "    features=Features(\n",
    "        feature={\n",
    "            \"name\": Feature(\n",
    "                bytes_list=BytesList(\n",
    "                    value=[b\"Alice\"]\n",
    "                )\n",
    "            ),\n",
    "            \"id\": Feature(\n",
    "                int64_list=Int64List(\n",
    "                    value=[123]\n",
    "                )\n",
    "            ),\n",
    "            \"emails\": Feature(\n",
    "                bytes_list=BytesList(\n",
    "                    value=[b\"alice123@gmail.com\",\n",
    "                           b\"alicecoolkid@icloud.com\"]\n",
    "                )\n",
    "            )\n",
    "        }\n",
    "    )\n",
    ")"
   ]
  },
  {
   "cell_type": "code",
   "execution_count": 118,
   "id": "d4102b03-bde6-4ef0-ab8f-3170b10ba2fd",
   "metadata": {},
   "outputs": [
    {
     "data": {
      "text/plain": [
       "b'\\n[\\n\\x0b\\n\\x02id\\x12\\x05\\x1a\\x03\\n\\x01{\\n\\x11\\n\\x04name\\x12\\t\\n\\x07\\n\\x05Alice\\n9\\n\\x06emails\\x12/\\n-\\n\\x12alice123@gmail.com\\n\\x17alicecoolkid@icloud.com'"
      ]
     },
     "execution_count": 118,
     "metadata": {},
     "output_type": "execute_result"
    }
   ],
   "source": [
    "serialized_person_example = person_example.SerializeToString()\n",
    "serialized_person_example"
   ]
  },
  {
   "cell_type": "markdown",
   "id": "5e79daf8-cae0-42fe-83a5-067b77adbb80",
   "metadata": {},
   "source": [
    "Store the protobuf as a tfrecord."
   ]
  },
  {
   "cell_type": "code",
   "execution_count": 119,
   "id": "df4d5953-fb40-41a5-b604-7f6ac2fab5b5",
   "metadata": {},
   "outputs": [],
   "source": [
    "example_protobuf_path = os.path.join(DATA_DIR, \"test_example_protobuf.tfrecord\")\n",
    "\n",
    "with tf.io.TFRecordWriter(example_protobuf_path) as f:\n",
    "    f.write(serialized_person_example)"
   ]
  },
  {
   "cell_type": "markdown",
   "id": "26ef0907-79f2-497d-aeba-cbc61639b6cc",
   "metadata": {},
   "source": [
    "## Load and Parse Example Protobuf"
   ]
  },
  {
   "cell_type": "code",
   "execution_count": 122,
   "id": "69bf0017-e67b-421e-8898-c459a9007dec",
   "metadata": {},
   "outputs": [
    {
     "name": "stdout",
     "output_type": "stream",
     "text": [
      "tf.Tensor(b'\\n[\\n\\x0b\\n\\x02id\\x12\\x05\\x1a\\x03\\n\\x01{\\n\\x11\\n\\x04name\\x12\\t\\n\\x07\\n\\x05Alice\\n9\\n\\x06emails\\x12/\\n-\\n\\x12alice123@gmail.com\\n\\x17alicecoolkid@icloud.com', shape=(), dtype=string)\n"
     ]
    }
   ],
   "source": [
    "serialized_examples_dataset = tf.data.TFRecordDataset(example_protobuf_path)\n",
    "\n",
    "for serialized_example in serialized_examples_dataset:\n",
    "    print(serialized_example)"
   ]
  },
  {
   "cell_type": "markdown",
   "id": "001904d2-e271-4266-97fc-edf8ac1daecc",
   "metadata": {},
   "source": [
    "To parse this, we need to create a description dictionary for the features in the protobuf."
   ]
  },
  {
   "cell_type": "code",
   "execution_count": 128,
   "id": "857fbd2c-83f8-41f4-bfd6-3911c232a0ee",
   "metadata": {},
   "outputs": [
    {
     "name": "stdout",
     "output_type": "stream",
     "text": [
      "<class 'dict'>\n"
     ]
    },
    {
     "data": {
      "text/plain": [
       "{'emails': <tensorflow.python.framework.sparse_tensor.SparseTensor at 0x7f9c88ecbfd0>,\n",
       " 'id': <tf.Tensor: shape=(), dtype=int64, numpy=123>,\n",
       " 'name': <tf.Tensor: shape=(), dtype=string, numpy=b'Alice'>}"
      ]
     },
     "execution_count": 128,
     "metadata": {},
     "output_type": "execute_result"
    }
   ],
   "source": [
    "feature_description = {\n",
    "    \"name\": tf.io.FixedLenFeature([], tf.string, default_value=\"\"),\n",
    "    \"id\": tf.io.FixedLenFeature([], tf.int64, default_value=0),\n",
    "    \"emails\": tf.io.VarLenFeature(tf.string),\n",
    "}\n",
    "\n",
    "for serialized_example in serialized_examples_dataset:\n",
    "    parsed_example = tf.io.parse_single_example(serialized_example, \n",
    "                                                feature_description)\n",
    "\n",
    "print(type(parsed_example))\n",
    "parsed_example"
   ]
  },
  {
   "cell_type": "code",
   "execution_count": 125,
   "id": "966f5d7e-507a-49bb-b0ea-36a65ba3c54a",
   "metadata": {},
   "outputs": [
    {
     "data": {
      "text/plain": [
       "<tf.Tensor: shape=(2,), dtype=string, numpy=array([b'alice123@gmail.com', b'alicecoolkid@icloud.com'], dtype=object)>"
      ]
     },
     "execution_count": 125,
     "metadata": {},
     "output_type": "execute_result"
    }
   ],
   "source": [
    "parsed_example[\"emails\"].values"
   ]
  },
  {
   "cell_type": "markdown",
   "id": "c1894d3c-f66c-4c23-a758-92bc050f712d",
   "metadata": {
    "tags": []
   },
   "source": [
    "# Fashion MNIST using Data API"
   ]
  },
  {
   "cell_type": "markdown",
   "id": "00ecc882-ea97-4253-b7f9-beb445249d05",
   "metadata": {
    "tags": []
   },
   "source": [
    "## Load Data"
   ]
  },
  {
   "cell_type": "code",
   "execution_count": 3,
   "id": "628a7636-5189-439a-9186-3a60e16aa213",
   "metadata": {},
   "outputs": [
    {
     "data": {
      "text/plain": [
       "(60000, 28, 28)"
      ]
     },
     "execution_count": 3,
     "metadata": {},
     "output_type": "execute_result"
    }
   ],
   "source": [
    "(X_train_full, y_train_full), (X_test, y_test) = tf.keras.datasets.fashion_mnist.load_data()\n",
    "\n",
    "X_train_full.shape"
   ]
  },
  {
   "cell_type": "code",
   "execution_count": 20,
   "id": "b347d4fd-7ad9-4ec6-af79-62a7e4c895e2",
   "metadata": {},
   "outputs": [
    {
     "data": {
      "text/plain": [
       "(55000, 28, 28)"
      ]
     },
     "execution_count": 20,
     "metadata": {},
     "output_type": "execute_result"
    }
   ],
   "source": [
    "X_valid, X_train = X_train_full[:5000], X_train_full[5000:]\n",
    "y_valid, y_train = y_train_full[:5000], y_train_full[5000:]\n",
    "\n",
    "X_train.shape"
   ]
  },
  {
   "cell_type": "code",
   "execution_count": 21,
   "id": "58e79dd6-c7b4-47a0-9fba-1cb147d5c229",
   "metadata": {},
   "outputs": [],
   "source": [
    "train_set = tf.data.Dataset.from_tensor_slices((X_train, y_train))\n",
    "valid_set = tf.data.Dataset.from_tensor_slices((X_valid, y_valid))\n",
    "test_set = tf.data.Dataset.from_tensor_slices((X_test, y_test))"
   ]
  },
  {
   "cell_type": "markdown",
   "id": "df20e166-b6ba-430c-86f5-dfbb2ae6b6f9",
   "metadata": {},
   "source": [
    "Visualize Images"
   ]
  },
  {
   "cell_type": "code",
   "execution_count": 25,
   "id": "2ee11283-09de-4745-bf80-54ad6475bf17",
   "metadata": {},
   "outputs": [],
   "source": [
    "def plot_image(image):\n",
    "    plt.figure(figsize=(3, 3))\n",
    "    plt.imshow(image, cmap=\"binary\")\n",
    "    plt.axis(\"off\")\n",
    "    plt.show()"
   ]
  },
  {
   "cell_type": "markdown",
   "id": "759880c5-678a-42e7-b02c-44b2e79c17d4",
   "metadata": {
    "jp-MarkdownHeadingCollapsed": true,
    "tags": []
   },
   "source": [
    "## (Experimental) Save to tfrecord files"
   ]
  },
  {
   "cell_type": "markdown",
   "id": "40c8eddc-8936-4439-b5df-cd7ea2121871",
   "metadata": {},
   "source": [
    "We need to first convert the numpy arrays to Example protobufs, then we can serialize the protobufs and write to tfrecord files.\n",
    "- Convert numpy array to `Example` protobuf and serialize\n",
    "    - Automate this with function\n",
    "    - Apply to all feature data\n",
    "- Write protobufs to tfrecord files\n",
    "    - Each dataset (train, val, test) should be split into 20 files"
   ]
  },
  {
   "cell_type": "markdown",
   "id": "f9a61e94-26e0-4973-8660-dfd9d502006c",
   "metadata": {},
   "source": [
    "### Convert Numpy Array to Protobuf"
   ]
  },
  {
   "cell_type": "markdown",
   "id": "35a8983e-8d74-46c3-93b8-f1ec9c8e8b90",
   "metadata": {},
   "source": [
    "The Example protobuf should have 2 features:\n",
    "- serialized image from the numpy array (BytesList)\n",
    "- label of image (BytesList)"
   ]
  },
  {
   "cell_type": "code",
   "execution_count": 177,
   "id": "4154eb3e-6f89-4717-aeff-c9f47e2f00a5",
   "metadata": {},
   "outputs": [
    {
     "data": {
      "text/plain": [
       "4"
      ]
     },
     "execution_count": 177,
     "metadata": {},
     "output_type": "execute_result"
    }
   ],
   "source": [
    "y_train[0]"
   ]
  },
  {
   "cell_type": "code",
   "execution_count": 179,
   "id": "1b42ea2c-9231-4e9b-a0df-a7fb778a3a90",
   "metadata": {},
   "outputs": [],
   "source": [
    "serialized_image = b\"bytestring of a serialized coat image matrix\"\n",
    "image_label = 4\n",
    "\n",
    "fashion_image_example = Example(\n",
    "    features=Features(\n",
    "        feature={\n",
    "            \"image\": Feature(\n",
    "                bytes_list=BytesList(\n",
    "                    value=[serialized_image]\n",
    "                )\n",
    "            ),\n",
    "            \"label\": Feature(\n",
    "                int64_list=Int64List(\n",
    "                    value=[image_label]\n",
    "                )\n",
    "            )\n",
    "        }\n",
    "    )\n",
    ")"
   ]
  },
  {
   "cell_type": "code",
   "execution_count": 180,
   "id": "24e45a6b-4aaf-457a-951d-19170234866b",
   "metadata": {},
   "outputs": [
    {
     "data": {
      "text/plain": [
       "b'bytestring of a serialized coat image matrix'"
      ]
     },
     "execution_count": 180,
     "metadata": {},
     "output_type": "execute_result"
    }
   ],
   "source": [
    "fashion_image_example.features.feature[\"image\"].bytes_list.value[0]"
   ]
  },
  {
   "cell_type": "code",
   "execution_count": 181,
   "id": "f59ec703-91af-44ad-aa61-ad519da41262",
   "metadata": {},
   "outputs": [
    {
     "data": {
      "text/plain": [
       "True"
      ]
     },
     "execution_count": 181,
     "metadata": {},
     "output_type": "execute_result"
    }
   ],
   "source": [
    "numpy_coat = X_train[0]\n",
    "tensor_coat = tf.convert_to_tensor(numpy_coat)\n",
    "\n",
    "serialized_numpy_coat = tf.io.serialize_tensor(numpy_coat)\n",
    "serialized_tensor_coat = tf.io.serialize_tensor(tensor_coat)\n",
    "\n",
    "(serialized_numpy_coat == serialized_tensor_coat).numpy()"
   ]
  },
  {
   "cell_type": "markdown",
   "id": "90231688-7aa5-45bd-b027-0c228bd4ea12",
   "metadata": {},
   "source": [
    "Numpy and tensors are often interchangeable, so we do not need to explicitly convert the numpy arrays into tensors to apply `tf.io.serialize_tensor()` in this case."
   ]
  },
  {
   "cell_type": "code",
   "execution_count": 186,
   "id": "a3ddd898-a5f1-480a-977b-bc1c0c49de37",
   "metadata": {},
   "outputs": [],
   "source": [
    "def convert_image_to_protobuf(X, y):\n",
    "    X_protobufs = []\n",
    "    \n",
    "    for ix in range(X.shape[0]):\n",
    "        image = X[ix]\n",
    "        serialized_image = tf.io.serialize_tensor(image).numpy()\n",
    "        label = y[ix]\n",
    "        \n",
    "        image_protobuf = Example(\n",
    "            features=Features(\n",
    "                feature={\n",
    "                    \"serialized_image\": Feature(\n",
    "                        bytes_list=BytesList(\n",
    "                            value=[serialized_image]\n",
    "                        )\n",
    "                    ),\n",
    "                    \"label\": Feature(\n",
    "                        int64_list=Int64List(\n",
    "                            value=[label]\n",
    "                        )\n",
    "                    )\n",
    "                }\n",
    "            )\n",
    "        )\n",
    "        \n",
    "        X_protobufs.append(image_protobuf)\n",
    "        \n",
    "    return X_protobufs"
   ]
  },
  {
   "cell_type": "code",
   "execution_count": 225,
   "id": "24e1b707-c1c9-4ada-a28f-0f87bf7970be",
   "metadata": {},
   "outputs": [
    {
     "data": {
      "text/plain": [
       "55000"
      ]
     },
     "execution_count": 225,
     "metadata": {},
     "output_type": "execute_result"
    }
   ],
   "source": [
    "train_protobufs = convert_image_to_protobuf(X_train, y_train)\n",
    "\n",
    "len(train_protobufs)"
   ]
  },
  {
   "cell_type": "markdown",
   "id": "ad868ef7-543e-4985-87af-035e92588f37",
   "metadata": {},
   "source": [
    "### Parse Serialized Image"
   ]
  },
  {
   "cell_type": "code",
   "execution_count": 226,
   "id": "28b51fee-ed54-4e1d-9e0a-906fc2d5d0c2",
   "metadata": {},
   "outputs": [
    {
     "data": {
      "text/plain": [
       "b'\\x08\\x04\\x12\\x08\\x12\\x02\\x08\\x1c\\x12\\x02\\x08\\x1c\"\\x90\\x06\\x00\\x00\\x00\\x00\\x00\\x00\\x00\\x00\\x00\\x00\\x00\\x00\\x00\\x00\\x00\\x00\\x00\\x00\\x00\\x01\\x00\\x00\\x00\\x00\\x00\\x00\\x00\\x00\\x00\\x00\\x00\\x00\\x00\\x00\\x00\\x00\\x00\\x00\\x00,\\x7f\\xb6\\xb9\\xa1x7\\x00\\x00\\x00\\x00\\x00\\x00\\x00\\x00\\x00\\x00\\x00\\x00\\x00\\x00\\x00\\x00\\x00\\x00\\x00*\\xc6\\xfb\\xff\\xfb\\xf9\\xf7\\xff\\xfc\\xd6d\\x00\\x00\\x00\\x00\\x00\\x00\\x00\\x00\\x00\\x00\\x00\\x00\\x00\\x00\\x02\\x00\\x00\\xe9\\xfc\\xed\\xef\\xea\\xed\\xeb\\xed\\xed\\xfe\\xe3\\x00\\x00\\x00\\x00\\x01\\x00\\x00\\x00\\x00\\x00\\x00\\x00\\x00\\x02\\x00\\x00\\x10\\xd2\\xe1\\xd7\\xaf\\xd9\\xd8\\xc1\\xc4\\xe2\\xdd\\xd12\\x00\\x00\\x02\\x00\\x00\\x00\\x00\\x00\\x00\\x00\\x00\\x02\\x00\\x00\\xc7\\xe5\\xe8\\xe6\\xf5\\xcc\\xdb\\xfd\\xf5\\xcf\\xc2\\xdf\\xe7\\xec\\xeb\\x00\\x00\\x03\\x00\\x00\\x00\\x00\\x00\\x00\\x00\\x01\\x00\\x89\\xeb\\xcc\\xd1\\xc9\\xd1\\xea\\xbe\\xea\\xda\\xd7\\xee\\xef\\xcc\\xbd\\xe0\\x9a\\x00\\x00\\x00\\x00\\x00\\x00\\x00\\x00\\x00\\x00\\x00\\xc2\\xc9\\xc8\\xd1\\xca\\xc1\\xcd\\xc2\\xb7\\xda\\xe7\\xc5\\xac\\xb5\\xc1\\xcd\\xc7\\x00\\x00\\x00\\x00\\x00\\x00\\x00\\x00\\x00\\x00\\x03\\xd4\\xcb\\xbc\\xbd\\xc4\\xc6\\xc6\\xc9\\xc4\\xd9\\xb3\\xa7\\xb7\\xd9\\xc5\\xca\\xdb\\x1e\\x00\\x00\\x00\\x00\\x00\\x00\\x00\\x00\\x00\"\\xe1\\xc8\\xc2\\xbe\\xbc\\xc0\\xc4\\xc0\\xaa\\xca\\xbe\\xc9\\xc3\\xc8\\xc9\\xd1\\xe32\\x00\\x00\\x00\\x00\\x00\\x00\\x00\\x00\\x00D\\xe1\\xd2\\xd3\\xc6\\xc0\\xc4\\xcc\\xc4\\xb5\\xd4\\xc5\\xc3\\xc0\\xce\\xdc\\xd2\\xe5]\\x00\\x00\\x00\\x00\\x00\\x00\\x00\\x00\\x00o\\xdf\\xe3\\xfd\\xd1\\xc4\\xcc\\xd3\\xce\\xb7\\xd8\\xce\\xd2\\xcb\\xd7\\xf4\\xe0\\xe3\\x96\\x00\\x00\\x00\\x00\\x00\\x00\\x00\\x00\\x00\\x8b\\xe1\\xe0\\xff\\xca\\xce\\xd4\\xd1\\xd3\\xbe\\xd5\\xca\\xcf\\xce\\xde\\xff\\xe6\\xdc\\xbe\\x00\\x00\\x00\\x00\\x00\\x00\\x00\\x00\\x00\\xb4\\xe2\\xe0\\xff\\xc7\\xcc\\xcf\\xd6\\xd6\\xbe\\xd8\\xce\\xcb\\xcd\\xdb\\xf3\\xe0\\xd6\\xea\\x00\\x00\\x00\\x00\\x00\\x00\\x00\\x00\\x00\\xe1\\xdf\\xe4\\xfe\\xd1\\xce\\xd0\\xd5\\xd2\\xbf\\xd7\\xcf\\xcc\\xd0\\xd3\\xf9\\xe2\\xd6\\xff&\\x00\\x00\\x00\\x00\\x00\\x00\\x00\\x00\\xfa\\xe8\\xf0\\xef\\xd3\\xcb\\xd1\\xcd\\xd3\\xc5\\xd7\\xd0\\xd0\\xd6\\xd5\\xef\\xe7\\xdb\\xffQ\\x00\\x00\\x00\\x00\\x00\\x00\\x00\\x00\\xf8\\xec\\xf7\\xf0\\xcb\\xc8\\xd0\\xce\\xd6\\xc1\\xd5\\xd4\\xd0\\xd4\\xd3\\xf3\\xf2\\xe1\\xfeB\\x00\\x00\\x00\\x00\\x00\\x00\\x00\\x00\\xf7\\xe6\\xfc\\xe2\\xc7\\xd3\\xca\\xd3\\xd5\\xb6\\xd5\\xd4\\xce\\xca\\xdb\\xcf\\xf7\\xde\\xedh\\x00\\x00\\x00\\x00\\x00\\x00\\x00\\n\\xf4\\xdb\\xfa\\xcd\\xc7\\xd1\\xca\\xd1\\xd3\\xbd\\xd6\\xce\\xd2\\xc8\\xd4\\x9a\\xf0\\xd0\\xdb\\x8c\\x00\\x00\\x00\\x00\\x00\\x00\\x00\\x15\\xff\\xde\\xee\\xb8\\xd2\\xc0\\xce\\xd1\\xd2\\xbd\\xd5\\xd3\\xd1\\xc0\\xe4\\x9b\\xe2\\xee\\xf1\\xa6\\x00\\x00\\x00\\x00\\x00\\x00\\x00%\\xf5\\xe2\\xf1\\x96\\xc5\\xbd\\xcc\\xd1\\xd2\\xb7\\xd5\\xd5\\xc9\\xb8\\xd7\\x92\\xd8\\xec\\xe1\\x9a\\x00\\x00\\x00\\x00\\x00\\x00\\x00:\\xef\\xe3\\xff\\x9e\\xc1\\xc3\\xcc\\xd1\\xd5\\xb4\\xcf\\xd9\\xc7\\xc2\\xd3\\x9e\\xdb\\xec\\xd8\\x97\\x00\\x00\\x00\\x00\\x00\\x00\\x00D\\xe9\\xe2\\xf3\\x8b\\xc8\\xc1\\xcd\\xd2\\xd0\\xb4\\xcd\\xd4\\xcb\\xc4\\xd8\\x9d\\xb3\\xff\\xd8\\x9b\\x00\\x00\\x00\\x00\\x00\\x00\\x00Q\\xe1\\xe0\\xd3\\x8a\\xdb\\xb9\\xc9\\xd5\\xcf\\xc5\\xe2\\xd4\\xc8\\xbe\\xd7\\xb7Z\\xff\\xd3\\x93\\x00\\x00\\x00\\x00\\x00\\x00\\x00[\\xd2\\xe6\\x9er\\xcd\\xbb\\xd0\\xd1\\xce\\xc1\\xd2\\xd3\\xcc\\xc3\\xcc\\xb5\\x17\\xff\\xd5\\x9e\\x00\\x00\\x00\\x00\\x00\\x00\\x00W\\xcd\\xe8m\\xa4\\xff\\xd6\\xe0\\xde\\xd2\\xc5\\xd6\\xe1\\xde\\xd3\\xdc\\xd9\\x00\\xea\\xd8\\xa9\\x00\\x00\\x00\\x00\\x00\\x00\\x00\\\\\\xd5\\xe8\\x92\\x05\\x86\\x97\\xa2\\xaa\\xb7\\xb6\\xa4\\xa6\\xb2\\xa2\\x9cb\\x00\\xf0\\xe1\\xd2\\x00\\x00\\x00\\x00\\x00\\x00\\x00+\\xa4\\xce\\x8d\\x00\\x00\\x00\\x00\\x00\\x00\\x00\\x00\\x00\\x00\\x00\\x00\\x00\\x00\\x7f}L\\x00\\x00\\x00'"
      ]
     },
     "execution_count": 226,
     "metadata": {},
     "output_type": "execute_result"
    }
   ],
   "source": [
    "serialized_coat = train_protobufs[0].features.feature[\"serialized_image\"].bytes_list.value[0]\n",
    "serialized_coat"
   ]
  },
  {
   "cell_type": "code",
   "execution_count": 227,
   "id": "a2876023-1f66-456e-872b-7025b78d07cc",
   "metadata": {},
   "outputs": [
    {
     "data": {
      "image/png": "[encoded data removed]",
      "text/plain": [
       "<Figure size 216x216 with 1 Axes>"
      ]
     },
     "metadata": {
      "needs_background": "light"
     },
     "output_type": "display_data"
    }
   ],
   "source": [
    "parsed_coat = tf.io.parse_tensor(serialized_coat, out_type=tf.uint8)\n",
    "plot_image(parsed_coat)"
   ]
  },
  {
   "cell_type": "code",
   "execution_count": 228,
   "id": "dc43e38d-56d6-43f4-b6ac-aa4cf8a6756d",
   "metadata": {},
   "outputs": [
    {
     "data": {
      "text/plain": [
       "4"
      ]
     },
     "execution_count": 228,
     "metadata": {},
     "output_type": "execute_result"
    }
   ],
   "source": [
    "train_protobufs[0].features.feature[\"label\"].int64_list.value[0]"
   ]
  },
  {
   "cell_type": "markdown",
   "id": "f44410ac-37ab-4770-a11c-1689ad55b3c6",
   "metadata": {},
   "source": [
    "### Write to tfrecord files"
   ]
  },
  {
   "cell_type": "markdown",
   "id": "0c2c4e63-4b0c-44ac-8cf5-ad8130f1a210",
   "metadata": {},
   "source": [
    "Let's convert the val and test sets too."
   ]
  },
  {
   "cell_type": "code",
   "execution_count": 229,
   "id": "b71d3821-8231-45cc-b58a-9010bda111af",
   "metadata": {},
   "outputs": [],
   "source": [
    "val_protobufs = convert_image_to_protobuf(X_val, y_val)\n",
    "test_protobufs = convert_image_to_protobuf(X_test, y_test)"
   ]
  },
  {
   "cell_type": "markdown",
   "id": "1306ce95-9a20-402d-ba61-e1f1ae177c74",
   "metadata": {},
   "source": [
    "We need to do the following:\n",
    "- Get the indices of 20 equal sized lists\n",
    "    - Do this for each of the train, val, test sets\n",
    "- Create a list of filepaths for 20 tfrecord data files with suffix _00, _01, ... , _19, _20\n",
    "    - Do this for each of the train, val, test sets\n",
    "- Write the protobufs to each of the 20 files using the indices and filepaths\n",
    "    - Do this for each of the train, val, test sets"
   ]
  },
  {
   "cell_type": "markdown",
   "id": "5ea7dd0b-ebc9-4da5-8020-abda49a12d9e",
   "metadata": {},
   "source": [
    "**Get indices of split lists**"
   ]
  },
  {
   "cell_type": "code",
   "execution_count": 215,
   "id": "8625e5e5-a554-4127-ad84-4741f4bd2407",
   "metadata": {},
   "outputs": [
    {
     "data": {
      "text/plain": [
       "(5000,)"
      ]
     },
     "execution_count": 215,
     "metadata": {},
     "output_type": "execute_result"
    }
   ],
   "source": [
    "n_chunks = 20\n",
    "\n",
    "val_indices = np.random.permutation(len(X_val))\n",
    "val_indices.shape"
   ]
  },
  {
   "cell_type": "code",
   "execution_count": 216,
   "id": "bb9d1599-f770-4cfd-b4d1-5bf46c3e22ce",
   "metadata": {},
   "outputs": [],
   "source": [
    "val_indices = np.split(val_indices, n_chunks)"
   ]
  },
  {
   "cell_type": "markdown",
   "id": "25a12d4a-8704-471d-a582-4a25d5c9b539",
   "metadata": {},
   "source": [
    ">**[numpy.split](https://numpy.org/doc/stable/reference/generated/numpy.split.html)**"
   ]
  },
  {
   "cell_type": "markdown",
   "id": "b808e59c-3367-42b7-9ec3-aa95c29036f3",
   "metadata": {},
   "source": [
    "**Get filepaths for each split**"
   ]
  },
  {
   "cell_type": "code",
   "execution_count": 218,
   "id": "9ad08ce6-e540-44e9-ae27-8c4b08221dda",
   "metadata": {},
   "outputs": [],
   "source": [
    "FASHION_DATA_DIR = os.path.join(DATA_DIR, \"my_fashion_mnist\")\n",
    "os.makedirs(FASHION_DATA_DIR, exist_ok=True)"
   ]
  },
  {
   "cell_type": "code",
   "execution_count": 223,
   "id": "f05a0452-cc46-4994-a575-e35d18052d90",
   "metadata": {},
   "outputs": [
    {
     "data": {
      "text/plain": [
       "['./_datasets/12_tf_data/my_fashion_mnist/val_00.tfrecord',\n",
       " './_datasets/12_tf_data/my_fashion_mnist/val_01.tfrecord',\n",
       " './_datasets/12_tf_data/my_fashion_mnist/val_02.tfrecord',\n",
       " './_datasets/12_tf_data/my_fashion_mnist/val_03.tfrecord',\n",
       " './_datasets/12_tf_data/my_fashion_mnist/val_04.tfrecord',\n",
       " './_datasets/12_tf_data/my_fashion_mnist/val_05.tfrecord',\n",
       " './_datasets/12_tf_data/my_fashion_mnist/val_06.tfrecord',\n",
       " './_datasets/12_tf_data/my_fashion_mnist/val_07.tfrecord',\n",
       " './_datasets/12_tf_data/my_fashion_mnist/val_08.tfrecord',\n",
       " './_datasets/12_tf_data/my_fashion_mnist/val_09.tfrecord',\n",
       " './_datasets/12_tf_data/my_fashion_mnist/val_10.tfrecord',\n",
       " './_datasets/12_tf_data/my_fashion_mnist/val_11.tfrecord',\n",
       " './_datasets/12_tf_data/my_fashion_mnist/val_12.tfrecord',\n",
       " './_datasets/12_tf_data/my_fashion_mnist/val_13.tfrecord',\n",
       " './_datasets/12_tf_data/my_fashion_mnist/val_14.tfrecord',\n",
       " './_datasets/12_tf_data/my_fashion_mnist/val_15.tfrecord',\n",
       " './_datasets/12_tf_data/my_fashion_mnist/val_16.tfrecord',\n",
       " './_datasets/12_tf_data/my_fashion_mnist/val_17.tfrecord',\n",
       " './_datasets/12_tf_data/my_fashion_mnist/val_18.tfrecord',\n",
       " './_datasets/12_tf_data/my_fashion_mnist/val_19.tfrecord']"
      ]
     },
     "execution_count": 223,
     "metadata": {},
     "output_type": "execute_result"
    }
   ],
   "source": [
    "val_filepaths = [\"val_{:02d}.tfrecord\".format(index)\n",
    "                 for index in range(n_chunks)]\n",
    "\n",
    "val_filepaths = [os.path.join(FASHION_DATA_DIR, filepath)\n",
    "                 for filepath in val_filepaths]\n",
    "\n",
    "val_filepaths"
   ]
  },
  {
   "cell_type": "markdown",
   "id": "57bf4592-5d14-4301-991d-1c81a985053b",
   "metadata": {},
   "source": [
    "**Write protobufs to filepaths**"
   ]
  },
  {
   "cell_type": "code",
   "execution_count": 224,
   "id": "98ada3d2-2387-4ea3-bb19-33b6af15f1d8",
   "metadata": {},
   "outputs": [
    {
     "data": {
      "text/plain": [
       "array([3631,  811, 2824, 3313, 1343, 3545, 1832, 3252,  956,  978, 3224,\n",
       "       4997, 2302, 1809, 2065,  950,   22,  947, 4945, 4586, 3891, 3715,\n",
       "        309, 3413,  191, 2499, 4521, 4952,  499,  240, 1978, 4302,  274,\n",
       "       1970, 2312, 3170, 1856, 3122, 2148, 3871,  848, 2294,  942, 1339,\n",
       "       2568, 3820, 2842,  862, 4394, 4836,  545, 2834, 1513, 4298, 3212,\n",
       "       2800, 2264, 1430, 4947,  542, 3251, 3546, 4808,  197, 2070, 1044,\n",
       "       3346,  874, 4514, 3316,  803,  268, 2079, 4756, 4838,  130,  523,\n",
       "       2089, 3661, 1315,   87, 2816, 4954, 1224, 4630, 1719, 2967,  169,\n",
       "       1508, 3547, 2826, 4058, 3423, 1525,  453,  511, 2692, 4484, 1495,\n",
       "       2999, 2108, 2782,   59, 1192,  789, 4294, 2779, 1614, 4639, 3646,\n",
       "       2356, 2927, 4009, 2273,  172,  387, 2500,  368, 2112,  143, 2401,\n",
       "        914, 3913, 1890,  450, 3865, 3105, 4286, 2565, 1896, 4706, 2138,\n",
       "       4538,  263, 2137, 4901, 1750, 2581,  756, 3767, 4186, 4862, 4494,\n",
       "       3716,   54, 3695,  960,  854,  123, 2704, 3656, 1973,  446, 3088,\n",
       "       4492, 3604, 2150, 2923, 4798, 3174, 2102, 2410, 2133, 1692, 3801,\n",
       "       4195, 1225, 1740, 3578, 1384, 1473, 3657, 1173, 4372, 4522, 4613,\n",
       "       3916, 3007, 4069, 1161, 3380,  520, 1548, 1582, 3368, 4117,  961,\n",
       "       1591, 4262, 1100, 3595,  155,   39, 3726,  850, 3355, 3172, 2665,\n",
       "       2001, 4989,   48, 3153, 2749, 2511, 4527, 1344, 4815, 1643, 1531,\n",
       "       4122, 2758, 1283, 1736, 4038, 4749, 4751, 3286, 4310,  175,  246,\n",
       "       1320, 3272, 4511, 4865, 2098, 3822, 2379, 3466, 2942, 4095, 2552,\n",
       "       3705,  423, 3372, 3190, 1269, 2976,  841, 3575,  864, 3861, 4775,\n",
       "       2696, 3616, 2896, 3768, 4799,  686, 1356, 4004])"
      ]
     },
     "execution_count": 224,
     "metadata": {},
     "output_type": "execute_result"
    }
   ],
   "source": [
    "val_indices[0]"
   ]
  },
  {
   "cell_type": "code",
   "execution_count": 234,
   "id": "a12864f3-c347-4efc-8464-21c1b23be44e",
   "metadata": {},
   "outputs": [],
   "source": [
    "for chunk in range(n_chunks):\n",
    "    val_ix = val_indices[chunk]\n",
    "    val_fp = val_filepaths[chunk]\n",
    "    \n",
    "    with tf.io.TFRecordWriter(val_fp) as f:\n",
    "        for ix in val_ix:\n",
    "            f.write(val_protobufs[ix].SerializeToString())"
   ]
  },
  {
   "cell_type": "markdown",
   "id": "f2eff017-d44c-4a67-a9d5-c57f70acda62",
   "metadata": {},
   "source": [
    "### Load tfrecord as dataset"
   ]
  },
  {
   "cell_type": "markdown",
   "id": "cd7db2ff-fbee-4214-816d-0b93090c122f",
   "metadata": {},
   "source": [
    "Load one of the split files and parse string to protobuf."
   ]
  },
  {
   "cell_type": "code",
   "execution_count": 238,
   "id": "5a16d284-3263-45eb-a61b-c93935da5750",
   "metadata": {},
   "outputs": [
    {
     "data": {
      "text/plain": [
       "dict"
      ]
     },
     "execution_count": 238,
     "metadata": {},
     "output_type": "execute_result"
    }
   ],
   "source": [
    "feature_description = {\n",
    "    \"serialized_image\": tf.io.FixedLenFeature([], tf.string, default_value=\"\"),\n",
    "    \"label\": tf.io.FixedLenFeature([], tf.int64, default_value=0),\n",
    "}\n",
    "\n",
    "serialized_val = tf.data.TFRecordDataset(val_filepaths[0])\n",
    "\n",
    "for val_protobuf in serialized_val.take(1):\n",
    "    parsed_val = tf.io.parse_single_example(val_protobuf, \n",
    "                                            feature_description)\n",
    "    \n",
    "type(parsed_val)"
   ]
  },
  {
   "cell_type": "code",
   "execution_count": 240,
   "id": "7b5e1365-2d6d-4236-8b9b-05d5bb8ef5d4",
   "metadata": {},
   "outputs": [
    {
     "data": {
      "text/plain": [
       "{'label': <tf.Tensor: shape=(), dtype=int64, numpy=9>,\n",
       " 'serialized_image': <tf.Tensor: shape=(), dtype=string, numpy=b'\\x08\\x04\\x12\\x08\\x12\\x02\\x08\\x1c\\x12\\x02\\x08\\x1c\"\\x90\\x06\\x00\\x00\\x00\\x00\\x00\\x00\\x00\\x00\\x00\\x00\\x00\\x00\\x00\\x00\\x00\\x00\\x00\\x00\\x00\\x00\\x00\\x00\\x00\\x00\\x00\\x00\\x00\\x00\\x00\\x00\\x00\\x00\\x00\\x00\\x00\\x00\\x00\\x00\\x00\\x00\\x00\\x00\\x00\\x00\\x00\\x00\\x00\\x00\\x00\\x00\\x00\\x00\\x00\\x00\\x00\\x00\\x00\\x00\\x00\\x00\\x00\\x00\\x00\\x00\\x00\\x00\\x00\\x00\\x00\\x00\\x00\\x00\\x00\\x00\\x00\\x00\\x00\\x00\\x00\\x00\\x00\\x00\\x00\\x00\\x00\\x00\\x00\\x00\\x00\\x00\\x00\\x00\\x00\\x00\\x00\\x00\\x00\\x00\\x00\\x00\\x00\\x00\\x00\\x00\\x00\\x00\\x00\\x00\\x00\\x00\\x00\\x00\\x00\\x00\\x00\\x00\\x00\\x00\\x00\\x00\\x00\\x00\\x00\\x00\\x00\\x00\\x00\\x00\\x00\\x00\\x00\\x00\\x00\\x00\\x00\\x00\\x00\\x00\\x00\\x00\\x00\\x00\\x00\\x00\\x00\\x00\\x00\\x00\\x00\\x00\\x00\\x02\\x0094X3@\\xaf\\x8dgK93\\'\\'\\x00\\x00\\x00\\x00\\x00\\x00\\x00\\x00\\x00\\x00\\x00\\x00\\x00\\x03\\x00r\\xcb\\xd1\\xde{\\x90\\xd0\\xcb\\xd7\\xdc\\xe5\\xbe\\xf30\\x00\\x00\\x00\\x00\\x00\\x00\\x00\\x00\\x00\\x00\\x01\\x00\\x00\\x00\\x00\\x1d\\x9d\\xcb\\xff\\x9b\\xc2\\xd9\\xda\\xd5\\xd4\\xcb\\xce\\x00\\x00\\x00\\x00\\x00\\x00\\x00\\x00\\x00\\x00\\x00\\x00\\x00\\x02\\x01\\x00\\x18n\\x87\\xc6\\xc5\\xc5\\xb3\\xbc\\xbd\\xbe\\xbe\\xb8`V\\x00\\x00\\x00\\x00\\x00\\x00\\x00\\x00\\x00\\x00\\x00\\x02\\x01\\x00p\\xd7\\xab\\xaf\\xbc\\xd5\\xd7\\xb5\\xb8\\xba\\xc3\\xca\\xf4\\'\\x00\\x00\\x00\\x00\\x00\\x00\\x00\\x00\\x00\\x00\\x00\\x00\\x00\\x06\\x8e\\xdd\\xf9\\xd3\\xc2\\xb5\\xd8\\xd7\\xe1\\xcf\\xcc\\xd5!\\x00\\x00\\x00\\x00\\x00\\x03\\x00\\x01\\x00\\x00\\x03\\x00\\x00\\x0c\\x94\\xdduZ\\xd1\\xbf\\xba\\xbe\\xc5\\xc3\\xbe\\xc3\\xd3)\\x00\\x00\\x00\\x00\\x00\\x02\\x00\\x00\\x02\\x00\\x00\\x00?\\xab\\xa3\\xc7\\x92\\x8b\\xbf\\xb5\\xb9\\xcb\\xcf\\xda\\xd3\\xc2\\xce4\\x00\\x00\\x01\\x00\\x01\\x00\\x01\\x02\\x00\\x00\\x10\\x99\\x9b\\xce\\x9a4\\x9a\\xa6\\xb5\\xb8\\xc2\\xcb\\xc8\\xc3\\xcf\\xba\\xc6B\\x00\\x00\\x02\\x01\\x00\\x02\\x03\\x00\\x00l\\x94\\xcb\\xb4\\x80\\x9bw\\xba\\xc6\\xc8\\xc3\\xc8\\xc3\\xc2\\xc3\\xba\\x9e\\xbdm\\x00\\x00\\x00\\x00\\x00\\x00\\x00\\x00\\x9e\\xd4\\x80\\x94{0\\xca\\xc8\\xcb\\xc6\\xbe\\xc3\\xc5\\xc2\\xc7\\xb8\\xb5\\xac\\xb8\\x90\\x00\\x00\\x19WZ\\\\d\\x82<\\xa0`i\\xd7\\xcb\\xc5\\xb9\\xbc\\xbc\\xbe\\xc3\\xc3\\xbe\\xb0\\xa6\\xaa\\xac\\xba\\xa0\\x00\\x00w\\xab\\xa4\\x97\\x99\\x9d\\x90\\x9b\\xa7\\xa8\\x9f\\x9f\\xa2\\xab\\xb6\\xc5\\xcc\\xce\\xce\\xcb\\xd8\\xce\\xd1\\xb5\\xc3\\xa8\\x00\\x01\\x01\\x15X\\x80\\x8b\\x9f\\xad\\xba\\xbf\\xba\\xbe\\xde\\xe5\\xe0\\xcb\\xb6\\xa8\\x9d\\x94\\x88{cX@<%\\x00\\x122\\x10\\x01\\x00\\x01\\x00\\x05\\x1d$\\'$\\x19\\x0b\\x03\\x01\\x01\\x02\\x02\\x03\\x03\\x03\\x06\\x0e\\x13\\x194\\x13\\x064?=4) \\x17\\x0f\\x10\\x12\\x14\\x13\\x1e$-0479;;<<;;A\\x05\\x00\\x00\\x12+879<=;;;9<;99744332799<\\t\\x00\\x00\\x00\\x00\\x03\\n\\x13\\x1c!$$$$!!\"$%\\'\\'\\'\\'*)!\\x1d\\x0c\\x00\\x00\\x00\\x00\\x00\\x00\\x00\\x00\\x00\\x00\\x00\\x00\\x00\\x00\\x00\\x00\\x00\\x00\\x00\\x00\\x00\\x00\\x00\\x00\\x00\\x00\\x00\\x00\\x00\\x00\\x00\\x00\\x00\\x00\\x00\\x00\\x00\\x00\\x00\\x00\\x00\\x00\\x00\\x00\\x00\\x00\\x00\\x00\\x00\\x00\\x00\\x00\\x00\\x00\\x00\\x00\\x00\\x00\\x00\\x00\\x00\\x00\\x00\\x00\\x00\\x00\\x00\\x00\\x00\\x00\\x00\\x00\\x00\\x00\\x00\\x00\\x00\\x00\\x00\\x00\\x00\\x00\\x00\\x00\\x00\\x00\\x00\\x00\\x00\\x00\\x00\\x00\\x00\\x00\\x00\\x00\\x00\\x00\\x00\\x00\\x00\\x00\\x00\\x00\\x00\\x00\\x00\\x00\\x00\\x00\\x00\\x00\\x00\\x00\\x00\\x00\\x00\\x00\\x00\\x00\\x00\\x00\\x00\\x00\\x00\\x00\\x00\\x00\\x00\\x00\\x00\\x00\\x00\\x00\\x00\\x00\\x00\\x00\\x00\\x00\\x00'>}"
      ]
     },
     "execution_count": 240,
     "metadata": {},
     "output_type": "execute_result"
    }
   ],
   "source": [
    "parsed_val"
   ]
  },
  {
   "cell_type": "markdown",
   "id": "3fe24eca-212e-45a4-84ce-8f6d660b3028",
   "metadata": {
    "tags": []
   },
   "source": [
    "## Save to tfrecord files"
   ]
  },
  {
   "cell_type": "markdown",
   "id": "5cd5b7ce-df5f-4871-9378-7902ccbcc1a4",
   "metadata": {},
   "source": [
    "- Convert numpy arrays to Example protobufs\n",
    "- Get indices and filepaths for n chunks\n",
    "- Store each chunk as a tfrecord"
   ]
  },
  {
   "cell_type": "markdown",
   "id": "01e9fb19-130e-4150-91de-0d96b02a8822",
   "metadata": {
    "tags": []
   },
   "source": [
    "### Helper Functions"
   ]
  },
  {
   "cell_type": "code",
   "execution_count": 26,
   "id": "4710a777-ef4a-4719-a1e9-88e40d280b15",
   "metadata": {},
   "outputs": [],
   "source": [
    "def convert_image_to_example(image, label):\n",
    "    image_data = tf.io.serialize_tensor(image)\n",
    "\n",
    "    return Example(\n",
    "        features=Features(\n",
    "            feature={\n",
    "                \"image\": Feature(bytes_list=BytesList(value=[image_data.numpy()])),\n",
    "                \"label\": Feature(int64_list=Int64List(value=[label])),\n",
    "            }))"
   ]
  },
  {
   "cell_type": "markdown",
   "id": "9d45eca2-2778-445b-966b-ba1bcb9cc850",
   "metadata": {
    "tags": []
   },
   "source": [
    "### save_as_tf_records"
   ]
  },
  {
   "cell_type": "code",
   "execution_count": 30,
   "id": "7b989bb9-47f8-4548-acc8-2c7fc8056972",
   "metadata": {},
   "outputs": [],
   "source": [
    "FILE_SAVE_DIR = os.path.join(\".\", \"_datasets\", \"12_tf_data\", \"my_fashion_mnist\")\n",
    "os.makedirs(FILE_SAVE_DIR, exist_ok=True)\n",
    "\n",
    "def write_tfrecords(name, dataset, n_chunks=10):\n",
    "    paths = [os.path.join(FILE_SAVE_DIR, \n",
    "                          \"{}.tfrecord-{:05d}-of-{:05d}\".format(name, index, n_chunks))\n",
    "             for index in range(n_chunks)]\n",
    "    writers = [tf.io.TFRecordWriter(path)\n",
    "               for path in paths]\n",
    "    \n",
    "    for index, (image, label) in dataset.enumerate():\n",
    "        chunk = index % n_chunks\n",
    "        example = convert_image_to_example(image, label)\n",
    "        writers[chunk].write(example.SerializeToString())\n",
    "    \n",
    "    return paths"
   ]
  },
  {
   "cell_type": "markdown",
   "id": "cac61c6e-7f2a-49fc-bfcc-4cd0adcc9208",
   "metadata": {},
   "source": [
    "### Implementation"
   ]
  },
  {
   "cell_type": "code",
   "execution_count": 31,
   "id": "ba8e0ede-b62f-4262-8b57-b8f8c7841206",
   "metadata": {},
   "outputs": [],
   "source": [
    "train_filepaths = write_tfrecords(\"my_fashion_mnist.train\", train_set)\n",
    "valid_filepaths = write_tfrecords(\"my_fashion_mnist.valid\", valid_set)\n",
    "test_filepaths = write_tfrecords(\"my_fashion_mnist.test\", test_set)"
   ]
  },
  {
   "cell_type": "markdown",
   "id": "69e7934b-f5d4-47ea-9e4f-4f1ac57d8413",
   "metadata": {},
   "source": [
    "## Load tfrecords as datasets"
   ]
  },
  {
   "cell_type": "markdown",
   "id": "8e49fd28-73b6-4a5c-ba52-2e7d5105e2f5",
   "metadata": {},
   "source": [
    "Now that we have 20 tfrecords for train, val, and test sets, each file containing serialized image protobufs, let's load and interleave the files into dataset objects.\n",
    "<br>\n",
    "We need to do the following:\n",
    "- Get all files corresponding to each set (train, val, test)\n",
    "- Interleave the lines in each file\n",
    "- Shuffle the dataset\n",
    "- Preprocess each serialized protobuf\n",
    "    - Create a feature description\n",
    "    - Parse the serialized protobuf\n",
    "    - Return a tuple containing a tensor of the image array and the label\n",
    "        - Parse the serialized image tensor\n",
    "- Batch the dataset\n",
    "- Prefetch the dataset"
   ]
  },
  {
   "cell_type": "code",
   "execution_count": 32,
   "id": "b675a968-eb9e-49ea-8470-1670eaa77ae0",
   "metadata": {},
   "outputs": [
    {
     "name": "stdout",
     "output_type": "stream",
     "text": [
      "\n",
      "---------- NOT DEBUGGING ----------\n",
      "\n"
     ]
    }
   ],
   "source": [
    "DEBUG = False\n",
    "\n",
    "if DEBUG:\n",
    "    print(\"\\n---------- DEBUGGING ----------\\n\")\n",
    "    \n",
    "    set_name = \"val\"\n",
    "    \n",
    "    # get filenames\n",
    "    filenames = os.path.join(FILE_SAVE_DIR, set_name + \"_*\")\n",
    "    filenames_dataset = tf.data.Dataset.list_files(filenames, shuffle=True, seed=SEED)\n",
    "    print(\"\\n --- Items in filenames_dataset --- \\n\")\n",
    "    for item in filenames_dataset.take(3):\n",
    "        print(item)\n",
    "    \n",
    "    # test to see if TFRecordDataset automatically interleaves when given num_parallel_reads > 1\n",
    "    for filename in filenames_dataset.take(1):\n",
    "        dataset = tf.data.TFRecordDataset(filename, num_parallel_reads=1)\n",
    "    print(\"\\n --- Items in dataset (non-interleaved) --- \\n\")\n",
    "    for item in dataset.take(1):\n",
    "        print(item)\n",
    "        \n",
    "    # parse serialized protobuf\n",
    "    feature_description = {\n",
    "        \"serialized_image\": tf.io.FixedLenFeature([], tf.string, default_value=\"\"),\n",
    "        \"label\": tf.io.FixedLenFeature([], tf.int64, default_value=-1)\n",
    "    }\n",
    "    \n",
    "    print(\"\\n --- Parsed item in dataset (non-interleaved) --- \\n\")\n",
    "    for item in dataset.take(1):\n",
    "        parsed_item = tf.io.parse_single_example(item, feature_description)\n",
    "        print(type(parsed_item), \"\\n\", parsed_item)\n",
    "    \n",
    "    # parse tensor image\n",
    "    print(\"\\n --- Parsed item with parsed image tensor in dataset (non-interleaved) --- \\n\")\n",
    "    parsed_item[\"serialized_image\"] = tf.io.parse_tensor(parsed_item[\"serialized_image\"],\n",
    "                                                         out_type=tf.uint8)\n",
    "    print(type(parsed_item), \"\\n\", parsed_item)\n",
    "    \n",
    "    # method that does all the parsing\n",
    "    def parse_image_protobuf(serialized_protobuf):\n",
    "        feature_description = {\n",
    "            \"serialized_image\": tf.io.FixedLenFeature([], tf.string, default_value=\"\"),\n",
    "            \"label\": tf.io.FixedLenFeature([], tf.int64, default_value=-1)\n",
    "        }\n",
    "        parsed_dict = tf.io.parse_single_example(serialized_protobuf, feature_description)\n",
    "        parsed_dict[\"serialized_image\"] = tf.io.parse_tensor(parsed_dict[\"serialized_image\"],\n",
    "                                                             out_type=tf.uint8)\n",
    "        return parsed_dict[\"serialized_image\"], tf.cast(parsed_dict[\"label\"], tf.uint8)\n",
    "        \n",
    "    # parsed tfrecord without interleave\n",
    "    for filename in filenames_dataset.take(1):\n",
    "        dataset = tf.data.TFRecordDataset(filename, num_parallel_reads=1)\n",
    "    print(\"\\n --- Parsed item in dataset (non-interleaved) --- \\n\")\n",
    "    for item in dataset.take(1):\n",
    "        image, label = parse_image_protobuf(item)\n",
    "        print(\"Label: \", label)\n",
    "        print(\"Image shape: \", image.shape)\n",
    "        plot_image(image)\n",
    "        \n",
    "    # parsed tfrecord with interleave\n",
    "    dataset = tf.data.TFRecordDataset(filenames_dataset, num_parallel_reads=AUTOTUNE)\n",
    "    print(\"\\n --- Parsed item in dataset (interleaved) --- \\n\")\n",
    "    for item in dataset.take(1):\n",
    "        image, label = parse_image_protobuf(item)\n",
    "        print(\"Label: \", label)\n",
    "        plot_image(image)\n",
    "    \n",
    "else:\n",
    "    print(\"\\n---------- NOT DEBUGGING ----------\\n\")\n",
    "    \n",
    "    # method that does all the parsing\n",
    "    def preprocess(tfrecord):\n",
    "        feature_descriptions = {\n",
    "            \"image\": tf.io.FixedLenFeature([], tf.string, default_value=\"\"),\n",
    "            \"label\": tf.io.FixedLenFeature([], tf.int64, default_value=-1)\n",
    "        }\n",
    "        example = tf.io.parse_single_example(tfrecord, feature_descriptions)\n",
    "        image = tf.io.parse_tensor(example[\"image\"], out_type=tf.uint8)\n",
    "        image = tf.reshape(image, shape=[28, 28])\n",
    "        \n",
    "        return image, example[\"label\"]\n",
    "    \n",
    "    # method that returns optimized dataset object\n",
    "    def fashion_mnist_dataset(filenames,\n",
    "                              cache=True,\n",
    "                              n_read_threads=AUTOTUNE, \n",
    "                              n_parse_threads=AUTOTUNE,\n",
    "                              shuffle_buffer_size=None, \n",
    "                              batch_size=32):\n",
    "        \"\"\" \n",
    "        Takes a set_name like \"train\" and creates and returns an optimized dataset \n",
    "        object that loads from tfrecord files in interleaved order, shuffles the dataset, \n",
    "        parses the serialized protobufs in the dataset, batches the dataset, \n",
    "        and prefetches the dataset.\n",
    "        \"\"\"\n",
    "        \n",
    "        # load serialized protobufs\n",
    "        dataset = tf.data.TFRecordDataset(filenames, \n",
    "                                          num_parallel_reads=n_read_threads)\n",
    "        \n",
    "        # shuffle and repeat dataset\n",
    "        if cache:\n",
    "            dataset = dataset.cache()\n",
    "        if shuffle_buffer_size:\n",
    "            dataset = dataset.shuffle(shuffle_buffer_size)\n",
    "        \n",
    "        # parse dataset\n",
    "        dataset = dataset.map(preprocess, \n",
    "                              num_parallel_calls=n_parse_threads)\n",
    "        \n",
    "        # batch and prefetch\n",
    "        return dataset.batch(batch_size).prefetch(1)"
   ]
  },
  {
   "cell_type": "code",
   "execution_count": 34,
   "id": "05e84c8b-e537-44b2-844a-df11570f3a46",
   "metadata": {},
   "outputs": [],
   "source": [
    "train_set = fashion_mnist_dataset(train_filepaths, shuffle_buffer_size=60000)\n",
    "valid_set = fashion_mnist_dataset(valid_filepaths, shuffle_buffer_size=5000)\n",
    "test_set = fashion_mnist_dataset(test_filepaths, shuffle_buffer_size=10000)"
   ]
  },
  {
   "cell_type": "code",
   "execution_count": 35,
   "id": "82216897-e621-40ba-b2eb-e1a47caa8891",
   "metadata": {},
   "outputs": [
    {
     "name": "stdout",
     "output_type": "stream",
     "text": [
      "\n",
      "---------- NOT DEBUGGING ----------\n",
      "\n"
     ]
    }
   ],
   "source": [
    "DEBUG = False\n",
    "\n",
    "if DEBUG:\n",
    "    print(\"\\n---------- DEBUGGING ----------\\n\")\n",
    "    \n",
    "    sample_dataset = test_dataset\n",
    "    sample_set = X_test\n",
    "    \n",
    "    for batch in sample_dataset.take(1):\n",
    "        sample_batch = batch\n",
    "    \n",
    "    # Batch is a tuple containing (X, y)\n",
    "    # where X and y are values for 32 individual samples\n",
    "    print(\"\\n--- First image input in dataset ---\\n\")\n",
    "    print(attribute_names[sample_batch[1][0].numpy()])\n",
    "    plot_image(sample_batch[0][0])\n",
    "    \n",
    "    # Make sure the efficient dataset contains all items\n",
    "    print(\"\\n--- Compare number of batches (should be equal) ---\\n\")\n",
    "    batch_size = 32\n",
    "    print(len(sample_set) / batch_size)\n",
    "    i = 0\n",
    "    for batch in sample_dataset:\n",
    "        i += 1\n",
    "    print(i)\n",
    "    \n",
    "else:\n",
    "    print(\"\\n---------- NOT DEBUGGING ----------\\n\")\n",
    "    "
   ]
  },
  {
   "cell_type": "markdown",
   "id": "32a86848-f2f6-49a5-bd02-1ea5deb33fb1",
   "metadata": {},
   "source": [
    "## Train model on datasets"
   ]
  },
  {
   "cell_type": "markdown",
   "id": "ce98a8e4-0a0a-406b-9480-f3d227e6563e",
   "metadata": {},
   "source": [
    "So now that we have efficient dataset objects that will load, interleave, shuffle, parse, batch, and prefetch the data, let's train our model.\n",
    "<br>\n",
    "\n",
    "We need to do the following:\n",
    "- Create a preprocessing layer that standardizes inputs\n",
    "- Create our sequential classification model\n",
    "- Find optimal learning rate\n",
    "- Create callbacks\n",
    "- Train"
   ]
  },
  {
   "cell_type": "markdown",
   "id": "66d87a7f-1658-4e0e-a53a-57c53267bc6d",
   "metadata": {
    "jp-MarkdownHeadingCollapsed": true,
    "tags": []
   },
   "source": [
    "### Create Model"
   ]
  },
  {
   "cell_type": "code",
   "execution_count": 37,
   "id": "0a4ac5b5-b198-4b5b-a2a1-18380ffd72be",
   "metadata": {},
   "outputs": [
    {
     "name": "stdout",
     "output_type": "stream",
     "text": [
      "\n",
      "---------- NOT DEBUGGING ----------\n",
      "\n",
      "Model: \"sequential\"\n",
      "_________________________________________________________________\n",
      " Layer (type)                Output Shape              Param #   \n",
      "=================================================================\n",
      " flatten (Flatten)           (None, 784)               0         \n",
      "                                                                 \n",
      " normalization (Normalizatio  (None, 784)              1569      \n",
      " n)                                                              \n",
      "                                                                 \n",
      " dense (Dense)               (None, 300)               235500    \n",
      "                                                                 \n",
      " dense_1 (Dense)             (None, 300)               90300     \n",
      "                                                                 \n",
      " dense_2 (Dense)             (None, 300)               90300     \n",
      "                                                                 \n",
      " dense_3 (Dense)             (None, 10)                3010      \n",
      "                                                                 \n",
      "=================================================================\n",
      "Total params: 420,679\n",
      "Trainable params: 419,110\n",
      "Non-trainable params: 1,569\n",
      "_________________________________________________________________\n"
     ]
    }
   ],
   "source": [
    "DEBUG = False\n",
    "\n",
    "if DEBUG:\n",
    "    print(\"\\n---------- DEBUGGING ----------\\n\")\n",
    "    \n",
    "    \n",
    "    # Adapt and Input data processing\n",
    "    \n",
    "    n_batches = 10\n",
    "    batch_size = 32\n",
    "    adapt_shape = [n_batches * batch_size, 28, 28]\n",
    "    adapt_dataset = train_dataset\n",
    "    \n",
    "    adapt_data = tf.stack([batch[0] for batch in adapt_dataset.take(n_batches)])\n",
    "    adapt_data = tf.reshape(adapt_data, adapt_shape)\n",
    "    print(\"\\n--- Adapt data shape ---\\n\")\n",
    "    print(adapt_data.shape)\n",
    "    \n",
    "    input_data = tf.stack([batch[0][0] for batch in val_dataset.take(1)])\n",
    "    print(\"\\n--- Input data shape ---\\n\")\n",
    "    print(input_data.shape)\n",
    "    \n",
    "    \n",
    "    # Normalization Layer\n",
    "    \n",
    "    std_layer = keras.layers.Normalization(axis=(-2,-1))\n",
    "    std_layer.adapt(adapt_data)\n",
    "\n",
    "    scaled_image = std_layer(input_data)\n",
    "    print(\"\\n--- Scaled input data ---\\n\")\n",
    "    print(scaled_image.shape)\n",
    "    plot_image(scaled_image[0])\n",
    "    \n",
    "    \n",
    "    # Flatten Layer\n",
    "    \n",
    "    input_layer = keras.layers.Flatten(input_shape=[28, 28])\n",
    "    \n",
    "    \n",
    "    # Unbatch adapt and input data\n",
    "    \n",
    "    n_samples = 1000\n",
    "    adapt_dataset = train_dataset\n",
    "    \n",
    "    adapt_data = tf.stack([sample[0] for sample in adapt_dataset.unbatch().take(n_samples)])\n",
    "    print(\"\\n--- Unbatched Adapt data shape ---\\n\")\n",
    "    print(adapt_data.shape)\n",
    "    \n",
    "    input_data = tf.stack([sample[0] for sample in val_dataset.unbatch().take(1)])\n",
    "    print(\"\\n--- Unbatched Input data shape ---\\n\")\n",
    "    print(input_data.shape)\n",
    "    \n",
    "    \n",
    "    # Flatten adapt and input data\n",
    "    \n",
    "    flattened_adapt_data = input_layer(adapt_data)\n",
    "    print(\"\\n--- Flattened Adapt data shape ---\\n\")\n",
    "    print(flattened_adapt_data.shape)\n",
    "\n",
    "    flattened_input_data = input_layer(input_data)\n",
    "    print(\"\\n--- Flattened Input data shape ---\\n\")\n",
    "    print(flattened_input_data.shape)\n",
    "    \n",
    "    \n",
    "    # Normalization layer on flattened data\n",
    "    \n",
    "    std_layer = keras.layers.Normalization(axis=-1)\n",
    "    std_layer.adapt(flattened_adapt_data)\n",
    "    scaled_input = std_layer(flattened_input_data)\n",
    "    \n",
    "    print(\"\\n--- Scaled Flattened Input data shape ---\\n\")\n",
    "    print(scaled_input.shape)\n",
    "    plot_image(tf.reshape(scaled_input, [28, 28]))\n",
    "    \n",
    "    \n",
    "else:\n",
    "    print(\"\\n---------- NOT DEBUGGING ----------\\n\")\n",
    "    \n",
    "    \n",
    "    def create_fashion_model(adapt_dataset, \n",
    "                             n_hidden=3, n_neurons=300, \n",
    "                             n_adapt_samples=1000):\n",
    "        reset_backend()\n",
    "\n",
    "        # Create model\n",
    "        model = keras.Sequential()\n",
    "\n",
    "        # Flatten Layer\n",
    "        input_layer = keras.layers.Flatten(input_shape=[28, 28])\n",
    "        model.add(input_layer)\n",
    "\n",
    "        # Normalization Layer\n",
    "        adapt_data = tf.stack([sample[0] for sample in adapt_dataset.unbatch().take(n_adapt_samples)])\n",
    "        flattened_adapt_data = input_layer(adapt_data)\n",
    "\n",
    "        std_layer = keras.layers.Normalization(axis=-1)\n",
    "        std_layer.adapt(flattened_adapt_data)\n",
    "        model.add(std_layer)\n",
    "\n",
    "        # Hidden Layers\n",
    "        for _ in range(n_hidden):\n",
    "            model.add(keras.layers.Dense(n_neurons, \n",
    "                                         activation=\"elu\", \n",
    "                                         kernel_initializer=\"he_normal\"))\n",
    "\n",
    "        # Output Layer\n",
    "        model.add(keras.layers.Dense(10, activation=\"softmax\"))\n",
    "        return model\n",
    "    \n",
    "    model = create_fashion_model(train_set)\n",
    "    model.summary()"
   ]
  },
  {
   "cell_type": "code",
   "execution_count": 350,
   "id": "571d4326-d477-48ae-aa76-9343100c6887",
   "metadata": {},
   "outputs": [],
   "source": [
    "# compile model\n",
    "optimizer = keras.optimizers.Nadam(learning_rate=1e-3)\n",
    "model.compile(loss=\"sparse_categorical_crossentropy\",\n",
    "              optimizer=optimizer,\n",
    "              metrics=[\"accuracy\"])"
   ]
  },
  {
   "cell_type": "markdown",
   "id": "5f240103-711e-48b1-82e8-c457d8090814",
   "metadata": {
    "jp-MarkdownHeadingCollapsed": true,
    "tags": []
   },
   "source": [
    "### LR Helper Functions"
   ]
  },
  {
   "cell_type": "code",
   "execution_count": 351,
   "id": "ee6bddc9-1c27-4041-9a0b-238141a0bf9d",
   "metadata": {},
   "outputs": [],
   "source": [
    "def round_up_to_tenth(n):\n",
    "    a = np.log(n) / np.log(10)\n",
    "    a_ = np.rint(a)\n",
    "    return 10**a_\n",
    "\n",
    "class ExponentialLearningRate(keras.callbacks.Callback):\n",
    "    def __init__(self, factor):\n",
    "        self.factor = factor\n",
    "        self.rates = []\n",
    "        self.losses = []\n",
    "    def on_batch_end(self, batch, logs):\n",
    "        self.rates.append(K.get_value(self.model.optimizer.learning_rate))\n",
    "        self.losses.append(logs[\"loss\"])\n",
    "        K.set_value(self.model.optimizer.learning_rate, self.model.optimizer.learning_rate * self.factor)\n",
    "\n",
    "def find_learning_rate(model, X, y, epochs=1, batch_size=32, min_rate=10**-10, max_rate=10):\n",
    "    init_weights = model.get_weights()\n",
    "    iterations = math.ceil(len(X) / batch_size) * epochs\n",
    "    factor = np.exp(np.log(max_rate / min_rate) / iterations)\n",
    "    init_lr = K.get_value(model.optimizer.learning_rate)\n",
    "    K.set_value(model.optimizer.learning_rate, min_rate)\n",
    "    exp_lr = ExponentialLearningRate(factor)\n",
    "    history = model.fit(X, y, epochs=epochs, batch_size=batch_size,\n",
    "                        callbacks=[exp_lr])\n",
    "    K.set_value(model.optimizer.learning_rate, init_lr)\n",
    "    model.set_weights(init_weights)\n",
    "    return exp_lr.rates, exp_lr.losses\n",
    "\n",
    "def plot_lr_vs_loss(rates, losses, max_loss=None):\n",
    "    plt.plot(rates, losses)\n",
    "    plt.gca().set_xscale('log')\n",
    "    \n",
    "    tick = round_up_to_tenth(min(rates))\n",
    "    x_ticks = []\n",
    "    while tick < max(rates)*10:\n",
    "        x_ticks.append(tick)\n",
    "        tick = tick * 10\n",
    "    plt.gca().set_xticks(x_ticks)\n",
    "    \n",
    "    plt.hlines(min(losses), min(rates), max(rates))\n",
    "    if max_loss is None:\n",
    "        plt.axis([min(rates), max(rates), min(losses), (losses[0] + min(losses)) / 2])\n",
    "    else:\n",
    "        plt.axis([min(rates), max(rates), min(losses), max_loss])\n",
    "    plt.xlabel(\"Learning rate\")\n",
    "    plt.ylabel(\"Loss\")"
   ]
  },
  {
   "cell_type": "markdown",
   "id": "904e2216-6d1c-4d2a-9bff-458b71d413e1",
   "metadata": {
    "jp-MarkdownHeadingCollapsed": true,
    "tags": []
   },
   "source": [
    "### Find Optimal LR"
   ]
  },
  {
   "cell_type": "code",
   "execution_count": 352,
   "id": "e203b0a4-6bab-4083-aefa-05b1cf3c49c2",
   "metadata": {},
   "outputs": [
    {
     "name": "stdout",
     "output_type": "stream",
     "text": [
      "430/430 [==============================] - 4s 6ms/step - loss: 1183.1133 - accuracy: 0.2639\n"
     ]
    }
   ],
   "source": [
    "epochs = 1\n",
    "batch_size = 128\n",
    "rates, losses = find_learning_rate(model, X_train, y_train,\n",
    "                                   epochs=epochs, batch_size=batch_size,\n",
    "                                   min_rate=1e-8, max_rate=10)"
   ]
  },
  {
   "cell_type": "code",
   "execution_count": 358,
   "id": "01972eb3-eef4-4ccd-a433-749a76919eea",
   "metadata": {},
   "outputs": [
    {
     "data": {
      "image/png": "[encoded data removed]",
      "text/plain": [
       "<Figure size 1440x432 with 1 Axes>"
      ]
     },
     "metadata": {
      "needs_background": "light"
     },
     "output_type": "display_data"
    }
   ],
   "source": [
    "plt.figure(figsize=(20,6))\n",
    "plot_lr_vs_loss(rates, losses, max_loss=3.4)"
   ]
  },
  {
   "cell_type": "markdown",
   "id": "6be50fbc-511e-4024-aeb5-e84e19533296",
   "metadata": {},
   "source": [
    "Let's go with `5e-4`"
   ]
  },
  {
   "cell_type": "markdown",
   "id": "58368dcf-849e-4e88-ac85-46a6657556d2",
   "metadata": {},
   "source": [
    "### Train Model"
   ]
  },
  {
   "cell_type": "code",
   "execution_count": 39,
   "id": "e2492658-2964-4aaa-91bb-39d1d2861e62",
   "metadata": {},
   "outputs": [
    {
     "name": "stdout",
     "output_type": "stream",
     "text": [
      "\n",
      "---------- TRAINING ----------\n",
      "\n",
      "\n",
      "--- TensorBoard Directory: ./_tf_logs/12_tf_data/first_model_run_03 ---\n",
      "\n"
     ]
    },
    {
     "name": "stderr",
     "output_type": "stream",
     "text": [
      "2022-07-04 11:50:13.912999: I tensorflow/core/profiler/lib/profiler_session.cc:99] Profiler session initializing.\n",
      "2022-07-04 11:50:13.913028: I tensorflow/core/profiler/lib/profiler_session.cc:114] Profiler session started.\n",
      "2022-07-04 11:50:13.913220: I tensorflow/core/profiler/lib/profiler_session.cc:126] Profiler session tear down.\n"
     ]
    },
    {
     "name": "stdout",
     "output_type": "stream",
     "text": [
      "Epoch 1/10\n",
      "     39/Unknown - 1s 6ms/step - loss: 7189.3735 - accuracy: 0.6731"
     ]
    },
    {
     "name": "stderr",
     "output_type": "stream",
     "text": [
      "2022-07-04 11:50:15.216706: I tensorflow/core/profiler/lib/profiler_session.cc:99] Profiler session initializing.\n",
      "2022-07-04 11:50:15.216723: I tensorflow/core/profiler/lib/profiler_session.cc:114] Profiler session started.\n",
      "2022-07-04 11:50:15.222550: I tensorflow/core/profiler/lib/profiler_session.cc:66] Profiler session collecting data.\n",
      "2022-07-04 11:50:15.225455: I tensorflow/core/profiler/lib/profiler_session.cc:126] Profiler session tear down.\n",
      "2022-07-04 11:50:15.230433: I tensorflow/core/profiler/rpc/client/save_profile.cc:136] Creating directory: ./_tf_logs/12_tf_data/first_model_run_03/plugins/profile/2022_07_04_11_50_15\n",
      "\n",
      "2022-07-04 11:50:15.232827: I tensorflow/core/profiler/rpc/client/save_profile.cc:142] Dumped gzipped tool data for trace.json.gz to ./_tf_logs/12_tf_data/first_model_run_03/plugins/profile/2022_07_04_11_50_15/evilonna-C.local.trace.json.gz\n",
      "2022-07-04 11:50:15.238399: I tensorflow/core/profiler/rpc/client/save_profile.cc:136] Creating directory: ./_tf_logs/12_tf_data/first_model_run_03/plugins/profile/2022_07_04_11_50_15\n",
      "\n",
      "2022-07-04 11:50:15.238686: I tensorflow/core/profiler/rpc/client/save_profile.cc:142] Dumped gzipped tool data for memory_profile.json.gz to ./_tf_logs/12_tf_data/first_model_run_03/plugins/profile/2022_07_04_11_50_15/evilonna-C.local.memory_profile.json.gz\n",
      "2022-07-04 11:50:15.240909: I tensorflow/core/profiler/rpc/client/capture_profile.cc:251] Creating directory: ./_tf_logs/12_tf_data/first_model_run_03/plugins/profile/2022_07_04_11_50_15\n",
      "Dumped tool data for xplane.pb to ./_tf_logs/12_tf_data/first_model_run_03/plugins/profile/2022_07_04_11_50_15/evilonna-C.local.xplane.pb\n",
      "Dumped tool data for overview_page.pb to ./_tf_logs/12_tf_data/first_model_run_03/plugins/profile/2022_07_04_11_50_15/evilonna-C.local.overview_page.pb\n",
      "Dumped tool data for input_pipeline.pb to ./_tf_logs/12_tf_data/first_model_run_03/plugins/profile/2022_07_04_11_50_15/evilonna-C.local.input_pipeline.pb\n",
      "Dumped tool data for tensorflow_stats.pb to ./_tf_logs/12_tf_data/first_model_run_03/plugins/profile/2022_07_04_11_50_15/evilonna-C.local.tensorflow_stats.pb\n",
      "Dumped tool data for kernel_stats.pb to ./_tf_logs/12_tf_data/first_model_run_03/plugins/profile/2022_07_04_11_50_15/evilonna-C.local.kernel_stats.pb\n",
      "\n"
     ]
    },
    {
     "name": "stdout",
     "output_type": "stream",
     "text": [
      "1719/1719 [==============================] - 11s 6ms/step - loss: 446.2132 - accuracy: 0.8398 - val_loss: 2039.4036 - val_accuracy: 0.8734\n",
      "Epoch 2/10\n",
      "1719/1719 [==============================] - 9s 5ms/step - loss: 831.1343 - accuracy: 0.8842 - val_loss: 249.6432 - val_accuracy: 0.8812\n",
      "Epoch 3/10\n",
      "1719/1719 [==============================] - 9s 5ms/step - loss: 913.2344 - accuracy: 0.9004 - val_loss: 91.7301 - val_accuracy: 0.8806\n",
      "Epoch 4/10\n",
      "1719/1719 [==============================] - 9s 5ms/step - loss: 51.7051 - accuracy: 0.9121 - val_loss: 589.5067 - val_accuracy: 0.8900\n",
      "Epoch 5/10\n",
      "1719/1719 [==============================] - 9s 5ms/step - loss: 62.5098 - accuracy: 0.9219 - val_loss: 377.7085 - val_accuracy: 0.8932\n",
      "Epoch 6/10\n",
      "1719/1719 [==============================] - 10s 6ms/step - loss: 174.0726 - accuracy: 0.9305 - val_loss: 242.0870 - val_accuracy: 0.8908\n",
      "Epoch 7/10\n",
      "1719/1719 [==============================] - 9s 5ms/step - loss: 140.6279 - accuracy: 0.9393 - val_loss: 52.8440 - val_accuracy: 0.8858\n",
      "Epoch 8/10\n",
      "1719/1719 [==============================] - 10s 6ms/step - loss: 35.5376 - accuracy: 0.9441 - val_loss: 321.4366 - val_accuracy: 0.8962\n",
      "Epoch 9/10\n",
      "1719/1719 [==============================] - 11s 6ms/step - loss: 98.8371 - accuracy: 0.9514 - val_loss: 8.6645 - val_accuracy: 0.8910\n",
      "Epoch 10/10\n",
      "1719/1719 [==============================] - 10s 6ms/step - loss: 18.1179 - accuracy: 0.9560 - val_loss: 85.8868 - val_accuracy: 0.8892\n"
     ]
    }
   ],
   "source": [
    "TRAIN = True\n",
    "\n",
    "if TRAIN:\n",
    "    print(\"\\n---------- TRAINING ----------\\n\")\n",
    "    \n",
    "    \n",
    "    model_id = \"first_model\"\n",
    "    LOG_DIR = os.path.join(\".\", \"_tf_logs\", \"12_tf_data\")\n",
    "    os.makedirs(LOG_DIR, exist_ok=True)\n",
    "\n",
    "    # Tensorboard\n",
    "    run_index = 3\n",
    "    run_logdir = os.path.join(LOG_DIR, model_id + \"_run_{:02d}\".format(run_index))\n",
    "    tensorboard_cb = keras.callbacks.TensorBoard(\n",
    "        log_dir=run_logdir,  histogram_freq=1, profile_batch=10)\n",
    "    print(\"\\n--- TensorBoard Directory: {} ---\\n\".format(run_logdir))\n",
    "\n",
    "    # All callbacks\n",
    "    callbacks = [tensorboard_cb]\n",
    "    \n",
    "    \n",
    "    # Train Model\n",
    "    \n",
    "    model = create_fashion_model(train_set)\n",
    "\n",
    "    optimizer = keras.optimizers.Nadam(learning_rate=5e-4)\n",
    "    model.compile(loss=\"sparse_categorical_crossentropy\",\n",
    "                  optimizer=optimizer,\n",
    "                  metrics=[\"accuracy\"])\n",
    "\n",
    "    history = model.fit(train_set, epochs=10, \n",
    "                        validation_data=valid_set,\n",
    "                        callbacks=callbacks)\n",
    "else:\n",
    "    print(\"\\n---------- LOADING SAVED MODEL ----------\\n\")"
   ]
  },
  {
   "cell_type": "code",
   "execution_count": 361,
   "id": "17db982a-ae81-491b-8ae7-ea8c7b0df8c2",
   "metadata": {},
   "outputs": [],
   "source": [
    "# tensorboard --logdir=./_tf_logs/12_tf_data --port=6006"
   ]
  },
  {
   "cell_type": "markdown",
   "id": "5e50848a-48e4-4bb5-8f45-71b618d0ab1a",
   "metadata": {},
   "source": [
    "### Evaluate"
   ]
  },
  {
   "cell_type": "code",
   "execution_count": 41,
   "id": "5808ba8f-e4c8-44d2-9cfd-327860a7c205",
   "metadata": {},
   "outputs": [
    {
     "name": "stdout",
     "output_type": "stream",
     "text": [
      "313/313 [==============================] - 1s 2ms/step - loss: 39.6910 - accuracy: 0.8773\n"
     ]
    },
    {
     "data": {
      "text/plain": [
       "[39.69100570678711, 0.8773000240325928]"
      ]
     },
     "execution_count": 41,
     "metadata": {},
     "output_type": "execute_result"
    }
   ],
   "source": [
    "model.evaluate(test_set)"
   ]
  },
  {
   "cell_type": "markdown",
   "id": "f66e8c7f-9763-4006-8b1f-59cc0da1b06f",
   "metadata": {},
   "source": [
    "# IMDB Reviews"
   ]
  },
  {
   "cell_type": "markdown",
   "id": "6eafff63-49f1-4442-862f-1e3e3c576900",
   "metadata": {},
   "source": [
    "## Get Data"
   ]
  },
  {
   "cell_type": "code",
   "execution_count": 72,
   "id": "ddfb71d2-a1ad-4eab-ab18-adacfe271d73",
   "metadata": {},
   "outputs": [
    {
     "name": "stdout",
     "output_type": "stream",
     "text": [
      "\n",
      "---------- ALREADY EXTRACTED ----------\n",
      "\n"
     ]
    }
   ],
   "source": [
    "import tarfile\n",
    "\n",
    "AUTO = tf.data.AUTOTUNE\n",
    "\n",
    "EXTRACTED = True\n",
    "IMDB_PATH = os.path.join(\".\", \"_datasets\", \"imdb_reviews\")\n",
    "\n",
    "def extract_imdb(imdb_path=IMDB_PATH):\n",
    "    tgz_path = os.path.join(imdb_path, \"aclImdb_v1.tar.gz\")\n",
    "    \n",
    "    imdb_tgz = tarfile.open(tgz_path)\n",
    "    imdb_tgz.extractall(path=imdb_path)\n",
    "    imdb_tgz.close()\n",
    "    \n",
    "if not EXTRACTED:\n",
    "    print(\"\\n---------- EXTRACTING DATA ----------\\n\")\n",
    "    \n",
    "    extract_imdb()\n",
    "else:\n",
    "    print(\"\\n---------- ALREADY EXTRACTED ----------\\n\")\n",
    "    "
   ]
  },
  {
   "cell_type": "markdown",
   "id": "e2afa94c-77f4-4de3-9eac-8f45fbcb5ea3",
   "metadata": {},
   "source": [
    "From the README:\n",
    ">Within these\n",
    "directories, reviews are stored in text files named following the\n",
    "convention [[id]_[rating].txt] where [id] is a unique id and [rating] is\n",
    "the star rating for that review on a 1-10 scale. For example, the file\n",
    "[test/pos/200_8.txt] is the text for a positive-labeled test set\n",
    "example with unique id 200 and star rating 8/10 from IMDb."
   ]
  },
  {
   "cell_type": "code",
   "execution_count": 213,
   "id": "91b15302-00d4-451e-a6f6-5a75096466f6",
   "metadata": {},
   "outputs": [],
   "source": [
    "! rm -rf ./_datasets/imdb_reviews/aclImdb/train/pos/.ipynb_checkpoints"
   ]
  },
  {
   "cell_type": "markdown",
   "id": "4c781c29-bb34-442f-bc65-06e26b4095fb",
   "metadata": {},
   "source": [
    "### Split Train, Valid, Test"
   ]
  },
  {
   "cell_type": "code",
   "execution_count": 214,
   "id": "0c60f3b2-ec5f-40e3-8b04-5f98a4b2d1a8",
   "metadata": {},
   "outputs": [
    {
     "name": "stdout",
     "output_type": "stream",
     "text": [
      "\n",
      "---------- NOT DEBUGGING ----------\n",
      "\n",
      "\n",
      "--- Train, Valid, and Test Filepaths ---\n",
      "\n",
      "Train:  12500 12500\n",
      "Valid:  7500 7500\n",
      "Test:  5000 5000\n"
     ]
    }
   ],
   "source": [
    "DEBUG = False\n",
    "\n",
    "if DEBUG:\n",
    "    print(\"\\n---------- DEBUGGING ----------\\n\")\n",
    "\n",
    "    TRAIN_POS_DATA_DIR = os.path.join(\".\", \"_datasets\", \"imdb_reviews\", \"aclImdb\", \"train\", \"pos\")\n",
    "    TRAIN_POS_FILENAMES = os.listdir(TRAIN_POS_DATA_DIR)\n",
    "\n",
    "    print(\"\\n--- Train set positive reviews filenames ---\\n\")\n",
    "    print(\"Num files: \", len(TRAIN_POS_FILENAMES))\n",
    "    for filename in TRAIN_POS_FILENAMES[:10]:\n",
    "        print(filename)\n",
    "    print(\"\\n...\\n\")\n",
    "    for filename in TRAIN_POS_FILENAMES[-10:]:\n",
    "        print(filename)\n",
    "\n",
    "    TRAIN_NEG_DATA_DIR = os.path.join(\".\", \"_datasets\", \"imdb_reviews\", \"aclImdb\", \"train\", \"neg\")\n",
    "    TRAIN_NEG_FILENAMES = os.listdir(TRAIN_NEG_DATA_DIR)\n",
    "\n",
    "    print(\"\\n--- Train set negative reviews filenames ---\\n\")\n",
    "    print(\"Num files: \", len(TRAIN_NEG_FILENAMES))\n",
    "    for filename in TRAIN_NEG_FILENAMES[:10]:\n",
    "        print(filename)\n",
    "    print(\"\\n...\\n\")\n",
    "    for filename in TRAIN_NEG_FILENAMES[-10:]:\n",
    "        print(filename)\n",
    "        \n",
    "    print(\"\\n--- Examination of a txt file in Train Pos ---\\n\")\n",
    "    rand_index = np.random.randint(len(TRAIN_POS_FILENAMES)-1)\n",
    "    sample_filename = TRAIN_POS_FILENAMES[rand_index]\n",
    "    sample_filepath = os.path.join(TRAIN_POS_DATA_DIR, sample_filename)\n",
    "    sample_file = tf.io.read_file(sample_filepath)\n",
    "    print(\"Filename: {}\\n\".format(sample_filename))\n",
    "    print(\"File: {}\\n\".format(sample_file))\n",
    "    \n",
    "    print(\"\\n--- Read the entire txt as one element in dataset ---\\n\")\n",
    "    dataset = tf.data.TextLineDataset(sample_filepath)\n",
    "    for item in dataset:\n",
    "        print(item)\n",
    "        \n",
    "else:\n",
    "    print(\"\\n---------- NOT DEBUGGING ----------\\n\")\n",
    "    \n",
    "    \n",
    "    # Get all filepaths for train pos/neg, val pos/neg, and test pos/neg\n",
    "    \n",
    "    def return_filepaths(directory):\n",
    "        return [os.path.join(directory, filename)\n",
    "                for filename in os.listdir(directory)]\n",
    "    \n",
    "    TRAIN_DIR = os.path.join(\".\", \"_datasets\", \"imdb_reviews\", \"aclImdb\", \"train\")\n",
    "    train_pos_filepaths = return_filepaths(os.path.join(TRAIN_DIR, \"pos\"))\n",
    "    train_neg_filepaths = return_filepaths(os.path.join(TRAIN_DIR, \"neg\"))\n",
    "    \n",
    "    TEST_DIR = os.path.join(\".\", \"_datasets\", \"imdb_reviews\", \"aclImdb\", \"test\")\n",
    "    test_pos_filepaths = return_filepaths(os.path.join(TEST_DIR, \"pos\"))\n",
    "    test_neg_filepaths = return_filepaths(os.path.join(TEST_DIR, \"neg\"))\n",
    "    valid_pos_filepaths = test_pos_filepaths[:7500]\n",
    "    valid_neg_filepaths = test_neg_filepaths[:7500]\n",
    "    test_pos_filepaths = test_pos_filepaths[7500:]\n",
    "    test_neg_filepaths = test_neg_filepaths[7500:]\n",
    "    \n",
    "    print(\"\\n--- Train, Valid, and Test Filepaths ---\\n\")\n",
    "    print(\"Train: \", len(train_pos_filepaths), len(train_neg_filepaths))\n",
    "    print(\"Valid: \", len(valid_pos_filepaths), len(valid_neg_filepaths))\n",
    "    print(\"Test: \", len(test_pos_filepaths), len(test_neg_filepaths))"
   ]
  },
  {
   "cell_type": "markdown",
   "id": "7d3e6e3d-ecf3-403a-b7a4-cc0439411076",
   "metadata": {},
   "source": [
    "### Create Efficient Datasets"
   ]
  },
  {
   "cell_type": "markdown",
   "id": "758a23b7-a4cd-49de-82f4-da6165f0e6a8",
   "metadata": {},
   "source": [
    "- Create a list of ones and zeros for pos and neg filepaths\n",
    "- Create dataset from filepaths and labels\n",
    "- Shuffle dataset\n",
    "- Read each file in the dataset\n",
    "- Batch and prefetch"
   ]
  },
  {
   "cell_type": "code",
   "execution_count": 262,
   "id": "1ce2d6ec-6e02-4484-8204-0d265074a395",
   "metadata": {},
   "outputs": [
    {
     "name": "stdout",
     "output_type": "stream",
     "text": [
      "\n",
      "---------- NOT DEBUGGING ----------\n",
      "\n"
     ]
    }
   ],
   "source": [
    "DEBUG = False\n",
    "\n",
    "if DEBUG:\n",
    "    print(\"\\n---------- DEBUGGING ----------\\n\")\n",
    "    \n",
    "    \n",
    "    print(\"\\n--- Train Set Filepaths with Labels ---\\n\")\n",
    "    train_pos_labels = np.ones(len(train_pos_filepaths))\n",
    "    train_neg_labels = np.zeros(len(train_neg_filepaths))\n",
    "    \n",
    "    train_labels = np.r_[train_pos_labels, train_neg_labels]\n",
    "    train_filepaths = train_pos_filepaths + train_neg_filepaths\n",
    "    \n",
    "    train_set = tf.data.Dataset.from_tensor_slices((train_filepaths, tf.cast(train_labels, tf.uint8)))\n",
    "    \n",
    "    for filepath, label in train_set.take(3):\n",
    "        print(\"Filepath: \", filepath)\n",
    "        print(\"Label: \", label)\n",
    "    \n",
    "    print(\"\\n--- Train Set File Text with Labels ---\\n\")\n",
    "    train_set = train_set.shuffle(len(train_set))\n",
    "    \n",
    "    def preprocess(filepath, label):\n",
    "        return tf.io.read_file(filepath), label\n",
    "    \n",
    "    train_set = train_set.map(preprocess,\n",
    "                              num_parallel_calls=AUTO)\n",
    "    for filepath, label in train_set.take(1):\n",
    "        print(\"File: \", filepath)\n",
    "        print(\"Label: \", label)\n",
    "    \n",
    "else:\n",
    "    print(\"\\n---------- NOT DEBUGGING ----------\\n\")\n",
    "    \n",
    "    \n",
    "    def preprocess(filepath, label):\n",
    "        return tf.io.read_file(filepath), label\n",
    "    \n",
    "    def imdb_dataset(pos_filepaths, neg_filepaths):\n",
    "        labels = np.r_[np.ones(len(pos_filepaths)), \n",
    "                       np.zeros(len(neg_filepaths))]\n",
    "        dataset = tf.data.Dataset.from_tensor_slices(\n",
    "            (tf.constant(pos_filepaths + neg_filepaths),\n",
    "             tf.cast(labels, tf.uint8))\n",
    "        )\n",
    "        dataset = dataset.shuffle(len(train_set))\n",
    "        dataset = dataset.map(preprocess,\n",
    "                              num_parallel_calls=AUTO)\n",
    "        return dataset.batch(32).prefetch(1)\n",
    "    \n",
    "    train_set = imdb_dataset(train_pos_filepaths, train_neg_filepaths)\n",
    "    valid_set = imdb_dataset(valid_pos_filepaths, valid_neg_filepaths)\n",
    "    test_set = imdb_dataset(test_pos_filepaths, test_neg_filepaths)"
   ]
  },
  {
   "cell_type": "markdown",
   "id": "65fe6136-7ec3-47b3-8960-08d072adfdf5",
   "metadata": {},
   "source": [
    "### Binary Classifier"
   ]
  },
  {
   "cell_type": "markdown",
   "id": "b695a93a-bc36-4f56-9b8f-ad8d6f940974",
   "metadata": {},
   "source": [
    "- Create a text vectorization layer\n",
    "- Create an embedding layer\n",
    "- Create model with sigmoid activation for output\n",
    "- Train and evaluate model"
   ]
  },
  {
   "cell_type": "markdown",
   "id": "8369baaa-3f1b-4058-b285-c487350b0b19",
   "metadata": {
    "tags": []
   },
   "source": [
    "#### TextVectorization Experiments"
   ]
  },
  {
   "cell_type": "markdown",
   "id": "66b6878c-faa8-4b38-aaf9-f04ef2e511f9",
   "metadata": {},
   "source": [
    "What does tf.keras.layers.TextVectorization do?\n",
    ">A preprocessing layer which maps text features to integer sequences.\n",
    "\n",
    "The processing of each example contains the following steps:\n",
    "- Standardize each example (usually lowercasing + punctuation stripping)\n",
    "- Split each example into substrings (usually words)\n",
    "- Recombine substrings into tokens (usually ngrams)\n",
    "- Index tokens (associate a unique int value with each token)\n",
    "- Transform each example using this index, either into a vector of ints or a dense float vector.\n"
   ]
  },
  {
   "cell_type": "code",
   "execution_count": 268,
   "id": "90ea3316-6ba8-4601-9620-57c34b113060",
   "metadata": {},
   "outputs": [
    {
     "data": {
      "text/plain": [
       "<tf.Tensor: shape=(), dtype=string, numpy=b'It is a rare occasion when I want to see a movie again. \"The Amati Girls\" is such a movie. In old time movie theaters I would have stayed put for more showings. Was this story autobiographical for the writer/director? It has the aura of reality.<br /><br />The all star cast present their characters believably and with tenderness. Who would not want Mercedes Ruehl as an older sister? I have loved her work since \"For Roseanna\".<br /><br />With most movies, one suspends belief because we know that it is the work of actors, producers, directors, sound technicians, etc. It was hard to suspend such belief in \"The Amati Girls\". One feels such a part of this family! How I wanted to come to the defense of Dolores when her family is stifling her emotional life. And wanted to cheer Lee Grant as she levels criticism at Cloris Leachman\\'s hair color. The humor throughout is not belly laugh humor, but instead has a feel-good quality that satisfies far more than pratfalls and such.<br /><br />The love that is portrayed in this cinema family is to be emulated and cherished.<br /><br />It is no coincidence that the family name, Amati, translated from the Italian means \\'the loved ones\\'.'>"
      ]
     },
     "execution_count": 268,
     "metadata": {},
     "output_type": "execute_result"
    }
   ],
   "source": [
    "sample_text = next(iter(train_set.unbatch().take(1)))[0]\n",
    "sample_text"
   ]
  },
  {
   "cell_type": "code",
   "execution_count": 302,
   "id": "a8b9f5a3-31d0-471e-a91f-c902c604c61c",
   "metadata": {},
   "outputs": [
    {
     "data": {
      "text/plain": [
       "b'This movie was so great!<br /><br />I love \"Finding Nemo\" so much!!!'"
      ]
     },
     "execution_count": 302,
     "metadata": {},
     "output_type": "execute_result"
    }
   ],
   "source": [
    "debug_text = b\"This movie was so great!<br /><br />I love \\\"Finding Nemo\\\" so much!!!\"\n",
    "debug_text"
   ]
  },
  {
   "cell_type": "code",
   "execution_count": 303,
   "id": "44f14c62-aada-4c99-943b-73e39550c109",
   "metadata": {},
   "outputs": [],
   "source": [
    "text_vec_layer = tf.keras.layers.TextVectorization(\n",
    "    max_tokens=1000,\n",
    "    standardize=\"lower_and_strip_punctuation\",\n",
    "    split=\"whitespace\",\n",
    "    output_mode=\"int\",\n",
    "    output_sequence_length=50,\n",
    ")\n",
    "\n",
    "text_vec_layer.adapt([debug_text])"
   ]
  },
  {
   "cell_type": "code",
   "execution_count": 304,
   "id": "a4e47a18-cd57-4c01-9c4f-a2e4ea9b18f1",
   "metadata": {},
   "outputs": [
    {
     "data": {
      "text/plain": [
       "<tf.Tensor: shape=(1, 50), dtype=int64, numpy=\n",
       "array([[ 4,  7,  3,  2, 10, 12,  9,  8, 11,  5,  2,  6,  0,  0,  0,  0,\n",
       "         0,  0,  0,  0,  0,  0,  0,  0,  0,  0,  0,  0,  0,  0,  0,  0,\n",
       "         0,  0,  0,  0,  0,  0,  0,  0,  0,  0,  0,  0,  0,  0,  0,  0,\n",
       "         0,  0]])>"
      ]
     },
     "execution_count": 304,
     "metadata": {},
     "output_type": "execute_result"
    }
   ],
   "source": [
    "text_vec_layer([debug_text])"
   ]
  },
  {
   "cell_type": "markdown",
   "id": "140ff75e-399a-4e50-be8a-93c30a644676",
   "metadata": {},
   "source": [
    "The string has been mapped to a vector of size 50, and each word has been indexed."
   ]
  },
  {
   "cell_type": "code",
   "execution_count": 305,
   "id": "bae913f2-55ab-41c1-ace7-426d344861b8",
   "metadata": {},
   "outputs": [
    {
     "data": {
      "text/plain": [
       "['',\n",
       " '[UNK]',\n",
       " 'so',\n",
       " 'was',\n",
       " 'this',\n",
       " 'nemo',\n",
       " 'much',\n",
       " 'movie',\n",
       " 'love',\n",
       " 'i',\n",
       " 'greatbr',\n",
       " 'finding',\n",
       " 'br']"
      ]
     },
     "execution_count": 305,
     "metadata": {},
     "output_type": "execute_result"
    }
   ],
   "source": [
    "text_vec_layer.get_vocabulary()"
   ]
  },
  {
   "cell_type": "markdown",
   "id": "8db5f34a-c95a-459f-8f41-a6399233e696",
   "metadata": {},
   "source": [
    "We need to do our own preprocessing before using keras' TextVectorization layer."
   ]
  },
  {
   "cell_type": "code",
   "execution_count": 306,
   "id": "f6643603-02e0-4180-a25b-aa1ad8347c0a",
   "metadata": {},
   "outputs": [],
   "source": [
    "def preprocess_imdb_text(text):\n",
    "    Z = tf.strings.substr(text, 0, 300)\n",
    "    Z = tf.strings.lower(Z)\n",
    "    Z = tf.strings.regex_replace(Z, b\"<br\\\\s*/?>\", b\" \")\n",
    "    Z = tf.strings.regex_replace(Z, b\"[^a-z]\", b\" \")\n",
    "    return [Z.numpy()]"
   ]
  },
  {
   "cell_type": "code",
   "execution_count": 307,
   "id": "2151cb96-9359-478a-bff9-6e285ea49a0f",
   "metadata": {},
   "outputs": [
    {
     "data": {
      "text/plain": [
       "[b'this movie was so great   i love  finding nemo  so much   ']"
      ]
     },
     "execution_count": 307,
     "metadata": {},
     "output_type": "execute_result"
    }
   ],
   "source": [
    "preprocess_imdb_text(debug_text)"
   ]
  },
  {
   "cell_type": "code",
   "execution_count": 308,
   "id": "e6e8e66b-57b6-410d-bbda-352e89bc7b88",
   "metadata": {},
   "outputs": [],
   "source": [
    "text_vec_layer = tf.keras.layers.TextVectorization(\n",
    "    max_tokens=1000,\n",
    "    standardize=\"lower_and_strip_punctuation\",\n",
    "    split=\"whitespace\",\n",
    "    output_mode=\"int\",\n",
    "    output_sequence_length=50,\n",
    ")\n",
    "\n",
    "text_vec_layer.adapt(preprocess_imdb_text(debug_text))"
   ]
  },
  {
   "cell_type": "code",
   "execution_count": 309,
   "id": "05abe7b1-f00b-4dcd-a4b7-8b6826ac6492",
   "metadata": {},
   "outputs": [
    {
     "data": {
      "text/plain": [
       "<tf.Tensor: shape=(1, 50), dtype=int64, numpy=\n",
       "array([[ 4,  7,  3,  2, 10,  9,  8, 11,  5,  2,  6,  0,  0,  0,  0,  0,\n",
       "         0,  0,  0,  0,  0,  0,  0,  0,  0,  0,  0,  0,  0,  0,  0,  0,\n",
       "         0,  0,  0,  0,  0,  0,  0,  0,  0,  0,  0,  0,  0,  0,  0,  0,\n",
       "         0,  0]])>"
      ]
     },
     "execution_count": 309,
     "metadata": {},
     "output_type": "execute_result"
    }
   ],
   "source": [
    "text_vec_layer(preprocess_imdb_text(debug_text))"
   ]
  },
  {
   "cell_type": "code",
   "execution_count": 310,
   "id": "ac49c7f5-8699-4a1c-b480-a3225871f9dd",
   "metadata": {},
   "outputs": [
    {
     "data": {
      "text/plain": [
       "['',\n",
       " '[UNK]',\n",
       " 'so',\n",
       " 'was',\n",
       " 'this',\n",
       " 'nemo',\n",
       " 'much',\n",
       " 'movie',\n",
       " 'love',\n",
       " 'i',\n",
       " 'great',\n",
       " 'finding']"
      ]
     },
     "execution_count": 310,
     "metadata": {},
     "output_type": "execute_result"
    }
   ],
   "source": [
    "text_vec_layer.get_vocabulary()"
   ]
  },
  {
   "cell_type": "markdown",
   "id": "d12016cf-28dd-4925-a285-7f6b25d7b9e1",
   "metadata": {},
   "source": [
    "Let's try adapting to a real sample."
   ]
  },
  {
   "cell_type": "code",
   "execution_count": 311,
   "id": "92ad4d98-240e-485f-a21d-cbbcff05acc4",
   "metadata": {},
   "outputs": [],
   "source": [
    "text_vec_layer.reset_state()"
   ]
  },
  {
   "cell_type": "code",
   "execution_count": 312,
   "id": "653bbe34-a31f-43f4-af83-80ca07659d90",
   "metadata": {},
   "outputs": [],
   "source": [
    "text_vec_layer.adapt(preprocess_imdb_text(sample_text))"
   ]
  },
  {
   "cell_type": "code",
   "execution_count": 313,
   "id": "a7abd3bd-9601-46f6-812c-f87bcddc927d",
   "metadata": {},
   "outputs": [
    {
     "data": {
      "text/plain": [
       "['',\n",
       " '[UNK]',\n",
       " 'the',\n",
       " 'movie',\n",
       " 'a',\n",
       " 'it',\n",
       " 'is',\n",
       " 'i',\n",
       " 'for',\n",
       " 'writer',\n",
       " 'would',\n",
       " 'when',\n",
       " 'was',\n",
       " 'want',\n",
       " 'to',\n",
       " 'time',\n",
       " 'this',\n",
       " 'their',\n",
       " 'theaters',\n",
       " 'such',\n",
       " 'story',\n",
       " 'stayed',\n",
       " 'star',\n",
       " 'showings',\n",
       " 'see',\n",
       " 'reality',\n",
       " 'rare',\n",
       " 'put',\n",
       " 'present',\n",
       " 'old',\n",
       " 'of',\n",
       " 'occasion',\n",
       " 'more',\n",
       " 'in',\n",
       " 'have',\n",
       " 'has',\n",
       " 'girls',\n",
       " 'director',\n",
       " 'characters',\n",
       " 'cast',\n",
       " 'autobiographical',\n",
       " 'aura',\n",
       " 'amati',\n",
       " 'all',\n",
       " 'again']"
      ]
     },
     "execution_count": 313,
     "metadata": {},
     "output_type": "execute_result"
    }
   ],
   "source": [
    "text_vec_layer.get_vocabulary()"
   ]
  },
  {
   "cell_type": "code",
   "execution_count": 314,
   "id": "b236075d-e216-4a66-a266-98c04a39885b",
   "metadata": {},
   "outputs": [
    {
     "data": {
      "text/plain": [
       "<tf.Tensor: shape=(1, 50), dtype=int64, numpy=\n",
       "array([[ 5,  6,  4, 26, 31, 11,  7, 13, 14, 24,  4,  3, 44,  2, 42, 36,\n",
       "         6, 19,  4,  3, 33, 29, 15,  3, 18,  7, 10, 34, 21, 27,  8, 32,\n",
       "        23, 12, 16, 20, 40,  8,  2,  9, 37,  5, 35,  2, 41, 30, 25,  2,\n",
       "        43, 22]])>"
      ]
     },
     "execution_count": 314,
     "metadata": {},
     "output_type": "execute_result"
    }
   ],
   "source": [
    "text_vec_layer(preprocess_imdb_text(sample_text))"
   ]
  },
  {
   "cell_type": "markdown",
   "id": "44aa3fa2-33e3-42c8-bfe7-132758219a12",
   "metadata": {},
   "source": [
    "Let's try making the text preprocessing into a custom layer."
   ]
  },
  {
   "cell_type": "code",
   "execution_count": 322,
   "id": "033b7759-7c4c-4010-b4cf-bda64e395485",
   "metadata": {},
   "outputs": [],
   "source": [
    "def preprocess_imdb(X_batch):\n",
    "    Z = tf.strings.lower(X_batch)\n",
    "    Z = tf.strings.regex_replace(Z, b\"<br\\\\s*/?>\", b\" \")\n",
    "    Z = tf.strings.regex_replace(Z, b\"[^a-z]\", b\" \")\n",
    "    return Z\n",
    "\n",
    "class TextPreprocess(keras.layers.Layer):\n",
    "    def __init__(self, dtype=tf.string, **kwargs):\n",
    "        super().__init__(dtype=dtype, **kwargs)\n",
    "    def __call__(self, inputs):\n",
    "        return preprocess_imdb(inputs)\n",
    "    \n",
    "text_preprocess_layer = TextPreprocess()\n",
    "\n",
    "text_vec_layer = tf.keras.layers.TextVectorization(\n",
    "    max_tokens=1000,\n",
    "    standardize=\"lower_and_strip_punctuation\",\n",
    "    split=\"whitespace\",\n",
    "    output_mode=\"int\",\n",
    "    output_sequence_length=50,\n",
    ")\n",
    "\n",
    "sample_review_batches = train_set.map(lambda review, label: review)\n",
    "\n",
    "text_vec_layer.adapt(sample_review_batches.take(100))\n",
    "\n",
    "model = keras.Sequential([\n",
    "    text_preprocess_layer,\n",
    "    text_vec_layer,\n",
    "])"
   ]
  },
  {
   "cell_type": "code",
   "execution_count": 331,
   "id": "fb5fa6f9-ee77-4262-888c-69af5fe7b063",
   "metadata": {},
   "outputs": [
    {
     "name": "stdout",
     "output_type": "stream",
     "text": [
      "1/1 [==============================] - 0s 86ms/step\n"
     ]
    },
    {
     "data": {
      "text/plain": [
       "array([[  1,  17,   4, ...,   1,  52,  17],\n",
       "       [ 10, 292,  11, ...,   6, 270, 340],\n",
       "       [  1,   7,   6, ...,   5, 186, 257],\n",
       "       ...,\n",
       "       [ 33,   1, 325, ...,   1,   3,  42],\n",
       "       [  1, 140,   7, ...,  32, 882,   1],\n",
       "       [  2,   1,   7, ...,   2, 193,   1]])"
      ]
     },
     "execution_count": 331,
     "metadata": {},
     "output_type": "execute_result"
    }
   ],
   "source": [
    "model.predict(train_set.take(1))"
   ]
  },
  {
   "cell_type": "code",
   "execution_count": null,
   "id": "cd8880c3-fc8f-4766-9664-f5acf1dd562f",
   "metadata": {},
   "outputs": [],
   "source": [
    "model.get_layer(\"text_vectorization_5\").get_vocabulary()"
   ]
  },
  {
   "cell_type": "markdown",
   "id": "c4d413a7-bd0d-4a88-9080-5b7692264b58",
   "metadata": {},
   "source": [
    "#### Bag of Words Experiments"
   ]
  },
  {
   "cell_type": "markdown",
   "id": "b440792f-51ad-4a01-863b-427f57da0973",
   "metadata": {},
   "source": [
    "Now let's implement a custom bag of words class."
   ]
  },
  {
   "cell_type": "code",
   "execution_count": 339,
   "id": "ca9d472e-dca5-4c50-b993-258c37db890c",
   "metadata": {},
   "outputs": [
    {
     "data": {
      "text/plain": [
       "<tf.Tensor: shape=(2, 5, 4), dtype=float32, numpy=\n",
       "array([[[0., 1., 0., 0.],\n",
       "        [0., 0., 0., 1.],\n",
       "        [0., 1., 0., 0.],\n",
       "        [1., 0., 0., 0.],\n",
       "        [1., 0., 0., 0.]],\n",
       "\n",
       "       [[0., 0., 1., 0.],\n",
       "        [0., 0., 1., 0.],\n",
       "        [1., 0., 0., 0.],\n",
       "        [1., 0., 0., 0.],\n",
       "        [1., 0., 0., 0.]]], dtype=float32)>"
      ]
     },
     "execution_count": 339,
     "metadata": {},
     "output_type": "execute_result"
    }
   ],
   "source": [
    "simple_example = tf.constant([[1, 3, 1, 0, 0], [2, 2, 0, 0, 0]])\n",
    "tf.one_hot(simple_example, 4)"
   ]
  },
  {
   "cell_type": "code",
   "execution_count": 344,
   "id": "48ed44ef-8d85-4a9e-b3f4-911ab7b1a09d",
   "metadata": {},
   "outputs": [
    {
     "data": {
      "text/plain": [
       "<tf.Tensor: shape=(2, 2), dtype=float32, numpy=\n",
       "array([[2., 2.],\n",
       "       [3., 0.]], dtype=float32)>"
      ]
     },
     "execution_count": 344,
     "metadata": {},
     "output_type": "execute_result"
    }
   ],
   "source": [
    "tf.reduce_sum(tf.one_hot(simple_example, 2), axis=1)"
   ]
  },
  {
   "cell_type": "code",
   "execution_count": 343,
   "id": "f5020847-cffd-4575-ab27-5f7e9a09038f",
   "metadata": {},
   "outputs": [
    {
     "data": {
      "text/plain": [
       "<tf.Tensor: shape=(2, 5), dtype=float32, numpy=\n",
       "array([[2., 2., 0., 1., 0.],\n",
       "       [3., 0., 2., 0., 0.]], dtype=float32)>"
      ]
     },
     "execution_count": 343,
     "metadata": {},
     "output_type": "execute_result"
    }
   ],
   "source": [
    "tf.reduce_sum(tf.one_hot(simple_example, 5), axis=1)"
   ]
  },
  {
   "cell_type": "code",
   "execution_count": 345,
   "id": "de9f6ee4-01ad-4344-986d-c1d57a4bf9ec",
   "metadata": {},
   "outputs": [],
   "source": [
    "class BagOfWords(keras.layers.Layer):\n",
    "    def __init__(self, n_tokens, dtype=tf.int32, **kwargs):\n",
    "        super().__init__(dtype=dtype, **kwargs)\n",
    "        self.n_tokens = n_tokens\n",
    "    def call(self, inputs):\n",
    "        one_hot = tf.one_hot(inputs, self.n_tokens)\n",
    "        return tf.reduce_sum(one_hot, axis=1)[:, 1:]"
   ]
  },
  {
   "cell_type": "code",
   "execution_count": 347,
   "id": "9e23da29-52e1-4541-83c4-327bcb84fa4d",
   "metadata": {},
   "outputs": [
    {
     "name": "stdout",
     "output_type": "stream",
     "text": [
      "1/1 [==============================] - 0s 120ms/step\n"
     ]
    },
    {
     "data": {
      "text/plain": [
       "array([[15.,  2.,  1., ...,  0.,  0.,  0.],\n",
       "       [21.,  4.,  2., ...,  0.,  0.,  0.],\n",
       "       [14.,  3.,  2., ...,  0.,  0.,  0.],\n",
       "       ...,\n",
       "       [ 7.,  2.,  0., ...,  0.,  1.,  0.],\n",
       "       [ 8.,  2.,  1., ...,  0.,  0.,  0.],\n",
       "       [11.,  4.,  1., ...,  0.,  0.,  0.]], dtype=float32)"
      ]
     },
     "execution_count": 347,
     "metadata": {},
     "output_type": "execute_result"
    }
   ],
   "source": [
    "bow_layer = BagOfWords(n_tokens=50)\n",
    "\n",
    "model = keras.Sequential([\n",
    "    text_preprocess_layer,\n",
    "    text_vec_layer,\n",
    "    bow_layer,\n",
    "])\n",
    "\n",
    "model.predict(train_set.take(1))"
   ]
  },
  {
   "cell_type": "markdown",
   "id": "ef32991c-f179-413b-9a0c-b4e1c93c19b2",
   "metadata": {},
   "source": [
    "#### Model"
   ]
  },
  {
   "cell_type": "markdown",
   "id": "e426ddea-b5e1-4850-b033-0b5e5f4ca7ab",
   "metadata": {},
   "source": [
    "Classes for text preprocessing and bag of words."
   ]
  },
  {
   "cell_type": "code",
   "execution_count": 348,
   "id": "252b2381-ca00-4543-8512-375c15b6c050",
   "metadata": {},
   "outputs": [],
   "source": [
    "def preprocess_imdb(X_batch):\n",
    "    Z = tf.strings.lower(X_batch)\n",
    "    Z = tf.strings.regex_replace(Z, b\"<br\\\\s*/?>\", b\" \")\n",
    "    Z = tf.strings.regex_replace(Z, b\"[^a-z]\", b\" \")\n",
    "    return Z\n",
    "\n",
    "class TextPreprocess(keras.layers.Layer):\n",
    "    def __init__(self, dtype=tf.string, **kwargs):\n",
    "        super().__init__(dtype=dtype, **kwargs)\n",
    "    def __call__(self, inputs):\n",
    "        return preprocess_imdb(inputs)\n",
    "    \n",
    "class BagOfWords(keras.layers.Layer):\n",
    "    def __init__(self, n_tokens, dtype=tf.int32, **kwargs):\n",
    "        super().__init__(dtype=dtype, **kwargs)\n",
    "        self.n_tokens = n_tokens\n",
    "    def call(self, inputs):\n",
    "        one_hot = tf.one_hot(inputs, self.n_tokens)\n",
    "        return tf.reduce_sum(one_hot, axis=1)[:, 1:]"
   ]
  },
  {
   "cell_type": "code",
   "execution_count": 356,
   "id": "013d0c43-1ca9-4734-9c5e-cfc490ec8337",
   "metadata": {},
   "outputs": [],
   "source": [
    "reset_backend()\n",
    "\n",
    "text_preprocess_layer = TextPreprocess()\n",
    "\n",
    "text_vec_layer = tf.keras.layers.TextVectorization(\n",
    "    max_tokens=1000,\n",
    "    standardize=\"lower_and_strip_punctuation\",\n",
    "    split=\"whitespace\",\n",
    "    output_mode=\"int\",\n",
    "    output_sequence_length=50,\n",
    ")\n",
    "\n",
    "sample_review_batches = train_set.map(lambda review, label: review)\n",
    "\n",
    "text_vec_layer.adapt(sample_review_batches.take(100))\n",
    "\n",
    "bow_layer = BagOfWords(1000)"
   ]
  },
  {
   "cell_type": "markdown",
   "id": "a66501ef-30bb-4dc2-97d2-7d4995276f8a",
   "metadata": {},
   "source": [
    "Model Training"
   ]
  },
  {
   "cell_type": "code",
   "execution_count": 363,
   "id": "3ecc04cd-a990-49a7-b7b5-07cfb10351d8",
   "metadata": {},
   "outputs": [
    {
     "name": "stdout",
     "output_type": "stream",
     "text": [
      "Epoch 1/5\n",
      "782/782 [==============================] - 9s 11ms/step - loss: 0.1714 - accuracy: 0.9512 - val_loss: 2.5331 - val_accuracy: 0.5000\n",
      "Epoch 2/5\n",
      "194/782 [======>.......................] - ETA: 4s - loss: 0.5037 - accuracy: 0.8289"
     ]
    },
    {
     "ename": "KeyboardInterrupt",
     "evalue": "",
     "output_type": "error",
     "traceback": [
      "\u001b[0;31m---------------------------------------------------------------------------\u001b[0m",
      "\u001b[0;31mKeyboardInterrupt\u001b[0m                         Traceback (most recent call last)",
      "Input \u001b[0;32mIn [363]\u001b[0m, in \u001b[0;36m<cell line: 14>\u001b[0;34m()\u001b[0m\n\u001b[1;32m      9\u001b[0m optimizer \u001b[38;5;241m=\u001b[39m keras\u001b[38;5;241m.\u001b[39moptimizers\u001b[38;5;241m.\u001b[39mNadam(learning_rate\u001b[38;5;241m=\u001b[39m\u001b[38;5;241m1e-4\u001b[39m)\n\u001b[1;32m     10\u001b[0m model\u001b[38;5;241m.\u001b[39mcompile(loss\u001b[38;5;241m=\u001b[39m\u001b[38;5;124m\"\u001b[39m\u001b[38;5;124mbinary_crossentropy\u001b[39m\u001b[38;5;124m\"\u001b[39m,\n\u001b[1;32m     11\u001b[0m               optimizer\u001b[38;5;241m=\u001b[39moptimizer,\n\u001b[1;32m     12\u001b[0m               metrics\u001b[38;5;241m=\u001b[39m[\u001b[38;5;124m\"\u001b[39m\u001b[38;5;124maccuracy\u001b[39m\u001b[38;5;124m\"\u001b[39m])\n\u001b[0;32m---> 14\u001b[0m history \u001b[38;5;241m=\u001b[39m \u001b[43mmodel\u001b[49m\u001b[38;5;241;43m.\u001b[39;49m\u001b[43mfit\u001b[49m\u001b[43m(\u001b[49m\u001b[43mtrain_set\u001b[49m\u001b[43m,\u001b[49m\u001b[43m \u001b[49m\u001b[43mepochs\u001b[49m\u001b[38;5;241;43m=\u001b[39;49m\u001b[38;5;241;43m5\u001b[39;49m\u001b[43m,\u001b[49m\n\u001b[1;32m     15\u001b[0m \u001b[43m                    \u001b[49m\u001b[43mvalidation_data\u001b[49m\u001b[38;5;241;43m=\u001b[39;49m\u001b[43mvalid_set\u001b[49m\u001b[43m)\u001b[49m\n",
      "File \u001b[0;32m~/opt/anaconda3/envs/learningml/lib/python3.10/site-packages/keras/utils/traceback_utils.py:64\u001b[0m, in \u001b[0;36mfilter_traceback.<locals>.error_handler\u001b[0;34m(*args, **kwargs)\u001b[0m\n\u001b[1;32m     62\u001b[0m filtered_tb \u001b[38;5;241m=\u001b[39m \u001b[38;5;28;01mNone\u001b[39;00m\n\u001b[1;32m     63\u001b[0m \u001b[38;5;28;01mtry\u001b[39;00m:\n\u001b[0;32m---> 64\u001b[0m   \u001b[38;5;28;01mreturn\u001b[39;00m \u001b[43mfn\u001b[49m\u001b[43m(\u001b[49m\u001b[38;5;241;43m*\u001b[39;49m\u001b[43margs\u001b[49m\u001b[43m,\u001b[49m\u001b[43m \u001b[49m\u001b[38;5;241;43m*\u001b[39;49m\u001b[38;5;241;43m*\u001b[39;49m\u001b[43mkwargs\u001b[49m\u001b[43m)\u001b[49m\n\u001b[1;32m     65\u001b[0m \u001b[38;5;28;01mexcept\u001b[39;00m \u001b[38;5;167;01mException\u001b[39;00m \u001b[38;5;28;01mas\u001b[39;00m e:  \u001b[38;5;66;03m# pylint: disable=broad-except\u001b[39;00m\n\u001b[1;32m     66\u001b[0m   filtered_tb \u001b[38;5;241m=\u001b[39m _process_traceback_frames(e\u001b[38;5;241m.\u001b[39m__traceback__)\n",
      "File \u001b[0;32m~/opt/anaconda3/envs/learningml/lib/python3.10/site-packages/keras/engine/training.py:1409\u001b[0m, in \u001b[0;36mModel.fit\u001b[0;34m(self, x, y, batch_size, epochs, verbose, callbacks, validation_split, validation_data, shuffle, class_weight, sample_weight, initial_epoch, steps_per_epoch, validation_steps, validation_batch_size, validation_freq, max_queue_size, workers, use_multiprocessing)\u001b[0m\n\u001b[1;32m   1402\u001b[0m \u001b[38;5;28;01mwith\u001b[39;00m tf\u001b[38;5;241m.\u001b[39mprofiler\u001b[38;5;241m.\u001b[39mexperimental\u001b[38;5;241m.\u001b[39mTrace(\n\u001b[1;32m   1403\u001b[0m     \u001b[38;5;124m'\u001b[39m\u001b[38;5;124mtrain\u001b[39m\u001b[38;5;124m'\u001b[39m,\n\u001b[1;32m   1404\u001b[0m     epoch_num\u001b[38;5;241m=\u001b[39mepoch,\n\u001b[1;32m   1405\u001b[0m     step_num\u001b[38;5;241m=\u001b[39mstep,\n\u001b[1;32m   1406\u001b[0m     batch_size\u001b[38;5;241m=\u001b[39mbatch_size,\n\u001b[1;32m   1407\u001b[0m     _r\u001b[38;5;241m=\u001b[39m\u001b[38;5;241m1\u001b[39m):\n\u001b[1;32m   1408\u001b[0m   callbacks\u001b[38;5;241m.\u001b[39mon_train_batch_begin(step)\n\u001b[0;32m-> 1409\u001b[0m   tmp_logs \u001b[38;5;241m=\u001b[39m \u001b[38;5;28;43mself\u001b[39;49m\u001b[38;5;241;43m.\u001b[39;49m\u001b[43mtrain_function\u001b[49m\u001b[43m(\u001b[49m\u001b[43miterator\u001b[49m\u001b[43m)\u001b[49m\n\u001b[1;32m   1410\u001b[0m   \u001b[38;5;28;01mif\u001b[39;00m data_handler\u001b[38;5;241m.\u001b[39mshould_sync:\n\u001b[1;32m   1411\u001b[0m     context\u001b[38;5;241m.\u001b[39masync_wait()\n",
      "File \u001b[0;32m~/opt/anaconda3/envs/learningml/lib/python3.10/site-packages/tensorflow/python/util/traceback_utils.py:150\u001b[0m, in \u001b[0;36mfilter_traceback.<locals>.error_handler\u001b[0;34m(*args, **kwargs)\u001b[0m\n\u001b[1;32m    148\u001b[0m filtered_tb \u001b[38;5;241m=\u001b[39m \u001b[38;5;28;01mNone\u001b[39;00m\n\u001b[1;32m    149\u001b[0m \u001b[38;5;28;01mtry\u001b[39;00m:\n\u001b[0;32m--> 150\u001b[0m   \u001b[38;5;28;01mreturn\u001b[39;00m \u001b[43mfn\u001b[49m\u001b[43m(\u001b[49m\u001b[38;5;241;43m*\u001b[39;49m\u001b[43margs\u001b[49m\u001b[43m,\u001b[49m\u001b[43m \u001b[49m\u001b[38;5;241;43m*\u001b[39;49m\u001b[38;5;241;43m*\u001b[39;49m\u001b[43mkwargs\u001b[49m\u001b[43m)\u001b[49m\n\u001b[1;32m    151\u001b[0m \u001b[38;5;28;01mexcept\u001b[39;00m \u001b[38;5;167;01mException\u001b[39;00m \u001b[38;5;28;01mas\u001b[39;00m e:\n\u001b[1;32m    152\u001b[0m   filtered_tb \u001b[38;5;241m=\u001b[39m _process_traceback_frames(e\u001b[38;5;241m.\u001b[39m__traceback__)\n",
      "File \u001b[0;32m~/opt/anaconda3/envs/learningml/lib/python3.10/site-packages/tensorflow/python/eager/def_function.py:915\u001b[0m, in \u001b[0;36mFunction.__call__\u001b[0;34m(self, *args, **kwds)\u001b[0m\n\u001b[1;32m    912\u001b[0m compiler \u001b[38;5;241m=\u001b[39m \u001b[38;5;124m\"\u001b[39m\u001b[38;5;124mxla\u001b[39m\u001b[38;5;124m\"\u001b[39m \u001b[38;5;28;01mif\u001b[39;00m \u001b[38;5;28mself\u001b[39m\u001b[38;5;241m.\u001b[39m_jit_compile \u001b[38;5;28;01melse\u001b[39;00m \u001b[38;5;124m\"\u001b[39m\u001b[38;5;124mnonXla\u001b[39m\u001b[38;5;124m\"\u001b[39m\n\u001b[1;32m    914\u001b[0m \u001b[38;5;28;01mwith\u001b[39;00m OptionalXlaContext(\u001b[38;5;28mself\u001b[39m\u001b[38;5;241m.\u001b[39m_jit_compile):\n\u001b[0;32m--> 915\u001b[0m   result \u001b[38;5;241m=\u001b[39m \u001b[38;5;28;43mself\u001b[39;49m\u001b[38;5;241;43m.\u001b[39;49m\u001b[43m_call\u001b[49m\u001b[43m(\u001b[49m\u001b[38;5;241;43m*\u001b[39;49m\u001b[43margs\u001b[49m\u001b[43m,\u001b[49m\u001b[43m \u001b[49m\u001b[38;5;241;43m*\u001b[39;49m\u001b[38;5;241;43m*\u001b[39;49m\u001b[43mkwds\u001b[49m\u001b[43m)\u001b[49m\n\u001b[1;32m    917\u001b[0m new_tracing_count \u001b[38;5;241m=\u001b[39m \u001b[38;5;28mself\u001b[39m\u001b[38;5;241m.\u001b[39mexperimental_get_tracing_count()\n\u001b[1;32m    918\u001b[0m without_tracing \u001b[38;5;241m=\u001b[39m (tracing_count \u001b[38;5;241m==\u001b[39m new_tracing_count)\n",
      "File \u001b[0;32m~/opt/anaconda3/envs/learningml/lib/python3.10/site-packages/tensorflow/python/eager/def_function.py:947\u001b[0m, in \u001b[0;36mFunction._call\u001b[0;34m(self, *args, **kwds)\u001b[0m\n\u001b[1;32m    944\u001b[0m   \u001b[38;5;28mself\u001b[39m\u001b[38;5;241m.\u001b[39m_lock\u001b[38;5;241m.\u001b[39mrelease()\n\u001b[1;32m    945\u001b[0m   \u001b[38;5;66;03m# In this case we have created variables on the first call, so we run the\u001b[39;00m\n\u001b[1;32m    946\u001b[0m   \u001b[38;5;66;03m# defunned version which is guaranteed to never create variables.\u001b[39;00m\n\u001b[0;32m--> 947\u001b[0m   \u001b[38;5;28;01mreturn\u001b[39;00m \u001b[38;5;28;43mself\u001b[39;49m\u001b[38;5;241;43m.\u001b[39;49m\u001b[43m_stateless_fn\u001b[49m\u001b[43m(\u001b[49m\u001b[38;5;241;43m*\u001b[39;49m\u001b[43margs\u001b[49m\u001b[43m,\u001b[49m\u001b[43m \u001b[49m\u001b[38;5;241;43m*\u001b[39;49m\u001b[38;5;241;43m*\u001b[39;49m\u001b[43mkwds\u001b[49m\u001b[43m)\u001b[49m  \u001b[38;5;66;03m# pylint: disable=not-callable\u001b[39;00m\n\u001b[1;32m    948\u001b[0m \u001b[38;5;28;01melif\u001b[39;00m \u001b[38;5;28mself\u001b[39m\u001b[38;5;241m.\u001b[39m_stateful_fn \u001b[38;5;129;01mis\u001b[39;00m \u001b[38;5;129;01mnot\u001b[39;00m \u001b[38;5;28;01mNone\u001b[39;00m:\n\u001b[1;32m    949\u001b[0m   \u001b[38;5;66;03m# Release the lock early so that multiple threads can perform the call\u001b[39;00m\n\u001b[1;32m    950\u001b[0m   \u001b[38;5;66;03m# in parallel.\u001b[39;00m\n\u001b[1;32m    951\u001b[0m   \u001b[38;5;28mself\u001b[39m\u001b[38;5;241m.\u001b[39m_lock\u001b[38;5;241m.\u001b[39mrelease()\n",
      "File \u001b[0;32m~/opt/anaconda3/envs/learningml/lib/python3.10/site-packages/tensorflow/python/eager/function.py:2453\u001b[0m, in \u001b[0;36mFunction.__call__\u001b[0;34m(self, *args, **kwargs)\u001b[0m\n\u001b[1;32m   2450\u001b[0m \u001b[38;5;28;01mwith\u001b[39;00m \u001b[38;5;28mself\u001b[39m\u001b[38;5;241m.\u001b[39m_lock:\n\u001b[1;32m   2451\u001b[0m   (graph_function,\n\u001b[1;32m   2452\u001b[0m    filtered_flat_args) \u001b[38;5;241m=\u001b[39m \u001b[38;5;28mself\u001b[39m\u001b[38;5;241m.\u001b[39m_maybe_define_function(args, kwargs)\n\u001b[0;32m-> 2453\u001b[0m \u001b[38;5;28;01mreturn\u001b[39;00m \u001b[43mgraph_function\u001b[49m\u001b[38;5;241;43m.\u001b[39;49m\u001b[43m_call_flat\u001b[49m\u001b[43m(\u001b[49m\n\u001b[1;32m   2454\u001b[0m \u001b[43m    \u001b[49m\u001b[43mfiltered_flat_args\u001b[49m\u001b[43m,\u001b[49m\u001b[43m \u001b[49m\u001b[43mcaptured_inputs\u001b[49m\u001b[38;5;241;43m=\u001b[39;49m\u001b[43mgraph_function\u001b[49m\u001b[38;5;241;43m.\u001b[39;49m\u001b[43mcaptured_inputs\u001b[49m\u001b[43m)\u001b[49m\n",
      "File \u001b[0;32m~/opt/anaconda3/envs/learningml/lib/python3.10/site-packages/tensorflow/python/eager/function.py:1860\u001b[0m, in \u001b[0;36mConcreteFunction._call_flat\u001b[0;34m(self, args, captured_inputs, cancellation_manager)\u001b[0m\n\u001b[1;32m   1856\u001b[0m possible_gradient_type \u001b[38;5;241m=\u001b[39m gradients_util\u001b[38;5;241m.\u001b[39mPossibleTapeGradientTypes(args)\n\u001b[1;32m   1857\u001b[0m \u001b[38;5;28;01mif\u001b[39;00m (possible_gradient_type \u001b[38;5;241m==\u001b[39m gradients_util\u001b[38;5;241m.\u001b[39mPOSSIBLE_GRADIENT_TYPES_NONE\n\u001b[1;32m   1858\u001b[0m     \u001b[38;5;129;01mand\u001b[39;00m executing_eagerly):\n\u001b[1;32m   1859\u001b[0m   \u001b[38;5;66;03m# No tape is watching; skip to running the function.\u001b[39;00m\n\u001b[0;32m-> 1860\u001b[0m   \u001b[38;5;28;01mreturn\u001b[39;00m \u001b[38;5;28mself\u001b[39m\u001b[38;5;241m.\u001b[39m_build_call_outputs(\u001b[38;5;28;43mself\u001b[39;49m\u001b[38;5;241;43m.\u001b[39;49m\u001b[43m_inference_function\u001b[49m\u001b[38;5;241;43m.\u001b[39;49m\u001b[43mcall\u001b[49m\u001b[43m(\u001b[49m\n\u001b[1;32m   1861\u001b[0m \u001b[43m      \u001b[49m\u001b[43mctx\u001b[49m\u001b[43m,\u001b[49m\u001b[43m \u001b[49m\u001b[43margs\u001b[49m\u001b[43m,\u001b[49m\u001b[43m \u001b[49m\u001b[43mcancellation_manager\u001b[49m\u001b[38;5;241;43m=\u001b[39;49m\u001b[43mcancellation_manager\u001b[49m\u001b[43m)\u001b[49m)\n\u001b[1;32m   1862\u001b[0m forward_backward \u001b[38;5;241m=\u001b[39m \u001b[38;5;28mself\u001b[39m\u001b[38;5;241m.\u001b[39m_select_forward_and_backward_functions(\n\u001b[1;32m   1863\u001b[0m     args,\n\u001b[1;32m   1864\u001b[0m     possible_gradient_type,\n\u001b[1;32m   1865\u001b[0m     executing_eagerly)\n\u001b[1;32m   1866\u001b[0m forward_function, args_with_tangents \u001b[38;5;241m=\u001b[39m forward_backward\u001b[38;5;241m.\u001b[39mforward()\n",
      "File \u001b[0;32m~/opt/anaconda3/envs/learningml/lib/python3.10/site-packages/tensorflow/python/eager/function.py:497\u001b[0m, in \u001b[0;36m_EagerDefinedFunction.call\u001b[0;34m(self, ctx, args, cancellation_manager)\u001b[0m\n\u001b[1;32m    495\u001b[0m \u001b[38;5;28;01mwith\u001b[39;00m _InterpolateFunctionError(\u001b[38;5;28mself\u001b[39m):\n\u001b[1;32m    496\u001b[0m   \u001b[38;5;28;01mif\u001b[39;00m cancellation_manager \u001b[38;5;129;01mis\u001b[39;00m \u001b[38;5;28;01mNone\u001b[39;00m:\n\u001b[0;32m--> 497\u001b[0m     outputs \u001b[38;5;241m=\u001b[39m \u001b[43mexecute\u001b[49m\u001b[38;5;241;43m.\u001b[39;49m\u001b[43mexecute\u001b[49m\u001b[43m(\u001b[49m\n\u001b[1;32m    498\u001b[0m \u001b[43m        \u001b[49m\u001b[38;5;28;43mstr\u001b[39;49m\u001b[43m(\u001b[49m\u001b[38;5;28;43mself\u001b[39;49m\u001b[38;5;241;43m.\u001b[39;49m\u001b[43msignature\u001b[49m\u001b[38;5;241;43m.\u001b[39;49m\u001b[43mname\u001b[49m\u001b[43m)\u001b[49m\u001b[43m,\u001b[49m\n\u001b[1;32m    499\u001b[0m \u001b[43m        \u001b[49m\u001b[43mnum_outputs\u001b[49m\u001b[38;5;241;43m=\u001b[39;49m\u001b[38;5;28;43mself\u001b[39;49m\u001b[38;5;241;43m.\u001b[39;49m\u001b[43m_num_outputs\u001b[49m\u001b[43m,\u001b[49m\n\u001b[1;32m    500\u001b[0m \u001b[43m        \u001b[49m\u001b[43minputs\u001b[49m\u001b[38;5;241;43m=\u001b[39;49m\u001b[43margs\u001b[49m\u001b[43m,\u001b[49m\n\u001b[1;32m    501\u001b[0m \u001b[43m        \u001b[49m\u001b[43mattrs\u001b[49m\u001b[38;5;241;43m=\u001b[39;49m\u001b[43mattrs\u001b[49m\u001b[43m,\u001b[49m\n\u001b[1;32m    502\u001b[0m \u001b[43m        \u001b[49m\u001b[43mctx\u001b[49m\u001b[38;5;241;43m=\u001b[39;49m\u001b[43mctx\u001b[49m\u001b[43m)\u001b[49m\n\u001b[1;32m    503\u001b[0m   \u001b[38;5;28;01melse\u001b[39;00m:\n\u001b[1;32m    504\u001b[0m     outputs \u001b[38;5;241m=\u001b[39m execute\u001b[38;5;241m.\u001b[39mexecute_with_cancellation(\n\u001b[1;32m    505\u001b[0m         \u001b[38;5;28mstr\u001b[39m(\u001b[38;5;28mself\u001b[39m\u001b[38;5;241m.\u001b[39msignature\u001b[38;5;241m.\u001b[39mname),\n\u001b[1;32m    506\u001b[0m         num_outputs\u001b[38;5;241m=\u001b[39m\u001b[38;5;28mself\u001b[39m\u001b[38;5;241m.\u001b[39m_num_outputs,\n\u001b[0;32m   (...)\u001b[0m\n\u001b[1;32m    509\u001b[0m         ctx\u001b[38;5;241m=\u001b[39mctx,\n\u001b[1;32m    510\u001b[0m         cancellation_manager\u001b[38;5;241m=\u001b[39mcancellation_manager)\n",
      "File \u001b[0;32m~/opt/anaconda3/envs/learningml/lib/python3.10/site-packages/tensorflow/python/eager/execute.py:54\u001b[0m, in \u001b[0;36mquick_execute\u001b[0;34m(op_name, num_outputs, inputs, attrs, ctx, name)\u001b[0m\n\u001b[1;32m     52\u001b[0m \u001b[38;5;28;01mtry\u001b[39;00m:\n\u001b[1;32m     53\u001b[0m   ctx\u001b[38;5;241m.\u001b[39mensure_initialized()\n\u001b[0;32m---> 54\u001b[0m   tensors \u001b[38;5;241m=\u001b[39m \u001b[43mpywrap_tfe\u001b[49m\u001b[38;5;241;43m.\u001b[39;49m\u001b[43mTFE_Py_Execute\u001b[49m\u001b[43m(\u001b[49m\u001b[43mctx\u001b[49m\u001b[38;5;241;43m.\u001b[39;49m\u001b[43m_handle\u001b[49m\u001b[43m,\u001b[49m\u001b[43m \u001b[49m\u001b[43mdevice_name\u001b[49m\u001b[43m,\u001b[49m\u001b[43m \u001b[49m\u001b[43mop_name\u001b[49m\u001b[43m,\u001b[49m\n\u001b[1;32m     55\u001b[0m \u001b[43m                                      \u001b[49m\u001b[43minputs\u001b[49m\u001b[43m,\u001b[49m\u001b[43m \u001b[49m\u001b[43mattrs\u001b[49m\u001b[43m,\u001b[49m\u001b[43m \u001b[49m\u001b[43mnum_outputs\u001b[49m\u001b[43m)\u001b[49m\n\u001b[1;32m     56\u001b[0m \u001b[38;5;28;01mexcept\u001b[39;00m core\u001b[38;5;241m.\u001b[39m_NotOkStatusException \u001b[38;5;28;01mas\u001b[39;00m e:\n\u001b[1;32m     57\u001b[0m   \u001b[38;5;28;01mif\u001b[39;00m name \u001b[38;5;129;01mis\u001b[39;00m \u001b[38;5;129;01mnot\u001b[39;00m \u001b[38;5;28;01mNone\u001b[39;00m:\n",
      "\u001b[0;31mKeyboardInterrupt\u001b[0m: "
     ]
    }
   ],
   "source": [
    "model = keras.Sequential([\n",
    "    text_preprocess_layer,\n",
    "    text_vec_layer,\n",
    "    bow_layer,\n",
    "    keras.layers.Dense(100, activation=\"relu\"),\n",
    "    keras.layers.Dense(1, activation=\"sigmoid\"),\n",
    "])\n",
    "\n",
    "optimizer = keras.optimizers.Nadam(learning_rate=1e-4)\n",
    "model.compile(loss=\"binary_crossentropy\",\n",
    "              optimizer=optimizer,\n",
    "              metrics=[\"accuracy\"])\n",
    "\n",
    "history = model.fit(train_set, epochs=5,\n",
    "                    validation_data=valid_set)"
   ]
  },
  {
   "cell_type": "code",
   "execution_count": null,
   "id": "37c0e710-96bb-4e2c-b66c-0bcb29e7dd65",
   "metadata": {},
   "outputs": [],
   "source": []
  }
 ],
 "metadata": {
  "kernelspec": {
   "display_name": "Python 3 (ipykernel)",
   "language": "python",
   "name": "python3"
  },
  "language_info": {
   "codemirror_mode": {
    "name": "ipython",
    "version": 3
   },
   "file_extension": ".py",
   "mimetype": "text/x-python",
   "name": "python",
   "nbconvert_exporter": "python",
   "pygments_lexer": "ipython3",
   "version": "3.10.4"
  },
  "toc-autonumbering": true,
  "toc-showcode": false,
  "toc-showmarkdowntxt": false,
  "toc-showtags": false
 },
 "nbformat": 4,
 "nbformat_minor": 5
}
