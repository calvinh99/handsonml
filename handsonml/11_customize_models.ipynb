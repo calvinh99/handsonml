{
 "cells": [
  {
   "cell_type": "markdown",
   "id": "08eb62a1-ab59-4e31-85f2-0290351083a0",
   "metadata": {},
   "source": [
    "# Setup"
   ]
  },
  {
   "cell_type": "code",
   "execution_count": 1,
   "id": "bd1262a0-928a-4eda-97d6-74d2be1d4096",
   "metadata": {},
   "outputs": [],
   "source": [
    "# handle math and data\n",
    "import numpy as np\n",
    "import pandas as pd\n",
    "import time\n",
    "import math\n",
    "\n",
    "# to plot nice figures\n",
    "%matplotlib inline\n",
    "import matplotlib as mpl\n",
    "import matplotlib.pyplot as plt\n",
    "mpl.rc('axes', labelsize=14)\n",
    "mpl.rc('xtick', labelsize=12)\n",
    "mpl.rc('ytick', labelsize=12)\n",
    "\n",
    "# handle files\n",
    "import os\n",
    "import sys\n",
    "import joblib\n",
    "\n",
    "# random states\n",
    "SEED = 69\n",
    "\n",
    "# deep learning\n",
    "import tensorflow as tf\n",
    "from tensorflow import keras\n",
    "\n",
    "K = keras.backend\n",
    "\n",
    "def reset_backend():\n",
    "    K.clear_session()\n",
    "    np.random.seed(SEED)\n",
    "    tf.random.set_seed(SEED)"
   ]
  },
  {
   "cell_type": "markdown",
   "id": "9fcd77ae-c664-4a16-b486-7d2cadad7782",
   "metadata": {},
   "source": [
    "## Find LR Classes"
   ]
  },
  {
   "cell_type": "code",
   "execution_count": 56,
   "id": "d9dc40dd-db94-474a-ac00-13d502d552d1",
   "metadata": {},
   "outputs": [],
   "source": [
    "def round_up_to_tenth(n):\n",
    "    a = np.log(n) / np.log(10)\n",
    "    a_ = np.rint(a)\n",
    "    return 10**a_\n",
    "\n",
    "class ExponentialLearningRate(keras.callbacks.Callback):\n",
    "    def __init__(self, factor):\n",
    "        self.factor = factor\n",
    "        self.rates = []\n",
    "        self.losses = []\n",
    "    def on_batch_end(self, batch, logs):\n",
    "        self.rates.append(K.get_value(self.model.optimizer.learning_rate))\n",
    "        self.losses.append(logs[\"loss\"])\n",
    "        K.set_value(self.model.optimizer.learning_rate, self.model.optimizer.learning_rate * self.factor)\n",
    "\n",
    "def find_learning_rate(model, X, y, epochs=1, batch_size=32, min_rate=10**-10, max_rate=10):\n",
    "    init_weights = model.get_weights()\n",
    "    iterations = math.ceil(len(X) / batch_size) * epochs\n",
    "    factor = np.exp(np.log(max_rate / min_rate) / iterations)\n",
    "    init_lr = K.get_value(model.optimizer.learning_rate)\n",
    "    K.set_value(model.optimizer.learning_rate, min_rate)\n",
    "    exp_lr = ExponentialLearningRate(factor)\n",
    "    history = model.fit(X, y, epochs=epochs, batch_size=batch_size,\n",
    "                        callbacks=[exp_lr])\n",
    "    K.set_value(model.optimizer.learning_rate, init_lr)\n",
    "    model.set_weights(init_weights)\n",
    "    return exp_lr.rates, exp_lr.losses\n",
    "\n",
    "def plot_lr_vs_loss(rates, losses, max_loss=None):\n",
    "    plt.plot(rates, losses)\n",
    "    plt.gca().set_xscale('log')\n",
    "    \n",
    "    tick = round_up_to_tenth(min(rates))\n",
    "    x_ticks = []\n",
    "    while tick < max(rates)*10:\n",
    "        x_ticks.append(tick)\n",
    "        tick = tick * 10\n",
    "    plt.gca().set_xticks(x_ticks)\n",
    "    \n",
    "    plt.hlines(min(losses), min(rates), max(rates))\n",
    "    if max_loss is None:\n",
    "        plt.axis([min(rates), max(rates), min(losses), (losses[0] + min(losses)) / 2])\n",
    "    else:\n",
    "        plt.axis([min(rates), max(rates), min(losses), max_loss])\n",
    "    plt.xlabel(\"Learning rate\")\n",
    "    plt.ylabel(\"Loss\")"
   ]
  },
  {
   "cell_type": "markdown",
   "id": "c126057e-237a-453b-9462-abe1a4afd2ed",
   "metadata": {},
   "source": [
    "# Get Data"
   ]
  },
  {
   "cell_type": "code",
   "execution_count": 5,
   "id": "7cccd3ee-9d3b-4549-a205-e21978313902",
   "metadata": {},
   "outputs": [],
   "source": [
    "from tensorflow.keras.datasets import fashion_mnist\n",
    "\n",
    "# 60K train and 10K test samples, shape (28, 28), type 'uint8'\n",
    "(X_train_full, y_train_full), (X_test, y_test) = fashion_mnist.load_data()\n",
    "\n",
    "val_size = 5000\n",
    "X_train, X_val = X_train_full[val_size:], X_train_full[:val_size]\n",
    "y_train, y_val = y_train_full[val_size:], y_train_full[:val_size]"
   ]
  },
  {
   "cell_type": "markdown",
   "id": "36d12bd5-50cb-4de2-900e-c74048dac3aa",
   "metadata": {},
   "source": [
    "## Visualize Data"
   ]
  },
  {
   "cell_type": "code",
   "execution_count": 13,
   "id": "bcacfe20-39e4-4c2f-98e3-ca613f5d7b09",
   "metadata": {},
   "outputs": [],
   "source": [
    "def plot_image(image):    \n",
    "    plt.figure(figsize=(3,3))\n",
    "    plt.imshow(image, cmap=\"binary\")\n",
    "    plt.axis(\"off\")\n",
    "    plt.show()"
   ]
  },
  {
   "cell_type": "code",
   "execution_count": 14,
   "id": "ed9a6eb6-ba4b-4cfd-ab8b-45e57c316841",
   "metadata": {},
   "outputs": [
    {
     "data": {
      "image/png": "[encoded data removed]",
      "text/plain": [
       "<Figure size 216x216 with 1 Axes>"
      ]
     },
     "metadata": {
      "needs_background": "light"
     },
     "output_type": "display_data"
    }
   ],
   "source": [
    "plot_image(X_train[0])"
   ]
  },
  {
   "cell_type": "code",
   "execution_count": 16,
   "id": "0f708d47-39f5-4eca-a969-b9ef16870e07",
   "metadata": {},
   "outputs": [
    {
     "data": {
      "text/plain": [
       "'Coat'"
      ]
     },
     "execution_count": 16,
     "metadata": {},
     "output_type": "execute_result"
    }
   ],
   "source": [
    "attribute_names = [\"T-shirt/top\", \"Trouser\", \"Pullover\", \"Dress\", \n",
    "                   \"Coat\", \"Sandal\", \"Shirt\", \"Sneaker\", \"Bag\", \"Ankle boot\"]\n",
    "\n",
    "attribute_names[y_train[0]]"
   ]
  },
  {
   "cell_type": "code",
   "execution_count": 17,
   "id": "6ed9c73a-e679-4ec2-874a-042f0a66fc1e",
   "metadata": {},
   "outputs": [],
   "source": [
    "def plot_images(X, y, n_rows=4, n_cols=10):\n",
    "    plt.figure(figsize=(n_cols * 1.2, n_rows * 1.2))\n",
    "    for row in range(n_rows):\n",
    "        for col in range(n_cols):\n",
    "            index = n_cols * row + col\n",
    "            plt.subplot(n_rows, n_cols, index + 1)\n",
    "            plt.imshow(X[index], cmap=\"binary\", interpolation=\"nearest\")\n",
    "            plt.axis('off')\n",
    "            plt.title(attribute_names[y[index]], fontsize=12)\n",
    "    plt.subplots_adjust(wspace=0.2, hspace=0.5)\n",
    "    plt.show()"
   ]
  },
  {
   "cell_type": "code",
   "execution_count": 18,
   "id": "144a03fc-d416-4837-85be-3fd0ed5d12fd",
   "metadata": {},
   "outputs": [
    {
     "data": {
      "image/png": "[encoded data removed]",
      "text/plain": [
       "<Figure size 864x345.6 with 40 Axes>"
      ]
     },
     "metadata": {
      "needs_background": "light"
     },
     "output_type": "display_data"
    }
   ],
   "source": [
    "plot_images(X_train, y_train)"
   ]
  },
  {
   "cell_type": "markdown",
   "id": "7a122f39-dde3-426b-9f98-3602e5bbfade",
   "metadata": {},
   "source": [
    "# Custom Layer Normalization"
   ]
  },
  {
   "cell_type": "markdown",
   "id": "05408d86-0fa0-469e-93d4-4e46f5d668da",
   "metadata": {},
   "source": [
    "The goal is to create a custom layer that does the same thing as `keras.layers.LayerNormalization`.\n",
    "- **[LayerNormalization](https://keras.io/api/layers/normalization_layers/layer_normalization/)**"
   ]
  },
  {
   "cell_type": "code",
   "execution_count": 49,
   "id": "4af3b04b-fbf9-4ebe-bd18-3e3117b038c0",
   "metadata": {},
   "outputs": [
    {
     "data": {
      "text/plain": [
       "((100, 28, 28), TensorShape([100, 28, 28]))"
      ]
     },
     "execution_count": 49,
     "metadata": {},
     "output_type": "execute_result"
    }
   ],
   "source": [
    "sample_inputs = X_train[:100]\n",
    "\n",
    "layer_norm = tf.keras.layers.LayerNormalization(axis=1)\n",
    "\n",
    "sample_outputs = layer_norm(sample_inputs)\n",
    "sample_inputs.shape, sample_outputs.shape"
   ]
  },
  {
   "cell_type": "code",
   "execution_count": 50,
   "id": "0dddd28c-2cc6-4295-b4ef-ccf393dec3c7",
   "metadata": {},
   "outputs": [
    {
     "data": {
      "image/png": "[encoded data removed]",
      "text/plain": [
       "<Figure size 216x216 with 1 Axes>"
      ]
     },
     "metadata": {
      "needs_background": "light"
     },
     "output_type": "display_data"
    }
   ],
   "source": [
    "plot_image(sample_outputs[0].numpy())"
   ]
  },
  {
   "cell_type": "markdown",
   "id": "9df9d865-d52f-4d5f-af9b-d90f01779477",
   "metadata": {},
   "source": [
    "## Custom Layer"
   ]
  },
  {
   "cell_type": "markdown",
   "id": "fea9e880-e8e7-423a-9452-ed69563921ce",
   "metadata": {},
   "source": [
    "We subclass `tf.keras.layers.Layer`\n",
    "- **[Layer](https://www.tensorflow.org/api_docs/python/tf/keras/layers/Layer)**"
   ]
  },
  {
   "cell_type": "code",
   "execution_count": 51,
   "id": "777519c4-d429-4663-a6ea-2e5c2f198e5d",
   "metadata": {},
   "outputs": [],
   "source": [
    "class CustomLayerNormalization(keras.layers.Layer):\n",
    "    def __init__(self, axis=0, **kwargs):\n",
    "        super().__init__(**kwargs)\n",
    "        self.axis = axis\n",
    "        \n",
    "    def build(self, input_shape):\n",
    "        self.a = self.add_weight(shape=input_shape[self.axis],\n",
    "                                 initializer=\"ones\",\n",
    "                                 dtype=tf.float32,\n",
    "                                 trainable=True)\n",
    "        self.b = self.add_weight(shape=input_shape[self.axis],\n",
    "                                 initializer=\"zeros\", \n",
    "                                 dtype=tf.float32,\n",
    "                                 trainable=True)\n",
    "    \n",
    "    def call(self, inputs):\n",
    "        inputs = tf.cast(inputs, tf.float32)\n",
    "        mean, variance = tf.nn.moments(inputs, axes=self.axis, keepdims=True)\n",
    "        std = tf.math.sqrt(variance)\n",
    "        eps = 1e-7\n",
    "        \n",
    "        return (self.a * (inputs - mean) / (std + eps)) + self.b\n",
    "    \n",
    "    def get_config(self):\n",
    "        base_config = super().get_config()\n",
    "        return {**base_config, \"axis\": self.axis}"
   ]
  },
  {
   "cell_type": "code",
   "execution_count": 52,
   "id": "41720df1-cc7c-41a9-9652-789972c84671",
   "metadata": {},
   "outputs": [
    {
     "data": {
      "text/plain": [
       "((100, 28, 28), TensorShape([100, 28, 28]))"
      ]
     },
     "execution_count": 52,
     "metadata": {},
     "output_type": "execute_result"
    }
   ],
   "source": [
    "custom_layer_norm = CustomLayerNormalization(axis=1)\n",
    "\n",
    "custom_sample_outputs = custom_layer_norm(sample_inputs)\n",
    "sample_inputs.shape, custom_sample_outputs.shape"
   ]
  },
  {
   "cell_type": "code",
   "execution_count": 53,
   "id": "6f232fbb-0870-4c42-bbe9-24f30f387a58",
   "metadata": {},
   "outputs": [
    {
     "data": {
      "image/png": "[encoded data removed]",
      "text/plain": [
       "<Figure size 216x216 with 1 Axes>"
      ]
     },
     "metadata": {
      "needs_background": "light"
     },
     "output_type": "display_data"
    }
   ],
   "source": [
    "plot_image(custom_sample_outputs[0].numpy())"
   ]
  },
  {
   "cell_type": "markdown",
   "id": "0f2ba78f-db7d-4bbe-8b4a-0f9432541672",
   "metadata": {},
   "source": [
    "Good, they do the same thing."
   ]
  },
  {
   "cell_type": "markdown",
   "id": "db5a0b4c-5624-4395-a3c6-9be8ab288b29",
   "metadata": {},
   "source": [
    "# Custom Training Loop"
   ]
  },
  {
   "cell_type": "markdown",
   "id": "b2b46266-4c33-4bce-b02b-b8737e7fa46c",
   "metadata": {},
   "source": [
    "Now we want to create our own custom training loop that:\n",
    "- Displays epoch, iteration, mean training loss, and mean accuracy per epoch\n",
    "    - Updates at every iteration\n",
    "    - Validation loss and accuracy at end of each epoch\n",
    "- Use a different optimizer and lr for first two hidden layers and another one for last two hidden layers"
   ]
  },
  {
   "cell_type": "markdown",
   "id": "0db0753c-aaa2-47ff-a660-89a910bc72a5",
   "metadata": {},
   "source": [
    "## Normal Model"
   ]
  },
  {
   "cell_type": "markdown",
   "id": "a3c36640-2978-41ca-9af5-e8541b5cde6a",
   "metadata": {},
   "source": [
    "Let's first train a normal model for comparison."
   ]
  },
  {
   "cell_type": "code",
   "execution_count": 65,
   "id": "3c0bd3d6-2689-44e1-8837-24c03b9297b5",
   "metadata": {},
   "outputs": [],
   "source": [
    "from tensorflow.keras import Sequential\n",
    "from tensorflow.keras.layers import Flatten\n",
    "from tensorflow.keras.layers import Dense\n",
    "from tensorflow.keras.optimizers import Nadam\n",
    "\n",
    "reset_backend()\n",
    "\n",
    "# create model\n",
    "model = Sequential()\n",
    "model.add(Flatten(input_shape=[28, 28]))\n",
    "for _ in range(4):\n",
    "    model.add(Dense(300, activation=\"elu\", \n",
    "                    kernel_initializer=\"he_normal\"))\n",
    "model.add(Dense(10, activation=\"softmax\"))\n",
    "\n",
    "# compile model\n",
    "optimizer = Nadam(learning_rate=1e-3)\n",
    "model.compile(loss=\"sparse_categorical_crossentropy\",\n",
    "              optimizer=optimizer,\n",
    "              metrics=[\"accuracy\"])"
   ]
  },
  {
   "cell_type": "markdown",
   "id": "120ed699-2756-445b-9d49-b53f3d6f25bc",
   "metadata": {},
   "source": [
    "### Optimal LR"
   ]
  },
  {
   "cell_type": "code",
   "execution_count": 66,
   "id": "3e0cb6c5-c496-45ae-bc8c-ba60300ca74d",
   "metadata": {},
   "outputs": [
    {
     "name": "stdout",
     "output_type": "stream",
     "text": [
      "430/430 [==============================] - 4s 7ms/step - loss: 1308199256850432.0000 - accuracy: 0.2381\n"
     ]
    }
   ],
   "source": [
    "epochs = 1\n",
    "batch_size = 128\n",
    "rates, losses = find_learning_rate(model, X_train, y_train,\n",
    "                                   epochs=epochs, batch_size=batch_size,\n",
    "                                   min_rate=1e-8, max_rate=10)"
   ]
  },
  {
   "cell_type": "code",
   "execution_count": 68,
   "id": "d64458ed-d402-493e-a6b1-17083c0209fe",
   "metadata": {},
   "outputs": [
    {
     "data": {
      "image/png": "[encoded data removed]",
      "text/plain": [
       "<Figure size 1440x432 with 1 Axes>"
      ]
     },
     "metadata": {
      "needs_background": "light"
     },
     "output_type": "display_data"
    }
   ],
   "source": [
    "plt.figure(figsize=(20,6))\n",
    "plot_lr_vs_loss(rates, losses, max_loss=280)"
   ]
  },
  {
   "cell_type": "markdown",
   "id": "08bd3e03-81ec-4e36-a9a2-b3453bc5be19",
   "metadata": {},
   "source": [
    "A decent lr should be `5e-4`."
   ]
  },
  {
   "cell_type": "code",
   "execution_count": 77,
   "id": "20aea3c5-2f5d-42d8-9f09-85eab6f26b7b",
   "metadata": {},
   "outputs": [],
   "source": [
    "lr = 5e-4"
   ]
  },
  {
   "cell_type": "markdown",
   "id": "29c3a7cf-e441-4fda-8f6d-a74093b6260b",
   "metadata": {},
   "source": [
    "### Train Model"
   ]
  },
  {
   "cell_type": "code",
   "execution_count": 83,
   "id": "69565490-0ec7-47fd-bd9a-842dcc8e0b20",
   "metadata": {},
   "outputs": [],
   "source": [
    "reset_backend()\n",
    "\n",
    "# create model\n",
    "model = Sequential()\n",
    "model.add(Flatten(input_shape=[28, 28]))\n",
    "for _ in range(4):\n",
    "    model.add(Dense(300, activation=\"elu\", \n",
    "                    kernel_initializer=\"he_normal\"))\n",
    "model.add(Dense(10, activation=\"softmax\"))\n",
    "\n",
    "# compile model\n",
    "optimizer = Nadam(learning_rate=lr)\n",
    "model.compile(loss=\"sparse_categorical_crossentropy\",\n",
    "              optimizer=optimizer,\n",
    "              metrics=[\"accuracy\"])"
   ]
  },
  {
   "cell_type": "markdown",
   "id": "7b169a60-1596-4f64-b5a1-b009b6a5becb",
   "metadata": {},
   "source": [
    "**Callbacks**"
   ]
  },
  {
   "cell_type": "code",
   "execution_count": 87,
   "id": "1bc078ef-6095-4b04-b1db-91828e42828b",
   "metadata": {},
   "outputs": [],
   "source": [
    "early_stopping_cb = keras.callbacks.EarlyStopping(patience=10, restore_best_weights=True)\n",
    "\n",
    "callbacks = [early_stopping_cb]"
   ]
  },
  {
   "cell_type": "markdown",
   "id": "5116db7e-615a-4186-bede-81bfc605063d",
   "metadata": {},
   "source": [
    "**Train**"
   ]
  },
  {
   "cell_type": "code",
   "execution_count": 88,
   "id": "02ab90c5-dca8-4609-ba14-869ede698b5c",
   "metadata": {},
   "outputs": [
    {
     "name": "stdout",
     "output_type": "stream",
     "text": [
      "Epoch 1/100\n",
      "1719/1719 [==============================] - 9s 5ms/step - loss: 0.2370 - accuracy: 0.9118 - val_loss: 0.3533 - val_accuracy: 0.8822\n",
      "Epoch 2/100\n",
      "1719/1719 [==============================] - 9s 5ms/step - loss: 0.2331 - accuracy: 0.9125 - val_loss: 0.3487 - val_accuracy: 0.8970\n",
      "Epoch 3/100\n",
      "1719/1719 [==============================] - 9s 5ms/step - loss: 0.2361 - accuracy: 0.9111 - val_loss: 0.3772 - val_accuracy: 0.8806\n",
      "Epoch 4/100\n",
      "1719/1719 [==============================] - 9s 5ms/step - loss: 0.2305 - accuracy: 0.9140 - val_loss: 0.3757 - val_accuracy: 0.8860\n",
      "Epoch 5/100\n",
      "1719/1719 [==============================] - 10s 6ms/step - loss: 0.2205 - accuracy: 0.9168 - val_loss: 0.3958 - val_accuracy: 0.8926\n",
      "Epoch 6/100\n",
      "1719/1719 [==============================] - 10s 6ms/step - loss: 0.2210 - accuracy: 0.9176 - val_loss: 0.4194 - val_accuracy: 0.8752\n",
      "Epoch 7/100\n",
      "1719/1719 [==============================] - 9s 5ms/step - loss: 0.2160 - accuracy: 0.9200 - val_loss: 0.4068 - val_accuracy: 0.8794\n",
      "Epoch 8/100\n",
      "1719/1719 [==============================] - 10s 6ms/step - loss: 0.2250 - accuracy: 0.9180 - val_loss: 0.3984 - val_accuracy: 0.8838\n",
      "Epoch 9/100\n",
      "1719/1719 [==============================] - 10s 6ms/step - loss: 0.2637 - accuracy: 0.9169 - val_loss: 0.5137 - val_accuracy: 0.8922\n",
      "Epoch 10/100\n",
      "1719/1719 [==============================] - 10s 6ms/step - loss: 0.2361 - accuracy: 0.9193 - val_loss: 0.4115 - val_accuracy: 0.8844\n",
      "Epoch 11/100\n",
      "1719/1719 [==============================] - 10s 6ms/step - loss: 0.2187 - accuracy: 0.9203 - val_loss: 0.3405 - val_accuracy: 0.8922\n",
      "Epoch 12/100\n",
      "1719/1719 [==============================] - 10s 6ms/step - loss: 0.2042 - accuracy: 0.9240 - val_loss: 0.3490 - val_accuracy: 0.8948\n",
      "Epoch 13/100\n",
      "1719/1719 [==============================] - 10s 6ms/step - loss: 0.1947 - accuracy: 0.9277 - val_loss: 0.3774 - val_accuracy: 0.8850\n",
      "Epoch 14/100\n",
      "1719/1719 [==============================] - 9s 5ms/step - loss: 0.1966 - accuracy: 0.9273 - val_loss: 0.3782 - val_accuracy: 0.8906\n",
      "Epoch 15/100\n",
      "1719/1719 [==============================] - 10s 6ms/step - loss: 0.2305 - accuracy: 0.9211 - val_loss: 0.3648 - val_accuracy: 0.8942\n",
      "Epoch 16/100\n",
      "1719/1719 [==============================] - 10s 6ms/step - loss: 0.1918 - accuracy: 0.9277 - val_loss: 0.4605 - val_accuracy: 0.8874\n",
      "Epoch 17/100\n",
      "1719/1719 [==============================] - 10s 6ms/step - loss: 0.1935 - accuracy: 0.9276 - val_loss: 0.3670 - val_accuracy: 0.8940\n",
      "Epoch 18/100\n",
      "1719/1719 [==============================] - 10s 6ms/step - loss: 0.1947 - accuracy: 0.9288 - val_loss: 0.4088 - val_accuracy: 0.8912\n",
      "Epoch 19/100\n",
      "1719/1719 [==============================] - 10s 6ms/step - loss: 0.1943 - accuracy: 0.9284 - val_loss: 0.3729 - val_accuracy: 0.8924\n",
      "Epoch 20/100\n",
      "1719/1719 [==============================] - 10s 6ms/step - loss: 0.1801 - accuracy: 0.9323 - val_loss: 0.3887 - val_accuracy: 0.8948\n",
      "Epoch 21/100\n",
      "1719/1719 [==============================] - 10s 6ms/step - loss: 0.1962 - accuracy: 0.9285 - val_loss: 0.4272 - val_accuracy: 0.8928\n"
     ]
    }
   ],
   "source": [
    "history = model.fit(X_train, y_train, epochs=100, \n",
    "                    validation_data=[X_val, y_val],\n",
    "                    callbacks=callbacks)"
   ]
  },
  {
   "cell_type": "code",
   "execution_count": 91,
   "id": "56902149-7bd7-4f17-9ddd-96fd632ee7cd",
   "metadata": {},
   "outputs": [
    {
     "data": {
      "text/plain": [
       "<AxesSubplot:>"
      ]
     },
     "execution_count": 91,
     "metadata": {},
     "output_type": "execute_result"
    },
    {
     "data": {
      "image/png": "[encoded data removed]",
      "text/plain": [
       "<Figure size 432x288 with 1 Axes>"
      ]
     },
     "metadata": {
      "needs_background": "light"
     },
     "output_type": "display_data"
    }
   ],
   "source": [
    "pd.DataFrame(history.history).plot()"
   ]
  },
  {
   "cell_type": "markdown",
   "id": "8ef7b4e4-3b41-4d0e-b5f3-e3de60a906fb",
   "metadata": {},
   "source": [
    "### Evaluate"
   ]
  },
  {
   "cell_type": "code",
   "execution_count": 92,
   "id": "0dc1133e-da9a-4ed0-b0d4-0d1cbb804a19",
   "metadata": {},
   "outputs": [
    {
     "name": "stdout",
     "output_type": "stream",
     "text": [
      "313/313 [==============================] - 1s 2ms/step - loss: 0.3858 - accuracy: 0.8881\n"
     ]
    },
    {
     "data": {
      "text/plain": [
       "[0.3858397305011749, 0.8881000280380249]"
      ]
     },
     "execution_count": 92,
     "metadata": {},
     "output_type": "execute_result"
    }
   ],
   "source": [
    "model.evaluate(X_test, y_test)"
   ]
  },
  {
   "cell_type": "markdown",
   "id": "3627d8ce-42e0-42f5-b37f-72acc5895465",
   "metadata": {},
   "source": [
    "`88.8%` accuracy"
   ]
  },
  {
   "cell_type": "markdown",
   "id": "dbb74fa4-b8b8-4acf-9549-393bfa47f5ea",
   "metadata": {},
   "source": [
    "## Custom Model"
   ]
  },
  {
   "cell_type": "code",
   "execution_count": 126,
   "id": "543811ac-ff6f-4403-a900-bd88a947c7d5",
   "metadata": {},
   "outputs": [],
   "source": [
    "reset_backend()\n",
    "\n",
    "# create model\n",
    "lower_layers = keras.models.Sequential([\n",
    "    keras.layers.Flatten(input_shape=[28, 28]),\n",
    "    keras.layers.Dense(100, activation=\"relu\"),\n",
    "])\n",
    "upper_layers = keras.models.Sequential([\n",
    "    keras.layers.Dense(10, activation=\"softmax\"),\n",
    "])\n",
    "model = keras.models.Sequential([\n",
    "    lower_layers, upper_layers\n",
    "])\n",
    "\n",
    "lower_optimizer = keras.optimizers.SGD(learning_rate=1e-4)\n",
    "upper_optimizer = keras.optimizers.Nadam(learning_rate=1e-3)"
   ]
  },
  {
   "cell_type": "code",
   "execution_count": 127,
   "id": "56c71c86-3c3d-450c-9e5f-ccf4129ffd37",
   "metadata": {},
   "outputs": [],
   "source": [
    "def random_batch(X, y, batch_size=32):\n",
    "    idx = np.random.randint(len(X), size=batch_size)\n",
    "    return X[idx], y[idx]"
   ]
  },
  {
   "cell_type": "markdown",
   "id": "04c743a9-e7e4-4bc6-a98a-ebeec89ad1a8",
   "metadata": {},
   "source": [
    "**Hyperparams**"
   ]
  },
  {
   "cell_type": "code",
   "execution_count": 128,
   "id": "7ec18e26-d403-4a47-b816-8346870f273d",
   "metadata": {},
   "outputs": [],
   "source": [
    "n_epochs = 5\n",
    "batch_size = 32\n",
    "n_steps = len(X_train) // batch_size\n",
    "loss_fn = keras.losses.sparse_categorical_crossentropy\n",
    "mean_loss = keras.metrics.Mean()\n",
    "metrics = [keras.metrics.SparseCategoricalAccuracy()]"
   ]
  },
  {
   "cell_type": "markdown",
   "id": "a12ecf75-4963-4ca0-825e-5eb9f850426f",
   "metadata": {},
   "source": [
    "### Custom Loop"
   ]
  },
  {
   "cell_type": "code",
   "execution_count": 129,
   "id": "04da5706-3797-4268-88be-8d6199ae79d5",
   "metadata": {},
   "outputs": [
    {
     "data": {
      "application/vnd.jupyter.widget-view+json": {
       "model_id": "03cb507a7b224f3e94cfb6cbca801afa",
       "version_major": 2,
       "version_minor": 0
      },
      "text/plain": [
       "All epochs:   0%|          | 0/5 [00:00<?, ?it/s]"
      ]
     },
     "metadata": {},
     "output_type": "display_data"
    },
    {
     "data": {
      "application/vnd.jupyter.widget-view+json": {
       "model_id": "cfa06bf9a3044afa98dfe8885b21941a",
       "version_major": 2,
       "version_minor": 0
      },
      "text/plain": [
       "Epoch 1/5:   0%|          | 0/1718 [00:00<?, ?it/s]"
      ]
     },
     "metadata": {},
     "output_type": "display_data"
    },
    {
     "data": {
      "application/vnd.jupyter.widget-view+json": {
       "model_id": "4de0570a9480435ebf0d6ad943b10b91",
       "version_major": 2,
       "version_minor": 0
      },
      "text/plain": [
       "Epoch 2/5:   0%|          | 0/1718 [00:00<?, ?it/s]"
      ]
     },
     "metadata": {},
     "output_type": "display_data"
    },
    {
     "data": {
      "application/vnd.jupyter.widget-view+json": {
       "model_id": "32c6cae002614e8bab2849d767a7e171",
       "version_major": 2,
       "version_minor": 0
      },
      "text/plain": [
       "Epoch 3/5:   0%|          | 0/1718 [00:00<?, ?it/s]"
      ]
     },
     "metadata": {},
     "output_type": "display_data"
    },
    {
     "data": {
      "application/vnd.jupyter.widget-view+json": {
       "model_id": "49cfa3924c0646c780ea83252a9c5625",
       "version_major": 2,
       "version_minor": 0
      },
      "text/plain": [
       "Epoch 4/5:   0%|          | 0/1718 [00:00<?, ?it/s]"
      ]
     },
     "metadata": {},
     "output_type": "display_data"
    },
    {
     "data": {
      "application/vnd.jupyter.widget-view+json": {
       "model_id": "0d02fe02525e41e582fc9cc7d86c9efd",
       "version_major": 2,
       "version_minor": 0
      },
      "text/plain": [
       "Epoch 5/5:   0%|          | 0/1718 [00:00<?, ?it/s]"
      ]
     },
     "metadata": {},
     "output_type": "display_data"
    }
   ],
   "source": [
    "from tqdm.notebook import trange\n",
    "from collections import OrderedDict\n",
    "\n",
    "with trange(1, n_epochs + 1, desc=\"All epochs\") as epochs:\n",
    "    for epoch in epochs:\n",
    "        with trange(1, n_steps + 1, desc=\"Epoch {}/{}\".format(epoch, n_epochs)) as steps:\n",
    "            for step in steps:\n",
    "                X_batch, y_batch = random_batch(X_train, y_train)\n",
    "                with tf.GradientTape(persistent=True) as tape:\n",
    "                    y_pred = model(X_batch)\n",
    "                    main_loss = tf.reduce_mean(loss_fn(y_batch, y_pred))\n",
    "                    loss = tf.add_n([main_loss] + model.losses)\n",
    "                for layers, optimizer in ((lower_layers, lower_optimizer),\n",
    "                                          (upper_layers, upper_optimizer)):\n",
    "                    gradients = tape.gradient(loss, layers.trainable_variables)\n",
    "                    optimizer.apply_gradients(zip(gradients, layers.trainable_variables))\n",
    "                del tape\n",
    "                for variable in model.variables:\n",
    "                    if variable.constraint is not None:\n",
    "                        variable.assign(variable.constraint(variable))                    \n",
    "                status = OrderedDict()\n",
    "                mean_loss(loss)\n",
    "                status[\"loss\"] = mean_loss.result().numpy()\n",
    "                for metric in metrics:\n",
    "                    metric(y_batch, y_pred)\n",
    "                    status[metric.name] = metric.result().numpy()\n",
    "                steps.set_postfix(status)\n",
    "            y_pred = model(X_val)\n",
    "            status[\"val_loss\"] = np.mean(loss_fn(y_val, y_pred))\n",
    "            status[\"val_accuracy\"] = np.mean(keras.metrics.sparse_categorical_accuracy(\n",
    "                tf.constant(y_val, dtype=np.float32), y_pred))\n",
    "            steps.set_postfix(status)\n",
    "        for metric in [mean_loss] + metrics:\n",
    "            metric.reset_states()"
   ]
  }
 ],
 "metadata": {
  "kernelspec": {
   "display_name": "Python 3 (ipykernel)",
   "language": "python",
   "name": "python3"
  },
  "language_info": {
   "codemirror_mode": {
    "name": "ipython",
    "version": 3
   },
   "file_extension": ".py",
   "mimetype": "text/x-python",
   "name": "python",
   "nbconvert_exporter": "python",
   "pygments_lexer": "ipython3",
   "version": "3.10.4"
  }
 },
 "nbformat": 4,
 "nbformat_minor": 5
}
